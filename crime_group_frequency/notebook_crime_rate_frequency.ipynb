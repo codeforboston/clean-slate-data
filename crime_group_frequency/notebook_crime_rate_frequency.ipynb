{
 "cells": [
  {
   "cell_type": "code",
   "execution_count": 2,
   "metadata": {},
   "outputs": [],
   "source": [
    "import pandas as pd"
   ]
  },
  {
   "cell_type": "code",
   "execution_count": null,
   "metadata": {},
   "outputs": [],
   "source": [
    "# categorize the charges into buckets and report on frequency charges for each bucket"
   ]
  },
  {
   "cell_type": "code",
   "execution_count": 3,
   "metadata": {},
   "outputs": [
    {
     "data": {
      "text/html": [
       "<div>\n",
       "<style scoped>\n",
       "    .dataframe tbody tr th:only-of-type {\n",
       "        vertical-align: middle;\n",
       "    }\n",
       "\n",
       "    .dataframe tbody tr th {\n",
       "        vertical-align: top;\n",
       "    }\n",
       "\n",
       "    .dataframe thead th {\n",
       "        text-align: right;\n",
       "    }\n",
       "</style>\n",
       "<table border=\"1\" class=\"dataframe\">\n",
       "  <thead>\n",
       "    <tr style=\"text-align: right;\">\n",
       "      <th></th>\n",
       "      <th>Unnamed: 0</th>\n",
       "      <th>X</th>\n",
       "      <th>Charge</th>\n",
       "      <th>NW.Counts</th>\n",
       "      <th>SF.Counts</th>\n",
       "      <th>Description</th>\n",
       "      <th>Chapter</th>\n",
       "      <th>Section</th>\n",
       "      <th>Expungeable.</th>\n",
       "      <th>sex</th>\n",
       "      <th>murder</th>\n",
       "    </tr>\n",
       "  </thead>\n",
       "  <tbody>\n",
       "    <tr>\n",
       "      <th>0</th>\n",
       "      <td>1</td>\n",
       "      <td>1056</td>\n",
       "      <td>CORI, DISSEMINATE/SEEK UNLAWFULLY c6 §178</td>\n",
       "      <td>1</td>\n",
       "      <td>5</td>\n",
       "      <td>CORI, DISSEMINATE/SEEK UNLAWFULLY</td>\n",
       "      <td>6</td>\n",
       "      <td>178</td>\n",
       "      <td>Yes</td>\n",
       "      <td>0</td>\n",
       "      <td>0</td>\n",
       "    </tr>\n",
       "    <tr>\n",
       "      <th>1</th>\n",
       "      <td>2</td>\n",
       "      <td>1058</td>\n",
       "      <td>SEX OFFENDER FAIL TO REGISTER c6 §178H</td>\n",
       "      <td>10</td>\n",
       "      <td>0</td>\n",
       "      <td>SEX OFFENDER FAIL TO REGISTER</td>\n",
       "      <td>6</td>\n",
       "      <td>178H</td>\n",
       "      <td>NaN</td>\n",
       "      <td>1</td>\n",
       "      <td>0</td>\n",
       "    </tr>\n",
       "    <tr>\n",
       "      <th>2</th>\n",
       "      <td>3</td>\n",
       "      <td>1059</td>\n",
       "      <td>FAILURE TO REGISTER OR VERIFY REGISRATION INFO...</td>\n",
       "      <td>0</td>\n",
       "      <td>2</td>\n",
       "      <td>FAILURE TO REGISTER OR VERIFY REGISRATION INFO...</td>\n",
       "      <td>6</td>\n",
       "      <td>178H</td>\n",
       "      <td>NaN</td>\n",
       "      <td>1</td>\n",
       "      <td>0</td>\n",
       "    </tr>\n",
       "    <tr>\n",
       "      <th>3</th>\n",
       "      <td>4</td>\n",
       "      <td>1060</td>\n",
       "      <td>SEX OFFENDER FAIL TO REGISTER C6/178H (a)(i) H...</td>\n",
       "      <td>3</td>\n",
       "      <td>0</td>\n",
       "      <td>SEX OFFENDER FAIL TO REGISTER C6/178H (A)(I) H...</td>\n",
       "      <td>6</td>\n",
       "      <td>178H (a)(i) HABITUAL OFFENDER</td>\n",
       "      <td>NaN</td>\n",
       "      <td>1</td>\n",
       "      <td>0</td>\n",
       "    </tr>\n",
       "    <tr>\n",
       "      <th>4</th>\n",
       "      <td>5</td>\n",
       "      <td>1061</td>\n",
       "      <td>SEX OFFENDER FAIL TO REGISTER C6/178H (a)(iii)...</td>\n",
       "      <td>4</td>\n",
       "      <td>0</td>\n",
       "      <td>SEX OFFENDER FAIL TO REGISTER C6/178H (A)(III)...</td>\n",
       "      <td>6</td>\n",
       "      <td>178H (a)(iii) HABITUAL OFFENDER</td>\n",
       "      <td>NaN</td>\n",
       "      <td>1</td>\n",
       "      <td>0</td>\n",
       "    </tr>\n",
       "  </tbody>\n",
       "</table>\n",
       "</div>"
      ],
      "text/plain": [
       "   Unnamed: 0     X                                             Charge  \\\n",
       "0           1  1056          CORI, DISSEMINATE/SEEK UNLAWFULLY c6 §178   \n",
       "1           2  1058             SEX OFFENDER FAIL TO REGISTER c6 §178H   \n",
       "2           3  1059  FAILURE TO REGISTER OR VERIFY REGISRATION INFO...   \n",
       "3           4  1060  SEX OFFENDER FAIL TO REGISTER C6/178H (a)(i) H...   \n",
       "4           5  1061  SEX OFFENDER FAIL TO REGISTER C6/178H (a)(iii)...   \n",
       "\n",
       "   NW.Counts  SF.Counts                                        Description  \\\n",
       "0          1          5                  CORI, DISSEMINATE/SEEK UNLAWFULLY   \n",
       "1         10          0                      SEX OFFENDER FAIL TO REGISTER   \n",
       "2          0          2  FAILURE TO REGISTER OR VERIFY REGISRATION INFO...   \n",
       "3          3          0  SEX OFFENDER FAIL TO REGISTER C6/178H (A)(I) H...   \n",
       "4          4          0  SEX OFFENDER FAIL TO REGISTER C6/178H (A)(III)...   \n",
       "\n",
       "  Chapter                          Section Expungeable.  sex  murder  \n",
       "0       6                              178          Yes    0       0  \n",
       "1       6                             178H          NaN    1       0  \n",
       "2       6                             178H          NaN    1       0  \n",
       "3       6    178H (a)(i) HABITUAL OFFENDER          NaN    1       0  \n",
       "4       6  178H (a)(iii) HABITUAL OFFENDER          NaN    1       0  "
      ]
     },
     "execution_count": 3,
     "metadata": {},
     "output_type": "execute_result"
    }
   ],
   "source": [
    "df = pd.read_csv(\"../data/processed/prosecution_charges.csv\")\n",
    "df.head()"
   ]
  },
  {
   "cell_type": "code",
   "execution_count": 4,
   "metadata": {},
   "outputs": [
    {
     "data": {
      "text/plain": [
       "(1691, 11)"
      ]
     },
     "execution_count": 4,
     "metadata": {},
     "output_type": "execute_result"
    }
   ],
   "source": [
    "df.shape"
   ]
  }
 ],
 "metadata": {
  "kernelspec": {
   "display_name": "Python 3",
   "language": "python",
   "name": "python3"
  },
  "language_info": {
   "codemirror_mode": {
    "name": "ipython",
    "version": 3
   },
   "file_extension": ".py",
   "mimetype": "text/x-python",
   "name": "python",
   "nbconvert_exporter": "python",
   "pygments_lexer": "ipython3",
   "version": "3.7.6"
  }
 },
 "nbformat": 4,
 "nbformat_minor": 4
}
