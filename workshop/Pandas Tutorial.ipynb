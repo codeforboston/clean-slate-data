{
 "cells": [
  {
   "cell_type": "markdown",
   "metadata": {},
   "source": [
    "<h2>Dataframes, Manipulation and Pandas, Oh My!</h2>\n",
    "<p>In this workshop, we are going to learn how to use pandas, a data science library in python that allows us to load csv files into useful dataframes. Dataframes are like spreadsheets with more functionality, letting us load large amounts of data and easily clean and analyze the data.</p>\n",
    "<p>First, we need to import the pandas library. We are also going to import pyplot, a library that we will later use to visualize our data. The \"as\" statements are so we can rename our libraries so we can more easily call them when we need them</p>\n"
   ]
  },
  {
   "cell_type": "code",
   "execution_count": 1,
   "metadata": {},
   "outputs": [],
   "source": [
    "import pandas as pd\n",
    "import matplotlib.pyplot as plt"
   ]
  },
  {
   "cell_type": "markdown",
   "metadata": {},
   "source": [
    "<h3>Loading a CSV Into a Dataframe</h3>\n",
    "<p>Now that we have imported pandas, we can create our first dataframe. We do this with the read_csv() function. In addition to calling read_csv() from the pandas library and assigning it to a variable, you also need to write the file path in the parentheses.</p>\n",
    "<p>To make sure we have loaded the csv into a dataframe correctly, we can call the .head() function on our dataframe. This outputs a nice, spreadsheet-like visualization of the dataframe. You can also modify how many rows you want to display by writing how many you want to see in the parentheses. The default number of rows is 5. </p>"
   ]
  },
  {
   "cell_type": "code",
   "execution_count": 15,
   "metadata": {
    "scrolled": true
   },
   "outputs": [
    {
     "ename": "FileNotFoundError",
     "evalue": "[Errno 2] No such file or directory: 'data/nw.csv'",
     "output_type": "error",
     "traceback": [
      "\u001b[1;31m---------------------------------------------------------------------------\u001b[0m",
      "\u001b[1;31mFileNotFoundError\u001b[0m                         Traceback (most recent call last)",
      "\u001b[1;32m<ipython-input-15-b9df6085f1ac>\u001b[0m in \u001b[0;36m<module>\u001b[1;34m\u001b[0m\n\u001b[1;32m----> 1\u001b[1;33m \u001b[0mnw_df\u001b[0m \u001b[1;33m=\u001b[0m \u001b[0mpd\u001b[0m\u001b[1;33m.\u001b[0m\u001b[0mread_csv\u001b[0m\u001b[1;33m(\u001b[0m\u001b[1;34m\"data/nw.csv\"\u001b[0m\u001b[1;33m)\u001b[0m\u001b[1;33m\u001b[0m\u001b[1;33m\u001b[0m\u001b[0m\n\u001b[0m\u001b[0;32m      2\u001b[0m \u001b[0mnw_df\u001b[0m\u001b[1;33m.\u001b[0m\u001b[0mhead\u001b[0m\u001b[1;33m(\u001b[0m\u001b[1;36m10\u001b[0m\u001b[1;33m)\u001b[0m\u001b[1;33m\u001b[0m\u001b[1;33m\u001b[0m\u001b[0m\n",
      "\u001b[1;32m~\\anaconda3\\lib\\site-packages\\pandas\\io\\parsers.py\u001b[0m in \u001b[0;36mread_csv\u001b[1;34m(filepath_or_buffer, sep, delimiter, header, names, index_col, usecols, squeeze, prefix, mangle_dupe_cols, dtype, engine, converters, true_values, false_values, skipinitialspace, skiprows, skipfooter, nrows, na_values, keep_default_na, na_filter, verbose, skip_blank_lines, parse_dates, infer_datetime_format, keep_date_col, date_parser, dayfirst, cache_dates, iterator, chunksize, compression, thousands, decimal, lineterminator, quotechar, quoting, doublequote, escapechar, comment, encoding, dialect, error_bad_lines, warn_bad_lines, delim_whitespace, low_memory, memory_map, float_precision)\u001b[0m\n\u001b[0;32m    684\u001b[0m     )\n\u001b[0;32m    685\u001b[0m \u001b[1;33m\u001b[0m\u001b[0m\n\u001b[1;32m--> 686\u001b[1;33m     \u001b[1;32mreturn\u001b[0m \u001b[0m_read\u001b[0m\u001b[1;33m(\u001b[0m\u001b[0mfilepath_or_buffer\u001b[0m\u001b[1;33m,\u001b[0m \u001b[0mkwds\u001b[0m\u001b[1;33m)\u001b[0m\u001b[1;33m\u001b[0m\u001b[1;33m\u001b[0m\u001b[0m\n\u001b[0m\u001b[0;32m    687\u001b[0m \u001b[1;33m\u001b[0m\u001b[0m\n\u001b[0;32m    688\u001b[0m \u001b[1;33m\u001b[0m\u001b[0m\n",
      "\u001b[1;32m~\\anaconda3\\lib\\site-packages\\pandas\\io\\parsers.py\u001b[0m in \u001b[0;36m_read\u001b[1;34m(filepath_or_buffer, kwds)\u001b[0m\n\u001b[0;32m    450\u001b[0m \u001b[1;33m\u001b[0m\u001b[0m\n\u001b[0;32m    451\u001b[0m     \u001b[1;31m# Create the parser.\u001b[0m\u001b[1;33m\u001b[0m\u001b[1;33m\u001b[0m\u001b[1;33m\u001b[0m\u001b[0m\n\u001b[1;32m--> 452\u001b[1;33m     \u001b[0mparser\u001b[0m \u001b[1;33m=\u001b[0m \u001b[0mTextFileReader\u001b[0m\u001b[1;33m(\u001b[0m\u001b[0mfp_or_buf\u001b[0m\u001b[1;33m,\u001b[0m \u001b[1;33m**\u001b[0m\u001b[0mkwds\u001b[0m\u001b[1;33m)\u001b[0m\u001b[1;33m\u001b[0m\u001b[1;33m\u001b[0m\u001b[0m\n\u001b[0m\u001b[0;32m    453\u001b[0m \u001b[1;33m\u001b[0m\u001b[0m\n\u001b[0;32m    454\u001b[0m     \u001b[1;32mif\u001b[0m \u001b[0mchunksize\u001b[0m \u001b[1;32mor\u001b[0m \u001b[0miterator\u001b[0m\u001b[1;33m:\u001b[0m\u001b[1;33m\u001b[0m\u001b[1;33m\u001b[0m\u001b[0m\n",
      "\u001b[1;32m~\\anaconda3\\lib\\site-packages\\pandas\\io\\parsers.py\u001b[0m in \u001b[0;36m__init__\u001b[1;34m(self, f, engine, **kwds)\u001b[0m\n\u001b[0;32m    944\u001b[0m             \u001b[0mself\u001b[0m\u001b[1;33m.\u001b[0m\u001b[0moptions\u001b[0m\u001b[1;33m[\u001b[0m\u001b[1;34m\"has_index_names\"\u001b[0m\u001b[1;33m]\u001b[0m \u001b[1;33m=\u001b[0m \u001b[0mkwds\u001b[0m\u001b[1;33m[\u001b[0m\u001b[1;34m\"has_index_names\"\u001b[0m\u001b[1;33m]\u001b[0m\u001b[1;33m\u001b[0m\u001b[1;33m\u001b[0m\u001b[0m\n\u001b[0;32m    945\u001b[0m \u001b[1;33m\u001b[0m\u001b[0m\n\u001b[1;32m--> 946\u001b[1;33m         \u001b[0mself\u001b[0m\u001b[1;33m.\u001b[0m\u001b[0m_make_engine\u001b[0m\u001b[1;33m(\u001b[0m\u001b[0mself\u001b[0m\u001b[1;33m.\u001b[0m\u001b[0mengine\u001b[0m\u001b[1;33m)\u001b[0m\u001b[1;33m\u001b[0m\u001b[1;33m\u001b[0m\u001b[0m\n\u001b[0m\u001b[0;32m    947\u001b[0m \u001b[1;33m\u001b[0m\u001b[0m\n\u001b[0;32m    948\u001b[0m     \u001b[1;32mdef\u001b[0m \u001b[0mclose\u001b[0m\u001b[1;33m(\u001b[0m\u001b[0mself\u001b[0m\u001b[1;33m)\u001b[0m\u001b[1;33m:\u001b[0m\u001b[1;33m\u001b[0m\u001b[1;33m\u001b[0m\u001b[0m\n",
      "\u001b[1;32m~\\anaconda3\\lib\\site-packages\\pandas\\io\\parsers.py\u001b[0m in \u001b[0;36m_make_engine\u001b[1;34m(self, engine)\u001b[0m\n\u001b[0;32m   1176\u001b[0m     \u001b[1;32mdef\u001b[0m \u001b[0m_make_engine\u001b[0m\u001b[1;33m(\u001b[0m\u001b[0mself\u001b[0m\u001b[1;33m,\u001b[0m \u001b[0mengine\u001b[0m\u001b[1;33m=\u001b[0m\u001b[1;34m\"c\"\u001b[0m\u001b[1;33m)\u001b[0m\u001b[1;33m:\u001b[0m\u001b[1;33m\u001b[0m\u001b[1;33m\u001b[0m\u001b[0m\n\u001b[0;32m   1177\u001b[0m         \u001b[1;32mif\u001b[0m \u001b[0mengine\u001b[0m \u001b[1;33m==\u001b[0m \u001b[1;34m\"c\"\u001b[0m\u001b[1;33m:\u001b[0m\u001b[1;33m\u001b[0m\u001b[1;33m\u001b[0m\u001b[0m\n\u001b[1;32m-> 1178\u001b[1;33m             \u001b[0mself\u001b[0m\u001b[1;33m.\u001b[0m\u001b[0m_engine\u001b[0m \u001b[1;33m=\u001b[0m \u001b[0mCParserWrapper\u001b[0m\u001b[1;33m(\u001b[0m\u001b[0mself\u001b[0m\u001b[1;33m.\u001b[0m\u001b[0mf\u001b[0m\u001b[1;33m,\u001b[0m \u001b[1;33m**\u001b[0m\u001b[0mself\u001b[0m\u001b[1;33m.\u001b[0m\u001b[0moptions\u001b[0m\u001b[1;33m)\u001b[0m\u001b[1;33m\u001b[0m\u001b[1;33m\u001b[0m\u001b[0m\n\u001b[0m\u001b[0;32m   1179\u001b[0m         \u001b[1;32melse\u001b[0m\u001b[1;33m:\u001b[0m\u001b[1;33m\u001b[0m\u001b[1;33m\u001b[0m\u001b[0m\n\u001b[0;32m   1180\u001b[0m             \u001b[1;32mif\u001b[0m \u001b[0mengine\u001b[0m \u001b[1;33m==\u001b[0m \u001b[1;34m\"python\"\u001b[0m\u001b[1;33m:\u001b[0m\u001b[1;33m\u001b[0m\u001b[1;33m\u001b[0m\u001b[0m\n",
      "\u001b[1;32m~\\anaconda3\\lib\\site-packages\\pandas\\io\\parsers.py\u001b[0m in \u001b[0;36m__init__\u001b[1;34m(self, src, **kwds)\u001b[0m\n\u001b[0;32m   2006\u001b[0m         \u001b[0mkwds\u001b[0m\u001b[1;33m[\u001b[0m\u001b[1;34m\"usecols\"\u001b[0m\u001b[1;33m]\u001b[0m \u001b[1;33m=\u001b[0m \u001b[0mself\u001b[0m\u001b[1;33m.\u001b[0m\u001b[0musecols\u001b[0m\u001b[1;33m\u001b[0m\u001b[1;33m\u001b[0m\u001b[0m\n\u001b[0;32m   2007\u001b[0m \u001b[1;33m\u001b[0m\u001b[0m\n\u001b[1;32m-> 2008\u001b[1;33m         \u001b[0mself\u001b[0m\u001b[1;33m.\u001b[0m\u001b[0m_reader\u001b[0m \u001b[1;33m=\u001b[0m \u001b[0mparsers\u001b[0m\u001b[1;33m.\u001b[0m\u001b[0mTextReader\u001b[0m\u001b[1;33m(\u001b[0m\u001b[0msrc\u001b[0m\u001b[1;33m,\u001b[0m \u001b[1;33m**\u001b[0m\u001b[0mkwds\u001b[0m\u001b[1;33m)\u001b[0m\u001b[1;33m\u001b[0m\u001b[1;33m\u001b[0m\u001b[0m\n\u001b[0m\u001b[0;32m   2009\u001b[0m         \u001b[0mself\u001b[0m\u001b[1;33m.\u001b[0m\u001b[0munnamed_cols\u001b[0m \u001b[1;33m=\u001b[0m \u001b[0mself\u001b[0m\u001b[1;33m.\u001b[0m\u001b[0m_reader\u001b[0m\u001b[1;33m.\u001b[0m\u001b[0munnamed_cols\u001b[0m\u001b[1;33m\u001b[0m\u001b[1;33m\u001b[0m\u001b[0m\n\u001b[0;32m   2010\u001b[0m \u001b[1;33m\u001b[0m\u001b[0m\n",
      "\u001b[1;32mpandas\\_libs\\parsers.pyx\u001b[0m in \u001b[0;36mpandas._libs.parsers.TextReader.__cinit__\u001b[1;34m()\u001b[0m\n",
      "\u001b[1;32mpandas\\_libs\\parsers.pyx\u001b[0m in \u001b[0;36mpandas._libs.parsers.TextReader._setup_parser_source\u001b[1;34m()\u001b[0m\n",
      "\u001b[1;31mFileNotFoundError\u001b[0m: [Errno 2] No such file or directory: 'data/nw.csv'"
     ]
    }
   ],
   "source": [
    "nw_df = pd.read_csv(\"../data/raw/nw.csv\")\n",
    "nw_df.head(10)"
   ]
  },
  {
   "cell_type": "markdown",
   "metadata": {},
   "source": [
    "<h3>Dataframe Basics</h3>\n",
    "<p>We can select columns in the dataframe by writing df['col_name'] like below</p>"
   ]
  },
  {
   "cell_type": "code",
   "execution_count": 3,
   "metadata": {},
   "outputs": [
    {
     "data": {
      "text/plain": [
       "0            NW-0\n",
       "1            NW-0\n",
       "2            NW-0\n",
       "3            NW-0\n",
       "4            NW-0\n",
       "           ...   \n",
       "75720    NW-19752\n",
       "75721    NW-19752\n",
       "75722    NW-19752\n",
       "75723    NW-19752\n",
       "75724    NW-19752\n",
       "Name: Person ID, Length: 75725, dtype: object"
      ]
     },
     "execution_count": 3,
     "metadata": {},
     "output_type": "execute_result"
    }
   ],
   "source": [
    "nw_df['Person ID']"
   ]
  },
  {
   "cell_type": "markdown",
   "metadata": {},
   "source": [
    "We can select rows in the dataframe by using slicing indices. This looks like df[beginning:end] (note that the ending index is not inclusive, and indices start at 0)."
   ]
  },
  {
   "cell_type": "code",
   "execution_count": 4,
   "metadata": {
    "scrolled": true
   },
   "outputs": [
    {
     "data": {
      "text/html": [
       "<div>\n",
       "<style scoped>\n",
       "    .dataframe tbody tr th:only-of-type {\n",
       "        vertical-align: middle;\n",
       "    }\n",
       "\n",
       "    .dataframe tbody tr th {\n",
       "        vertical-align: top;\n",
       "    }\n",
       "\n",
       "    .dataframe thead th {\n",
       "        text-align: right;\n",
       "    }\n",
       "</style>\n",
       "<table border=\"1\" class=\"dataframe\">\n",
       "  <thead>\n",
       "    <tr style=\"text-align: right;\">\n",
       "      <th></th>\n",
       "      <th>Person ID</th>\n",
       "      <th>Court</th>\n",
       "      <th>Offense Date</th>\n",
       "      <th>Age at Offense</th>\n",
       "      <th>Filed</th>\n",
       "      <th>Status</th>\n",
       "      <th>Count</th>\n",
       "      <th>Charge</th>\n",
       "      <th>Disposition</th>\n",
       "      <th>Dispo Date</th>\n",
       "    </tr>\n",
       "  </thead>\n",
       "  <tbody>\n",
       "    <tr>\n",
       "      <th>0</th>\n",
       "      <td>NW-0</td>\n",
       "      <td>Franklin Superior Court</td>\n",
       "      <td>2011-09-13</td>\n",
       "      <td>21.0</td>\n",
       "      <td>2014-10-28</td>\n",
       "      <td>Closed</td>\n",
       "      <td>1</td>\n",
       "      <td>ASSAULT TO MURDER c265 §15</td>\n",
       "      <td>Not Guilty</td>\n",
       "      <td>2016-03-30</td>\n",
       "    </tr>\n",
       "    <tr>\n",
       "      <th>1</th>\n",
       "      <td>NW-0</td>\n",
       "      <td>Franklin Superior Court</td>\n",
       "      <td>2011-09-13</td>\n",
       "      <td>21.0</td>\n",
       "      <td>2014-10-28</td>\n",
       "      <td>Closed</td>\n",
       "      <td>2</td>\n",
       "      <td>ASSAULT TO MURDER c265 §15</td>\n",
       "      <td>Not Guilty</td>\n",
       "      <td>2016-03-30</td>\n",
       "    </tr>\n",
       "    <tr>\n",
       "      <th>2</th>\n",
       "      <td>NW-0</td>\n",
       "      <td>Franklin Superior Court</td>\n",
       "      <td>2011-09-13</td>\n",
       "      <td>21.0</td>\n",
       "      <td>2014-10-28</td>\n",
       "      <td>Closed</td>\n",
       "      <td>3</td>\n",
       "      <td>ASSAULT TO MURDER c265 §15</td>\n",
       "      <td>Not Guilty</td>\n",
       "      <td>2016-03-30</td>\n",
       "    </tr>\n",
       "    <tr>\n",
       "      <th>3</th>\n",
       "      <td>NW-0</td>\n",
       "      <td>Franklin Superior Court</td>\n",
       "      <td>2011-09-13</td>\n",
       "      <td>21.0</td>\n",
       "      <td>2014-10-28</td>\n",
       "      <td>Closed</td>\n",
       "      <td>4</td>\n",
       "      <td>ASSAULT TO MURDER c265 §15</td>\n",
       "      <td>Not Guilty</td>\n",
       "      <td>2016-03-30</td>\n",
       "    </tr>\n",
       "    <tr>\n",
       "      <th>4</th>\n",
       "      <td>NW-0</td>\n",
       "      <td>Franklin Superior Court</td>\n",
       "      <td>2011-09-13</td>\n",
       "      <td>21.0</td>\n",
       "      <td>2014-10-28</td>\n",
       "      <td>Closed</td>\n",
       "      <td>5</td>\n",
       "      <td>ARSON OF DWELLING HOUSE c266 §1</td>\n",
       "      <td>Not Guilty</td>\n",
       "      <td>2016-03-30</td>\n",
       "    </tr>\n",
       "  </tbody>\n",
       "</table>\n",
       "</div>"
      ],
      "text/plain": [
       "  Person ID                    Court Offense Date  Age at Offense       Filed  \\\n",
       "0      NW-0  Franklin Superior Court   2011-09-13            21.0  2014-10-28   \n",
       "1      NW-0  Franklin Superior Court   2011-09-13            21.0  2014-10-28   \n",
       "2      NW-0  Franklin Superior Court   2011-09-13            21.0  2014-10-28   \n",
       "3      NW-0  Franklin Superior Court   2011-09-13            21.0  2014-10-28   \n",
       "4      NW-0  Franklin Superior Court   2011-09-13            21.0  2014-10-28   \n",
       "\n",
       "   Status  Count                           Charge Disposition  Dispo Date  \n",
       "0  Closed      1       ASSAULT TO MURDER c265 §15  Not Guilty  2016-03-30  \n",
       "1  Closed      2       ASSAULT TO MURDER c265 §15  Not Guilty  2016-03-30  \n",
       "2  Closed      3       ASSAULT TO MURDER c265 §15  Not Guilty  2016-03-30  \n",
       "3  Closed      4       ASSAULT TO MURDER c265 §15  Not Guilty  2016-03-30  \n",
       "4  Closed      5  ARSON OF DWELLING HOUSE c266 §1  Not Guilty  2016-03-30  "
      ]
     },
     "execution_count": 4,
     "metadata": {},
     "output_type": "execute_result"
    }
   ],
   "source": [
    "nw_df[0:5]"
   ]
  },
  {
   "cell_type": "markdown",
   "metadata": {},
   "source": [
    "Slicing dataframes works just like lists in Python, so you can also get the first five rows with [:5]."
   ]
  },
  {
   "cell_type": "code",
   "execution_count": 5,
   "metadata": {},
   "outputs": [
    {
     "data": {
      "text/html": [
       "<div>\n",
       "<style scoped>\n",
       "    .dataframe tbody tr th:only-of-type {\n",
       "        vertical-align: middle;\n",
       "    }\n",
       "\n",
       "    .dataframe tbody tr th {\n",
       "        vertical-align: top;\n",
       "    }\n",
       "\n",
       "    .dataframe thead th {\n",
       "        text-align: right;\n",
       "    }\n",
       "</style>\n",
       "<table border=\"1\" class=\"dataframe\">\n",
       "  <thead>\n",
       "    <tr style=\"text-align: right;\">\n",
       "      <th></th>\n",
       "      <th>Person ID</th>\n",
       "      <th>Court</th>\n",
       "      <th>Offense Date</th>\n",
       "      <th>Age at Offense</th>\n",
       "      <th>Filed</th>\n",
       "      <th>Status</th>\n",
       "      <th>Count</th>\n",
       "      <th>Charge</th>\n",
       "      <th>Disposition</th>\n",
       "      <th>Dispo Date</th>\n",
       "    </tr>\n",
       "  </thead>\n",
       "  <tbody>\n",
       "    <tr>\n",
       "      <th>0</th>\n",
       "      <td>NW-0</td>\n",
       "      <td>Franklin Superior Court</td>\n",
       "      <td>2011-09-13</td>\n",
       "      <td>21.0</td>\n",
       "      <td>2014-10-28</td>\n",
       "      <td>Closed</td>\n",
       "      <td>1</td>\n",
       "      <td>ASSAULT TO MURDER c265 §15</td>\n",
       "      <td>Not Guilty</td>\n",
       "      <td>2016-03-30</td>\n",
       "    </tr>\n",
       "    <tr>\n",
       "      <th>1</th>\n",
       "      <td>NW-0</td>\n",
       "      <td>Franklin Superior Court</td>\n",
       "      <td>2011-09-13</td>\n",
       "      <td>21.0</td>\n",
       "      <td>2014-10-28</td>\n",
       "      <td>Closed</td>\n",
       "      <td>2</td>\n",
       "      <td>ASSAULT TO MURDER c265 §15</td>\n",
       "      <td>Not Guilty</td>\n",
       "      <td>2016-03-30</td>\n",
       "    </tr>\n",
       "    <tr>\n",
       "      <th>2</th>\n",
       "      <td>NW-0</td>\n",
       "      <td>Franklin Superior Court</td>\n",
       "      <td>2011-09-13</td>\n",
       "      <td>21.0</td>\n",
       "      <td>2014-10-28</td>\n",
       "      <td>Closed</td>\n",
       "      <td>3</td>\n",
       "      <td>ASSAULT TO MURDER c265 §15</td>\n",
       "      <td>Not Guilty</td>\n",
       "      <td>2016-03-30</td>\n",
       "    </tr>\n",
       "    <tr>\n",
       "      <th>3</th>\n",
       "      <td>NW-0</td>\n",
       "      <td>Franklin Superior Court</td>\n",
       "      <td>2011-09-13</td>\n",
       "      <td>21.0</td>\n",
       "      <td>2014-10-28</td>\n",
       "      <td>Closed</td>\n",
       "      <td>4</td>\n",
       "      <td>ASSAULT TO MURDER c265 §15</td>\n",
       "      <td>Not Guilty</td>\n",
       "      <td>2016-03-30</td>\n",
       "    </tr>\n",
       "    <tr>\n",
       "      <th>4</th>\n",
       "      <td>NW-0</td>\n",
       "      <td>Franklin Superior Court</td>\n",
       "      <td>2011-09-13</td>\n",
       "      <td>21.0</td>\n",
       "      <td>2014-10-28</td>\n",
       "      <td>Closed</td>\n",
       "      <td>5</td>\n",
       "      <td>ARSON OF DWELLING HOUSE c266 §1</td>\n",
       "      <td>Not Guilty</td>\n",
       "      <td>2016-03-30</td>\n",
       "    </tr>\n",
       "  </tbody>\n",
       "</table>\n",
       "</div>"
      ],
      "text/plain": [
       "  Person ID                    Court Offense Date  Age at Offense       Filed  \\\n",
       "0      NW-0  Franklin Superior Court   2011-09-13            21.0  2014-10-28   \n",
       "1      NW-0  Franklin Superior Court   2011-09-13            21.0  2014-10-28   \n",
       "2      NW-0  Franklin Superior Court   2011-09-13            21.0  2014-10-28   \n",
       "3      NW-0  Franklin Superior Court   2011-09-13            21.0  2014-10-28   \n",
       "4      NW-0  Franklin Superior Court   2011-09-13            21.0  2014-10-28   \n",
       "\n",
       "   Status  Count                           Charge Disposition  Dispo Date  \n",
       "0  Closed      1       ASSAULT TO MURDER c265 §15  Not Guilty  2016-03-30  \n",
       "1  Closed      2       ASSAULT TO MURDER c265 §15  Not Guilty  2016-03-30  \n",
       "2  Closed      3       ASSAULT TO MURDER c265 §15  Not Guilty  2016-03-30  \n",
       "3  Closed      4       ASSAULT TO MURDER c265 §15  Not Guilty  2016-03-30  \n",
       "4  Closed      5  ARSON OF DWELLING HOUSE c266 §1  Not Guilty  2016-03-30  "
      ]
     },
     "execution_count": 5,
     "metadata": {},
     "output_type": "execute_result"
    }
   ],
   "source": [
    "nw_df[:5]"
   ]
  },
  {
   "cell_type": "markdown",
   "metadata": {},
   "source": [
    "You can also combine row slicing with column selection (order does not matter). For instance, we can get the last five ages of offense like below"
   ]
  },
  {
   "cell_type": "code",
   "execution_count": 6,
   "metadata": {},
   "outputs": [
    {
     "data": {
      "text/plain": [
       "75720    31.0\n",
       "75721    31.0\n",
       "75722    31.0\n",
       "75723    31.0\n",
       "75724    31.0\n",
       "Name: Age at Offense, dtype: float64"
      ]
     },
     "execution_count": 6,
     "metadata": {},
     "output_type": "execute_result"
    }
   ],
   "source": [
    "nw_df['Age at Offense'][-5:]"
   ]
  },
  {
   "cell_type": "markdown",
   "metadata": {},
   "source": [
    "Finally, we can select multiple columns. If we want the age at offense at disposition of the first 10 entries in the dataframe we can call"
   ]
  },
  {
   "cell_type": "code",
   "execution_count": 7,
   "metadata": {},
   "outputs": [
    {
     "data": {
      "text/html": [
       "<div>\n",
       "<style scoped>\n",
       "    .dataframe tbody tr th:only-of-type {\n",
       "        vertical-align: middle;\n",
       "    }\n",
       "\n",
       "    .dataframe tbody tr th {\n",
       "        vertical-align: top;\n",
       "    }\n",
       "\n",
       "    .dataframe thead th {\n",
       "        text-align: right;\n",
       "    }\n",
       "</style>\n",
       "<table border=\"1\" class=\"dataframe\">\n",
       "  <thead>\n",
       "    <tr style=\"text-align: right;\">\n",
       "      <th></th>\n",
       "      <th>Age at Offense</th>\n",
       "      <th>Disposition</th>\n",
       "    </tr>\n",
       "  </thead>\n",
       "  <tbody>\n",
       "    <tr>\n",
       "      <th>0</th>\n",
       "      <td>21.0</td>\n",
       "      <td>Not Guilty</td>\n",
       "    </tr>\n",
       "    <tr>\n",
       "      <th>1</th>\n",
       "      <td>21.0</td>\n",
       "      <td>Not Guilty</td>\n",
       "    </tr>\n",
       "    <tr>\n",
       "      <th>2</th>\n",
       "      <td>21.0</td>\n",
       "      <td>Not Guilty</td>\n",
       "    </tr>\n",
       "    <tr>\n",
       "      <th>3</th>\n",
       "      <td>21.0</td>\n",
       "      <td>Not Guilty</td>\n",
       "    </tr>\n",
       "    <tr>\n",
       "      <th>4</th>\n",
       "      <td>21.0</td>\n",
       "      <td>Not Guilty</td>\n",
       "    </tr>\n",
       "    <tr>\n",
       "      <th>5</th>\n",
       "      <td>21.0</td>\n",
       "      <td>Not Guilty</td>\n",
       "    </tr>\n",
       "    <tr>\n",
       "      <th>6</th>\n",
       "      <td>25.0</td>\n",
       "      <td>Dismissed on Payment</td>\n",
       "    </tr>\n",
       "    <tr>\n",
       "      <th>7</th>\n",
       "      <td>25.0</td>\n",
       "      <td>Not Responsible</td>\n",
       "    </tr>\n",
       "    <tr>\n",
       "      <th>8</th>\n",
       "      <td>25.0</td>\n",
       "      <td>Not Responsible</td>\n",
       "    </tr>\n",
       "    <tr>\n",
       "      <th>9</th>\n",
       "      <td>25.0</td>\n",
       "      <td>Continued w/o Finding</td>\n",
       "    </tr>\n",
       "  </tbody>\n",
       "</table>\n",
       "</div>"
      ],
      "text/plain": [
       "   Age at Offense            Disposition\n",
       "0            21.0             Not Guilty\n",
       "1            21.0             Not Guilty\n",
       "2            21.0             Not Guilty\n",
       "3            21.0             Not Guilty\n",
       "4            21.0             Not Guilty\n",
       "5            21.0             Not Guilty\n",
       "6            25.0   Dismissed on Payment\n",
       "7            25.0        Not Responsible\n",
       "8            25.0        Not Responsible\n",
       "9            25.0  Continued w/o Finding"
      ]
     },
     "execution_count": 7,
     "metadata": {},
     "output_type": "execute_result"
    }
   ],
   "source": [
    "nw_df[['Age at Offense', 'Disposition']][:10]"
   ]
  },
  {
   "cell_type": "markdown",
   "metadata": {},
   "source": [
    "<h3>Renaming Columns</h3>\n",
    "<p>We can also rename the columns in a dataframe. This can help to clarify your data for downstream analysis. To do this, we can call df.rename(columns={'old_name_1':'new_name_1', 'old_name_2':'new_name_2'})</p>"
   ]
  },
  {
   "cell_type": "code",
   "execution_count": 8,
   "metadata": {},
   "outputs": [
    {
     "data": {
      "text/html": [
       "<div>\n",
       "<style scoped>\n",
       "    .dataframe tbody tr th:only-of-type {\n",
       "        vertical-align: middle;\n",
       "    }\n",
       "\n",
       "    .dataframe tbody tr th {\n",
       "        vertical-align: top;\n",
       "    }\n",
       "\n",
       "    .dataframe thead th {\n",
       "        text-align: right;\n",
       "    }\n",
       "</style>\n",
       "<table border=\"1\" class=\"dataframe\">\n",
       "  <thead>\n",
       "    <tr style=\"text-align: right;\">\n",
       "      <th></th>\n",
       "      <th>Person ID</th>\n",
       "      <th>Court</th>\n",
       "      <th>Offense Date</th>\n",
       "      <th>Age at Offense</th>\n",
       "      <th>Filed</th>\n",
       "      <th>Status</th>\n",
       "      <th>Count</th>\n",
       "      <th>Charge</th>\n",
       "      <th>Disposition</th>\n",
       "      <th>Disposition Date</th>\n",
       "    </tr>\n",
       "  </thead>\n",
       "  <tbody>\n",
       "    <tr>\n",
       "      <th>0</th>\n",
       "      <td>NW-0</td>\n",
       "      <td>Franklin Superior Court</td>\n",
       "      <td>2011-09-13</td>\n",
       "      <td>21.0</td>\n",
       "      <td>2014-10-28</td>\n",
       "      <td>Closed</td>\n",
       "      <td>1</td>\n",
       "      <td>ASSAULT TO MURDER c265 §15</td>\n",
       "      <td>Not Guilty</td>\n",
       "      <td>2016-03-30</td>\n",
       "    </tr>\n",
       "    <tr>\n",
       "      <th>1</th>\n",
       "      <td>NW-0</td>\n",
       "      <td>Franklin Superior Court</td>\n",
       "      <td>2011-09-13</td>\n",
       "      <td>21.0</td>\n",
       "      <td>2014-10-28</td>\n",
       "      <td>Closed</td>\n",
       "      <td>2</td>\n",
       "      <td>ASSAULT TO MURDER c265 §15</td>\n",
       "      <td>Not Guilty</td>\n",
       "      <td>2016-03-30</td>\n",
       "    </tr>\n",
       "    <tr>\n",
       "      <th>2</th>\n",
       "      <td>NW-0</td>\n",
       "      <td>Franklin Superior Court</td>\n",
       "      <td>2011-09-13</td>\n",
       "      <td>21.0</td>\n",
       "      <td>2014-10-28</td>\n",
       "      <td>Closed</td>\n",
       "      <td>3</td>\n",
       "      <td>ASSAULT TO MURDER c265 §15</td>\n",
       "      <td>Not Guilty</td>\n",
       "      <td>2016-03-30</td>\n",
       "    </tr>\n",
       "    <tr>\n",
       "      <th>3</th>\n",
       "      <td>NW-0</td>\n",
       "      <td>Franklin Superior Court</td>\n",
       "      <td>2011-09-13</td>\n",
       "      <td>21.0</td>\n",
       "      <td>2014-10-28</td>\n",
       "      <td>Closed</td>\n",
       "      <td>4</td>\n",
       "      <td>ASSAULT TO MURDER c265 §15</td>\n",
       "      <td>Not Guilty</td>\n",
       "      <td>2016-03-30</td>\n",
       "    </tr>\n",
       "    <tr>\n",
       "      <th>4</th>\n",
       "      <td>NW-0</td>\n",
       "      <td>Franklin Superior Court</td>\n",
       "      <td>2011-09-13</td>\n",
       "      <td>21.0</td>\n",
       "      <td>2014-10-28</td>\n",
       "      <td>Closed</td>\n",
       "      <td>5</td>\n",
       "      <td>ARSON OF DWELLING HOUSE c266 §1</td>\n",
       "      <td>Not Guilty</td>\n",
       "      <td>2016-03-30</td>\n",
       "    </tr>\n",
       "    <tr>\n",
       "      <th>...</th>\n",
       "      <td>...</td>\n",
       "      <td>...</td>\n",
       "      <td>...</td>\n",
       "      <td>...</td>\n",
       "      <td>...</td>\n",
       "      <td>...</td>\n",
       "      <td>...</td>\n",
       "      <td>...</td>\n",
       "      <td>...</td>\n",
       "      <td>...</td>\n",
       "    </tr>\n",
       "    <tr>\n",
       "      <th>75720</th>\n",
       "      <td>NW-19752</td>\n",
       "      <td>Belchertown District Court</td>\n",
       "      <td>2018-12-28</td>\n",
       "      <td>31.0</td>\n",
       "      <td>2018-12-31</td>\n",
       "      <td>Closed</td>\n",
       "      <td>1</td>\n",
       "      <td>KIDNAPPING c265 §26</td>\n",
       "      <td>Dismissed at Request of Comm</td>\n",
       "      <td>2019-03-20</td>\n",
       "    </tr>\n",
       "    <tr>\n",
       "      <th>75721</th>\n",
       "      <td>NW-19752</td>\n",
       "      <td>Belchertown District Court</td>\n",
       "      <td>2018-12-28</td>\n",
       "      <td>31.0</td>\n",
       "      <td>2018-12-31</td>\n",
       "      <td>Closed</td>\n",
       "      <td>2</td>\n",
       "      <td>A&amp;B PREGNANT VICTIM</td>\n",
       "      <td>Nolle Prosequi</td>\n",
       "      <td>2019-01-31</td>\n",
       "    </tr>\n",
       "    <tr>\n",
       "      <th>75722</th>\n",
       "      <td>NW-19752</td>\n",
       "      <td>Belchertown District Court</td>\n",
       "      <td>2018-12-28</td>\n",
       "      <td>31.0</td>\n",
       "      <td>2018-12-31</td>\n",
       "      <td>Closed</td>\n",
       "      <td>3</td>\n",
       "      <td>Assault &amp; Battery on  Family/Household Member ...</td>\n",
       "      <td>Guilty</td>\n",
       "      <td>2019-03-20</td>\n",
       "    </tr>\n",
       "    <tr>\n",
       "      <th>75723</th>\n",
       "      <td>NW-19752</td>\n",
       "      <td>Belchertown District Court</td>\n",
       "      <td>2018-12-28</td>\n",
       "      <td>31.0</td>\n",
       "      <td>2018-12-31</td>\n",
       "      <td>Closed</td>\n",
       "      <td>4</td>\n",
       "      <td>ASSAULT W/DANGEROUS WEAPON c265 §15B(b)</td>\n",
       "      <td>Dismissed at Request of Comm</td>\n",
       "      <td>2019-03-20</td>\n",
       "    </tr>\n",
       "    <tr>\n",
       "      <th>75724</th>\n",
       "      <td>NW-19752</td>\n",
       "      <td>Belchertown District Court</td>\n",
       "      <td>2018-12-28</td>\n",
       "      <td>31.0</td>\n",
       "      <td>2018-12-31</td>\n",
       "      <td>Closed</td>\n",
       "      <td>5</td>\n",
       "      <td>LICENSE SUSPENDED, OP MV WITH c90 §23</td>\n",
       "      <td>Guilty</td>\n",
       "      <td>2019-03-20</td>\n",
       "    </tr>\n",
       "  </tbody>\n",
       "</table>\n",
       "<p>75725 rows × 10 columns</p>\n",
       "</div>"
      ],
      "text/plain": [
       "      Person ID                       Court Offense Date  Age at Offense  \\\n",
       "0          NW-0     Franklin Superior Court   2011-09-13            21.0   \n",
       "1          NW-0     Franklin Superior Court   2011-09-13            21.0   \n",
       "2          NW-0     Franklin Superior Court   2011-09-13            21.0   \n",
       "3          NW-0     Franklin Superior Court   2011-09-13            21.0   \n",
       "4          NW-0     Franklin Superior Court   2011-09-13            21.0   \n",
       "...         ...                         ...          ...             ...   \n",
       "75720  NW-19752  Belchertown District Court   2018-12-28            31.0   \n",
       "75721  NW-19752  Belchertown District Court   2018-12-28            31.0   \n",
       "75722  NW-19752  Belchertown District Court   2018-12-28            31.0   \n",
       "75723  NW-19752  Belchertown District Court   2018-12-28            31.0   \n",
       "75724  NW-19752  Belchertown District Court   2018-12-28            31.0   \n",
       "\n",
       "            Filed  Status  Count  \\\n",
       "0      2014-10-28  Closed      1   \n",
       "1      2014-10-28  Closed      2   \n",
       "2      2014-10-28  Closed      3   \n",
       "3      2014-10-28  Closed      4   \n",
       "4      2014-10-28  Closed      5   \n",
       "...           ...     ...    ...   \n",
       "75720  2018-12-31  Closed      1   \n",
       "75721  2018-12-31  Closed      2   \n",
       "75722  2018-12-31  Closed      3   \n",
       "75723  2018-12-31  Closed      4   \n",
       "75724  2018-12-31  Closed      5   \n",
       "\n",
       "                                                  Charge  \\\n",
       "0                             ASSAULT TO MURDER c265 §15   \n",
       "1                             ASSAULT TO MURDER c265 §15   \n",
       "2                             ASSAULT TO MURDER c265 §15   \n",
       "3                             ASSAULT TO MURDER c265 §15   \n",
       "4                        ARSON OF DWELLING HOUSE c266 §1   \n",
       "...                                                  ...   \n",
       "75720                                KIDNAPPING c265 §26   \n",
       "75721                                A&B PREGNANT VICTIM   \n",
       "75722  Assault & Battery on  Family/Household Member ...   \n",
       "75723            ASSAULT W/DANGEROUS WEAPON c265 §15B(b)   \n",
       "75724              LICENSE SUSPENDED, OP MV WITH c90 §23   \n",
       "\n",
       "                        Disposition Disposition Date  \n",
       "0                        Not Guilty       2016-03-30  \n",
       "1                        Not Guilty       2016-03-30  \n",
       "2                        Not Guilty       2016-03-30  \n",
       "3                        Not Guilty       2016-03-30  \n",
       "4                        Not Guilty       2016-03-30  \n",
       "...                             ...              ...  \n",
       "75720  Dismissed at Request of Comm       2019-03-20  \n",
       "75721                Nolle Prosequi       2019-01-31  \n",
       "75722                        Guilty       2019-03-20  \n",
       "75723  Dismissed at Request of Comm       2019-03-20  \n",
       "75724                        Guilty       2019-03-20  \n",
       "\n",
       "[75725 rows x 10 columns]"
      ]
     },
     "execution_count": 8,
     "metadata": {},
     "output_type": "execute_result"
    }
   ],
   "source": [
    "nw_df.rename(columns={'Dispo Date': 'Disposition Date'})"
   ]
  },
  {
   "cell_type": "markdown",
   "metadata": {},
   "source": [
    "<h3>Describing the Dataframe</h3>\n",
    "\n",
    "<p> As you can imagine, these dataframes can be very unwieldy when you first load them. In order to get some summary data on our data, let's call the .describe() function.</p>"
   ]
  },
  {
   "cell_type": "code",
   "execution_count": 9,
   "metadata": {},
   "outputs": [
    {
     "data": {
      "text/html": [
       "<div>\n",
       "<style scoped>\n",
       "    .dataframe tbody tr th:only-of-type {\n",
       "        vertical-align: middle;\n",
       "    }\n",
       "\n",
       "    .dataframe tbody tr th {\n",
       "        vertical-align: top;\n",
       "    }\n",
       "\n",
       "    .dataframe thead th {\n",
       "        text-align: right;\n",
       "    }\n",
       "</style>\n",
       "<table border=\"1\" class=\"dataframe\">\n",
       "  <thead>\n",
       "    <tr style=\"text-align: right;\">\n",
       "      <th></th>\n",
       "      <th>Age at Offense</th>\n",
       "      <th>Count</th>\n",
       "    </tr>\n",
       "  </thead>\n",
       "  <tbody>\n",
       "    <tr>\n",
       "      <th>count</th>\n",
       "      <td>74783.000000</td>\n",
       "      <td>75725.000000</td>\n",
       "    </tr>\n",
       "    <tr>\n",
       "      <th>mean</th>\n",
       "      <td>32.899509</td>\n",
       "      <td>2.830875</td>\n",
       "    </tr>\n",
       "    <tr>\n",
       "      <th>std</th>\n",
       "      <td>12.390618</td>\n",
       "      <td>7.428723</td>\n",
       "    </tr>\n",
       "    <tr>\n",
       "      <th>min</th>\n",
       "      <td>-242.000000</td>\n",
       "      <td>0.000000</td>\n",
       "    </tr>\n",
       "    <tr>\n",
       "      <th>25%</th>\n",
       "      <td>23.000000</td>\n",
       "      <td>1.000000</td>\n",
       "    </tr>\n",
       "    <tr>\n",
       "      <th>50%</th>\n",
       "      <td>30.000000</td>\n",
       "      <td>2.000000</td>\n",
       "    </tr>\n",
       "    <tr>\n",
       "      <th>75%</th>\n",
       "      <td>41.000000</td>\n",
       "      <td>3.000000</td>\n",
       "    </tr>\n",
       "    <tr>\n",
       "      <th>max</th>\n",
       "      <td>94.000000</td>\n",
       "      <td>360.000000</td>\n",
       "    </tr>\n",
       "  </tbody>\n",
       "</table>\n",
       "</div>"
      ],
      "text/plain": [
       "       Age at Offense         Count\n",
       "count    74783.000000  75725.000000\n",
       "mean        32.899509      2.830875\n",
       "std         12.390618      7.428723\n",
       "min       -242.000000      0.000000\n",
       "25%         23.000000      1.000000\n",
       "50%         30.000000      2.000000\n",
       "75%         41.000000      3.000000\n",
       "max         94.000000    360.000000"
      ]
     },
     "execution_count": 9,
     "metadata": {},
     "output_type": "execute_result"
    }
   ],
   "source": [
    "nw_df.describe()"
   ]
  },
  {
   "cell_type": "markdown",
   "metadata": {},
   "source": [
    "<p>Great! We now have some descriptive statistics on our data and can start to make sense of what our data is saying. Except, if you look a little closer, there's still some problems. For one, we are only seeing a description of 2 columns of our data while the original file has 10. Also, the minimum age of offense is -242 years old, which doesn't make much sense. Let's get a broader overview of our data using the .info() function</p>"
   ]
  },
  {
   "cell_type": "code",
   "execution_count": 10,
   "metadata": {},
   "outputs": [
    {
     "name": "stdout",
     "output_type": "stream",
     "text": [
      "<class 'pandas.core.frame.DataFrame'>\n",
      "RangeIndex: 75725 entries, 0 to 75724\n",
      "Data columns (total 10 columns):\n",
      " #   Column          Non-Null Count  Dtype  \n",
      "---  ------          --------------  -----  \n",
      " 0   Person ID       75725 non-null  object \n",
      " 1   Court           75725 non-null  object \n",
      " 2   Offense Date    74915 non-null  object \n",
      " 3   Age at Offense  74783 non-null  float64\n",
      " 4   Filed           75725 non-null  object \n",
      " 5   Status          75725 non-null  object \n",
      " 6   Count           75725 non-null  int64  \n",
      " 7   Charge          75725 non-null  object \n",
      " 8   Disposition     72259 non-null  object \n",
      " 9   Dispo Date      71881 non-null  object \n",
      "dtypes: float64(1), int64(1), object(8)\n",
      "memory usage: 5.8+ MB\n"
     ]
    }
   ],
   "source": [
    "nw_df.info()"
   ]
  },
  {
   "cell_type": "markdown",
   "metadata": {},
   "source": [
    "<h3>Dealing With Incomplete Entries</h3>\n",
    "<p>Now we have a broader overview of the structure of our dataframe, with each row in the info() output describing a column of the dataframe. Here we can see that only two of the columns are numbers, which is why we only had two sets of descriptive statitics. We can also see that not every row is complete, since the number of non-null entries for each row is not equal among the columns (null meaning that there is no data for that column).</p>\n",
    "\n",
    "<p>Incomplete data entries are often a problem for data analysis. For instance, we are missing ~4000 dispo date entries. If the dispo date data is not useful for your data analysis, you can largely ignore this. But often we want to clean our data before we start analysis, and incomplete entries can throw errors down the line. There are many approaches you can take to filling these entries in, but the easiest approach is just to delete all entries that are not complete. We are going to do this with the .dropna() function. We are also going to pass the argument \"inplace = True\" so that it will modify the existing dataframe and we don't have to create a new one.</p>\n",
    "\n"
   ]
  },
  {
   "cell_type": "code",
   "execution_count": 11,
   "metadata": {},
   "outputs": [
    {
     "name": "stdout",
     "output_type": "stream",
     "text": [
      "<class 'pandas.core.frame.DataFrame'>\n",
      "Int64Index: 71068 entries, 0 to 75724\n",
      "Data columns (total 10 columns):\n",
      " #   Column          Non-Null Count  Dtype  \n",
      "---  ------          --------------  -----  \n",
      " 0   Person ID       71068 non-null  object \n",
      " 1   Court           71068 non-null  object \n",
      " 2   Offense Date    71068 non-null  object \n",
      " 3   Age at Offense  71068 non-null  float64\n",
      " 4   Filed           71068 non-null  object \n",
      " 5   Status          71068 non-null  object \n",
      " 6   Count           71068 non-null  int64  \n",
      " 7   Charge          71068 non-null  object \n",
      " 8   Disposition     71068 non-null  object \n",
      " 9   Dispo Date      71068 non-null  object \n",
      "dtypes: float64(1), int64(1), object(8)\n",
      "memory usage: 6.0+ MB\n",
      "The raw data was 6.15% incomplete\n"
     ]
    }
   ],
   "source": [
    "num_raw_entries = len(nw_df.index)\n",
    "\n",
    "nw_df.dropna(inplace = True)\n",
    "nw_df.info()\n",
    "\n",
    "num_complete_entries = len(nw_df.index)\n",
    "\n",
    "percent_null = float(1 -(num_complete_entries/num_raw_entries))*100\n",
    "print(\"The raw data was {:.2f}\".format(percent_null) + \"% incomplete\")"
   ]
  },
  {
   "cell_type": "markdown",
   "metadata": {},
   "source": [
    "<p>Perfect, now we only have complete data entries! As a disclaimer, completely dropping incomplete entries is not always the correct approach. Luckily for us, incomplete entries only represented 6.15% of our original data, so we still have a lot to work with. Let's look at the descriptive statistics on the modified data set to see if it drastically changed our data.</p>"
   ]
  },
  {
   "cell_type": "code",
   "execution_count": 12,
   "metadata": {},
   "outputs": [
    {
     "data": {
      "text/html": [
       "<div>\n",
       "<style scoped>\n",
       "    .dataframe tbody tr th:only-of-type {\n",
       "        vertical-align: middle;\n",
       "    }\n",
       "\n",
       "    .dataframe tbody tr th {\n",
       "        vertical-align: top;\n",
       "    }\n",
       "\n",
       "    .dataframe thead th {\n",
       "        text-align: right;\n",
       "    }\n",
       "</style>\n",
       "<table border=\"1\" class=\"dataframe\">\n",
       "  <thead>\n",
       "    <tr style=\"text-align: right;\">\n",
       "      <th></th>\n",
       "      <th>Age at Offense</th>\n",
       "      <th>Count</th>\n",
       "    </tr>\n",
       "  </thead>\n",
       "  <tbody>\n",
       "    <tr>\n",
       "      <th>count</th>\n",
       "      <td>71068.000000</td>\n",
       "      <td>71068.000000</td>\n",
       "    </tr>\n",
       "    <tr>\n",
       "      <th>mean</th>\n",
       "      <td>32.858347</td>\n",
       "      <td>2.689649</td>\n",
       "    </tr>\n",
       "    <tr>\n",
       "      <th>std</th>\n",
       "      <td>12.418212</td>\n",
       "      <td>7.024832</td>\n",
       "    </tr>\n",
       "    <tr>\n",
       "      <th>min</th>\n",
       "      <td>-242.000000</td>\n",
       "      <td>0.000000</td>\n",
       "    </tr>\n",
       "    <tr>\n",
       "      <th>25%</th>\n",
       "      <td>23.000000</td>\n",
       "      <td>1.000000</td>\n",
       "    </tr>\n",
       "    <tr>\n",
       "      <th>50%</th>\n",
       "      <td>30.000000</td>\n",
       "      <td>2.000000</td>\n",
       "    </tr>\n",
       "    <tr>\n",
       "      <th>75%</th>\n",
       "      <td>41.000000</td>\n",
       "      <td>3.000000</td>\n",
       "    </tr>\n",
       "    <tr>\n",
       "      <th>max</th>\n",
       "      <td>94.000000</td>\n",
       "      <td>360.000000</td>\n",
       "    </tr>\n",
       "  </tbody>\n",
       "</table>\n",
       "</div>"
      ],
      "text/plain": [
       "       Age at Offense         Count\n",
       "count    71068.000000  71068.000000\n",
       "mean        32.858347      2.689649\n",
       "std         12.418212      7.024832\n",
       "min       -242.000000      0.000000\n",
       "25%         23.000000      1.000000\n",
       "50%         30.000000      2.000000\n",
       "75%         41.000000      3.000000\n",
       "max         94.000000    360.000000"
      ]
     },
     "execution_count": 12,
     "metadata": {},
     "output_type": "execute_result"
    }
   ],
   "source": [
    "nw_df.describe()"
   ]
  },
  {
   "cell_type": "markdown",
   "metadata": {},
   "source": [
    "<p>Looks like most of the metrics are the same, so our modification did not affect the data much</p>"
   ]
  },
  {
   "cell_type": "markdown",
   "metadata": {},
   "source": [
    "<h3>Graphing the Data</h3>\n",
    "<p>There are still some entries in our data set that do not make sense, like how someone has 0 charges or was -242 years old for their possible offense. Some simple graphs of the data can reveal what these outliers look like further. Let's start by constructing a histogram for the ages at offense using pyplot.</p>\n",
    "\n",
    "<p>We are going to do this using the pyplot module of matplotlib. We do this by calling plt.hist(), where we pass the dataframe and which column we want to plot in the parentheses. It is also a good idea to title your chart and axes, which we can do ax.set_title(), ax.set_xlabel(), and ax.set_ylabel() as shown below.</p>"
   ]
  },
  {
   "cell_type": "code",
   "execution_count": 13,
   "metadata": {},
   "outputs": [
    {
     "data": {
      "text/plain": [
       "Text(0, 0.5, 'Frequency (log scale)')"
      ]
     },
     "execution_count": 13,
     "metadata": {},
     "output_type": "execute_result"
    },
    {
     "data": {
      "image/png": "[encoded data removed]",
      "text/plain": [
       "<Figure size 432x288 with 1 Axes>"
      ]
     },
     "metadata": {
      "needs_background": "light"
     },
     "output_type": "display_data"
    }
   ],
   "source": [
    "fig,ax = plt.subplots()\n",
    "ax.hist(nw_df['Age at Offense'])\n",
    "ax.set_yscale('log')\n",
    "ax.set_title('Age at Offense')\n",
    "ax.set_xlabel('Age')\n",
    "ax.set_ylabel('Frequency (log scale)')"
   ]
  },
  {
   "cell_type": "markdown",
   "metadata": {},
   "source": [
    "<p>As we can see from the plot, we have a few negative age at offense entries. Since these are nonsensical in the real world, we can remove them without removing much of our data. Let's make the minimum age 0. We can filter the dataframe to adhere to this condition by using the command below:</p>"
   ]
  },
  {
   "cell_type": "code",
   "execution_count": 14,
   "metadata": {},
   "outputs": [
    {
     "data": {
      "text/plain": [
       "Text(0, 0.5, 'Frequency (log scale)')"
      ]
     },
     "execution_count": 14,
     "metadata": {},
     "output_type": "execute_result"
    },
    {
     "data": {
      "image/png": "[encoded data removed]",
      "text/plain": [
       "<Figure size 432x288 with 1 Axes>"
      ]
     },
     "metadata": {
      "needs_background": "light"
     },
     "output_type": "display_data"
    }
   ],
   "source": [
    "nw_df_filtered = nw_df[nw_df['Age at Offense'] >= 0]\n",
    "\n",
    "fig,ax = plt.subplots()\n",
    "ax.hist(nw_df_filtered['Age at Offense'])\n",
    "ax.set_yscale('log')\n",
    "ax.set_title('Age at Offense')\n",
    "ax.set_xlabel('Age')\n",
    "ax.set_ylabel('Frequency (log scale)')"
   ]
  }
 ],
 "metadata": {
  "kernelspec": {
   "display_name": "Python 3",
   "language": "python",
   "name": "python3"
  },
  "language_info": {
   "codemirror_mode": {
    "name": "ipython",
    "version": 3
   },
   "file_extension": ".py",
   "mimetype": "text/x-python",
   "name": "python",
   "nbconvert_exporter": "python",
   "pygments_lexer": "ipython3",
   "version": "3.8.5"
  }
 },
 "nbformat": 4,
 "nbformat_minor": 4
}
