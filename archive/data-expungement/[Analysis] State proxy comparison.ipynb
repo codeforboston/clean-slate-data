{
 "cells": [
  {
   "cell_type": "markdown",
   "metadata": {},
   "source": [
    "## Rudimentary comparison of state crime rates"
   ]
  },
  {
   "cell_type": "markdown",
   "metadata": {},
   "source": [
    "Due to the disparity in the amount of crime data disclosed, we look at states for which we have more data to determine whether they can be used as proxies for Massachusetts crime data. In this analysis, we use the Uniform Crime Reporting Statistics disclosed by the FBI for the crime rate per 100k population on the following categories (ignoring most violent crime categories):\n",
    "\n",
    "* Robbery rate\n",
    "* Property crime rate\n",
    "* Burglary rate\n",
    "* Larceny-theft rate\n",
    "* Motor vehicle theft rate\n",
    "\n",
    "Source: https://www.ucrdatatool.gov/Search/Crime/State/StatebyState.cfm\n",
    "\n",
    "For some reason, data in this format is only available to 2014. \n",
    "\n",
    "Normalizing the data and performing a simple Euclidean distance between each state, we can create a distance matrix between every state and Massachusetts from 1960. "
   ]
  },
  {
   "cell_type": "code",
   "execution_count": 1,
   "metadata": {},
   "outputs": [],
   "source": [
    "import pandas as pd\n",
    "import scipy\n",
    "import matplotlib as plt\n",
    "\n",
    "from scipy.spatial.distance import cdist\n",
    "\n",
    "%matplotlib inline\n",
    "\n",
    "states = [\"Alabama\", \"Alaska\", \"Arizona\", \"Arkansas\", \"California\", \"Colorado\", \n",
    "          \"Connecticut\", \"Delaware\", \"District of Columbia\", \"Florida\", \"Georgia\", \n",
    "          \"Hawaii\", \"Idaho\", \"Illinois\", \"Indiana\", \"Iowa\", \"Kansas\", \"Kentucky\", \n",
    "          \"Louisiana\", \"Maine\", \"Maryland\", \"Massachusetts\", \"Michigan\", \"Minnesota\", \n",
    "          \"Mississippi\", \"Missouri\", \"Montana\", \"Nebraska\", \"Nevada\", \"New Hampshire\", \n",
    "          \"New Jersey\", \"New Mexico\", \"New York\", \"North Carolina\", \"North Dakota\", \n",
    "          \"Ohio\", \"Oklahoma\", \"Oregon\", \"Pennsylvania\", \"Rhode Island\", \"South Carolina\", \n",
    "          \"South Dakota\", \"Tennessee\", \"Texas\", \"Utah\", \"Vermont\", \"Virginia\", \n",
    "          \"Washington\", \"West Virginia\", \"Wisconsin\", \"Wyoming\"]\n",
    "\n",
    "def load_state_ucr(file=\"data/FBI_crime_statistics_overall.csv\"):\n",
    "    state_stats = pd.DataFrame()\n",
    "    for idx, state in enumerate(states):\n",
    "        df = pd.read_csv(file, skiprows=(idx+1)*7 + (56*idx) + 2, nrows=56)\n",
    "        df[\"State\"] = state\n",
    "        state_stats = state_stats.append(df, ignore_index=True)\n",
    "    relevant_cols = [\"State\", \"Year\", \"Robbery rate\", \"Property crime rate\", \n",
    "                     \"Burglary rate\", \"Larceny-theft rate\", \"Motor vehicle theft rate\"]\n",
    "    return state_stats[relevant_cols]\n",
    "    \n",
    "state_stats = load_state_ucr()\n",
    "\n",
    "def compute_distance(year):\n",
    "    x = state_stats[state_stats[\"Year\"] == year].drop(\"Year\", axis=1)\n",
    "    x = x.set_index(\"State\")\n",
    "    normalized_x=(x-x.mean())/x.std()\n",
    "    normalized_x.head()\n",
    "    df = pd.DataFrame(\n",
    "        cdist(normalized_x.values, normalized_x.values, 'euclidean'), \n",
    "        index=normalized_x.index, columns=normalized_x.index)[[\"Massachusetts\"]]\n",
    "    df.columns = [str(year)]\n",
    "    return df"
   ]
  },
  {
   "cell_type": "code",
   "execution_count": 2,
   "metadata": {},
   "outputs": [
    {
     "data": {
      "text/html": [
       "<div>\n",
       "<style scoped>\n",
       "    .dataframe tbody tr th:only-of-type {\n",
       "        vertical-align: middle;\n",
       "    }\n",
       "\n",
       "    .dataframe tbody tr th {\n",
       "        vertical-align: top;\n",
       "    }\n",
       "\n",
       "    .dataframe thead th {\n",
       "        text-align: right;\n",
       "    }\n",
       "</style>\n",
       "<table border=\"1\" class=\"dataframe\">\n",
       "  <thead>\n",
       "    <tr style=\"text-align: right;\">\n",
       "      <th></th>\n",
       "      <th>State</th>\n",
       "      <th>Year</th>\n",
       "      <th>Robbery rate</th>\n",
       "      <th>Property crime rate</th>\n",
       "      <th>Burglary rate</th>\n",
       "      <th>Larceny-theft rate</th>\n",
       "      <th>Motor vehicle theft rate</th>\n",
       "    </tr>\n",
       "  </thead>\n",
       "  <tbody>\n",
       "    <tr>\n",
       "      <td>54</td>\n",
       "      <td>Alabama</td>\n",
       "      <td>2014.0</td>\n",
       "      <td>96.9</td>\n",
       "      <td>3177.6</td>\n",
       "      <td>819.0</td>\n",
       "      <td>2149.5</td>\n",
       "      <td>209.1</td>\n",
       "    </tr>\n",
       "    <tr>\n",
       "      <td>110</td>\n",
       "      <td>Alaska</td>\n",
       "      <td>2014.0</td>\n",
       "      <td>85.4</td>\n",
       "      <td>2760.0</td>\n",
       "      <td>427.6</td>\n",
       "      <td>2096.4</td>\n",
       "      <td>236.0</td>\n",
       "    </tr>\n",
       "    <tr>\n",
       "      <td>166</td>\n",
       "      <td>Arizona</td>\n",
       "      <td>2014.0</td>\n",
       "      <td>92.8</td>\n",
       "      <td>3197.5</td>\n",
       "      <td>647.1</td>\n",
       "      <td>2289.1</td>\n",
       "      <td>261.3</td>\n",
       "    </tr>\n",
       "    <tr>\n",
       "      <td>222</td>\n",
       "      <td>Arkansas</td>\n",
       "      <td>2014.0</td>\n",
       "      <td>69.1</td>\n",
       "      <td>3338.0</td>\n",
       "      <td>835.7</td>\n",
       "      <td>2313.5</td>\n",
       "      <td>188.8</td>\n",
       "    </tr>\n",
       "    <tr>\n",
       "      <td>278</td>\n",
       "      <td>California</td>\n",
       "      <td>2014.0</td>\n",
       "      <td>125.5</td>\n",
       "      <td>2441.1</td>\n",
       "      <td>522.3</td>\n",
       "      <td>1527.4</td>\n",
       "      <td>391.3</td>\n",
       "    </tr>\n",
       "  </tbody>\n",
       "</table>\n",
       "</div>"
      ],
      "text/plain": [
       "          State    Year  Robbery rate  Property crime rate  Burglary rate  \\\n",
       "54      Alabama  2014.0          96.9               3177.6          819.0   \n",
       "110      Alaska  2014.0          85.4               2760.0          427.6   \n",
       "166     Arizona  2014.0          92.8               3197.5          647.1   \n",
       "222    Arkansas  2014.0          69.1               3338.0          835.7   \n",
       "278  California  2014.0         125.5               2441.1          522.3   \n",
       "\n",
       "     Larceny-theft rate  Motor vehicle theft rate  \n",
       "54               2149.5                     209.1  \n",
       "110              2096.4                     236.0  \n",
       "166              2289.1                     261.3  \n",
       "222              2313.5                     188.8  \n",
       "278              1527.4                     391.3  "
      ]
     },
     "execution_count": 2,
     "metadata": {},
     "output_type": "execute_result"
    }
   ],
   "source": [
    "state_stats[state_stats[\"Year\"] == 2014].head()"
   ]
  },
  {
   "cell_type": "code",
   "execution_count": 3,
   "metadata": {},
   "outputs": [],
   "source": [
    "distances = pd.DataFrame()\n",
    "for yr in range(1990, 2015):\n",
    "    series = compute_distance(yr)\n",
    "    distances = pd.concat([distances, series], axis=1, sort=False)"
   ]
  },
  {
   "cell_type": "markdown",
   "metadata": {},
   "source": [
    "Looking at the comparison with Maryland an Pennsylvania we can look at distances with the following chart. Lower values are better, implying they are more similar:"
   ]
  },
  {
   "cell_type": "code",
   "execution_count": 4,
   "metadata": {},
   "outputs": [
    {
     "data": {
      "image/png": "[encoded data removed]",
      "text/plain": [
       "<Figure size 432x288 with 1 Axes>"
      ]
     },
     "metadata": {
      "needs_background": "light"
     },
     "output_type": "display_data"
    }
   ],
   "source": [
    "distances.loc[[\"Maryland\",\"Pennsylvania\"],:].transpose().plot();"
   ]
  },
  {
   "cell_type": "markdown",
   "metadata": {},
   "source": [
    "This would seem to imply that if we were to choose between Maryland and Pennsylvania, Pennsylvania would seem to be a better proxy based on the crime rates for the given categories above. Moreover, if we look at 2014 below, it would seem Pennsylvania is actually the best choice compared to other states."
   ]
  },
  {
   "cell_type": "code",
   "execution_count": 5,
   "metadata": {},
   "outputs": [
    {
     "data": {
      "text/html": [
       "<div>\n",
       "<style scoped>\n",
       "    .dataframe tbody tr th:only-of-type {\n",
       "        vertical-align: middle;\n",
       "    }\n",
       "\n",
       "    .dataframe tbody tr th {\n",
       "        vertical-align: top;\n",
       "    }\n",
       "\n",
       "    .dataframe thead th {\n",
       "        text-align: right;\n",
       "    }\n",
       "</style>\n",
       "<table border=\"1\" class=\"dataframe\">\n",
       "  <thead>\n",
       "    <tr style=\"text-align: right;\">\n",
       "      <th></th>\n",
       "      <th>2014</th>\n",
       "    </tr>\n",
       "    <tr>\n",
       "      <th>State</th>\n",
       "      <th></th>\n",
       "    </tr>\n",
       "  </thead>\n",
       "  <tbody>\n",
       "    <tr>\n",
       "      <td>Massachusetts</td>\n",
       "      <td>0.000000</td>\n",
       "    </tr>\n",
       "    <tr>\n",
       "      <td>Pennsylvania</td>\n",
       "      <td>0.395569</td>\n",
       "    </tr>\n",
       "    <tr>\n",
       "      <td>New Jersey</td>\n",
       "      <td>0.493097</td>\n",
       "    </tr>\n",
       "    <tr>\n",
       "      <td>Connecticut</td>\n",
       "      <td>0.545013</td>\n",
       "    </tr>\n",
       "    <tr>\n",
       "      <td>Illinois</td>\n",
       "      <td>0.657492</td>\n",
       "    </tr>\n",
       "    <tr>\n",
       "      <td>Wisconsin</td>\n",
       "      <td>0.717851</td>\n",
       "    </tr>\n",
       "    <tr>\n",
       "      <td>Virginia</td>\n",
       "      <td>0.885313</td>\n",
       "    </tr>\n",
       "    <tr>\n",
       "      <td>New York</td>\n",
       "      <td>0.896220</td>\n",
       "    </tr>\n",
       "    <tr>\n",
       "      <td>South Dakota</td>\n",
       "      <td>0.912813</td>\n",
       "    </tr>\n",
       "    <tr>\n",
       "      <td>Iowa</td>\n",
       "      <td>1.014377</td>\n",
       "    </tr>\n",
       "  </tbody>\n",
       "</table>\n",
       "</div>"
      ],
      "text/plain": [
       "                   2014\n",
       "State                  \n",
       "Massachusetts  0.000000\n",
       "Pennsylvania   0.395569\n",
       "New Jersey     0.493097\n",
       "Connecticut    0.545013\n",
       "Illinois       0.657492\n",
       "Wisconsin      0.717851\n",
       "Virginia       0.885313\n",
       "New York       0.896220\n",
       "South Dakota   0.912813\n",
       "Iowa           1.014377"
      ]
     },
     "execution_count": 5,
     "metadata": {},
     "output_type": "execute_result"
    }
   ],
   "source": [
    "distances[[\"2014\"]].sort_values(by=\"2014\").head(10)"
   ]
  },
  {
   "cell_type": "markdown",
   "metadata": {},
   "source": [
    "If we look at the actual values for the crime rates, we can see that they are in fact pretty similar:"
   ]
  },
  {
   "cell_type": "code",
   "execution_count": 6,
   "metadata": {},
   "outputs": [
    {
     "data": {
      "text/html": [
       "<div>\n",
       "<style scoped>\n",
       "    .dataframe tbody tr th:only-of-type {\n",
       "        vertical-align: middle;\n",
       "    }\n",
       "\n",
       "    .dataframe tbody tr th {\n",
       "        vertical-align: top;\n",
       "    }\n",
       "\n",
       "    .dataframe thead th {\n",
       "        text-align: right;\n",
       "    }\n",
       "</style>\n",
       "<table border=\"1\" class=\"dataframe\">\n",
       "  <thead>\n",
       "    <tr style=\"text-align: right;\">\n",
       "      <th></th>\n",
       "      <th>State</th>\n",
       "      <th>Year</th>\n",
       "      <th>Robbery rate</th>\n",
       "      <th>Property crime rate</th>\n",
       "      <th>Burglary rate</th>\n",
       "      <th>Larceny-theft rate</th>\n",
       "      <th>Motor vehicle theft rate</th>\n",
       "    </tr>\n",
       "  </thead>\n",
       "  <tbody>\n",
       "    <tr>\n",
       "      <td>1174</td>\n",
       "      <td>Maryland</td>\n",
       "      <td>2014.0</td>\n",
       "      <td>159.7</td>\n",
       "      <td>2507.5</td>\n",
       "      <td>468.7</td>\n",
       "      <td>1819.6</td>\n",
       "      <td>219.2</td>\n",
       "    </tr>\n",
       "    <tr>\n",
       "      <td>1230</td>\n",
       "      <td>Massachusetts</td>\n",
       "      <td>2014.0</td>\n",
       "      <td>89.5</td>\n",
       "      <td>1857.1</td>\n",
       "      <td>370.1</td>\n",
       "      <td>1364.5</td>\n",
       "      <td>122.5</td>\n",
       "    </tr>\n",
       "    <tr>\n",
       "      <td>2182</td>\n",
       "      <td>Pennsylvania</td>\n",
       "      <td>2014.0</td>\n",
       "      <td>105.8</td>\n",
       "      <td>1931.7</td>\n",
       "      <td>357.5</td>\n",
       "      <td>1472.2</td>\n",
       "      <td>102.0</td>\n",
       "    </tr>\n",
       "  </tbody>\n",
       "</table>\n",
       "</div>"
      ],
      "text/plain": [
       "              State    Year  Robbery rate  Property crime rate  Burglary rate  \\\n",
       "1174       Maryland  2014.0         159.7               2507.5          468.7   \n",
       "1230  Massachusetts  2014.0          89.5               1857.1          370.1   \n",
       "2182   Pennsylvania  2014.0         105.8               1931.7          357.5   \n",
       "\n",
       "      Larceny-theft rate  Motor vehicle theft rate  \n",
       "1174              1819.6                     219.2  \n",
       "1230              1364.5                     122.5  \n",
       "2182              1472.2                     102.0  "
      ]
     },
     "execution_count": 6,
     "metadata": {},
     "output_type": "execute_result"
    }
   ],
   "source": [
    "mpd = state_stats[state_stats[\"State\"].str.contains('Massachusetts|Pennsylvania|Maryland')]\n",
    "mpd[mpd[\"Year\"] == 2014]"
   ]
  },
  {
   "cell_type": "code",
   "execution_count": null,
   "metadata": {},
   "outputs": [],
   "source": []
  }
 ],
 "metadata": {
  "kernelspec": {
   "display_name": "Python 3",
   "language": "python",
   "name": "python3"
  },
  "language_info": {
   "codemirror_mode": {
    "name": "ipython",
    "version": 3
   },
   "file_extension": ".py",
   "mimetype": "text/x-python",
   "name": "python",
   "nbconvert_exporter": "python",
   "pygments_lexer": "ipython3",
   "version": "3.6.8"
  }
 },
 "nbformat": 4,
 "nbformat_minor": 2
}
