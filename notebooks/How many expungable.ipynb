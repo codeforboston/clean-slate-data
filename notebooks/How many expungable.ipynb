{
 "cells": [
  {
   "cell_type": "markdown",
   "metadata": {},
   "source": [
    "# Clean Slate: Estimating offenses eligible for expungement under varying conditions\n",
    "> Prepared by [Laura Feeney](https://github.com/laurafeeney) for Code for Boston's [Clean Slate project](https://github.com/codeforboston/clean-slate).\n",
    "\n",
    "## Purpose\n",
    "This notebook takes somewhat processed data from the Northwestern DA and answers the following questions, posed June 28, 2020. \n",
    "\n",
    "This analysis will be run a number of times: under existing regulation, and under varying conditions allowing additional offenses to be expunged.\n",
    "\n",
    "\n",
    "1. How many people (under age 21) are eligible for expungement today? This would be people with only **one charge** that is not part of the list of ineligible offenses (per section 100J). \n",
    "\n",
    "\n",
    "2. How many people (under age 21) would be eligible based on only having **one incident** (which could include multiple charges) that are not part of the list of ineligible offenses?\n",
    " - How many people (under age 21) would be eligible based on only having **one incident** if only sex-based offenses or murder were excluded from expungement?\n",
    " \n",
    "\n",
    "3. How many people (under age 21) would be eligible based on who has **not been found guilty** (given current offenses that are eligible for expungement)?\n",
    " - How many people (under age 21) would be eligible based on who has **not been found guilty** for all offenses except for murder or sex-based offenses?\n",
    "\n",
    "-----"
   ]
  },
  {
   "cell_type": "markdown",
   "metadata": {},
   "source": [
    "### Step 0\n",
    "Import data, programs, etc.\n",
    "\n",
    "-----"
   ]
  },
  {
   "cell_type": "code",
   "execution_count": 1,
   "metadata": {},
   "outputs": [],
   "source": [
    "import pandas as pd\n",
    "pd.set_option(\"display.max_rows\", 200)\n",
    "import numpy as np\n",
    "import regex as re\n",
    "import glob, os\n",
    "import datetime \n",
    "from datetime import date \n",
    "from collections import defaultdict, Counter\n",
    "import matplotlib.pyplot as plt"
   ]
  },
  {
   "cell_type": "code",
   "execution_count": 2,
   "metadata": {},
   "outputs": [
    {
     "data": {
      "text/plain": [
       "Yes              55052\n",
       "No               20013\n",
       "NotApplicable      439\n",
       "Attempt            220\n",
       "NaN                  1\n",
       "Name: Expungeable, dtype: int64"
      ]
     },
     "execution_count": 2,
     "metadata": {},
     "output_type": "execute_result"
    }
   ],
   "source": [
    "# processed individual-level data from NW district with expungability.\n",
    "\n",
    "nw = pd.read_csv('../../data/processed/merged_nw.csv', encoding='utf8',\n",
    "                    dtype={'Analysis notes':str, 'extra_criteria':str, 'Expungeable': str}) \n",
    "\n",
    "nw['Expungeable'].value_counts(dropna=False)\n"
   ]
  },
  {
   "cell_type": "code",
   "execution_count": 3,
   "metadata": {},
   "outputs": [
    {
     "name": "stdout",
     "output_type": "stream",
     "text": [
      "<class 'pandas.core.frame.DataFrame'>\n",
      "RangeIndex: 75725 entries, 0 to 75724\n",
      "Data columns (total 19 columns):\n",
      " #   Column                  Non-Null Count  Dtype  \n",
      "---  ------                  --------------  -----  \n",
      " 0   Person ID               75725 non-null  object \n",
      " 1   Court                   75725 non-null  object \n",
      " 2   Offense Date            74915 non-null  object \n",
      " 3   Age at Offense          74783 non-null  float64\n",
      " 4   Filed                   75725 non-null  object \n",
      " 5   Status                  75725 non-null  object \n",
      " 6   Count                   75725 non-null  int64  \n",
      " 7   Charge                  75725 non-null  object \n",
      " 8   Disposition             72259 non-null  object \n",
      " 9   Dispo Date              71881 non-null  object \n",
      " 10  CMRoffense              75725 non-null  object \n",
      " 11  Chapter                 72457 non-null  object \n",
      " 12  Section                 72588 non-null  object \n",
      " 13  sex                     75725 non-null  int64  \n",
      " 14  murder                  75725 non-null  int64  \n",
      " 15  extra_criteria          2540 non-null   object \n",
      " 16  Reason not expungeable  7457 non-null   object \n",
      " 17  Analysis notes          2 non-null      object \n",
      " 18  Expungeable             75724 non-null  object \n",
      "dtypes: float64(1), int64(3), object(15)\n",
      "memory usage: 11.0+ MB\n"
     ]
    }
   ],
   "source": [
    "nw.info()"
   ]
  },
  {
   "cell_type": "markdown",
   "metadata": {},
   "source": [
    "## Step 0.5 - Prepare data\n",
    "\n",
    "- Drop CMR offenses\n",
    "- Prepare dates, date since offense\n",
    "- Generate indicators for incidents, and code incidents as expungeable, sex-related etc\n",
    "- Generate indicator for found guilty / not found guilty \n",
    "\n",
    "**CMR** : There are many offenses that are violations of the Code of Massachusetts Regulations (CMR) rather than a criminal offense. These include things like some driving or boating infractions (e.g., not having headlights on), or not having a hunting/fishing license. Per conversations with Sana, dropping all CMR offenses."
   ]
  },
  {
   "cell_type": "markdown",
   "metadata": {},
   "source": [
    "**Dates and ages. Drop negative and null ages, look at date ranges**\n",
    "\n",
    "The file name suggests this should be from 2014-2018: \n",
    "\n",
    "Prosecution Northwestern DA 2014-2018 RAW DATA - 2014 to early 2018.csv, and \n",
    "Prosecution Northwestern DA 2014-2018 RAW DATA - to end of 2018.csv"
   ]
  },
  {
   "cell_type": "code",
   "execution_count": 4,
   "metadata": {},
   "outputs": [
    {
     "name": "stdout",
     "output_type": "stream",
     "text": [
      "Records with negative or null age:  1128 , 1.49%\n",
      "Unique individuals with negative or null age:  251 , 1.27%\n",
      "Drop those without an age <=0 or null age. The date of these offenses is also sometimes inconceivable (eg, 1750)\n",
      "Percent of offenses between Jan 1 2014 and Dec 31 2018:  96.57%\n",
      "The earliest offense date is 1975-08-01\n",
      "The max offense date is 2018-12-30 \n",
      "\n"
     ]
    }
   ],
   "source": [
    "#convert to datetime\n",
    "reference_date = datetime.date(2020, 9, 1) # using \"today.date() wouldn't be stable\"\n",
    "\n",
    "nw['Offense Date'] = pd.to_datetime(nw['Offense Date']).dt.date\n",
    "nw['years_since_offense'] = round((reference_date - nw['Offense Date'])/pd.Timedelta(1, 'D')/365,1)\n",
    "\n",
    "invalid_age = nw['Age at Offense'][(nw['Age at Offense']<=0) | (nw['Age at Offense'].isnull()) ]\n",
    "perc_invalid = \"{:.2%}\".format(invalid_age.shape[0] / nw['Age at Offense'].shape[0])\n",
    "invalid_age_pp = nw['Person ID'][(nw['Age at Offense']<=0) | (nw['Age at Offense'].isnull()) ].nunique()\n",
    "perc_invalid_pp = \"{:.2%}\".format(invalid_age_pp/nw['Person ID'].nunique() )\n",
    "\n",
    "\n",
    "print('Records with negative or null age: ', invalid_age.shape[0], ',', perc_invalid)\n",
    "print('Unique individuals with negative or null age: ', invalid_age_pp, ',', perc_invalid_pp)\n",
    "\n",
    "print(\"Drop those without an age <=0 or null age. The date of these offenses is also sometimes inconceivable (eg, 1750)\")\n",
    "\n",
    "nw = nw[(nw['Age at Offense']>0) & ~(nw['Age at Offense'].isnull()) ].copy()\n",
    "\n",
    "offenses_2014_2018 = nw['Offense Date'].loc[\n",
    "    (nw['Offense Date'] >= datetime.date(2014, 1, 1)) & \n",
    "    (nw['Offense Date'] <= datetime.date(2018, 12, 31))].count()\n",
    "\n",
    "Percent_14_18 = \"{:.2%}\".format(offenses_2014_2018/nw['Offense Date'].count())\n",
    "             \n",
    "print('Percent of offenses between Jan 1 2014 and Dec 31 2018: ', Percent_14_18)\n",
    "\n",
    "print(\"The earliest offense date is\", min(nw['Offense Date']))\n",
    "print(\"The max offense date is\", max(nw['Offense Date']), \"\\n\")"
   ]
  },
  {
   "cell_type": "code",
   "execution_count": 5,
   "metadata": {
    "scrolled": true
   },
   "outputs": [
    {
     "name": "stdout",
     "output_type": "stream",
     "text": [
      "There are 74597 total offenses including CMR.\n",
      "After we drop CMR, there are 74164 total offenses.\n"
     ]
    }
   ],
   "source": [
    "# CMR: Drop all CMR offenses and Drop CMR-related columns\n",
    "\n",
    "print(f'There are {nw.shape[0]} total offenses including CMR.')\n",
    "\n",
    "nw = nw.loc[nw['CMRoffense'] == 'no']\n",
    "nw = nw.drop(columns = ['CMRoffense'])\n",
    "\n",
    "print(f'After we drop CMR, there are {nw.shape[0]} total offenses.')\n"
   ]
  },
  {
   "cell_type": "code",
   "execution_count": 6,
   "metadata": {},
   "outputs": [],
   "source": [
    "#Incidents\n",
    "\n",
    "#Number of incidents (separate offense dates per same ID)\n",
    "nw['Incidents'] = (nw.groupby('Person ID')['Offense Date'].transform('nunique'))\n",
    "\n",
    "# If an incident includes one offense that is not expungeable, we mark the entire incident as not expungeable.\n",
    "\n",
    "#Attempts *are not* considered expungeable in this one. \n",
    "nw['Exp'] = nw['Expungeable']==\"Yes\"\n",
    "nw['Inc_Expungeable_Attempts_Not'] = nw.groupby(['Person ID', 'Offense Date'])['Exp'].transform('min')\n",
    "\n",
    "#Attempts *are* considered expungeable in this one. \n",
    "nw['ExpAtt'] = (nw['Expungeable']==\"Yes\") | (nw['Expungeable']==\"Attempt\")\n",
    "nw['Inc_Expungeable_Attempts_Are'] = nw.groupby(['Person ID', 'Offense Date'])['ExpAtt'].transform('min')\n",
    "\n",
    "# If an incident includes an offense that is a murder and/or sex crime, we code the whole incident as regarding\n",
    "# murder and/or sex.\n",
    "nw['sm'] = (nw['sex'] == 1) | (nw['murder'] ==1)\n",
    "nw['Incident_Murder_Sex'] = nw.groupby(['Person ID', 'Offense Date'])['sm'].transform('max')\n",
    "\n",
    "#drop unneeded calculation columns\n",
    "nw = nw.drop(columns=['Exp', 'ExpAtt', 'sm'])"
   ]
  },
  {
   "cell_type": "markdown",
   "metadata": {},
   "source": [
    "**Dispositions and Guilty**\n",
    "Referencing this sheet to determine which to code as not found guilty vs found guilty.\n",
    "https://docs.google.com/spreadsheets/d/1axzGGxgQFPwpTw7EbBlC519L43fOkqC5/edit#gid=487812267"
   ]
  },
  {
   "cell_type": "code",
   "execution_count": 7,
   "metadata": {},
   "outputs": [
    {
     "data": {
      "text/plain": [
       "['Accord/Satisfaction',\n",
       " 'Agreed Plea',\n",
       " 'CLOSED-INDICTED',\n",
       " 'CLOSED-NO CHARGES',\n",
       " 'Case Transferred',\n",
       " 'Charge Handled as a Civil Charge',\n",
       " 'Continued w/o Finding',\n",
       " 'Continued/Valor Act',\n",
       " \"DA's Complaint\",\n",
       " 'DYS Committed',\n",
       " 'Delinquent',\n",
       " 'Delinquent Filed',\n",
       " 'Directed Verdict',\n",
       " 'Dismissed',\n",
       " 'Dismissed - Lack of Prosecution',\n",
       " 'Dismissed Prior to Arraignment',\n",
       " 'Dismissed at Request of Comm',\n",
       " 'Dismissed by Court',\n",
       " 'Dismissed on Payment',\n",
       " 'Dismissed prior to complaint',\n",
       " 'District Court Dispo',\n",
       " 'Found Incompetent',\n",
       " 'Guilty',\n",
       " 'Guilty Filed',\n",
       " 'Guilty on Lesser Included Offense',\n",
       " 'NGI',\n",
       " 'No Time to Reach',\n",
       " 'Nolle Prosequi',\n",
       " 'Not Guilty',\n",
       " 'Not Guilty by Reason of Mental Illness',\n",
       " 'Not Responsible',\n",
       " 'Required Finding of Not Guilty',\n",
       " 'Responsible',\n",
       " 'Responsible Filed',\n",
       " 'Unagreed Plea',\n",
       " 'Valor Act Dispo',\n",
       " 'Youthful Offender',\n",
       " 'c276s87 finding']"
      ]
     },
     "execution_count": 7,
     "metadata": {},
     "output_type": "execute_result"
    }
   ],
   "source": [
    "sorted(nw['Disposition'].loc[nw['Disposition'].notnull()].unique())"
   ]
  },
  {
   "cell_type": "code",
   "execution_count": 8,
   "metadata": {},
   "outputs": [
    {
     "data": {
      "text/plain": [
       "70879"
      ]
     },
     "execution_count": 8,
     "metadata": {},
     "output_type": "execute_result"
    }
   ],
   "source": [
    "nw['Disposition'].count()"
   ]
  },
  {
   "cell_type": "code",
   "execution_count": 9,
   "metadata": {},
   "outputs": [
    {
     "data": {
      "text/plain": [
       "74164"
      ]
     },
     "execution_count": 9,
     "metadata": {},
     "output_type": "execute_result"
    }
   ],
   "source": [
    "len(nw['Person ID'])"
   ]
  },
  {
   "cell_type": "code",
   "execution_count": 10,
   "metadata": {},
   "outputs": [],
   "source": [
    "guilty_dispos = ['Agreed Plea', 'c276s87 finding', \n",
    "                 'Delinquent', 'Delinquent Filed', 'Guilty', 'Guilty Filed', \n",
    "                 'Guilty on Lesser Included Offense',\n",
    "                'Responsible', 'Responsible Filed', \n",
    "                 'Unagreed Plea', 'Youthful Offender']\n",
    "nw['guilty'] = nw['Disposition'].isin(guilty_dispos)\n",
    "nw.loc[nw.Disposition.isnull(), 'guilty'] = 2 \n",
    "nw['Incident_Guilty'] = nw.groupby(['Person ID', 'Offense Date'])['guilty'].transform('max')"
   ]
  },
  {
   "cell_type": "code",
   "execution_count": 11,
   "metadata": {},
   "outputs": [
    {
     "data": {
      "text/plain": [
       "False    50732\n",
       "True     20147\n",
       "2         3285\n",
       "Name: guilty, dtype: int64"
      ]
     },
     "execution_count": 11,
     "metadata": {},
     "output_type": "execute_result"
    }
   ],
   "source": [
    "nw['guilty'].value_counts(dropna=False)"
   ]
  },
  {
   "cell_type": "markdown",
   "metadata": {},
   "source": [
    "## Step 1\n",
    "summary stats"
   ]
  },
  {
   "cell_type": "code",
   "execution_count": 12,
   "metadata": {},
   "outputs": [
    {
     "name": "stdout",
     "output_type": "stream",
     "text": [
      "Age distribution\n",
      " count    74164.000000\n",
      "mean        32.988040\n",
      "std         12.172062\n",
      "min          1.000000\n",
      "25%         23.000000\n",
      "50%         30.000000\n",
      "75%         41.000000\n",
      "max         94.000000\n",
      "Name: Age at Offense, dtype: float64\n",
      "The earliest offense date is 1975-08-01\n",
      "The max offense date is 2018-12-30 \n",
      "\n"
     ]
    }
   ],
   "source": [
    "# dates\n",
    "print('Age distribution\\n', nw['Age at Offense'].describe())\n",
    "\n",
    "print(\"The earliest offense date is\", min(nw['Offense Date']))\n",
    "print(\"The max offense date is\", max(nw['Offense Date']), \"\\n\")"
   ]
  },
  {
   "cell_type": "code",
   "execution_count": 13,
   "metadata": {},
   "outputs": [
    {
     "name": "stdout",
     "output_type": "stream",
     "text": [
      "count    74164.000000\n",
      "mean         9.309638\n",
      "std         14.502255\n",
      "min          1.000000\n",
      "25%          3.000000\n",
      "50%          5.000000\n",
      "75%         11.000000\n",
      "max        202.000000\n",
      "Name: num_offenses, dtype: float64\n",
      "\n",
      " cutting off top 1%: \n",
      " count    73404.000000\n",
      "mean         8.225138\n",
      "std          8.190213\n",
      "min          1.000000\n",
      "25%          3.000000\n",
      "50%          5.000000\n",
      "75%         11.000000\n",
      "max         64.000000\n",
      "Name: num_offenses, dtype: float64\n"
     ]
    }
   ],
   "source": [
    "# distribution of # of charges\n",
    "\n",
    "nw['num_offenses']=nw.groupby('Person ID')['Person ID'].transform('count')\n",
    "print(nw['num_offenses'].describe())\n",
    "\n",
    "print('\\n cutting off top 1%: \\n', nw['num_offenses'].loc[nw['num_offenses']< nw['num_offenses'].quantile(.99)].describe())\n",
    "\n",
    "#nw.loc[nw['num_offenses']<30].hist(column='num_offenses', bins=15)"
   ]
  },
  {
   "cell_type": "code",
   "execution_count": 14,
   "metadata": {},
   "outputs": [],
   "source": [
    "### number of unique people, offenses\n",
    "Number_People = nw['Person ID'].nunique()\n",
    "Number_Juvenile = nw[ (~nw['Age at Offense'].isnull()) & (nw['Age at Offense']<21)]['Person ID'].nunique()\n",
    "Percent_Juvenile = \"{:.2%}\".format(Number_Juvenile/Number_People)\n",
    "Number_Adult = nw[ (~nw['Age at Offense'].isnull()) & (nw['Age at Offense']>=21)]['Person ID'].nunique()\n",
    "Percent_Adult = \"{:.2%}\".format(Number_Adult/Number_People)\n",
    "\n",
    "Number_18 = nw[ (~nw['Age at Offense'].isnull()) & (nw['Age at Offense']<18)]['Person ID'].nunique()\n",
    "Percent_18 = \"{:.2%}\".format(Number_18/Number_People)\n",
    "\n",
    "ind_one_off = nw[nw['num_offenses']==1]['Person ID'].nunique()\n",
    "ind_one_inc = nw[nw['Incidents']==1]['Person ID'].nunique()\n",
    "\n",
    "off_one_off = nw[nw['num_offenses']==1].shape[0]\n",
    "inc_one_inc = nw[nw['Incidents']==1].groupby(['Person ID', 'Offense Date']).ngroups\n",
    "\n",
    "Juvenile_one_off = nw[(nw['num_offenses']==1) & \n",
    "                      (~nw['Age at Offense'].isnull()) & \n",
    "                      (nw['Age at Offense']<21) ]['Person ID'].nunique()\n",
    "\n",
    "Juvenile_one_off_18 = nw[(nw['num_offenses']==1) & \n",
    "                      (~nw['Age at Offense'].isnull()) & \n",
    "                      (nw['Age at Offense']<18) ]['Person ID'].nunique()"
   ]
  },
  {
   "cell_type": "code",
   "execution_count": 15,
   "metadata": {},
   "outputs": [
    {
     "data": {
      "text/html": [
       "<style  type=\"text/css\" >\n",
       "</style><table id=\"T_ad96ece3_372c_11eb_8cf5_3c58c26e239a\" ><thead>    <tr>        <th class=\"blank level0\" ></th>        <th class=\"col_heading level0 col0\" >Number</th>        <th class=\"col_heading level0 col1\" >% total individuals</th>    </tr>    <tr>        <th class=\"index_name level0\" >Question</th>        <th class=\"blank\" ></th>        <th class=\"blank\" ></th>    </tr></thead><tbody>\n",
       "                <tr>\n",
       "                        <th id=\"T_ad96ece3_372c_11eb_8cf5_3c58c26e239alevel0_row0\" class=\"row_heading level0 row0\" >Total individuals</th>\n",
       "                        <td id=\"T_ad96ece3_372c_11eb_8cf5_3c58c26e239arow0_col0\" class=\"data row0 col0\" >19,517</td>\n",
       "                        <td id=\"T_ad96ece3_372c_11eb_8cf5_3c58c26e239arow0_col1\" class=\"data row0 col1\" >None</td>\n",
       "            </tr>\n",
       "            <tr>\n",
       "                        <th id=\"T_ad96ece3_372c_11eb_8cf5_3c58c26e239alevel0_row1\" class=\"row_heading level0 row1\" >Individuals with a single offense</th>\n",
       "                        <td id=\"T_ad96ece3_372c_11eb_8cf5_3c58c26e239arow1_col0\" class=\"data row1 col0\" >4,988</td>\n",
       "                        <td id=\"T_ad96ece3_372c_11eb_8cf5_3c58c26e239arow1_col1\" class=\"data row1 col1\" >25.56%</td>\n",
       "            </tr>\n",
       "            <tr>\n",
       "                        <th id=\"T_ad96ece3_372c_11eb_8cf5_3c58c26e239alevel0_row2\" class=\"row_heading level0 row2\" >Individuals with a single incident</th>\n",
       "                        <td id=\"T_ad96ece3_372c_11eb_8cf5_3c58c26e239arow2_col0\" class=\"data row2 col0\" >13,112</td>\n",
       "                        <td id=\"T_ad96ece3_372c_11eb_8cf5_3c58c26e239arow2_col1\" class=\"data row2 col1\" >67.18%</td>\n",
       "            </tr>\n",
       "            <tr>\n",
       "                        <th id=\"T_ad96ece3_372c_11eb_8cf5_3c58c26e239alevel0_row3\" class=\"row_heading level0 row3\" >Total individuals >= 21*</th>\n",
       "                        <td id=\"T_ad96ece3_372c_11eb_8cf5_3c58c26e239arow3_col0\" class=\"data row3 col0\" >17,193</td>\n",
       "                        <td id=\"T_ad96ece3_372c_11eb_8cf5_3c58c26e239arow3_col1\" class=\"data row3 col1\" >88.09%</td>\n",
       "            </tr>\n",
       "            <tr>\n",
       "                        <th id=\"T_ad96ece3_372c_11eb_8cf5_3c58c26e239alevel0_row4\" class=\"row_heading level0 row4\" >Total individuals < 21*</th>\n",
       "                        <td id=\"T_ad96ece3_372c_11eb_8cf5_3c58c26e239arow4_col0\" class=\"data row4 col0\" >2,770</td>\n",
       "                        <td id=\"T_ad96ece3_372c_11eb_8cf5_3c58c26e239arow4_col1\" class=\"data row4 col1\" >14.19%</td>\n",
       "            </tr>\n",
       "            <tr>\n",
       "                        <th id=\"T_ad96ece3_372c_11eb_8cf5_3c58c26e239alevel0_row5\" class=\"row_heading level0 row5\" >Individuals < 21 with a single offense</th>\n",
       "                        <td id=\"T_ad96ece3_372c_11eb_8cf5_3c58c26e239arow5_col0\" class=\"data row5 col0\" >708</td>\n",
       "                        <td id=\"T_ad96ece3_372c_11eb_8cf5_3c58c26e239arow5_col1\" class=\"data row5 col1\" >3.63%</td>\n",
       "            </tr>\n",
       "            <tr>\n",
       "                        <th id=\"T_ad96ece3_372c_11eb_8cf5_3c58c26e239alevel0_row6\" class=\"row_heading level0 row6\" >Total individuals < 18*</th>\n",
       "                        <td id=\"T_ad96ece3_372c_11eb_8cf5_3c58c26e239arow6_col0\" class=\"data row6 col0\" >795</td>\n",
       "                        <td id=\"T_ad96ece3_372c_11eb_8cf5_3c58c26e239arow6_col1\" class=\"data row6 col1\" >4.07%</td>\n",
       "            </tr>\n",
       "            <tr>\n",
       "                        <th id=\"T_ad96ece3_372c_11eb_8cf5_3c58c26e239alevel0_row7\" class=\"row_heading level0 row7\" >Individuals < 18 with a single offense</th>\n",
       "                        <td id=\"T_ad96ece3_372c_11eb_8cf5_3c58c26e239arow7_col0\" class=\"data row7 col0\" >221</td>\n",
       "                        <td id=\"T_ad96ece3_372c_11eb_8cf5_3c58c26e239arow7_col1\" class=\"data row7 col1\" >1.13%</td>\n",
       "            </tr>\n",
       "    </tbody></table>"
      ],
      "text/plain": [
       "<pandas.io.formats.style.Styler at 0x19b863eb2b0>"
      ]
     },
     "execution_count": 15,
     "metadata": {},
     "output_type": "execute_result"
    }
   ],
   "source": [
    "total = ['Total individuals', Number_People]\n",
    "oneoff = ['Individuals with a single offense', ind_one_off , '{:,.2%}'.format(ind_one_off/Number_People)]\n",
    "oneinc = ['Individuals with a single incident', ind_one_inc, '{:,.2%}'.format(ind_one_inc/Number_People)]\n",
    "\n",
    "\n",
    "\n",
    "adult = ['Total individuals >= 21*',Number_Adult, Percent_Adult]\n",
    "juvenile = ['Total individuals < 21*', Number_Juvenile, Percent_Juvenile]\n",
    "juv_one_off = ['Individuals < 21 with a single offense', Juvenile_one_off, '{:,.2%}'.format(Juvenile_one_off/Number_People)]        \n",
    "under18 = ['Total individuals < 18*', Number_18, Percent_18]\n",
    "u18_one_off = ['Individuals < 18 with a single offense', Juvenile_one_off_18, '{:,.2%}'.format(Juvenile_one_off_18/Number_People)]  \n",
    "         \n",
    "stats = [total, oneoff, oneinc, adult, juvenile, juv_one_off, under18, u18_one_off]\n",
    "statsdf = pd.DataFrame(stats, columns = ['Question', 'Number', '% total individuals'])\n",
    "statsdf = statsdf.set_index('Question')\n",
    "statsdf\n",
    "statsdf.style.format({'Number' : '{:,}'})"
   ]
  },
  {
   "cell_type": "code",
   "execution_count": 16,
   "metadata": {},
   "outputs": [],
   "source": [
    "# offenses related to sex or murder\n",
    "Nu_tot = nw['Charge'].count()\n",
    "Incidents_tot = nw.groupby(['Person ID', 'Offense Date']).ngroups\n",
    "\n",
    "Nu_sex = nw[nw['sex'] == 1]['sex'].count()\n",
    "Nu_murder = nw[nw['murder'] == 1]['murder'].count()\n",
    "Nu_sex_murder = nw[nw['Incident_Murder_Sex']  == 1]['Incident_Murder_Sex'].count()\n",
    "Nu_sex_murder_inc = nw[nw['Incident_Murder_Sex']  == 1].groupby(['Person ID', 'Offense Date']).ngroups\n",
    "\n",
    "Percent_sex = \"{:.2%}\".format(Nu_sex / Nu_tot )\n",
    "Percent_murder = \"{:.2%}\".format(Nu_murder / Nu_tot )\n",
    "Percent_incident_sex_murder = \"{:.2%}\".format(Nu_sex_murder_inc / Incidents_tot)"
   ]
  },
  {
   "cell_type": "code",
   "execution_count": 17,
   "metadata": {},
   "outputs": [
    {
     "data": {
      "text/html": [
       "<style  type=\"text/css\" >\n",
       "</style><table id=\"T_ada10334_372c_11eb_a580_3c58c26e239a\" ><thead>    <tr>        <th class=\"blank level0\" ></th>        <th class=\"col_heading level0 col0\" >Number</th>        <th class=\"col_heading level0 col1\" >% total offenses</th>        <th class=\"col_heading level0 col2\" >% total incidents</th>    </tr>    <tr>        <th class=\"index_name level0\" >Offense and Incident Stats</th>        <th class=\"blank\" ></th>        <th class=\"blank\" ></th>        <th class=\"blank\" ></th>    </tr></thead><tbody>\n",
       "                <tr>\n",
       "                        <th id=\"T_ada10334_372c_11eb_a580_3c58c26e239alevel0_row0\" class=\"row_heading level0 row0\" >Total offenses</th>\n",
       "                        <td id=\"T_ada10334_372c_11eb_a580_3c58c26e239arow0_col0\" class=\"data row0 col0\" >74,164</td>\n",
       "                        <td id=\"T_ada10334_372c_11eb_a580_3c58c26e239arow0_col1\" class=\"data row0 col1\" >None</td>\n",
       "                        <td id=\"T_ada10334_372c_11eb_a580_3c58c26e239arow0_col2\" class=\"data row0 col2\" >None</td>\n",
       "            </tr>\n",
       "            <tr>\n",
       "                        <th id=\"T_ada10334_372c_11eb_a580_3c58c26e239alevel0_row1\" class=\"row_heading level0 row1\" >Total incidents</th>\n",
       "                        <td id=\"T_ada10334_372c_11eb_a580_3c58c26e239arow1_col0\" class=\"data row1 col0\" >33,069</td>\n",
       "                        <td id=\"T_ada10334_372c_11eb_a580_3c58c26e239arow1_col1\" class=\"data row1 col1\" >None</td>\n",
       "                        <td id=\"T_ada10334_372c_11eb_a580_3c58c26e239arow1_col2\" class=\"data row1 col2\" >None</td>\n",
       "            </tr>\n",
       "            <tr>\n",
       "                        <th id=\"T_ada10334_372c_11eb_a580_3c58c26e239alevel0_row2\" class=\"row_heading level0 row2\" >Offenses committed by individuals with one offense</th>\n",
       "                        <td id=\"T_ada10334_372c_11eb_a580_3c58c26e239arow2_col0\" class=\"data row2 col0\" >4,988</td>\n",
       "                        <td id=\"T_ada10334_372c_11eb_a580_3c58c26e239arow2_col1\" class=\"data row2 col1\" >6.73%</td>\n",
       "                        <td id=\"T_ada10334_372c_11eb_a580_3c58c26e239arow2_col2\" class=\"data row2 col2\" >15.08%</td>\n",
       "            </tr>\n",
       "            <tr>\n",
       "                        <th id=\"T_ada10334_372c_11eb_a580_3c58c26e239alevel0_row3\" class=\"row_heading level0 row3\" >Incidents committed by individuals with one incident</th>\n",
       "                        <td id=\"T_ada10334_372c_11eb_a580_3c58c26e239arow3_col0\" class=\"data row3 col0\" >13,112</td>\n",
       "                        <td id=\"T_ada10334_372c_11eb_a580_3c58c26e239arow3_col1\" class=\"data row3 col1\" ></td>\n",
       "                        <td id=\"T_ada10334_372c_11eb_a580_3c58c26e239arow3_col2\" class=\"data row3 col2\" >39.65%</td>\n",
       "            </tr>\n",
       "            <tr>\n",
       "                        <th id=\"T_ada10334_372c_11eb_a580_3c58c26e239alevel0_row4\" class=\"row_heading level0 row4\" >Sex offenses</th>\n",
       "                        <td id=\"T_ada10334_372c_11eb_a580_3c58c26e239arow4_col0\" class=\"data row4 col0\" >1,489</td>\n",
       "                        <td id=\"T_ada10334_372c_11eb_a580_3c58c26e239arow4_col1\" class=\"data row4 col1\" >2.01%</td>\n",
       "                        <td id=\"T_ada10334_372c_11eb_a580_3c58c26e239arow4_col2\" class=\"data row4 col2\" >None</td>\n",
       "            </tr>\n",
       "            <tr>\n",
       "                        <th id=\"T_ada10334_372c_11eb_a580_3c58c26e239alevel0_row5\" class=\"row_heading level0 row5\" >Murder offenses</th>\n",
       "                        <td id=\"T_ada10334_372c_11eb_a580_3c58c26e239arow5_col0\" class=\"data row5 col0\" >148</td>\n",
       "                        <td id=\"T_ada10334_372c_11eb_a580_3c58c26e239arow5_col1\" class=\"data row5 col1\" >0.20%</td>\n",
       "                        <td id=\"T_ada10334_372c_11eb_a580_3c58c26e239arow5_col2\" class=\"data row5 col2\" >None</td>\n",
       "            </tr>\n",
       "            <tr>\n",
       "                        <th id=\"T_ada10334_372c_11eb_a580_3c58c26e239alevel0_row6\" class=\"row_heading level0 row6\" >Incidents with sex or murder offenses</th>\n",
       "                        <td id=\"T_ada10334_372c_11eb_a580_3c58c26e239arow6_col0\" class=\"data row6 col0\" >680</td>\n",
       "                        <td id=\"T_ada10334_372c_11eb_a580_3c58c26e239arow6_col1\" class=\"data row6 col1\" ></td>\n",
       "                        <td id=\"T_ada10334_372c_11eb_a580_3c58c26e239arow6_col2\" class=\"data row6 col2\" >2.06%</td>\n",
       "            </tr>\n",
       "    </tbody></table>"
      ],
      "text/plain": [
       "<pandas.io.formats.style.Styler at 0x19b86a86370>"
      ]
     },
     "execution_count": 17,
     "metadata": {},
     "output_type": "execute_result"
    }
   ],
   "source": [
    "off_one_off1 = ['Offenses committed by individuals with one offense', off_one_off, '{:,.2%}'.format(off_one_off/Nu_tot), '{:,.2%}'.format(off_one_off/Incidents_tot)]\n",
    "inc_one_inc1 = ['Incidents committed by individuals with one incident', inc_one_inc, '', '{:,.2%}'.format(inc_one_inc/Incidents_tot)]\n",
    "\n",
    "sex_offenses = ['Sex offenses', Nu_sex, Percent_sex]\n",
    "murder = ['Murder offenses', Nu_murder, Percent_murder]\n",
    "sex_murder = ['Incidents with sex or murder offenses', Nu_sex_murder_inc,'', Percent_incident_sex_murder]\n",
    "incidents = ['Total incidents', Incidents_tot]\n",
    "offenses = ['Total offenses', Nu_tot]\n",
    "\n",
    "stats = [offenses, incidents, off_one_off1, inc_one_inc1, sex_offenses, murder, sex_murder]\n",
    "statsdf = pd.DataFrame(stats, columns = ['Offense and Incident Stats','Number', '% total offenses', '% total incidents'])\n",
    "statsdf = statsdf.set_index('Offense and Incident Stats')\n",
    "\n",
    "statsdf.style.format({'Number' : '{:,}'})"
   ]
  },
  {
   "cell_type": "markdown",
   "metadata": {},
   "source": [
    "# Analysis\n",
    "For all questions, we assume 'attempts' are eligible for expungement. They are highly infrequent, and we do not have sufficient information in most cases to determine actual eligiblity. \n",
    "Changing \"expungeable == 'yes'\" would reverse this and make attempts ineligible. "
   ]
  },
  {
   "cell_type": "markdown",
   "metadata": {},
   "source": [
    "## Question 1\n",
    "- How many people are eligible for expungement today? \n",
    "    - ---> *Only one charge*, Offense committed before 21st birthday, charge is not part of the list of ineligible offenses (per section 100J), charge is in the correct timeframe from today's date\n",
    "\n",
    "We don't have misdemeanor / felony info, so will show the # that are more than 3 or more than 7 years from today.\n",
    "\n",
    "----"
   ]
  },
  {
   "cell_type": "code",
   "execution_count": 18,
   "metadata": {},
   "outputs": [],
   "source": [
    "def date_range(x):\n",
    "    greater3 = x.loc[(x['years_since_offense'] > 3)]['Person ID'].nunique()\n",
    "    greater7 = x.loc[(x['years_since_offense'] > 7)]['Person ID'].nunique()\n",
    "\n",
    "    print(greater3, \"occured more than 3 years before\", reference_date)\n",
    "    print(greater7, \"occured more than 7 years before\", reference_date)\n",
    "    \n",
    "def eligible_juvs(y):\n",
    "    People_eligible = y['Person ID'].nunique()\n",
    "    pct_juv = '{:.2%}'.format(People_eligible/Number_Juvenile)\n",
    "    return People_eligible , pct_juv\n",
    "    \n",
    "def eligible_all_ages(y):\n",
    "    People_eligible = y['Person ID'].nunique()\n",
    "    pct_tot = '{:.2%}'.format(People_eligible/Number_People)\n",
    "    return People_eligible, pct_tot"
   ]
  },
  {
   "cell_type": "code",
   "execution_count": 19,
   "metadata": {},
   "outputs": [
    {
     "name": "stdout",
     "output_type": "stream",
     "text": [
      "('q1', 'Eligible today: single eligible offense', (525, '18.95%'))\n",
      "367 occured more than 3 years before 2020-09-01\n",
      "10 occured more than 7 years before 2020-09-01\n",
      "\n",
      "Dispositions: \n",
      "\n",
      " c276s87 finding                     151\n",
      "Dismissed at Request of Comm         92\n",
      "Responsible                          75\n",
      "Nolle Prosequi                       47\n",
      "Dismissed Prior to Arraignment       41\n",
      "Dismissed                            31\n",
      "Continued w/o Finding                25\n",
      "Dismissed on Payment                 25\n",
      "NaN                                  24\n",
      "Guilty                                4\n",
      "Delinquent                            3\n",
      "Charge Handled as a Civil Charge      3\n",
      "Dismissed by Court                    3\n",
      "Responsible Filed                     1\n",
      "Name: Disposition, dtype: int64\n"
     ]
    }
   ],
   "source": [
    "# Single eligible offense; under 21\n",
    "x = nw.loc[\n",
    "    (nw['num_offenses']==1) &\n",
    "    (nw['Expungeable'] != 'No') &\n",
    "    (nw['Age at Offense']<21)\n",
    "]\n",
    "\n",
    "q1 = 'q1', 'Eligible today: single eligible offense', eligible_juvs(x)\n",
    "print(q1)\n",
    "\n",
    "date_range(x)\n",
    "\n",
    "print(\"\\nDispositions: \\n\\n\", x.Disposition.value_counts(dropna=False))"
   ]
  },
  {
   "cell_type": "code",
   "execution_count": 20,
   "metadata": {},
   "outputs": [
    {
     "name": "stdout",
     "output_type": "stream",
     "text": [
      "# and % with single eligible offense of all ages:  (3538, '18.13%')\n"
     ]
    }
   ],
   "source": [
    "# Single eligible offense; all ages\n",
    "x = nw.loc[\n",
    "    (nw['num_offenses']==1) &\n",
    "    (nw['Expungeable'] != 'No') \n",
    "]\n",
    "\n",
    "print(\"# and % with single eligible offense of all ages: \", eligible_all_ages(x))\n",
    "\n",
    "#add all ages to q1\n",
    "q1 = q1, eligible_all_ages(x)"
   ]
  },
  {
   "cell_type": "markdown",
   "metadata": {},
   "source": [
    "## Question 2: incidents rather than offenses"
   ]
  },
  {
   "cell_type": "markdown",
   "metadata": {},
   "source": [
    "Luke Schissler & Laura Feeney\n",
    "\n",
    "2. How many people (under age 21) would be eligible based on only having **one incident** (which could include multiple charges) that are not part of the list of ineligible offenses?\n",
    " - 2a. How many people (under age 21) would be eligible based on only having **one incident** if only sex-based offenses or murder were excluded from expungement?\n",
    "\n",
    "\n",
    "Making the assumption based on the 06/26/20 meeting notes that an 'incident' is defined as the sum of all charges for an individual on a single day. In theory, someone could probably be charged in two separate instances on a single day, but this is likely rare. \n",
    "\n",
    "For this analysis, we assume that a single non-expungeable offense under the bundle of the incident makes the entire incident non-expungeable. Same for the analysis of murder or sex crimes."
   ]
  },
  {
   "cell_type": "markdown",
   "metadata": {},
   "source": [
    "### How many people (under age 21) would be eligible based on only having one incident (which could include multiple charges) that are not part of the list of ineligible offenses?"
   ]
  },
  {
   "cell_type": "code",
   "execution_count": 21,
   "metadata": {},
   "outputs": [
    {
     "name": "stdout",
     "output_type": "stream",
     "text": [
      "('q2', 'Single incident: no offenses ineligible', (1198, '43.25%'))\n",
      "823 occured more than 3 years before 2020-09-01\n",
      "21 occured more than 7 years before 2020-09-01\n",
      "\n",
      "Dispositions: \n",
      "\n",
      " Dismissed at Request of Comm        505\n",
      "c276s87 finding                     447\n",
      "Nolle Prosequi                      240\n",
      "Continued w/o Finding               221\n",
      "Responsible                         207\n",
      "Not Responsible                     201\n",
      "Dismissed Prior to Arraignment      152\n",
      "Dismissed                           112\n",
      "NaN                                  98\n",
      "Dismissed on Payment                 84\n",
      "Guilty                               32\n",
      "Delinquent                           14\n",
      "Dismissed by Court                   14\n",
      "Responsible Filed                    13\n",
      "Found Incompetent                     8\n",
      "DYS Committed                         5\n",
      "Charge Handled as a Civil Charge      5\n",
      "Delinquent Filed                      3\n",
      "Dismissed prior to complaint          3\n",
      "CLOSED-NO CHARGES                     3\n",
      "Unagreed Plea                         1\n",
      "Guilty Filed                          1\n",
      "Name: Disposition, dtype: int64\n"
     ]
    }
   ],
   "source": [
    "# Find how many people whose offenses fall into a single incident, where all the offenses are expungeable \n",
    "\n",
    "x = nw.loc[\n",
    "    (nw['Incidents'] == 1) &\n",
    "    (nw['Inc_Expungeable_Attempts_Are'] == True) &\n",
    "    (nw['Age at Offense']<21) \n",
    "]\n",
    "\n",
    "q2 = 'q2', 'Single incident: no offenses ineligible', eligible_juvs(x)\n",
    "print(q2)\n",
    "\n",
    "date_range(x)\n",
    "\n",
    "print(\"\\nDispositions: \\n\\n\", x.Disposition.value_counts(dropna=False))"
   ]
  },
  {
   "cell_type": "code",
   "execution_count": 22,
   "metadata": {},
   "outputs": [
    {
     "name": "stdout",
     "output_type": "stream",
     "text": [
      "(('q2', 'Single incident: no offenses ineligible', (1198, '43.25%')), (8380, '42.94%'))\n"
     ]
    }
   ],
   "source": [
    "# Compare the above for full file.\n",
    "#  how many offenses fall into a single incident, where all the offenses are expungeable \n",
    "\n",
    "x = nw.loc[\n",
    "    (nw['Incidents'] == 1) &\n",
    "    (nw['Inc_Expungeable_Attempts_Are'] == True) \n",
    "]\n",
    "\n",
    "#add all ages\n",
    "q2 = q2, eligible_all_ages(x)\n",
    "print(q2)"
   ]
  },
  {
   "cell_type": "markdown",
   "metadata": {},
   "source": [
    "### 2b - How many would be eligible if we only limited to only exclude sex-based offenses or murder?\n",
    "**Limiting to those with one incident**"
   ]
  },
  {
   "cell_type": "code",
   "execution_count": 23,
   "metadata": {},
   "outputs": [
    {
     "name": "stdout",
     "output_type": "stream",
     "text": [
      "('q2b', 'Single incident: no offenses related to sex or murder', (1699, '61.34%'))\n",
      "1187 occured more than 3 years before 2020-09-01\n",
      "27 occured more than 7 years before 2020-09-01\n",
      "\n",
      "Top 10 Dispositions: \n",
      "\n",
      " Dismissed at Request of Comm      744\n",
      "c276s87 finding                   652\n",
      "Continued w/o Finding             454\n",
      "Nolle Prosequi                    439\n",
      "Not Responsible                   344\n",
      "Responsible                       234\n",
      "Dismissed Prior to Arraignment    193\n",
      "Dismissed                         140\n",
      "NaN                               132\n",
      "Dismissed on Payment               88\n",
      "Name: Disposition, dtype: int64\n"
     ]
    }
   ],
   "source": [
    "x = nw.loc[\n",
    "    (nw['Incidents'] == 1) &\n",
    "    (nw['Incident_Murder_Sex'] == 0) &\n",
    "    (nw['Age at Offense']<21) \n",
    "]\n",
    "\n",
    "q2b = 'q2b', 'Single incident: no offenses related to sex or murder', eligible_juvs(x)\n",
    "print(q2b)\n",
    "\n",
    "date_range(x)\n",
    "\n",
    "print(\"\\nTop 10 Dispositions: \\n\\n\", x.Disposition.value_counts(dropna=False)[0:10])"
   ]
  },
  {
   "cell_type": "code",
   "execution_count": 24,
   "metadata": {},
   "outputs": [],
   "source": [
    "#all ages\n",
    "x = nw.loc[\n",
    "    (nw['Incidents'] == 1) &\n",
    "    (nw['Incident_Murder_Sex'] == 0)\n",
    "]\n",
    "q2b = q2b, eligible_all_ages(x)"
   ]
  },
  {
   "cell_type": "markdown",
   "metadata": {},
   "source": [
    "### Not limiting by number of incidents"
   ]
  },
  {
   "cell_type": "code",
   "execution_count": 25,
   "metadata": {},
   "outputs": [
    {
     "name": "stdout",
     "output_type": "stream",
     "text": [
      "('q2b2', 'Any incident: no offenses related to sex or murder', (2709, '97.80%'))\n"
     ]
    }
   ],
   "source": [
    "x = nw.loc[\n",
    "    (nw['Incident_Murder_Sex'] == 0) &\n",
    "    (nw['Age at Offense']<21) \n",
    "]\n",
    "\n",
    "q2b2 = 'q2b2', 'Any incident: no offenses related to sex or murder', eligible_juvs(x)\n",
    "print(q2b2)\n",
    "\n",
    "x = nw.loc[\n",
    "    (nw['Incident_Murder_Sex'] == 0) \n",
    "]\n",
    "q2b2 = q2b2, eligible_all_ages(x)\n",
    "#print(\"\\nTop 10 Dispositions: \\n\\n\", x.Disposition.value_counts(dropna=False)[0:10])"
   ]
  },
  {
   "cell_type": "markdown",
   "metadata": {},
   "source": [
    "## Question 3: Verdict as Determiner"
   ]
  },
  {
   "cell_type": "markdown",
   "metadata": {},
   "source": [
    "**Question 3a** -  How many would be eligible based on who has not been found guilty (given current offenses that are eligible for expungement)?\n",
    "\n",
    "'Guilty' is defined above in section 0.5"
   ]
  },
  {
   "cell_type": "code",
   "execution_count": 26,
   "metadata": {},
   "outputs": [
    {
     "name": "stdout",
     "output_type": "stream",
     "text": [
      "('q3', 'Single incident: no ineligible offenses; no guilty dispositions', (640, '23.10%'))\n",
      "(('q3', 'Single incident: no ineligible offenses; no guilty dispositions', (640, '23.10%')), (5034, '25.79%'))\n"
     ]
    }
   ],
   "source": [
    "# Find how many people are eligble for expungement if they have a single incident, in which all the offenses are \n",
    "# expungeable, and none have a guilty verdict. \n",
    "\n",
    "x = nw.loc[\n",
    "    (nw['Incidents'] == 1) &\n",
    "    (nw['Inc_Expungeable_Attempts_Are'] == True) &\n",
    "    (nw['Incident_Guilty'] == False) &\n",
    "    (nw['Age at Offense']<21)\n",
    "]\n",
    "\n",
    "q3 = 'q3', 'Single incident: no ineligible offenses; no guilty dispositions', eligible_juvs(x)\n",
    "print(q3)\n",
    "\n",
    "#All ages\n",
    "x = nw.loc[\n",
    "    (nw['Incidents'] == 1) &\n",
    "    (nw['Inc_Expungeable_Attempts_Are'] == True) &\n",
    "    (nw['Incident_Guilty'] == False)\n",
    "]\n",
    "\n",
    "q3 = q3, eligible_all_ages(x)\n",
    "print(q3)"
   ]
  },
  {
   "cell_type": "code",
   "execution_count": 27,
   "metadata": {},
   "outputs": [
    {
     "name": "stdout",
     "output_type": "stream",
     "text": [
      "('q3a', 'Any incident: no ineligible offenses; no guilty dispositions', (1200, '43.32%'))\n",
      "(('q3a', 'Any incident: no ineligible offenses; no guilty dispositions', (1200, '43.32%')), (9038, '46.31%'))\n"
     ]
    }
   ],
   "source": [
    "# Any incident in which no offenses have a guilty verdict and no offenses are ineligible for expungement\n",
    "\n",
    "x = nw.loc[\n",
    "    (nw['Inc_Expungeable_Attempts_Are'] == True) &\n",
    "    (nw['Incident_Guilty'] == False) &\n",
    "    (nw['Age at Offense']<21)\n",
    "]\n",
    "\n",
    "q3a = 'q3a', 'Any incident: no ineligible offenses; no guilty dispositions', eligible_juvs(x)\n",
    "print(q3a)\n",
    "\n",
    "x.Disposition.value_counts(dropna=False)\n",
    "\n",
    "# All Ages\n",
    "x = nw.loc[\n",
    "    (nw['Inc_Expungeable_Attempts_Are'] == True) &\n",
    "    (nw['Incident_Guilty'] == False)\n",
    "]\n",
    "q3a = q3a, eligible_all_ages(x)\n",
    "print(q3a)"
   ]
  },
  {
   "cell_type": "markdown",
   "metadata": {},
   "source": [
    "Repeating the above, but using incidents rather than offenses. "
   ]
  },
  {
   "cell_type": "markdown",
   "metadata": {},
   "source": [
    "**Question 3b** -  How many would be eligible based on who has not been found guilty, except murder or sex offenses?\n"
   ]
  },
  {
   "cell_type": "code",
   "execution_count": 28,
   "metadata": {},
   "outputs": [
    {
     "name": "stdout",
     "output_type": "stream",
     "text": [
      "('q3b', 'Single incident: no offenses related to sex or murder, no guilty dispositions', (956, '34.51%'))\n",
      "(('q3b', 'Single incident: no offenses related to sex or murder, no guilty dispositions', (956, '34.51%')), (7839, '40.16%'))\n"
     ]
    }
   ],
   "source": [
    "#Find out how many people would be eligible if they have a single incident, in which all the charges are unrelated to\n",
    "#sex or murder, and all charges have a disposition other than guilty. \n",
    "\n",
    "x = nw.loc[\n",
    "    (nw['Incidents'] == 1) &\n",
    "    (nw['Incident_Guilty'] == False) &\n",
    "    (nw['Incident_Murder_Sex'] == False) &\n",
    "    (nw['Age at Offense']<21) \n",
    "]\n",
    "\n",
    "q3b = 'q3b', 'Single incident: no offenses related to sex or murder, no guilty dispositions', eligible_juvs(x)\n",
    "print(q3b)\n",
    "\n",
    "#all ages\n",
    "x = nw.loc[\n",
    "    (nw['Incidents'] == 1) &\n",
    "    (nw['Incident_Guilty'] == False) &\n",
    "    (nw['Incident_Murder_Sex'] == False) \n",
    "]\n",
    "q3b = q3b, eligible_all_ages(x)\n",
    "print(q3b)"
   ]
  },
  {
   "cell_type": "code",
   "execution_count": 29,
   "metadata": {},
   "outputs": [
    {
     "name": "stdout",
     "output_type": "stream",
     "text": [
      "('q3b1', 'Any incident: no offenses related to sex or murder, no guilty dispositions', (1729, '62.42%'))\n",
      "(('q3b1', 'Any incident: no offenses related to sex or murder, no guilty dispositions', (1729, '62.42%')), (13141, '67.33%'))\n"
     ]
    }
   ],
   "source": [
    "#Remove incident limitation. People with any incident in which no charges are related to sex or murder nor are found guilty.\n",
    "\n",
    "x = nw.loc[\n",
    "    (nw['Incident_Guilty'] == False) &\n",
    "    (nw['Incident_Murder_Sex'] == False) &\n",
    "    (nw['Age at Offense']<21) \n",
    "]\n",
    "\n",
    "q3b1 = 'q3b1', 'Any incident: no offenses related to sex or murder, no guilty dispositions', eligible_juvs(x)\n",
    "print(q3b1)\n",
    "\n",
    "#all ages\n",
    "x = nw.loc[\n",
    "    (nw['Incident_Guilty'] == False) &\n",
    "    (nw['Incident_Murder_Sex'] == False) \n",
    "]\n",
    "q3b1 = q3b1, eligible_all_ages(x)\n",
    "print(q3b1)"
   ]
  },
  {
   "cell_type": "code",
   "execution_count": 30,
   "metadata": {},
   "outputs": [
    {
     "data": {
      "text/html": [
       "<style  type=\"text/css\" >\n",
       "</style><table id=\"T_addd1975_372c_11eb_8e55_3c58c26e239a\" ><thead>    <tr>        <th class=\"blank level0\" ></th>        <th class=\"col_heading level0 col0\" >Question</th>        <th class=\"col_heading level0 col1\" >Num Juv</th>        <th class=\"col_heading level0 col2\" >Pct Juv</th>        <th class=\"col_heading level0 col3\" >Num All Ages</th>        <th class=\"col_heading level0 col4\" >Pct All Ages</th>    </tr>    <tr>        <th class=\"index_name level0\" >q</th>        <th class=\"blank\" ></th>        <th class=\"blank\" ></th>        <th class=\"blank\" ></th>        <th class=\"blank\" ></th>        <th class=\"blank\" ></th>    </tr></thead><tbody>\n",
       "                <tr>\n",
       "                        <th id=\"T_addd1975_372c_11eb_8e55_3c58c26e239alevel0_row0\" class=\"row_heading level0 row0\" >q1</th>\n",
       "                        <td id=\"T_addd1975_372c_11eb_8e55_3c58c26e239arow0_col0\" class=\"data row0 col0\" >Eligible today: single eligible offense</td>\n",
       "                        <td id=\"T_addd1975_372c_11eb_8e55_3c58c26e239arow0_col1\" class=\"data row0 col1\" >525</td>\n",
       "                        <td id=\"T_addd1975_372c_11eb_8e55_3c58c26e239arow0_col2\" class=\"data row0 col2\" >18.95%</td>\n",
       "                        <td id=\"T_addd1975_372c_11eb_8e55_3c58c26e239arow0_col3\" class=\"data row0 col3\" >3,538</td>\n",
       "                        <td id=\"T_addd1975_372c_11eb_8e55_3c58c26e239arow0_col4\" class=\"data row0 col4\" >18.13%</td>\n",
       "            </tr>\n",
       "            <tr>\n",
       "                        <th id=\"T_addd1975_372c_11eb_8e55_3c58c26e239alevel0_row1\" class=\"row_heading level0 row1\" >q2</th>\n",
       "                        <td id=\"T_addd1975_372c_11eb_8e55_3c58c26e239arow1_col0\" class=\"data row1 col0\" >Single incident: no offenses ineligible</td>\n",
       "                        <td id=\"T_addd1975_372c_11eb_8e55_3c58c26e239arow1_col1\" class=\"data row1 col1\" >1,198</td>\n",
       "                        <td id=\"T_addd1975_372c_11eb_8e55_3c58c26e239arow1_col2\" class=\"data row1 col2\" >43.25%</td>\n",
       "                        <td id=\"T_addd1975_372c_11eb_8e55_3c58c26e239arow1_col3\" class=\"data row1 col3\" >8,380</td>\n",
       "                        <td id=\"T_addd1975_372c_11eb_8e55_3c58c26e239arow1_col4\" class=\"data row1 col4\" >42.94%</td>\n",
       "            </tr>\n",
       "            <tr>\n",
       "                        <th id=\"T_addd1975_372c_11eb_8e55_3c58c26e239alevel0_row2\" class=\"row_heading level0 row2\" >q2b</th>\n",
       "                        <td id=\"T_addd1975_372c_11eb_8e55_3c58c26e239arow2_col0\" class=\"data row2 col0\" >Single incident: no offenses related to sex or murder</td>\n",
       "                        <td id=\"T_addd1975_372c_11eb_8e55_3c58c26e239arow2_col1\" class=\"data row2 col1\" >1,699</td>\n",
       "                        <td id=\"T_addd1975_372c_11eb_8e55_3c58c26e239arow2_col2\" class=\"data row2 col2\" >61.34%</td>\n",
       "                        <td id=\"T_addd1975_372c_11eb_8e55_3c58c26e239arow2_col3\" class=\"data row2 col3\" >12,874</td>\n",
       "                        <td id=\"T_addd1975_372c_11eb_8e55_3c58c26e239arow2_col4\" class=\"data row2 col4\" >65.96%</td>\n",
       "            </tr>\n",
       "            <tr>\n",
       "                        <th id=\"T_addd1975_372c_11eb_8e55_3c58c26e239alevel0_row3\" class=\"row_heading level0 row3\" >q2b2</th>\n",
       "                        <td id=\"T_addd1975_372c_11eb_8e55_3c58c26e239arow3_col0\" class=\"data row3 col0\" >Any incident: no offenses related to sex or murder</td>\n",
       "                        <td id=\"T_addd1975_372c_11eb_8e55_3c58c26e239arow3_col1\" class=\"data row3 col1\" >2,709</td>\n",
       "                        <td id=\"T_addd1975_372c_11eb_8e55_3c58c26e239arow3_col2\" class=\"data row3 col2\" >97.80%</td>\n",
       "                        <td id=\"T_addd1975_372c_11eb_8e55_3c58c26e239arow3_col3\" class=\"data row3 col3\" >19,238</td>\n",
       "                        <td id=\"T_addd1975_372c_11eb_8e55_3c58c26e239arow3_col4\" class=\"data row3 col4\" >98.57%</td>\n",
       "            </tr>\n",
       "            <tr>\n",
       "                        <th id=\"T_addd1975_372c_11eb_8e55_3c58c26e239alevel0_row4\" class=\"row_heading level0 row4\" >q3</th>\n",
       "                        <td id=\"T_addd1975_372c_11eb_8e55_3c58c26e239arow4_col0\" class=\"data row4 col0\" >Single incident: no ineligible offenses; no guilty dispositions</td>\n",
       "                        <td id=\"T_addd1975_372c_11eb_8e55_3c58c26e239arow4_col1\" class=\"data row4 col1\" >640</td>\n",
       "                        <td id=\"T_addd1975_372c_11eb_8e55_3c58c26e239arow4_col2\" class=\"data row4 col2\" >23.10%</td>\n",
       "                        <td id=\"T_addd1975_372c_11eb_8e55_3c58c26e239arow4_col3\" class=\"data row4 col3\" >5,034</td>\n",
       "                        <td id=\"T_addd1975_372c_11eb_8e55_3c58c26e239arow4_col4\" class=\"data row4 col4\" >25.79%</td>\n",
       "            </tr>\n",
       "            <tr>\n",
       "                        <th id=\"T_addd1975_372c_11eb_8e55_3c58c26e239alevel0_row5\" class=\"row_heading level0 row5\" >q3a</th>\n",
       "                        <td id=\"T_addd1975_372c_11eb_8e55_3c58c26e239arow5_col0\" class=\"data row5 col0\" >Any incident: no ineligible offenses; no guilty dispositions</td>\n",
       "                        <td id=\"T_addd1975_372c_11eb_8e55_3c58c26e239arow5_col1\" class=\"data row5 col1\" >1,200</td>\n",
       "                        <td id=\"T_addd1975_372c_11eb_8e55_3c58c26e239arow5_col2\" class=\"data row5 col2\" >43.32%</td>\n",
       "                        <td id=\"T_addd1975_372c_11eb_8e55_3c58c26e239arow5_col3\" class=\"data row5 col3\" >9,038</td>\n",
       "                        <td id=\"T_addd1975_372c_11eb_8e55_3c58c26e239arow5_col4\" class=\"data row5 col4\" >46.31%</td>\n",
       "            </tr>\n",
       "            <tr>\n",
       "                        <th id=\"T_addd1975_372c_11eb_8e55_3c58c26e239alevel0_row6\" class=\"row_heading level0 row6\" >q3b</th>\n",
       "                        <td id=\"T_addd1975_372c_11eb_8e55_3c58c26e239arow6_col0\" class=\"data row6 col0\" >Single incident: no offenses related to sex or murder, no guilty dispositions</td>\n",
       "                        <td id=\"T_addd1975_372c_11eb_8e55_3c58c26e239arow6_col1\" class=\"data row6 col1\" >956</td>\n",
       "                        <td id=\"T_addd1975_372c_11eb_8e55_3c58c26e239arow6_col2\" class=\"data row6 col2\" >34.51%</td>\n",
       "                        <td id=\"T_addd1975_372c_11eb_8e55_3c58c26e239arow6_col3\" class=\"data row6 col3\" >7,839</td>\n",
       "                        <td id=\"T_addd1975_372c_11eb_8e55_3c58c26e239arow6_col4\" class=\"data row6 col4\" >40.16%</td>\n",
       "            </tr>\n",
       "            <tr>\n",
       "                        <th id=\"T_addd1975_372c_11eb_8e55_3c58c26e239alevel0_row7\" class=\"row_heading level0 row7\" >q3b1</th>\n",
       "                        <td id=\"T_addd1975_372c_11eb_8e55_3c58c26e239arow7_col0\" class=\"data row7 col0\" >Any incident: no offenses related to sex or murder, no guilty dispositions</td>\n",
       "                        <td id=\"T_addd1975_372c_11eb_8e55_3c58c26e239arow7_col1\" class=\"data row7 col1\" >1,729</td>\n",
       "                        <td id=\"T_addd1975_372c_11eb_8e55_3c58c26e239arow7_col2\" class=\"data row7 col2\" >62.42%</td>\n",
       "                        <td id=\"T_addd1975_372c_11eb_8e55_3c58c26e239arow7_col3\" class=\"data row7 col3\" >13,141</td>\n",
       "                        <td id=\"T_addd1975_372c_11eb_8e55_3c58c26e239arow7_col4\" class=\"data row7 col4\" >67.33%</td>\n",
       "            </tr>\n",
       "    </tbody></table>"
      ],
      "text/plain": [
       "<pandas.io.formats.style.Styler at 0x19b868e67c0>"
      ]
     },
     "execution_count": 30,
     "metadata": {},
     "output_type": "execute_result"
    }
   ],
   "source": [
    "a = [q1, q2, q2b, q2b2, q3, q3a, q3b, q3b1]\n",
    "ans = pd.DataFrame(a)\n",
    "ans = pd.DataFrame(a , columns = ['A', 'B'])\n",
    "ans[['q', 'Question', 'Juv']] = pd.DataFrame(ans['A'].tolist())  \n",
    "ans[['Num Juv', 'Pct Juv']] = pd.DataFrame(ans['Juv'].tolist()) \n",
    "ans[['Num All Ages', 'Pct All Ages']] = pd.DataFrame(ans['B'].tolist())  \n",
    "ans = ans[['q', 'Question', 'Num Juv', 'Pct Juv', 'Num All Ages', 'Pct All Ages']].set_index('q')\n",
    "ans.style.format({'Num Juv':'{:,}', 'Num All Ages':'{:,}'})"
   ]
  },
  {
   "cell_type": "markdown",
   "metadata": {},
   "source": [
    "## Summary info\n",
    "Top 10 offenses etc"
   ]
  },
  {
   "cell_type": "code",
   "execution_count": 31,
   "metadata": {},
   "outputs": [
    {
     "data": {
      "text/plain": [
       "<matplotlib.axes._subplots.AxesSubplot at 0x19b8765b790>"
      ]
     },
     "execution_count": 31,
     "metadata": {},
     "output_type": "execute_result"
    },
    {
     "data": {
      "image/png": "[encoded data removed]",
      "text/plain": [
       "<Figure size 432x288 with 1 Axes>"
      ]
     },
     "metadata": {
      "needs_background": "light"
     },
     "output_type": "display_data"
    }
   ],
   "source": [
    "# TOP TEN OVERALL OFFENSES\n",
    "overall_offenses = nw.groupby(['Charge'])['Charge'].count().reset_index(name='Total Offenses').sort_values(['Total Offenses'], ascending=False)\n",
    "overall_offenses.head(10).sort_values(['Total Offenses'], ascending=True).plot.barh(x='Charge', title='Top Ten Overall Offenses')"
   ]
  },
  {
   "cell_type": "code",
   "execution_count": 32,
   "metadata": {},
   "outputs": [
    {
     "data": {
      "text/plain": [
       "<matplotlib.axes._subplots.AxesSubplot at 0x19b87eec670>"
      ]
     },
     "execution_count": 32,
     "metadata": {},
     "output_type": "execute_result"
    },
    {
     "data": {
      "image/png": "[encoded data removed]",
      "text/plain": [
       "<Figure size 432x288 with 1 Axes>"
      ]
     },
     "metadata": {
      "needs_background": "light"
     },
     "output_type": "display_data"
    }
   ],
   "source": [
    "# TOP TEN JUVENILE OFFENSES\n",
    "juvenile_offenses = nw[(~nw['Age at Offense'].isnull()) & (nw['Age at Offense']<21)].groupby(['Charge'])['Charge'].count().reset_index(name='Total Offenses').sort_values(['Total Offenses'], ascending=False)\n",
    "juvenile_offenses.head(10).sort_values(['Total Offenses'], ascending=True).plot.barh(x='Charge', title='Top Ten Overall Offenses')"
   ]
  },
  {
   "cell_type": "code",
   "execution_count": 33,
   "metadata": {},
   "outputs": [
    {
     "data": {
      "text/plain": [
       "<matplotlib.axes._subplots.AxesSubplot at 0x19b87ec9d60>"
      ]
     },
     "execution_count": 33,
     "metadata": {},
     "output_type": "execute_result"
    },
    {
     "data": {
      "image/png": "[encoded data removed]",
      "text/plain": [
       "<Figure size 432x288 with 1 Axes>"
      ]
     },
     "metadata": {
      "needs_background": "light"
     },
     "output_type": "display_data"
    }
   ],
   "source": [
    "# TOP TEN ADULT OFFENSES\n",
    "adult_offenses = nw[(~nw['Age at Offense'].isnull()) & (nw['Age at Offense']>=21)].groupby(['Charge'])['Charge'].count().reset_index(name='Total Offenses').sort_values(['Total Offenses'], ascending=False)\n",
    "adult_offenses.head(10).sort_values(['Total Offenses'], ascending=True).plot.barh(x='Charge', title='Top Ten Overall Offenses')"
   ]
  }
 ],
 "metadata": {
  "kernelspec": {
   "display_name": "Python 3",
   "language": "python",
   "name": "python3"
  },
  "language_info": {
   "codemirror_mode": {
    "name": "ipython",
    "version": 3
   },
   "file_extension": ".py",
   "mimetype": "text/x-python",
   "name": "python",
   "nbconvert_exporter": "python",
   "pygments_lexer": "ipython3",
   "version": "3.8.3"
  }
 },
 "nbformat": 4,
 "nbformat_minor": 4
}
