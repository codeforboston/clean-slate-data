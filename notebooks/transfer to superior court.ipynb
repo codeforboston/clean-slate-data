{
 "cells": [
  {
   "cell_type": "markdown",
   "metadata": {},
   "source": [
    "# Clean Slate: How do transfers to superior court affect the analysis of how many eligible for expungement\n",
    "> Prepared by [Laura Feeney](https://github.com/laurafeeney) for Code for Boston's [Clean Slate project](https://github.com/codeforboston/clean-slate).\n",
    "\n",
    "## Summary\n",
    "This notebook uses the Northwestern DA data and attempts to identify when a charge might be transferred from District to Superior Court. This appears in the dataset as 2 rows for the same charge, with the same charge and offense date, but different courts and usually different dispositions. Usually, the disposition in district court is 'nolle prosequi'. \n",
    "\n",
    "This could affect the analysis if this apparent duplication of records make it appear that someone has multiple charges within an incident. While charges heard in Superior court are more serious than in District, many are still expungeable. \n",
    "\n",
    "## Result\n",
    "We can only identify these \"transfers\" if the text description of the charge is the same in both District and Superior courts. This occurs about 854 times. There may be other 'transfers' but with a slightly different charge. \n",
    "\n",
    "Removing the transfers we can identify makes absolutely no difference in how many individuals are eligible for exungement in the Northwestern DA data. With better identification of 'transfers', there may be a handful that would newly appear eligible; however, this is likely to be a very low number. \n",
    "\n",
    "This will not impact analysis based on only one incident, or analysis without restriction on number of incidents/charges. "
   ]
  },
  {
   "cell_type": "code",
   "execution_count": 1,
   "metadata": {},
   "outputs": [
    {
     "data": {
      "text/plain": [
       "Yes        55052\n",
       "No         20013\n",
       "Attempt      220\n",
       "Name: Expungeable, dtype: int64"
      ]
     },
     "execution_count": 1,
     "metadata": {},
     "output_type": "execute_result"
    }
   ],
   "source": [
    "import pandas as pd\n",
    "pd.set_option(\"display.max_rows\", 200)\n",
    "import numpy as np\n",
    "import regex as re\n",
    "import glob, os\n",
    "import datetime \n",
    "from datetime import date \n",
    "\n",
    "\n",
    "nw = pd.read_csv('../../data/processed/merged_nw.csv', encoding='cp1252',\n",
    "                    dtype={'Analysis notes':str, 'extra_criteria':str, 'Expungeable': str}) \n",
    "\n",
    "nw = nw.loc[nw['CMRoffense'] == 'no']\n",
    "nw = nw.drop(columns = ['CMRoffense'])\n",
    "\n",
    "nw['Expungeable'].value_counts(dropna=False)"
   ]
  },
  {
   "cell_type": "code",
   "execution_count": 2,
   "metadata": {},
   "outputs": [
    {
     "name": "stdout",
     "output_type": "stream",
     "text": [
      "Dismissed at Request of Comm              13991\n",
      "Nolle Prosequi                            11173\n",
      "Guilty                                    10801\n",
      "Continued w/o Finding                      9138\n",
      "Not Responsible                            8621\n",
      "Responsible                                3948\n",
      "c276s87 finding                            3743\n",
      "Dismissed on Payment                       2952\n",
      "Dismissed                                  2936\n",
      "Dismissed Prior to Arraignment             1054\n",
      "Responsible Filed                           851\n",
      "Not Guilty                                  713\n",
      "Guilty Filed                                626\n",
      "Dismissed by Court                          232\n",
      "Guilty on Lesser Included Offense           183\n",
      "Agreed Plea                                 152\n",
      "Charge Handled as a Civil Charge            145\n",
      "Delinquent                                  121\n",
      "Valor Act Dispo                             108\n",
      "Accord/Satisfaction                         104\n",
      "Case Transferred                             62\n",
      "Unagreed Plea                                43\n",
      "DYS Committed                                25\n",
      "Delinquent Filed                             22\n",
      "DA's Complaint                               18\n",
      "Directed Verdict                             17\n",
      "Dismissed prior to complaint                 11\n",
      "Not Guilty by Reason of Mental Illness       11\n",
      "CLOSED-NO CHARGES                             9\n",
      "CLOSED-INDICTED                               9\n",
      "Found Incompetent                             8\n",
      "Continued/Valor Act                           7\n",
      "Youthful Offender                             6\n",
      "NGI                                           6\n",
      "Required Finding of Not Guilty                3\n",
      "Dismissed - Lack of Prosecution               2\n",
      "District Court Dispo                          1\n",
      "No Time to Reach                              1\n",
      "QE'S-Not SDP                                  1\n",
      "Name: Disposition, dtype: int64\n"
     ]
    },
    {
     "data": {
      "text/plain": [
       "Belchertown District Court    20769\n",
       "Greenfield District Court     20282\n",
       "Northampton District Court    18147\n",
       "Orange District Court          9223\n",
       "Hampshire Superior Court       2471\n",
       "Franklin Superior Court        1807\n",
       "Hadley Juvenile Court          1183\n",
       "Greenfield Juvenile Court       625\n",
       "Orange Juvenile Court           404\n",
       "Belchertown Juvenile Court      374\n",
       "Name: Court, dtype: int64"
      ]
     },
     "execution_count": 2,
     "metadata": {},
     "output_type": "execute_result"
    }
   ],
   "source": [
    "print(nw['Disposition'].value_counts())\n",
    "nw['Court'].value_counts()"
   ]
  },
  {
   "cell_type": "code",
   "execution_count": 3,
   "metadata": {},
   "outputs": [],
   "source": [
    "# Any disposition of \"Nolle Prosequi\" for any charge in a particular incident\n",
    "nw['Incident_NP'] = nw['Disposition']==\"Nolle Prosequi\"\n",
    "nw['Incident_NP'] = nw.groupby(['Person ID', 'Offense Date'])['Incident_NP'].transform('max')\n",
    "\n",
    "# Code cases as tried in a Superior vs District Court. \n",
    "nw['Superior'] = False\n",
    "nw.loc[nw['Court'].str.contains(\"Superior\"), 'Superior'] = True\n",
    "pd.crosstab(nw['Superior'], nw['Court'])\n",
    "\n",
    "# Any charge in the incident tried in a Superior court\n",
    "nw['Incident_Sup'] = nw.groupby(['Person ID', 'Offense Date'])['Superior'].transform('max')\n",
    "\n",
    "# By Person, incident, charge --> was this charge tried in a superior court\n",
    "# If this is True, and Superior is False, that's an indication that the charge was nolle prosequi in district court\n",
    "# and moved to the Superior court. \n",
    "nw[\"counter_id\"] = nw.groupby([\"Person ID\", \"Offense Date\", \"Charge\", \"Court\"]).cumcount() + 1\n",
    "nw['final_court_sup'] = nw.groupby(['Person ID', 'Offense Date', 'Charge', 'counter_id'])['Superior'].transform('max')\n",
    "\n",
    "# Offense date --> date\n",
    "nw['Offense Date'] = pd.to_datetime(nw['Offense Date']).dt.date\n",
    "\n",
    "# Sort\n",
    "nw = nw.sort_values(by=['Person ID','Offense Date', 'Charge', 'Court'])"
   ]
  },
  {
   "cell_type": "code",
   "execution_count": 4,
   "metadata": {},
   "outputs": [
    {
     "data": {
      "text/plain": [
       "Nolle Prosequi                  831\n",
       "NaN                               7\n",
       "Dismissed                         5\n",
       "Delinquent                        5\n",
       "CLOSED-INDICTED                   4\n",
       "Case Transferred                  1\n",
       "Dismissed at Request of Comm      1\n",
       "Name: Disposition, dtype: int64"
      ]
     },
     "execution_count": 4,
     "metadata": {},
     "output_type": "execute_result"
    }
   ],
   "source": [
    "# When a charge is tried in both district and superior court, what are the dispositions at the district court?\n",
    "\n",
    "nw[['Person ID', 'Court', 'final_court_sup', 'Offense Date', 'Charge', 'Disposition', 'Dispo Date', \n",
    "    'Expungeable', 'Incident_NP', 'Incident_Sup']].loc[\n",
    "    (nw['Incident_Sup']==True) &\n",
    "    (nw['final_court_sup']==True) &\n",
    "    (nw['Superior']==False) \n",
    "]['Disposition'].value_counts(dropna=False)"
   ]
  },
  {
   "cell_type": "code",
   "execution_count": 5,
   "metadata": {},
   "outputs": [
    {
     "data": {
      "text/html": [
       "<div>\n",
       "<style scoped>\n",
       "    .dataframe tbody tr th:only-of-type {\n",
       "        vertical-align: middle;\n",
       "    }\n",
       "\n",
       "    .dataframe tbody tr th {\n",
       "        vertical-align: top;\n",
       "    }\n",
       "\n",
       "    .dataframe thead th {\n",
       "        text-align: right;\n",
       "    }\n",
       "</style>\n",
       "<table border=\"1\" class=\"dataframe\">\n",
       "  <thead>\n",
       "    <tr style=\"text-align: right;\">\n",
       "      <th></th>\n",
       "      <th>Person ID</th>\n",
       "      <th>Court</th>\n",
       "      <th>Superior</th>\n",
       "      <th>final_court_sup</th>\n",
       "      <th>Offense Date</th>\n",
       "      <th>Charge</th>\n",
       "      <th>Disposition</th>\n",
       "      <th>Dispo Date</th>\n",
       "      <th>Incident_NP</th>\n",
       "      <th>Incident_Sup</th>\n",
       "    </tr>\n",
       "  </thead>\n",
       "  <tbody>\n",
       "    <tr>\n",
       "      <th>47609</th>\n",
       "      <td>NW-10255</td>\n",
       "      <td>Franklin Superior Court</td>\n",
       "      <td>True</td>\n",
       "      <td>True</td>\n",
       "      <td>2016-03-11</td>\n",
       "      <td>ROBBERY, UNARMED c265 Ã‚Â§19(b)</td>\n",
       "      <td>Guilty</td>\n",
       "      <td>2016-09-23</td>\n",
       "      <td>True</td>\n",
       "      <td>True</td>\n",
       "    </tr>\n",
       "    <tr>\n",
       "      <th>47608</th>\n",
       "      <td>NW-10255</td>\n",
       "      <td>Greenfield District Court</td>\n",
       "      <td>False</td>\n",
       "      <td>True</td>\n",
       "      <td>2016-03-11</td>\n",
       "      <td>ROBBERY, UNARMED c265 Ã‚Â§19(b)</td>\n",
       "      <td>Nolle Prosequi</td>\n",
       "      <td>2016-05-10</td>\n",
       "      <td>True</td>\n",
       "      <td>True</td>\n",
       "    </tr>\n",
       "  </tbody>\n",
       "</table>\n",
       "</div>"
      ],
      "text/plain": [
       "      Person ID                      Court  Superior final_court_sup  \\\n",
       "47609  NW-10255    Franklin Superior Court      True            True   \n",
       "47608  NW-10255  Greenfield District Court     False            True   \n",
       "\n",
       "      Offense Date                           Charge     Disposition  \\\n",
       "47609   2016-03-11  ROBBERY, UNARMED c265 Ã‚Â§19(b)          Guilty   \n",
       "47608   2016-03-11  ROBBERY, UNARMED c265 Ã‚Â§19(b)  Nolle Prosequi   \n",
       "\n",
       "       Dispo Date Incident_NP Incident_Sup  \n",
       "47609  2016-09-23        True         True  \n",
       "47608  2016-05-10        True         True  "
      ]
     },
     "execution_count": 5,
     "metadata": {},
     "output_type": "execute_result"
    }
   ],
   "source": [
    "# Browse a particular ID that has a 'transfer' looking case. Cherry picked this one because they have only 2 rows in the \n",
    "# dataframe so its easier to focus.\n",
    "nw[['Person ID', 'Court', 'Superior', 'final_court_sup', 'Offense Date', 'Charge', 'Disposition', \n",
    "    'Dispo Date', 'Incident_NP', 'Incident_Sup']].loc[\n",
    "    (nw['Person ID']==\"NW-10255\")]"
   ]
  },
  {
   "cell_type": "code",
   "execution_count": 6,
   "metadata": {},
   "outputs": [],
   "source": [
    "#browse -- when does this apparent transfer not involve a Nolle Prosequi disposition\n",
    "\n",
    "#nw[['Person ID', 'Court', 'final_court_sup', 'Offense Date', 'Charge', 'Disposition', 'Dispo Date', \n",
    "#    'Expungeable', 'Incident_NP', 'Incident_Sup']].loc[\n",
    "#    (nw['Incident_Sup']==True) &\n",
    "#    (nw['final_court_sup']==True) &\n",
    "#    (nw['Superior']==False) &\n",
    "#    (nw['Disposition']!=\"Nolle Prosequi\")\n",
    "#]\n",
    "\n",
    "#browse the people from above\n",
    "#nw[['Person ID', 'Court', 'final_court_sup', 'Offense Date', 'Charge', 'Disposition', 'Dispo Date', \n",
    "#    'Expungeable', 'Incident_NP', 'Incident_Sup']].loc[nw['Person ID'].isin(('NW-5248', 'NW-7930', 'NW-4638', 'NW-14326'))]"
   ]
  },
  {
   "cell_type": "code",
   "execution_count": 7,
   "metadata": {},
   "outputs": [
    {
     "data": {
      "text/plain": [
       "854"
      ]
     },
     "execution_count": 7,
     "metadata": {},
     "output_type": "execute_result"
    }
   ],
   "source": [
    "# Create a version of the data, dropping any of the rows that look like a \"transfer.\" Drop the District court version of \n",
    "# any charge that ended up in a Superior court. \n",
    "\n",
    "nw_no_transfers = nw[~(\n",
    "    (nw['final_court_sup']==True) &\n",
    "    (nw['Superior']==False) \n",
    ")].copy()\n",
    "len(nw) - len(nw_no_transfers) "
   ]
  },
  {
   "cell_type": "code",
   "execution_count": 8,
   "metadata": {},
   "outputs": [],
   "source": [
    "# Does this change how many are eligible for expungement? (No)\n",
    "\n",
    "nw_no_transfers['num_offenses'] = nw_no_transfers.groupby('Person ID')['Person ID'].transform('count')\n",
    "\n",
    "\n",
    "x_nt = nw_no_transfers.loc[\n",
    "    (nw_no_transfers['num_offenses']==1) &\n",
    "    (nw_no_transfers['Expungeable'] != 'No') &\n",
    "    (~nw_no_transfers['Age at Offense'].isnull()) &\n",
    "    (nw_no_transfers['Age at Offense']<21)\n",
    "]\n",
    "\n",
    "People_eligible_no_transfers = x_nt['Person ID'].nunique()"
   ]
  },
  {
   "cell_type": "code",
   "execution_count": 9,
   "metadata": {},
   "outputs": [
    {
     "name": "stdout",
     "output_type": "stream",
     "text": [
      "549 \n",
      "\n",
      "c276s87 finding                     154\n",
      "Dismissed at Request of Comm         96\n",
      "Responsible                          80\n",
      "Nolle Prosequi                       50\n",
      "Dismissed Prior to Arraignment       42\n",
      "Dismissed                            32\n",
      "Dismissed on Payment                 28\n",
      "Continued w/o Finding                26\n",
      "NaN                                  25\n",
      "Guilty                                6\n",
      "Charge Handled as a Civil Charge      3\n",
      "Dismissed by Court                    3\n",
      "Delinquent                            3\n",
      "Responsible Filed                     1\n",
      "Name: Disposition, dtype: int64\n"
     ]
    }
   ],
   "source": [
    "nw['num_offenses']=nw.groupby('Person ID')['Person ID'].transform('count')\n",
    "x = nw.loc[\n",
    "    (nw['num_offenses']==1) &\n",
    "    (nw['Expungeable'] != 'No') &\n",
    "    (~nw['Age at Offense'].isnull()) &\n",
    "    (nw['Age at Offense']<21)\n",
    "]\n",
    "\n",
    "People_eligible = x['Person ID'].nunique()\n",
    "People_eligible\n",
    "\n",
    "print(People_eligible, \"\\n\")\n",
    "print(x.Disposition.value_counts(dropna=False))"
   ]
  },
  {
   "cell_type": "code",
   "execution_count": 10,
   "metadata": {},
   "outputs": [
    {
     "data": {
      "text/plain": [
       "True"
      ]
     },
     "execution_count": 10,
     "metadata": {},
     "output_type": "execute_result"
    }
   ],
   "source": [
    "People_eligible == People_eligible_no_transfers"
   ]
  }
 ],
 "metadata": {
  "kernelspec": {
   "display_name": "Python 3",
   "language": "python",
   "name": "python3"
  },
  "language_info": {
   "codemirror_mode": {
    "name": "ipython",
    "version": 3
   },
   "file_extension": ".py",
   "mimetype": "text/x-python",
   "name": "python",
   "nbconvert_exporter": "python",
   "pygments_lexer": "ipython3",
   "version": "3.8.3"
  }
 },
 "nbformat": 4,
 "nbformat_minor": 4
}
