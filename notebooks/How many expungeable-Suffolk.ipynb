{
 "cells": [
  {
   "cell_type": "markdown",
   "metadata": {
    "id": "QdZG6uHfiX6L"
   },
   "source": [
    "# Clean Slate: Suffolk County Data Analysis\n",
    "\n",
    "> Prepared by Joel Tennyson for Code for Boston's [Clean Slate Project](https://github.com/codeforboston/clean-slate)\n",
    "\n",
    "# Purpose\n",
    "This notebook takes processed data from the Suffolk DA (merged_suff.csv) and answers the below questions and subquestions posed by the Citizens for Juvenile Justice (CfJJ). In each case, 'who is eligible' refers to the number of individuals who would have one or more charges that are potentially eligible for expungement. These questions are presented as listed [here](https://github.com/codeforboston/clean-slate/issues/152), with additional explanations and notes found under the Step 3 heading of this notebook.  \n",
    "\n",
    "1) Who is eligible today? People with only one charge that is not part of the list of (ineligible) offenses.\n",
    "\n",
    "2a) If we only change the number of offenses, how many are eligible based on only having one incident (that does not include an ineligible offense)?\n",
    "\n",
    "2b) How many would be eligible if we only limited to only exclude sex-based offenses or murder?\n",
    "\n",
    "2b.2) As 2b, but limited to no more than one incident.\n",
    "\n",
    "3a) How many would be eligible based on who has not been found guilty (given current offenses that are eligible for expungement)?\n",
    "\n",
    "3a.2) As 3a, but limited to no more than one incident.\n",
    "\n",
    "3b) How many would be eligible based on who has not been found guilty, except murder or sex offenses?\n",
    "\n",
    "---\n",
    "\n"
   ]
  },
  {
   "cell_type": "markdown",
   "metadata": {
    "id": "Ofu4YJtxNfiQ"
   },
   "source": [
    "# Step 0\n",
    "Import libaries and create a Pandas dataframe from the Suffolk data\n",
    "\n",
    "\n",
    "---\n",
    "\n"
   ]
  },
  {
   "cell_type": "code",
   "execution_count": 375,
   "metadata": {
    "colab": {
     "base_uri": "https://localhost:8080/"
    },
    "id": "8XAtz2Y8NfiR",
    "outputId": "c4902c85-ed5d-44eb-d54f-c6b294fe2def"
   },
   "outputs": [],
   "source": [
    "import requests\n",
    "import pandas as pd\n",
    "import datetime"
   ]
  },
  {
   "cell_type": "code",
   "execution_count": 376,
   "metadata": {
    "colab": {
     "base_uri": "https://localhost:8080/"
    },
    "id": "Bt9MIyWENfiU",
    "outputId": "74f5b9f2-e1fe-4579-dc6b-aea91c2ca1dd"
   },
   "outputs": [],
   "source": [
    "# Create dataframe from processed Suffolk individual-level data\n",
    "sf = pd.read_csv('../../data/processed/merged_suff.csv', encoding='utf8')\n",
    "pd.set_option('display.max.columns', None)\n",
    "pd.set_option('display.max_colwidth', None)"
   ]
  },
  {
   "cell_type": "markdown",
   "metadata": {
    "id": "8H-a_R8_iIth"
   },
   "source": [
    "# Step 1\n",
    "Data Cleaning, Derive Additional Columns Used For Analysis\n",
    "\n",
    "\n",
    "---\n",
    "\n"
   ]
  },
  {
   "cell_type": "markdown",
   "metadata": {
    "id": "AFAfncCGCEtA"
   },
   "source": [
    "**Note on Attempts**\n",
    "\n",
    "It is impossible to determine the expungeability of most *attempted* crimes because not enough information is available about the nature of the crime being attempted. Instead of being marked with a 'yes' or 'no' in the 'Expungeable' column, these are marked with 'attempt.' The Clean Slate data team has determined that for the purposes of analysis, these attempts will be considered to be expungeable offenses. These attempt offenses make up a very small portion of the data, and this assumption should not have significant impact on the analysis."
   ]
  },
  {
   "cell_type": "code",
   "execution_count": 377,
   "metadata": {},
   "outputs": [
    {
     "name": "stdout",
     "output_type": "stream",
     "text": [
      "There are 303270 offenses total in the Suffolk data.\n",
      "215374 are marked as expungeable (71.02%)\n",
      "82038 are marked as nonexpungeable (27.05%)\n",
      "1503 are marked as attempts (0.50%)\n",
      "2445 are CMR offenses (0.81%)\n",
      "0 are missing an expungeability determination (0.00%)\n"
     ]
    }
   ],
   "source": [
    "# BEFORE any data is dropped, display some summary statistics on expungeability\n",
    "total = len(sf)\n",
    "expungeable = len(sf[sf['Expungeable'] == 'Yes'])\n",
    "nonexpungeable = len(sf[sf['Expungeable'] == 'No'])\n",
    "attempts = len(sf[sf['Expungeable'] == 'Attempt'])\n",
    "cmr = len(sf[sf['CMRoffense'] == 'yes'])\n",
    "missing = len(sf[sf['Expungeable'].isna()])\n",
    "\n",
    "print('There are', total, 'offenses total in the Suffolk data.')\n",
    "print(expungeable, 'are marked as expungeable', '({:.2%})'.format(expungeable/total))\n",
    "print(nonexpungeable, 'are marked as nonexpungeable', '({:.2%})'.format(nonexpungeable/total))\n",
    "print(attempts, 'are marked as attempts', '({:.2%})'.format(attempts/total))\n",
    "print(cmr, 'are CMR offenses', '({:.2%})'.format(cmr/total))\n",
    "print(missing, 'are missing an expungeability determination', '({:.2%})'.format(missing/total))"
   ]
  },
  {
   "cell_type": "code",
   "execution_count": 378,
   "metadata": {
    "colab": {
     "base_uri": "https://localhost:8080/"
    },
    "id": "aH-CaEUXCyGM",
    "outputId": "f4f28a7b-20ae-4e10-c0bf-1a74faa5efaf"
   },
   "outputs": [
    {
     "name": "stdout",
     "output_type": "stream",
     "text": [
      "There are 1503 charges marked as attempts in the Suffolk data, comprising 0.50% of the data.\n"
     ]
    }
   ],
   "source": [
    "# Display the number of 'attempt' offenses in the Suffolk dataset, and mark them as expungeable\n",
    "attempts = len(sf[sf['Expungeable'] == 'Attempt'])\n",
    "total = len(sf)\n",
    "print('There are', attempts, 'charges marked as attempts in the Suffolk data, comprising', '{:.2%}'.format(attempts/total), 'of the data.')\n",
    "\n",
    "sf.loc[sf['Expungeable'] == 'Attempt', 'Expungeable'] = 'Yes'"
   ]
  },
  {
   "cell_type": "code",
   "execution_count": 379,
   "metadata": {
    "colab": {
     "base_uri": "https://localhost:8080/"
    },
    "id": "ATcD_wNrjZvZ",
    "outputId": "4051a316-86e7-4b8d-c84a-d4f18eea4469"
   },
   "outputs": [
    {
     "name": "stdout",
     "output_type": "stream",
     "text": [
      "2445 CMR offenses have been dropped, leaving 300825 total offenses\n"
     ]
    }
   ],
   "source": [
    "# Drop all CMR offenses from the dataframe\n",
    "total_CMR_offenses = sf[sf['CMRoffense'] == 'yes']['CMRoffense'].count()\n",
    "sf = sf[sf['CMRoffense'] != 'yes']\n",
    "sf = sf.drop(columns = ['CMRoffense'])\n",
    "print(total_CMR_offenses, 'CMR offenses have been dropped, leaving', len(sf), 'total offenses')"
   ]
  },
  {
   "cell_type": "code",
   "execution_count": 380,
   "metadata": {
    "colab": {
     "base_uri": "https://localhost:8080/"
    },
    "id": "G-m5QXMxr506",
    "outputId": "324b1d39-9795-46b9-9a81-1651ed2a31d1"
   },
   "outputs": [
    {
     "name": "stdout",
     "output_type": "stream",
     "text": [
      "2387 offenses without an offense date have been dropped, leaving 298438 total offenses\n"
     ]
    }
   ],
   "source": [
    "# Drop offenses with no offense date\n",
    "total_lacking_date = sf['Offense Date'].isna().sum()\n",
    "sf = sf[~sf['Offense Date'].isna()]\n",
    "print(total_lacking_date, 'offenses without an offense date have been dropped, leaving', len(sf), 'total offenses')"
   ]
  },
  {
   "cell_type": "code",
   "execution_count": 381,
   "metadata": {
    "colab": {
     "base_uri": "https://localhost:8080/"
    },
    "id": "JiL-BZE8nrpq",
    "outputId": "b75be622-48ea-42c6-f413-5e30a62549ac"
   },
   "outputs": [
    {
     "data": {
      "text/plain": [
       "count    298438.000000\n",
       "mean          5.154985\n",
       "std           2.508510\n",
       "min           1.723288\n",
       "25%           3.484932\n",
       "50%           5.046575\n",
       "75%           6.526027\n",
       "max          85.441096\n",
       "Name: Years Since Offense, dtype: float64"
      ]
     },
     "execution_count": 381,
     "metadata": {},
     "output_type": "execute_result"
    }
   ],
   "source": [
    "# Add column: Years Since Offense\n",
    "reference_date = datetime.date(2020, 9, 1)\n",
    "sf['Offense Date'] = pd.to_datetime(sf['Offense Date']).dt.date\n",
    "sf['Years Since Offense'] = (reference_date - sf['Offense Date'])/pd.Timedelta(1, 'D')/365\n",
    "\n",
    "sf['Years Since Offense'].describe()"
   ]
  },
  {
   "cell_type": "code",
   "execution_count": 382,
   "metadata": {
    "colab": {
     "base_uri": "https://localhost:8080/"
    },
    "id": "LHu2t3R6nK31",
    "outputId": "328f3b12-9073-40df-f278-39f49a56c9cf"
   },
   "outputs": [
    {
     "data": {
      "text/plain": [
       "count    298438.000000\n",
       "mean          9.153861\n",
       "std          17.742343\n",
       "min           1.000000\n",
       "25%           2.000000\n",
       "50%           5.000000\n",
       "75%          11.000000\n",
       "max         352.000000\n",
       "Name: Total Offenses, dtype: float64"
      ]
     },
     "execution_count": 382,
     "metadata": {},
     "output_type": "execute_result"
    }
   ],
   "source": [
    "# Add column: Total Offenses\n",
    "sf['Total Offenses'] = sf.groupby('Person ID')['Person ID'].transform('count')\n",
    "sf['Total Offenses'].describe()"
   ]
  },
  {
   "cell_type": "code",
   "execution_count": 383,
   "metadata": {
    "colab": {
     "base_uri": "https://localhost:8080/"
    },
    "id": "RUMD1BPcq7kF",
    "outputId": "fcd2365d-ab75-4e72-b8c8-473c87f1a71f"
   },
   "outputs": [
    {
     "data": {
      "text/plain": [
       "count    298438.000000\n",
       "mean          3.272452\n",
       "std           3.868787\n",
       "min           1.000000\n",
       "25%           1.000000\n",
       "50%           2.000000\n",
       "75%           4.000000\n",
       "max          45.000000\n",
       "Name: Incidents, dtype: float64"
      ]
     },
     "execution_count": 383,
     "metadata": {},
     "output_type": "execute_result"
    }
   ],
   "source": [
    "# Add column: Incidents\n",
    "sf['Incidents'] = sf.groupby(['Person ID'])['Offense Date'].transform('nunique')\n",
    "sf['Incidents'].describe()"
   ]
  },
  {
   "cell_type": "code",
   "execution_count": 384,
   "metadata": {
    "id": "RjYEmAbq1VSF"
   },
   "outputs": [],
   "source": [
    "# Add column: Incident Expungeable\n",
    "sf['Temp Expungeable'] = (sf['Expungeable'] == 'Yes')\n",
    "sf['Incident Expungeable'] = sf.groupby(['Person ID', 'Offense Date'])['Temp Expungeable'].transform('min')\n",
    "sf = sf.drop(columns=['Temp Expungeable'])"
   ]
  },
  {
   "cell_type": "code",
   "execution_count": 385,
   "metadata": {
    "id": "pHffbEYW3hoW"
   },
   "outputs": [],
   "source": [
    "# Add column: Incident Sex Murder\n",
    "sf['Temp Sex Murder'] = (sf['sex'] == 1) | (sf['murder'] ==1)\n",
    "sf['Incident Sex Murder'] = sf.groupby(['Person ID', 'Offense Date'])['Temp Sex Murder'].transform('max')\n",
    "sf = sf.drop(columns=['Temp Sex Murder'])"
   ]
  },
  {
   "cell_type": "markdown",
   "metadata": {
    "id": "vDwPGnybHCcf"
   },
   "source": [
    "**Note on Guilty Dispositions**\n",
    "\n",
    "The list of guilty dispositions is largely based on the determinations made in [this file](https://docs.google.com/spreadsheets/d/1axzGGxgQFPwpTw7EbBlC519L43fOkqC5/edit?rtpof=true).\n",
    "\n",
    "Some offenses have no associated disposition data. Currently, these are being treated as non-guilty offenses for this analysis. To treat them as guilty instead, switch the -1 below to a 2."
   ]
  },
  {
   "cell_type": "code",
   "execution_count": 386,
   "metadata": {
    "id": "FRWCinhjWf49"
   },
   "outputs": [],
   "source": [
    "# Add column: Guilty\n",
    "guilty_disposition_reasons = ['Guilty - Committed', 'Guilty - Probation', 'Dismissed for Agreed Plea', 'Guilty - Fine', 'Guilty - Suspended Sentence', 'Guilty', 'Guilty - Filed', 'Guilty - Split Sentence', 'Responsible - Fine C277S70', 'Guilty - Lesser Offense', 'Delinquent - Committed', 'Delinquent - Probation', 'Delinquent - Filed', 'Delinquent - Fine', 'Delinquent - Suspended', 'Delinquent']\n",
    "guilty_dispositions = ['Plea']\n",
    "sf['Guilty'] = sf['Description Disposition Reason'].isin(guilty_disposition_reasons)\n",
    "# When disposition reason is missing and disposition is not, use disposition to determine guilty or nonguilty\n",
    "sf.loc[(sf['Description Disposition Reason'].isnull() & (sf['Disposition'].notnull())), 'Guilty'] = 0\n",
    "sf.loc[(sf['Description Disposition Reason'].isnull() & (sf['Disposition'].notnull()) & (sf['Disposition'].isin(guilty_dispositions))), 'Guilty'] = 1\n",
    "# Guilty is -1 if there is no disposition reason at all AND there is no disposition\n",
    "sf.loc[(sf['Description Disposition Reason'].isnull() & (sf['Disposition'].isnull())), 'Guilty'] = -1"
   ]
  },
  {
   "cell_type": "code",
   "execution_count": 387,
   "metadata": {
    "id": "KfzjjCClabWC"
   },
   "outputs": [],
   "source": [
    "# Add column: Incident Guilty\n",
    "sf['Incident Guilty'] = sf.groupby(['Person ID', 'Offense Date'])['Guilty'].transform('max')"
   ]
  },
  {
   "cell_type": "code",
   "execution_count": 388,
   "metadata": {
    "id": "sA_mQfz6qaLP"
   },
   "outputs": [],
   "source": [
    "# Given a dataframe of offenses, this function prints the number of offenses that occured at least 3 years prior to reference_date,\n",
    "# then the number that occured at least 7 years prior\n",
    "def date_range(x):\n",
    "    greater3 = x.loc[(x['Years Since Offense'] > 3)]['Person ID'].nunique()\n",
    "    greater7 = x.loc[(x['Years Since Offense'] > 7)]['Person ID'].nunique()\n",
    "\n",
    "    print(greater3, \"occured more than 3 years before\", reference_date)\n",
    "    print(greater7, \"occured more than 7 years before\", reference_date)"
   ]
  },
  {
   "cell_type": "code",
   "execution_count": 389,
   "metadata": {
    "id": "kYDky06Hx_Dz"
   },
   "outputs": [],
   "source": [
    "# Given a subset of the sf dataframe, this function determines the number of unique individuals found in that subset\n",
    "# and determines the percent that number of individuals is of the full sf dataframe\n",
    "total_people = sf['Person ID'].nunique()\n",
    "\n",
    "def get_result(x):\n",
    "  people_in_x = x['Person ID'].nunique()\n",
    "  percent = '{:.2%}'.format(people_in_x/total_people)\n",
    "  return people_in_x, percent"
   ]
  },
  {
   "cell_type": "markdown",
   "metadata": {
    "id": "Sci5AogvjWmz"
   },
   "source": [
    "# Step 2\n",
    "Summary of Offense and Incident Distribution\n",
    "\n",
    "\n",
    "---\n",
    "\n"
   ]
  },
  {
   "cell_type": "code",
   "execution_count": 390,
   "metadata": {},
   "outputs": [
    {
     "name": "stdout",
     "output_type": "stream",
     "text": [
      "count    298438.000000\n",
      "mean          9.153861\n",
      "std          17.742343\n",
      "min           1.000000\n",
      "25%           2.000000\n",
      "50%           5.000000\n",
      "75%          11.000000\n",
      "max         352.000000\n",
      "Name: Total Offenses, dtype: float64\n",
      "\n",
      " cutting off top 1%: \n",
      " count    295386.000000\n",
      "mean          7.952076\n",
      "std           8.051523\n",
      "min           1.000000\n",
      "25%           2.000000\n",
      "50%           5.000000\n",
      "75%          11.000000\n",
      "max          47.000000\n",
      "Name: Total Offenses, dtype: float64\n"
     ]
    }
   ],
   "source": [
    "# Display distribution of # of charges by person ID\n",
    "print(sf['Total Offenses'].describe())\n",
    "print('\\n cutting off top 1%: \\n', sf['Total Offenses'].loc[sf['Total Offenses']< sf['Total Offenses'].quantile(.99)].describe())"
   ]
  },
  {
   "cell_type": "code",
   "execution_count": 391,
   "metadata": {
    "colab": {
     "base_uri": "https://localhost:8080/",
     "height": 298
    },
    "id": "o5MNpMLwjgvV",
    "outputId": "e8d211d0-f3fe-4643-afc8-8512a58e4d8c"
   },
   "outputs": [
    {
     "data": {
      "text/plain": [
       "<AxesSubplot:title={'center':'Top Ten Overall Offenses'}, ylabel='Charge'>"
      ]
     },
     "execution_count": 391,
     "metadata": {},
     "output_type": "execute_result"
    },
    {
     "data": {
      "image/png": "[encoded data removed]",
      "text/plain": [
       "<Figure size 432x288 with 1 Axes>"
      ]
     },
     "metadata": {
      "needs_background": "light"
     },
     "output_type": "display_data"
    }
   ],
   "source": [
    "# TOP TEN OVERALL OFFENSES\n",
    "overall_offenses = sf.groupby(['Charge'])['Charge'].count().reset_index(name='Total Offenses').sort_values(['Total Offenses'], ascending=False)\n",
    "overall_offenses.head(10).sort_values(['Total Offenses'], ascending=True).plot.barh(x='Charge', title='Top Ten Overall Offenses')"
   ]
  },
  {
   "cell_type": "code",
   "execution_count": 392,
   "metadata": {
    "colab": {
     "base_uri": "https://localhost:8080/",
     "height": 298
    },
    "id": "LvVf0Co_j_UD",
    "outputId": "373296b8-05c5-4a62-9db3-eb5d3e38dab2"
   },
   "outputs": [
    {
     "data": {
      "text/plain": [
       "<AxesSubplot:title={'center':'Top Ten Expungeable Offenses'}, ylabel='Charge'>"
      ]
     },
     "execution_count": 392,
     "metadata": {},
     "output_type": "execute_result"
    },
    {
     "data": {
      "image/png": "[encoded data removed]",
      "text/plain": [
       "<Figure size 432x288 with 1 Axes>"
      ]
     },
     "metadata": {
      "needs_background": "light"
     },
     "output_type": "display_data"
    }
   ],
   "source": [
    "# TOP TEN EXPUNGEABLE OFFENSES\n",
    "expungeable_offenses = sf[sf['Expungeable'] == 'Yes'].groupby(['Charge'])['Charge'].count().reset_index(name='Total Offenses').sort_values(['Total Offenses'], ascending=False)\n",
    "expungeable_offenses.head(10).sort_values(['Total Offenses'], ascending=True).plot.barh(x='Charge', title='Top Ten Expungeable Offenses')"
   ]
  },
  {
   "cell_type": "code",
   "execution_count": 393,
   "metadata": {
    "colab": {
     "base_uri": "https://localhost:8080/",
     "height": 298
    },
    "id": "OUfSAkbuj_yM",
    "outputId": "1aaa9c33-cc87-4fae-9306-0a6d08eff4f2"
   },
   "outputs": [
    {
     "data": {
      "text/plain": [
       "<AxesSubplot:title={'center':'Top Ten Nonexpungeable Offenses'}, ylabel='Charge'>"
      ]
     },
     "execution_count": 393,
     "metadata": {},
     "output_type": "execute_result"
    },
    {
     "data": {
      "image/png": "[encoded data removed]",
      "text/plain": [
       "<Figure size 432x288 with 1 Axes>"
      ]
     },
     "metadata": {
      "needs_background": "light"
     },
     "output_type": "display_data"
    }
   ],
   "source": [
    "# TOP TEN NONEXPUNGEABLE OFFENSES\n",
    "nonexpungeable_offenses = sf[sf['Expungeable'] == 'No'].groupby(['Charge'])['Charge'].count().reset_index(name='Total Offenses').sort_values(['Total Offenses'], ascending=False)\n",
    "nonexpungeable_offenses.head(10).sort_values(['Total Offenses'], ascending=True).plot.barh(x='Charge', title='Top Ten Nonexpungeable Offenses')"
   ]
  },
  {
   "cell_type": "code",
   "execution_count": 394,
   "metadata": {
    "colab": {
     "base_uri": "https://localhost:8080/",
     "height": 225
    },
    "id": "ROs_GK8bOMzR",
    "outputId": "be500fc8-8411-4607-cba2-d6410e94e766"
   },
   "outputs": [
    {
     "data": {
      "text/html": [
       "<div>\n",
       "<style scoped>\n",
       "    .dataframe tbody tr th:only-of-type {\n",
       "        vertical-align: middle;\n",
       "    }\n",
       "\n",
       "    .dataframe tbody tr th {\n",
       "        vertical-align: top;\n",
       "    }\n",
       "\n",
       "    .dataframe thead th {\n",
       "        text-align: right;\n",
       "    }\n",
       "</style>\n",
       "<table border=\"1\" class=\"dataframe\">\n",
       "  <thead>\n",
       "    <tr style=\"text-align: right;\">\n",
       "      <th></th>\n",
       "      <th>Number</th>\n",
       "      <th>Percent Total</th>\n",
       "    </tr>\n",
       "    <tr>\n",
       "      <th>Question</th>\n",
       "      <th></th>\n",
       "      <th></th>\n",
       "    </tr>\n",
       "  </thead>\n",
       "  <tbody>\n",
       "    <tr>\n",
       "      <th>Total individuals</th>\n",
       "      <td>90440</td>\n",
       "      <td>100.00%</td>\n",
       "    </tr>\n",
       "    <tr>\n",
       "      <th>Individuals with a single offense</th>\n",
       "      <td>33552</td>\n",
       "      <td>37.10%</td>\n",
       "    </tr>\n",
       "    <tr>\n",
       "      <th>Individuals with a single incident</th>\n",
       "      <td>65964</td>\n",
       "      <td>72.94%</td>\n",
       "    </tr>\n",
       "    <tr>\n",
       "      <th>Offenses committed by individuals with one offense</th>\n",
       "      <td>33552</td>\n",
       "      <td>11.24%</td>\n",
       "    </tr>\n",
       "    <tr>\n",
       "      <th>Incidents committed by individuals with one incident</th>\n",
       "      <td>65964</td>\n",
       "      <td>44.77%</td>\n",
       "    </tr>\n",
       "  </tbody>\n",
       "</table>\n",
       "</div>"
      ],
      "text/plain": [
       "                                                      Number Percent Total\n",
       "Question                                                                  \n",
       "Total individuals                                      90440       100.00%\n",
       "Individuals with a single offense                      33552        37.10%\n",
       "Individuals with a single incident                     65964        72.94%\n",
       "Offenses committed by individuals with one offense     33552        11.24%\n",
       "Incidents committed by individuals with one incident   65964        44.77%"
      ]
     },
     "execution_count": 394,
     "metadata": {},
     "output_type": "execute_result"
    }
   ],
   "source": [
    "# SUMMARY STATS ON OFFENSES AND INCIDENTS\n",
    "total_count = sf['Person ID'].nunique()\n",
    "total = ['Total individuals', total_count, '{:,.2%}'.format(1)]\n",
    "\n",
    "oneoff_count = sf[sf['Total Offenses']==1]['Person ID'].nunique()\n",
    "oneoff = ['Individuals with a single offense', oneoff_count, '{:,.2%}'.format(oneoff_count/total_count)]\n",
    "\n",
    "oneinc_count = sf[sf['Incidents']==1]['Person ID'].nunique()\n",
    "oneinc = ['Individuals with a single incident', oneinc_count, '{:,.2%}'.format(oneinc_count/total_count)]\n",
    "\n",
    "off_one_off_count = sf[sf['Total Offenses']==1].shape[0]\n",
    "off_one_off = ['Offenses committed by individuals with one offense', off_one_off_count, '{:,.2%}'.format(off_one_off_count/sf.shape[0])]\n",
    "\n",
    "inc_one_inc_count = sf[sf['Incidents']==1].groupby(['Person ID', 'Offense Date']).ngroups\n",
    "inc_one_inc = ['Incidents committed by individuals with one incident', inc_one_inc_count, '{:,.2%}'.format(inc_one_inc_count/sf.groupby(['Person ID', 'Offense Date']).ngroups)]\n",
    "\n",
    "stats = [total, oneoff, oneinc, off_one_off, inc_one_inc]\n",
    "statsdf = pd.DataFrame(stats, columns = ['Question', 'Number', 'Percent Total'])\n",
    "statsdf = statsdf.set_index('Question')\n",
    "statsdf.style.format({'Number' : '{:,}'})\n",
    "statsdf"
   ]
  },
  {
   "cell_type": "code",
   "execution_count": 395,
   "metadata": {
    "colab": {
     "base_uri": "https://localhost:8080/",
     "height": 225
    },
    "id": "C5fcKVB3VgBP",
    "outputId": "678de0d7-b760-47f4-d242-4e849aa73e40"
   },
   "outputs": [
    {
     "data": {
      "text/html": [
       "<div>\n",
       "<style scoped>\n",
       "    .dataframe tbody tr th:only-of-type {\n",
       "        vertical-align: middle;\n",
       "    }\n",
       "\n",
       "    .dataframe tbody tr th {\n",
       "        vertical-align: top;\n",
       "    }\n",
       "\n",
       "    .dataframe thead th {\n",
       "        text-align: right;\n",
       "    }\n",
       "</style>\n",
       "<table border=\"1\" class=\"dataframe\">\n",
       "  <thead>\n",
       "    <tr style=\"text-align: right;\">\n",
       "      <th></th>\n",
       "      <th>Number</th>\n",
       "      <th>Percent Total</th>\n",
       "    </tr>\n",
       "    <tr>\n",
       "      <th>Murder Sex Stats</th>\n",
       "      <th></th>\n",
       "      <th></th>\n",
       "    </tr>\n",
       "  </thead>\n",
       "  <tbody>\n",
       "    <tr>\n",
       "      <th>Sex offenses</th>\n",
       "      <td>7130</td>\n",
       "      <td>2.39%</td>\n",
       "    </tr>\n",
       "    <tr>\n",
       "      <th>Murders</th>\n",
       "      <td>1401</td>\n",
       "      <td>0.47%</td>\n",
       "    </tr>\n",
       "    <tr>\n",
       "      <th>Incidents with sex or murder</th>\n",
       "      <td>5754</td>\n",
       "      <td>3.91%</td>\n",
       "    </tr>\n",
       "    <tr>\n",
       "      <th>Total cases (incidents)</th>\n",
       "      <td>147346</td>\n",
       "      <td>N/A</td>\n",
       "    </tr>\n",
       "    <tr>\n",
       "      <th>Total offenses</th>\n",
       "      <td>298438</td>\n",
       "      <td>N/A</td>\n",
       "    </tr>\n",
       "  </tbody>\n",
       "</table>\n",
       "</div>"
      ],
      "text/plain": [
       "                              Number Percent Total\n",
       "Murder Sex Stats                                  \n",
       "Sex offenses                    7130         2.39%\n",
       "Murders                         1401         0.47%\n",
       "Incidents with sex or murder    5754         3.91%\n",
       "Total cases (incidents)       147346           N/A\n",
       "Total offenses                298438           N/A"
      ]
     },
     "execution_count": 395,
     "metadata": {},
     "output_type": "execute_result"
    }
   ],
   "source": [
    "# SUMMARY STATS ON NONEXPUNGEABLE SEX AND MURDER CHARGES\n",
    "total_off_count = sf['Charge'].count()\n",
    "total_off = ['Total offenses', total_off_count, 'N/A']\n",
    "\n",
    "total_inc_count = sf.groupby(['Person ID', 'Offense Date']).ngroups\n",
    "total_inc = ['Total cases (incidents)', total_inc_count, 'N/A']\n",
    "\n",
    "sex_off_count = sf[sf['sex'] == 1]['sex'].count()\n",
    "sex_off = ['Sex offenses', sex_off_count, '{:,.2%}'.format(sex_off_count/total_off_count)]\n",
    "\n",
    "murder_off_count = sf[sf['murder'] == 1]['murder'].count()\n",
    "murder_off = ['Murders', murder_off_count, '{:,.2%}'.format(murder_off_count/total_off_count)]\n",
    "\n",
    "sex_murder_inc_count = sf[sf['Incident Sex Murder']  == 1].groupby(['Person ID', 'Offense Date']).ngroups\n",
    "sex_murder_inc = ['Incidents with sex or murder', sex_murder_inc_count, '{:,.2%}'.format(sex_murder_inc_count/total_inc_count)]\n",
    "\n",
    "stats = [sex_off, murder_off, sex_murder_inc, total_inc, total_off]\n",
    "statsdf = pd.DataFrame(stats, columns = ['Murder Sex Stats','Number', 'Percent Total'])\n",
    "statsdf = statsdf.set_index('Murder Sex Stats')\n",
    "statsdf.style.format({'Number' : '{:,}'})\n",
    "statsdf"
   ]
  },
  {
   "cell_type": "markdown",
   "metadata": {
    "id": "yMgbi_Uekwgl"
   },
   "source": [
    "# Step 3\n",
    "Analysis to answer the questions posed by Citizens for Juvenile Justice\n",
    "\n",
    "\n",
    "---"
   ]
  },
  {
   "cell_type": "markdown",
   "metadata": {
    "id": "IcPFjldTlu1d"
   },
   "source": [
    "**Question 1**\n",
    "\n",
    "**Who is eligible today? People with only one charge that is not part of the list of (ineligible) offenses.**\n",
    "\n",
    "Notes:\n",
    "*   It is additionally true that a misdemeanor can only be expunged three or more years after the date of the incident, and a felony can only be expunged seven or more years after the date of the incident."
   ]
  },
  {
   "cell_type": "code",
   "execution_count": 396,
   "metadata": {
    "colab": {
     "base_uri": "https://localhost:8080/"
    },
    "id": "-L4GNErZmwOf",
    "outputId": "f26fe27a-2525-4d73-ae3f-b5980c459d84"
   },
   "outputs": [
    {
     "name": "stdout",
     "output_type": "stream",
     "text": [
      "('Q1', 'Eligible Today: No more than one offense, offense must be expungeable', (23784, '26.30%'))\n",
      "19934 occured more than 3 years before 2020-09-01\n",
      "5040 occured more than 7 years before 2020-09-01\n"
     ]
    }
   ],
   "source": [
    "eligible = sf.loc[\n",
    "  (sf['Total Offenses']==1) &\n",
    "  (sf['Expungeable']=='Yes')\n",
    "]\n",
    "\n",
    "q1 = 'Q1', 'Eligible Today: No more than one offense, offense must be expungeable', get_result(eligible)\n",
    "print(q1)\n",
    "date_range(eligible)"
   ]
  },
  {
   "cell_type": "markdown",
   "metadata": {
    "id": "sDRExpELsDPM"
   },
   "source": [
    "**Question 2**\n",
    "\n",
    "**2A: If we only change the number of offenses, how many are eligible based on only having one incident (that does not include an ineligible offense)?**\n",
    "\n",
    "Notes:\n",
    "* Making the assumption based on the 06/26/<wbr>20 meeting notes that an 'incident' is defined as the sum of all charges for an individual on a single day. In theory, someone could probably be charged in two separate instances on a single day, but this is likely rare.\n",
    "* For all incident-based analysis in this notebook, we assume that a single non-expungeable offense under the bundle of the incident makes the entire incident non-expungeable. Same for the analysis of murder or sex crimes."
   ]
  },
  {
   "cell_type": "code",
   "execution_count": 397,
   "metadata": {
    "colab": {
     "base_uri": "https://localhost:8080/"
    },
    "id": "b0mpUg7_rUB7",
    "outputId": "79c66c35-bb5d-4d4d-c1a9-22204011e63e"
   },
   "outputs": [
    {
     "name": "stdout",
     "output_type": "stream",
     "text": [
      "('Q2A', 'No more than one incident, all offenses must be expungeable', (43066, '47.62%'))\n",
      "36213 occured more than 3 years before 2020-09-01\n",
      "9053 occured more than 7 years before 2020-09-01\n"
     ]
    }
   ],
   "source": [
    "eligible = sf.loc[\n",
    "  (sf['Incidents']==1) &\n",
    "  (sf['Incident Expungeable']==True)\n",
    "]\n",
    "\n",
    "q2a = 'Q2A', 'No more than one incident, all offenses must be expungeable', get_result(eligible)\n",
    "print(q2a)\n",
    "date_range(eligible)"
   ]
  },
  {
   "cell_type": "markdown",
   "metadata": {
    "id": "7K-kVtDMp2RX"
   },
   "source": [
    "**2B) How many would be eligible if we only limited to only exclude sex-based offenses or murder?**"
   ]
  },
  {
   "cell_type": "code",
   "execution_count": 398,
   "metadata": {
    "colab": {
     "base_uri": "https://localhost:8080/"
    },
    "id": "bo1F1-tsvMCv",
    "outputId": "1ceb8e03-5505-4de6-bf67-26407337db91"
   },
   "outputs": [
    {
     "name": "stdout",
     "output_type": "stream",
     "text": [
      "Q2B) (Any number of incidents, only offenses related to sex or murder are nonexpungeable)\n",
      "('Q2B', 'Any number of incidents, only offenses related to sex or murder are nonexpungeable', (87713, '96.98%'))\n",
      "75730 occured more than 3 years before 2020-09-01\n",
      "20715 occured more than 7 years before 2020-09-01\n"
     ]
    }
   ],
   "source": [
    "eligible = sf.loc[\n",
    "  (sf['Incident Sex Murder']==False)\n",
    "]\n",
    "\n",
    "print('Q2B) (Any number of incidents, only offenses related to sex or murder are nonexpungeable)')\n",
    "q2b = 'Q2B', 'Any number of incidents, only offenses related to sex or murder are nonexpungeable', get_result(eligible)\n",
    "print(q2b)\n",
    "date_range(eligible)"
   ]
  },
  {
   "cell_type": "markdown",
   "metadata": {
    "id": "mCAV2tZbv1Wf"
   },
   "source": [
    "**2B.2) How many would be eligible if we only limited to only exclude sex-based offenses or murder?**\n",
    "\n",
    "Notes:\n",
    "*   Same as 2B above, but this time expungeability requires a person to have no more than one incident."
   ]
  },
  {
   "cell_type": "code",
   "execution_count": 399,
   "metadata": {
    "colab": {
     "base_uri": "https://localhost:8080/"
    },
    "id": "qXALDctjwI3j",
    "outputId": "2de5bc93-e24d-4833-8ea6-0cefe9a18f8e"
   },
   "outputs": [
    {
     "name": "stdout",
     "output_type": "stream",
     "text": [
      "('Q2B.2', 'No more than one incident, only offenses related to sex or murder are nonexpungeable', (63519, '70.23%'))\n",
      "52754 occured more than 3 years before 2020-09-01\n",
      "12439 occured more than 7 years before 2020-09-01\n"
     ]
    }
   ],
   "source": [
    "eligible = sf.loc[\n",
    "  (sf['Incidents']==1) &\n",
    "  (sf['Incident Sex Murder']==False)\n",
    "]\n",
    "\n",
    "q2b2 = 'Q2B.2', 'No more than one incident, only offenses related to sex or murder are nonexpungeable', get_result(eligible)\n",
    "print(q2b2)\n",
    "date_range(eligible)"
   ]
  },
  {
   "cell_type": "markdown",
   "metadata": {
    "id": "-toxIMUkUqPl"
   },
   "source": [
    "**Question 3**\n",
    "\n",
    "**3A) How many would be eligible if we only limited to only exclude sex-based offenses or murder?**\n",
    "\n",
    "Notes:\n",
    "*   Having multiple offenses or incidents does not impact expungeability for this sub-question.\n",
    "\n"
   ]
  },
  {
   "cell_type": "code",
   "execution_count": 400,
   "metadata": {
    "colab": {
     "base_uri": "https://localhost:8080/"
    },
    "id": "qvFcdf8pU7_T",
    "outputId": "4a4f433f-9639-4a60-9b76-a05d06d4b10a"
   },
   "outputs": [
    {
     "name": "stdout",
     "output_type": "stream",
     "text": [
      "('Q3A', 'Any number of incidents, no guilty dispositions, all offenses expungeable', (55009, '60.82%'))\n",
      "47035 occured more than 3 years before 2020-09-01\n",
      "12271 occured more than 7 years before 2020-09-01\n"
     ]
    }
   ],
   "source": [
    "eligible = sf.loc[\n",
    "  (sf['Incident Expungeable']==True) &\n",
    "  (sf['Incident Guilty']<1)\n",
    "]\n",
    "\n",
    "q3a = 'Q3A', 'Any number of incidents, no guilty dispositions, all offenses expungeable', get_result(eligible)\n",
    "print(q3a)\n",
    "date_range(eligible)"
   ]
  },
  {
   "cell_type": "markdown",
   "metadata": {},
   "source": [
    "**3A.2) How many would be eligible if we only limited to only exclude sex-based offenses or murder?**\n",
    "\n",
    "Notes:\n",
    "*   Same as 3A above, but this time expungeability requires a person to have no more than one incident."
   ]
  },
  {
   "cell_type": "code",
   "execution_count": 401,
   "metadata": {},
   "outputs": [
    {
     "name": "stdout",
     "output_type": "stream",
     "text": [
      "('Q3A.2', 'No more than one incident, no guilty dispositions, all offenses expungeable', (36173, '40.00%'))\n",
      "30256 occured more than 3 years before 2020-09-01\n",
      "7545 occured more than 7 years before 2020-09-01\n"
     ]
    }
   ],
   "source": [
    "eligible = sf.loc[\n",
    "  (sf['Incidents'] == 1) &\n",
    "  (sf['Incident Expungeable']==True) &\n",
    "  (sf['Incident Guilty']<1)\n",
    "]\n",
    "\n",
    "q3a2 = 'Q3A.2', 'No more than one incident, no guilty dispositions, all offenses expungeable', get_result(eligible)\n",
    "print(q3a2)\n",
    "date_range(eligible)"
   ]
  },
  {
   "cell_type": "markdown",
   "metadata": {
    "id": "QV31DfsvtTKv"
   },
   "source": [
    "**3B) How many would be eligible based on who has not been found guilty, except murder or sex offenses?**\n",
    "\n",
    "Notes:\n",
    "*   Having multiple offenses or incidents does not impact expungeability for this sub-question."
   ]
  },
  {
   "cell_type": "code",
   "execution_count": 402,
   "metadata": {
    "colab": {
     "base_uri": "https://localhost:8080/"
    },
    "id": "TKuiqL97KUz1",
    "outputId": "df848764-fa97-4a31-f872-c6a91b019f5f"
   },
   "outputs": [
    {
     "name": "stdout",
     "output_type": "stream",
     "text": [
      "('Q3B', 'Any number of incidents, no guilty dispositions, only offenses related to sex or murder are nonexpungeable', (76407, '84.48%'))\n",
      "64939 occured more than 3 years before 2020-09-01\n",
      "16741 occured more than 7 years before 2020-09-01\n"
     ]
    }
   ],
   "source": [
    "eligible = sf.loc[\n",
    "  #(sf['Incident Expungeable']==True) &\n",
    "  (sf['Incident Guilty']<1) &\n",
    "  (sf['Incident Sex Murder']==False)\n",
    "]\n",
    "\n",
    "q3b = 'Q3B', 'Any number of incidents, no guilty dispositions, only offenses related to sex or murder are nonexpungeable', get_result(eligible)\n",
    "print(q3b)\n",
    "date_range(eligible)"
   ]
  },
  {
   "cell_type": "markdown",
   "metadata": {},
   "source": [
    "**3B.2) How many would be eligible based on who has not been found guilty, except murder or sex offenses?**\n",
    "\n",
    "Notes:\n",
    "*   Same as 3B above, but this time expungeability requires a person to have no more than one incident."
   ]
  },
  {
   "cell_type": "code",
   "execution_count": 403,
   "metadata": {},
   "outputs": [
    {
     "name": "stdout",
     "output_type": "stream",
     "text": [
      "('Q3B.2', 'No more than one incident, no guilty dispositions, only offenses related to sex or murder are nonexpungeable', (53679, '59.35%'))\n",
      "44096 occured more than 3 years before 2020-09-01\n",
      "10279 occured more than 7 years before 2020-09-01\n"
     ]
    }
   ],
   "source": [
    "eligible = sf.loc[\n",
    "  (sf['Incidents'] == 1) &\n",
    "  #(sf['Incident Expungeable']==True) &\n",
    "  (sf['Incident Guilty']<1) &\n",
    "  (sf['Incident Sex Murder']==False)\n",
    "]\n",
    "\n",
    "q3b2 = 'Q3B.2', 'No more than one incident, no guilty dispositions, only offenses related to sex or murder are nonexpungeable', get_result(eligible)\n",
    "print(q3b2)\n",
    "date_range(eligible)"
   ]
  },
  {
   "cell_type": "markdown",
   "metadata": {
    "id": "abUKvbT6tzUO"
   },
   "source": [
    "**Summary of Analysis**"
   ]
  },
  {
   "cell_type": "code",
   "execution_count": 404,
   "metadata": {
    "colab": {
     "base_uri": "https://localhost:8080/",
     "height": 284
    },
    "id": "6eFBDBRt6oCe",
    "outputId": "0153cb99-a587-44f9-9cf9-3110e7913b57"
   },
   "outputs": [
    {
     "data": {
      "text/html": [
       "<div>\n",
       "<style scoped>\n",
       "    .dataframe tbody tr th:only-of-type {\n",
       "        vertical-align: middle;\n",
       "    }\n",
       "\n",
       "    .dataframe tbody tr th {\n",
       "        vertical-align: top;\n",
       "    }\n",
       "\n",
       "    .dataframe thead th {\n",
       "        text-align: right;\n",
       "    }\n",
       "</style>\n",
       "<table border=\"1\" class=\"dataframe\">\n",
       "  <thead>\n",
       "    <tr style=\"text-align: right;\">\n",
       "      <th></th>\n",
       "      <th>Question</th>\n",
       "      <th>Individuals</th>\n",
       "      <th>Percent</th>\n",
       "    </tr>\n",
       "    <tr>\n",
       "      <th>q</th>\n",
       "      <th></th>\n",
       "      <th></th>\n",
       "      <th></th>\n",
       "    </tr>\n",
       "  </thead>\n",
       "  <tbody>\n",
       "    <tr>\n",
       "      <th>Q1</th>\n",
       "      <td>Eligible Today: No more than one offense, offense must be expungeable</td>\n",
       "      <td>23784</td>\n",
       "      <td>26.30%</td>\n",
       "    </tr>\n",
       "    <tr>\n",
       "      <th>Q2A</th>\n",
       "      <td>No more than one incident, all offenses must be expungeable</td>\n",
       "      <td>43066</td>\n",
       "      <td>47.62%</td>\n",
       "    </tr>\n",
       "    <tr>\n",
       "      <th>Q2B</th>\n",
       "      <td>Any number of incidents, only offenses related to sex or murder are nonexpungeable</td>\n",
       "      <td>87713</td>\n",
       "      <td>96.98%</td>\n",
       "    </tr>\n",
       "    <tr>\n",
       "      <th>Q2B.2</th>\n",
       "      <td>No more than one incident, only offenses related to sex or murder are nonexpungeable</td>\n",
       "      <td>63519</td>\n",
       "      <td>70.23%</td>\n",
       "    </tr>\n",
       "    <tr>\n",
       "      <th>Q3A</th>\n",
       "      <td>Any number of incidents, no guilty dispositions, all offenses expungeable</td>\n",
       "      <td>55009</td>\n",
       "      <td>60.82%</td>\n",
       "    </tr>\n",
       "    <tr>\n",
       "      <th>Q3A.2</th>\n",
       "      <td>No more than one incident, no guilty dispositions, all offenses expungeable</td>\n",
       "      <td>36173</td>\n",
       "      <td>40.00%</td>\n",
       "    </tr>\n",
       "    <tr>\n",
       "      <th>Q3B</th>\n",
       "      <td>Any number of incidents, no guilty dispositions, only offenses related to sex or murder are nonexpungeable</td>\n",
       "      <td>76407</td>\n",
       "      <td>84.48%</td>\n",
       "    </tr>\n",
       "    <tr>\n",
       "      <th>Q3B.2</th>\n",
       "      <td>No more than one incident, no guilty dispositions, only offenses related to sex or murder are nonexpungeable</td>\n",
       "      <td>53679</td>\n",
       "      <td>59.35%</td>\n",
       "    </tr>\n",
       "  </tbody>\n",
       "</table>\n",
       "</div>"
      ],
      "text/plain": [
       "                                                                                                           Question  \\\n",
       "q                                                                                                                     \n",
       "Q1                                            Eligible Today: No more than one offense, offense must be expungeable   \n",
       "Q2A                                                     No more than one incident, all offenses must be expungeable   \n",
       "Q2B                              Any number of incidents, only offenses related to sex or murder are nonexpungeable   \n",
       "Q2B.2                          No more than one incident, only offenses related to sex or murder are nonexpungeable   \n",
       "Q3A                                       Any number of incidents, no guilty dispositions, all offenses expungeable   \n",
       "Q3A.2                                   No more than one incident, no guilty dispositions, all offenses expungeable   \n",
       "Q3B      Any number of incidents, no guilty dispositions, only offenses related to sex or murder are nonexpungeable   \n",
       "Q3B.2  No more than one incident, no guilty dispositions, only offenses related to sex or murder are nonexpungeable   \n",
       "\n",
       "       Individuals Percent  \n",
       "q                           \n",
       "Q1           23784  26.30%  \n",
       "Q2A          43066  47.62%  \n",
       "Q2B          87713  96.98%  \n",
       "Q2B.2        63519  70.23%  \n",
       "Q3A          55009  60.82%  \n",
       "Q3A.2        36173  40.00%  \n",
       "Q3B          76407  84.48%  \n",
       "Q3B.2        53679  59.35%  "
      ]
     },
     "execution_count": 404,
     "metadata": {},
     "output_type": "execute_result"
    }
   ],
   "source": [
    "stats = [q1, q2a, q2b, q2b2, q3a, q3a2, q3b, q3b2]\n",
    "statsdf = pd.DataFrame(stats, columns = ['q', 'Question', 'A'])\n",
    "statsdf[['Individuals', 'Percent']] = pd.DataFrame(statsdf['A'].tolist())\n",
    "statsdf = statsdf.drop('A', axis=1)\n",
    "statsdf = statsdf.set_index('q')\n",
    "\n",
    "statsdf.style.format({'Eligible Individuals' : '{:,}'})\n",
    "statsdf"
   ]
  },
  {
   "cell_type": "code",
   "execution_count": null,
   "metadata": {},
   "outputs": [],
   "source": []
  }
 ],
 "metadata": {
  "colab": {
   "collapsed_sections": [],
   "name": "suffolk.ipynb",
   "provenance": []
  },
  "kernelspec": {
   "display_name": "Python 3",
   "language": "python",
   "name": "python3"
  },
  "language_info": {
   "codemirror_mode": {
    "name": "ipython",
    "version": 3
   },
   "file_extension": ".py",
   "mimetype": "text/x-python",
   "name": "python",
   "nbconvert_exporter": "python",
   "pygments_lexer": "ipython3",
   "version": "3.9.0"
  }
 },
 "nbformat": 4,
 "nbformat_minor": 4
}
