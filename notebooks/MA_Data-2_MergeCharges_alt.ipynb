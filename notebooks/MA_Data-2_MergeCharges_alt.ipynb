{
 "cells": [
  {
   "cell_type": "markdown",
   "metadata": {},
   "source": [
    "# Clean Slate: Estimating offenses eligible for expungement under varying conditions\n",
    "> Prepared by [Laura Feeney](https://github.com/laurafeeney) for Code for Boston's [Clean Slate project](https://github.com/codeforboston/clean-slate).\n",
    "\n",
    "## Purpose\n",
    "This notebook is an alternative to [MA_Data-2_mergecharges](https://github.com/codeforboston/clean-slate/blob/master/analyses/notebooks/MA_Data-2_MergeCharges.ipynb). That notebook creates duplicates in the charges because chapter & section do not uniquely identify expungability. Ideally we would create an updated \"Master Crime List\" and update the full data flow. This is a crutch in the meantime, since we have expungability for all offenses for the NW and suffolk data that we currently have. \n",
    "\n",
    "This notebook will also clean up the individual level data.\n",
    "\n",
    "-----"
   ]
  },
  {
   "cell_type": "code",
   "execution_count": 1,
   "metadata": {},
   "outputs": [],
   "source": [
    "import pandas as pd\n",
    "import numpy as np\n",
    "import regex as re\n",
    "import glob, os"
   ]
  },
  {
   "cell_type": "code",
   "execution_count": 2,
   "metadata": {},
   "outputs": [
    {
     "name": "stdout",
     "output_type": "stream",
     "text": [
      "<class 'pandas.core.frame.DataFrame'>\n",
      "RangeIndex: 75725 entries, 0 to 75724\n",
      "Data columns (total 10 columns):\n",
      " #   Column          Non-Null Count  Dtype  \n",
      "---  ------          --------------  -----  \n",
      " 0   Person ID       75725 non-null  object \n",
      " 1   Court           75725 non-null  object \n",
      " 2   Offense Date    74915 non-null  object \n",
      " 3   Age at Offense  74783 non-null  float64\n",
      " 4   Filed           75725 non-null  object \n",
      " 5   Status          75725 non-null  object \n",
      " 6   Count           75725 non-null  int64  \n",
      " 7   Charge          75725 non-null  object \n",
      " 8   Disposition     72259 non-null  object \n",
      " 9   Dispo Date      71881 non-null  object \n",
      "dtypes: float64(1), int64(1), object(8)\n",
      "memory usage: 5.8+ MB\n"
     ]
    }
   ],
   "source": [
    "# individual-level data from NW district. This is as raw as possible.\n",
    "\n",
    "nw_ind = pd.read_csv('../../data/raw/nw.csv', encoding='cp1252') \n",
    "nw_ind.info()"
   ]
  },
  {
   "cell_type": "markdown",
   "metadata": {},
   "source": [
    "#### Add column for CMR\n",
    "Create a column indicating if the offense is against the Code of Massachusetts Regulations (CMR) rather than a criminal violation. These are things like traffic violations, watershed violations, headlights issues, aftermarket tinting on a car, not having a hunting license, car registration issues etc. Unclear whether these should be included in the analysis\n",
    "\n"
   ]
  },
  {
   "cell_type": "code",
   "execution_count": 3,
   "metadata": {},
   "outputs": [
    {
     "data": {
      "text/plain": [
       "STATE HWAYÂ—TRAFFIC VIOLATION * 720 CMR Â§9.06                   179\n",
       "MDC WATERSHEDÂ—NON-MV VIOLATION 350 CMR Â§11.09                   61\n",
       "HEADLIGHTS, FAIL DIM * 540 CMR Â§22.05(2)                         47\n",
       "REGISTRATION STICKER MISSING * 540 CMR Â§2.05(6)(a)               36\n",
       "STATE HWAYÂ—SIGNAL/SIGN/MARKINGS VIOL * 720 CMR Â§9.06            25\n",
       "MDC WATERSHEDÂ—MV VIOLATION  350 CMR Â§11.09                      19\n",
       "STATE HWAYÂ—WRONG WAY * 720 CMR Â§9.05                            13\n",
       "STATE HWAYÂ—TRAFFIC VIOLATION * 720 CMR Â§9.07                     9\n",
       "MOTOR CARRIER SAFETY VIOLATION 540 CMR Â§14.03                     9\n",
       "AFTERMARKET LIGHTING, NONCOMPLIANT * 540 CMR Â§22.07               8\n",
       "MOTOR VEH INSPECTION STATION VIOLATION 540 CMR Â§4.00              7\n",
       "MBOAT OPERATION VIOLATION 323 CMR Â§2.07                           6\n",
       "FISH/WILDLIFEÂ—HUNT/FISH VIOL 321 CMR Â§3.00                       5\n",
       "NUMBER PLATE, MISUSE DEALER/REPAIR 540 CMR Â§18.04(2)              4\n",
       "HEADLIGHTS, ALTERNATING FLASHING * 540 CMR Â§22.05(2)              2\n",
       "JET SKI VIOLATION 323 CMR Â§4.03                                   2\n",
       "MASS PIKE-TOO CLOSE* 700CMR 7.08(15)                               1\n",
       "MDC WAYÂ—HITCHHIKE 350 CMR Â§4.01                                  1\n",
       "STATE HWAYÂ—LEFT LANE RESTRICTION VIOL * 720 CMR Â§9.08(5)(b)      1\n",
       "STATE HWAYÂ—PEDESTRIAN VIOLATION 720 CMR Â§9.09                    1\n",
       "MDC WAY/RESERVÂ—NON-MV VIOLATION 350 CMR Â§2.01(2)                 1\n",
       "PUBLIC ACCESS REGS VIOLATION 324 CMR Â§2.03                        1\n",
       "SNOW/REC VEHICLE VIOLATION * 323 CMR Â§3.03                        1\n",
       "STATE HWAYÂ—RAMP, BACK ON/OFF * 720 CMR Â§9.08                     1\n",
       "Name: Charge, dtype: int64"
      ]
     },
     "execution_count": 3,
     "metadata": {},
     "output_type": "execute_result"
    }
   ],
   "source": [
    "nw_ind['CMRoffense'] = None\n",
    "nw_ind.loc[nw_ind['Charge'].str.contains(\"CMR\"), 'CMRoffense'] = 'yes'\n",
    "nw_ind.CMRoffense.fillna(\"no\", inplace=True)\n",
    "nw_ind.loc[nw_ind['CMRoffense']=='yes']['Charge'].value_counts()"
   ]
  },
  {
   "cell_type": "markdown",
   "metadata": {},
   "source": [
    "### read in datasets with expungability info\n",
    "\n",
    "prosecution_charges_detailed is a processed file with some expungement information. This file was based on the prosecution_northwestern and prosecution_suff originally created by [MA_Data-2_mergecharges](https://github.com/codeforboston/clean-slate/blob/master/analyses/notebooks/MA_Data-2_MergeCharges.ipynb). We did further processing in R in order to clean up the expungability column and remove duplicates.\n",
    "\n",
    "It also has an extra_criteria column to show what, beyond chapter & section, is needed to determine expungability, and dummy vars for sex and murder offenses to help with later analysis."
   ]
  },
  {
   "cell_type": "code",
   "execution_count": 4,
   "metadata": {},
   "outputs": [
    {
     "name": "stdout",
     "output_type": "stream",
     "text": [
      "<class 'pandas.core.frame.DataFrame'>\n",
      "RangeIndex: 1650 entries, 0 to 1649\n",
      "Data columns (total 7 columns):\n",
      " #   Column          Non-Null Count  Dtype \n",
      "---  ------          --------------  ----- \n",
      " 0   Charge          1650 non-null   object\n",
      " 1   Chapter         1555 non-null   object\n",
      " 2   Section         1562 non-null   object\n",
      " 3   Expungeable     1189 non-null   object\n",
      " 4   sex             1650 non-null   int64 \n",
      " 5   murder          1650 non-null   int64 \n",
      " 6   extra_criteria  41 non-null     object\n",
      "dtypes: int64(2), object(5)\n",
      "memory usage: 90.4+ KB\n"
     ]
    }
   ],
   "source": [
    "PCD = pd.read_csv('../../data/processed/prosecution_charges_detailed.csv', encoding='cp1252') \n",
    "PCD.rename(columns={\"Expungeable.\":\"Expungeable\"}, inplace=True)\n",
    "columns = ['Charge', 'Chapter', 'Section', 'Expungeable', 'sex', 'murder', 'extra_criteria']\n",
    "PCD = PCD[columns]\n",
    "PCD.info()"
   ]
  },
  {
   "cell_type": "code",
   "execution_count": 5,
   "metadata": {},
   "outputs": [],
   "source": [
    "# This sheet fills in the missing information from the PCD file. This was manually filled in based on examination of the charges\n",
    "# vs the statute, and confirmed in conversation with Sana from cfjj in August 2020\n",
    "\n",
    "addtl_exp = pd.read_csv('../../data/raw/missing_expungeability_08-02.csv', encoding='cp1252') \n",
    "addtl_exp.rename(columns={\"Expungeable.\":\"Expungeable\"}, inplace=True)\n",
    "columns = ['Charge', 'Expungeable', \n",
    "           'Reason not expungeable', 'Analysis notes']\n",
    "addtl_exp = addtl_exp[columns]\n",
    "addtl_exp['Expungeable'].replace({'yes': 'Yes', 'no': 'No', 'na': 'NotApplicable'}, inplace=True)"
   ]
  },
  {
   "cell_type": "markdown",
   "metadata": {},
   "source": [
    "## Merge NW data with expungability\n",
    "\n",
    "This step will be the most messy. Hopefully some updates to the data pipeline will be made and this will be simplified.\n",
    "\n",
    "1. merge individual level data (nw_ind) with the prosecution_charges_detailed (PCD) which has most data filled in \n",
    "2. merge the resulting data set with the manually filled information on expungability (addtl_exp)\n",
    "\n",
    "At some point both 1 and 2 will be replaced by mering individual data with the Master Crime List, once that is the most up to date source of which offenses may be expunged.\n",
    "Note, we cannot use the Suffolk county data to answer the questions because it does not have age. "
   ]
  },
  {
   "cell_type": "code",
   "execution_count": 6,
   "metadata": {},
   "outputs": [
    {
     "data": {
      "text/plain": [
       "Yes              55053\n",
       "No               20007\n",
       "NotApplicable      439\n",
       "NaN                226\n",
       "Name: Expungeable, dtype: int64"
      ]
     },
     "execution_count": 6,
     "metadata": {},
     "output_type": "execute_result"
    }
   ],
   "source": [
    "nw_merged = nw_ind.merge(PCD, on='Charge', how='left')\n",
    "nw_merged = nw_merged.merge(addtl_exp, on='Charge', how='left')\n",
    "\n",
    "# combine the expungability information from the two data sets\n",
    "\n",
    "nw_merged['Expungeable'] = nw_merged['Expungeable_x']\n",
    "nw_merged.Expungeable.fillna(nw_merged.Expungeable_y, inplace=True)\n",
    "nw_merged = nw_merged.drop(columns = ['Expungeable_x', 'Expungeable_y'])\n",
    "nw_merged['Expungeable'].value_counts(dropna=False)"
   ]
  },
  {
   "cell_type": "code",
   "execution_count": 7,
   "metadata": {},
   "outputs": [
    {
     "data": {
      "text/html": [
       "<div>\n",
       "<style scoped>\n",
       "    .dataframe tbody tr th:only-of-type {\n",
       "        vertical-align: middle;\n",
       "    }\n",
       "\n",
       "    .dataframe tbody tr th {\n",
       "        vertical-align: top;\n",
       "    }\n",
       "\n",
       "    .dataframe thead th {\n",
       "        text-align: right;\n",
       "    }\n",
       "</style>\n",
       "<table border=\"1\" class=\"dataframe\">\n",
       "  <thead>\n",
       "    <tr style=\"text-align: right;\">\n",
       "      <th>CMRoffense</th>\n",
       "      <th>no</th>\n",
       "      <th>yes</th>\n",
       "    </tr>\n",
       "    <tr>\n",
       "      <th>Expungeable</th>\n",
       "      <th></th>\n",
       "      <th></th>\n",
       "    </tr>\n",
       "  </thead>\n",
       "  <tbody>\n",
       "    <tr>\n",
       "      <th>No</th>\n",
       "      <td>20007</td>\n",
       "      <td>0</td>\n",
       "    </tr>\n",
       "    <tr>\n",
       "      <th>NotApplicable</th>\n",
       "      <td>0</td>\n",
       "      <td>439</td>\n",
       "    </tr>\n",
       "    <tr>\n",
       "      <th>Yes</th>\n",
       "      <td>55052</td>\n",
       "      <td>1</td>\n",
       "    </tr>\n",
       "  </tbody>\n",
       "</table>\n",
       "</div>"
      ],
      "text/plain": [
       "CMRoffense        no  yes\n",
       "Expungeable              \n",
       "No             20007    0\n",
       "NotApplicable      0  439\n",
       "Yes            55052    1"
      ]
     },
     "execution_count": 7,
     "metadata": {},
     "output_type": "execute_result"
    }
   ],
   "source": [
    "pd.crosstab(nw_merged['Expungeable'], nw_merged['CMRoffense'])"
   ]
  },
  {
   "cell_type": "code",
   "execution_count": 8,
   "metadata": {},
   "outputs": [
    {
     "data": {
      "text/plain": [
       "ATTEMPT TO COMMIT CRIME c274 Â§6              218\n",
       "BURGLARY, UNARMED & ASSAULT c266 Â§14           6\n",
       "ATTEMPT TO COMMIT CRIME, HABITUAL c274 Â§6      2\n",
       "Name: Charge, dtype: int64"
      ]
     },
     "execution_count": 8,
     "metadata": {},
     "output_type": "execute_result"
    }
   ],
   "source": [
    "nw_merged.loc[(nw_merged['Expungeable'] == \"Yes\") & (nw_merged['CMRoffense'] == \"yes\"), ['Expungeable']] = \"NA\"\n",
    "\n",
    "# what is still missing?\n",
    "\n",
    "nw_merged.loc[nw_merged.Expungeable.isnull()]['Charge'].value_counts(dropna = False)"
   ]
  },
  {
   "cell_type": "code",
   "execution_count": 9,
   "metadata": {},
   "outputs": [
    {
     "data": {
      "text/plain": [
       "Yes              55052\n",
       "No               20013\n",
       "NotApplicable      439\n",
       "Attempt            220\n",
       "NA                   1\n",
       "Name: Expungeable, dtype: int64"
      ]
     },
     "execution_count": 9,
     "metadata": {},
     "output_type": "execute_result"
    }
   ],
   "source": [
    "nw_merged.loc[(nw_merged['Charge'] == \"BURGLARY, UNARMED & ASSAULT c266 Â§14\"),['Expungeable']] = \"No\" # not expungealbe\n",
    "\n",
    "# Don't have enough info on what crime was attempted in order to determine expungability. These aren't a high %, and\n",
    "# many may be purged out through the other reasons an offense may not be expungable. \n",
    "\n",
    "nw_merged.loc[(nw_merged['Charge'] == \"ATTEMPT TO COMMIT CRIME c274 Â§6\"),['Expungeable']] = \"Attempt\" # need more info \n",
    "nw_merged.loc[(nw_merged['Charge'] == \"ATTEMPT TO COMMIT CRIME, HABITUAL c274 Â§6\"),['Expungeable']] = \"Attempt\" # need more info\n",
    "nw_merged['Expungeable'].value_counts(dropna=False)"
   ]
  },
  {
   "cell_type": "code",
   "execution_count": 10,
   "metadata": {},
   "outputs": [],
   "source": [
    "nw_merged.to_csv('../../data/processed/merged_nw.csv', index=False)"
   ]
  },
  {
   "cell_type": "markdown",
   "metadata": {},
   "source": [
    "## Merge suffolk data with expungability\n",
    "\n",
    "Repeat the steps above. \n",
    "Note, we cannot use the Suffolk county data to answer the questions because it does not have age. "
   ]
  },
  {
   "cell_type": "code",
   "execution_count": 11,
   "metadata": {},
   "outputs": [
    {
     "name": "stdout",
     "output_type": "stream",
     "text": [
      "<class 'pandas.core.frame.DataFrame'>\n",
      "RangeIndex: 303270 entries, 0 to 303269\n",
      "Data columns (total 12 columns):\n",
      " #   Column                          Non-Null Count   Dtype \n",
      "---  ------                          --------------   ----- \n",
      " 0   Person ID                       303270 non-null  object\n",
      " 1   Court                           303270 non-null  object\n",
      " 2   Offense Date                    300877 non-null  object\n",
      " 3   Filed                           303270 non-null  object\n",
      " 4   Status                          303270 non-null  object\n",
      " 5   Count                           303270 non-null  int64 \n",
      " 6   Charge                          303270 non-null  object\n",
      " 7   Type Crime                      303270 non-null  object\n",
      " 8   Code Ucc Ctgry                  262955 non-null  object\n",
      " 9   Disposition                     251710 non-null  object\n",
      " 10  Description Disposition Reason  212684 non-null  object\n",
      " 11  Dispo Date                      251300 non-null  object\n",
      "dtypes: int64(1), object(11)\n",
      "memory usage: 27.8+ MB\n"
     ]
    }
   ],
   "source": [
    "# individual-level data from NW district. This is as raw as possible.\n",
    "\n",
    "suff_ind = pd.read_csv('../../data/raw/suff.csv', encoding='cp1252') \n",
    "suff_ind.info()"
   ]
  },
  {
   "cell_type": "code",
   "execution_count": 12,
   "metadata": {},
   "outputs": [],
   "source": [
    "suff_ind['CMRoffense'] = None\n",
    "suff_ind.loc[suff_ind['Charge'].str.contains(\"CMR\"), 'CMRoffense'] = 'yes'\n",
    "suff_ind.CMRoffense.fillna(\"no\", inplace=True)\n",
    "#suff_ind.loc[suff_ind['CMRoffense']=='yes']['Charge'].value_counts()"
   ]
  },
  {
   "cell_type": "code",
   "execution_count": 13,
   "metadata": {},
   "outputs": [
    {
     "data": {
      "text/plain": [
       "Yes              215374\n",
       "No                82003\n",
       "NotApplicable      2446\n",
       "m                  1909\n",
       "NaN                1538\n",
       "Name: Expungeable, dtype: int64"
      ]
     },
     "execution_count": 13,
     "metadata": {},
     "output_type": "execute_result"
    }
   ],
   "source": [
    "suff_merged = suff_ind.merge(PCD, on='Charge', how='left')\n",
    "suff_merged = suff_merged.merge(addtl_exp, on='Charge', how='left')\n",
    "\n",
    "# combine the expungability information from the two data sets\n",
    "\n",
    "suff_merged['Expungeable'] = suff_merged['Expungeable_x']\n",
    "suff_merged.Expungeable.fillna(suff_merged.Expungeable_y, inplace=True)\n",
    "suff_merged = suff_merged.drop(columns = ['Expungeable_x', 'Expungeable_y'])\n",
    "suff_merged['Expungeable'].value_counts(dropna=False)"
   ]
  },
  {
   "cell_type": "code",
   "execution_count": 14,
   "metadata": {},
   "outputs": [
    {
     "data": {
      "text/html": [
       "<div>\n",
       "<style scoped>\n",
       "    .dataframe tbody tr th:only-of-type {\n",
       "        vertical-align: middle;\n",
       "    }\n",
       "\n",
       "    .dataframe tbody tr th {\n",
       "        vertical-align: top;\n",
       "    }\n",
       "\n",
       "    .dataframe thead th {\n",
       "        text-align: right;\n",
       "    }\n",
       "</style>\n",
       "<table border=\"1\" class=\"dataframe\">\n",
       "  <thead>\n",
       "    <tr style=\"text-align: right;\">\n",
       "      <th>CMRoffense</th>\n",
       "      <th>no</th>\n",
       "      <th>yes</th>\n",
       "    </tr>\n",
       "    <tr>\n",
       "      <th>Expungeable</th>\n",
       "      <th></th>\n",
       "      <th></th>\n",
       "    </tr>\n",
       "  </thead>\n",
       "  <tbody>\n",
       "    <tr>\n",
       "      <th>No</th>\n",
       "      <td>82003</td>\n",
       "      <td>0</td>\n",
       "    </tr>\n",
       "    <tr>\n",
       "      <th>NotApplicable</th>\n",
       "      <td>1</td>\n",
       "      <td>2445</td>\n",
       "    </tr>\n",
       "    <tr>\n",
       "      <th>Yes</th>\n",
       "      <td>215374</td>\n",
       "      <td>0</td>\n",
       "    </tr>\n",
       "    <tr>\n",
       "      <th>m</th>\n",
       "      <td>1909</td>\n",
       "      <td>0</td>\n",
       "    </tr>\n",
       "  </tbody>\n",
       "</table>\n",
       "</div>"
      ],
      "text/plain": [
       "CMRoffense         no   yes\n",
       "Expungeable                \n",
       "No              82003     0\n",
       "NotApplicable       1  2445\n",
       "Yes            215374     0\n",
       "m                1909     0"
      ]
     },
     "execution_count": 14,
     "metadata": {},
     "output_type": "execute_result"
    }
   ],
   "source": [
    "pd.crosstab(suff_merged['Expungeable'], suff_merged['CMRoffense'])"
   ]
  },
  {
   "cell_type": "code",
   "execution_count": 15,
   "metadata": {},
   "outputs": [
    {
     "data": {
      "text/plain": [
       "ATTEMPT TO COMMIT CRIME c274 Â§6         1503\n",
       "BURGLARY, UNARMED & ASSAULT c266 Â§14      35\n",
       "Name: Charge, dtype: int64"
      ]
     },
     "execution_count": 15,
     "metadata": {},
     "output_type": "execute_result"
    }
   ],
   "source": [
    "# what is still missing?\n",
    "\n",
    "suff_merged.loc[suff_merged.Expungeable.isnull()]['Charge'].value_counts(dropna = False)"
   ]
  },
  {
   "cell_type": "code",
   "execution_count": 16,
   "metadata": {},
   "outputs": [
    {
     "data": {
      "text/plain": [
       "Yes              215374\n",
       "No                82038\n",
       "NotApplicable      2446\n",
       "m                  1909\n",
       "Attempt            1503\n",
       "Name: Expungeable, dtype: int64"
      ]
     },
     "execution_count": 16,
     "metadata": {},
     "output_type": "execute_result"
    }
   ],
   "source": [
    "suff_merged.loc[(suff_merged['Charge'] == \"BURGLARY, UNARMED & ASSAULT c266 Â§14\"),['Expungeable']] = \"No\" # not expungealbe\n",
    "suff_merged.loc[(suff_merged['Charge'] == \"ATTEMPT TO COMMIT CRIME c274 Â§6\"),['Expungeable']] = \"Attempt\" # need more info \n",
    "suff_merged['Expungeable'].value_counts(dropna=False)"
   ]
  },
  {
   "cell_type": "code",
   "execution_count": 17,
   "metadata": {},
   "outputs": [],
   "source": [
    "suff_merged.to_csv('../../data/processed/merged_suff.csv', index=False)"
   ]
  }
 ],
 "metadata": {
  "kernelspec": {
   "display_name": "Python 3",
   "language": "python",
   "name": "python3"
  },
  "language_info": {
   "codemirror_mode": {
    "name": "ipython",
    "version": 3
   },
   "file_extension": ".py",
   "mimetype": "text/x-python",
   "name": "python",
   "nbconvert_exporter": "python",
   "pygments_lexer": "ipython3",
   "version": "3.8.3"
  }
 },
 "nbformat": 4,
 "nbformat_minor": 4
}
