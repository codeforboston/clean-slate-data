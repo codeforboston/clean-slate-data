{
 "cells": [
  {
   "cell_type": "markdown",
   "metadata": {},
   "source": [
    "# Clean Slate: Estimating offenses eligible for expungement under varying conditions\n",
    "> Prepared by [Laura Feeney](https://github.com/laurafeeney) for Code for Boston's [Clean Slate project](https://github.com/codeforboston/clean-slate).\n",
    "\n",
    "## Purpose & Notes\n",
    "Clean and merge Middlesex DA data with expungement eligibility data. \n",
    "This data was sourced from the Middlesex DA website: https://www.middlesexda.com/public-information/pages/prosecution-data-and-statistics\n",
    "\n",
    "Description from website: \"The following is data from our Damion Case Management System pertaining to prosecution statistics for the time period from January 1, 2014, through January 1, 2020.\"\n",
    "\n",
    "The download is available as an Excel file. Opening excel in Python was too slow, so I manually converted it to csv, and imported via csv.\n",
    "\n",
    "Note: This did not have age or DOB. \n",
    "\n",
    "The Middlesex DA site says this should be prosecutions for 2014 - 2019. However, not all offense dates nor all disposition dates are within this timeline.\n",
    "\n",
    "### Merging\n",
    "The Charges have a slightly different format, character set, and phrasing of charges than the Suffolk and NW data, which we obtained first. Will need some manual updating to get expungment info for all charges.\n",
    "\n",
    "### Still to do\n",
    "* clean up sex and murder columns -- needs to be filled in for the unmatched from PCD / MCL / extra info. \n",
    "\n",
    "-----"
   ]
  },
  {
   "cell_type": "code",
   "execution_count": 1,
   "metadata": {},
   "outputs": [],
   "source": [
    "import pandas as pd\n",
    "pd.set_option(\"display.max_rows\", 200)\n",
    "import numpy as np\n",
    "import regex as re\n",
    "import glob, os\n",
    "import datetime \n",
    "from datetime import date \n",
    "\n",
    "#print(os.getcwd())\n",
    "os.chdir(\"../../data/raw\")\n",
    "#print(os.getcwd())"
   ]
  },
  {
   "cell_type": "code",
   "execution_count": 2,
   "metadata": {},
   "outputs": [
    {
     "data": {
      "text/html": [
       "<div>\n",
       "<style scoped>\n",
       "    .dataframe tbody tr th:only-of-type {\n",
       "        vertical-align: middle;\n",
       "    }\n",
       "\n",
       "    .dataframe tbody tr th {\n",
       "        vertical-align: top;\n",
       "    }\n",
       "\n",
       "    .dataframe thead th {\n",
       "        text-align: right;\n",
       "    }\n",
       "</style>\n",
       "<table border=\"1\" class=\"dataframe\">\n",
       "  <thead>\n",
       "    <tr style=\"text-align: right;\">\n",
       "      <th></th>\n",
       "      <th>Case Number</th>\n",
       "      <th>Offense Date</th>\n",
       "      <th>Date of Filing</th>\n",
       "      <th>Court Location</th>\n",
       "      <th>Charge/Crime Code</th>\n",
       "      <th>Charge/Crime Description</th>\n",
       "      <th>Charge/Crime Type</th>\n",
       "      <th>Disposition Description</th>\n",
       "      <th>Disposition Date</th>\n",
       "    </tr>\n",
       "  </thead>\n",
       "  <tbody>\n",
       "    <tr>\n",
       "      <th>0</th>\n",
       "      <td>14-01-479818</td>\n",
       "      <td>12/30/2013</td>\n",
       "      <td>1/2/2014</td>\n",
       "      <td>SOM</td>\n",
       "      <td>90/23/D</td>\n",
       "      <td>LICENSE SUSPENDED, OP MV WITH c90 §23</td>\n",
       "      <td>Drugs/Distribution/Possession with Intent</td>\n",
       "      <td>GUILTY FILED</td>\n",
       "      <td>6/2/2014</td>\n",
       "    </tr>\n",
       "    <tr>\n",
       "      <th>1</th>\n",
       "      <td>14-01-479818</td>\n",
       "      <td>12/30/2013</td>\n",
       "      <td>1/2/2014</td>\n",
       "      <td>SOM</td>\n",
       "      <td>94C/32C/C</td>\n",
       "      <td>DRUG, POSSESS TO DISTRIB CLASS D c94C §32C(a)</td>\n",
       "      <td>Drugs/Distribution/Possession with Intent</td>\n",
       "      <td>NOLLE PROSEQUI</td>\n",
       "      <td>6/2/2014</td>\n",
       "    </tr>\n",
       "    <tr>\n",
       "      <th>2</th>\n",
       "      <td>14-01-479819</td>\n",
       "      <td>12/31/2013</td>\n",
       "      <td>1/2/2014</td>\n",
       "      <td>SOM</td>\n",
       "      <td>94C/34/C</td>\n",
       "      <td>DRUG, POSSESS CLASS B c94C §34</td>\n",
       "      <td>Drugs/Possession</td>\n",
       "      <td>DISMISSED W/O  PREJUDICE</td>\n",
       "      <td>5/9/2014</td>\n",
       "    </tr>\n",
       "    <tr>\n",
       "      <th>3</th>\n",
       "      <td>14-01-479819</td>\n",
       "      <td>12/31/2013</td>\n",
       "      <td>1/2/2014</td>\n",
       "      <td>SOM</td>\n",
       "      <td>90/17/A</td>\n",
       "      <td>SPEEDING * c90 §17</td>\n",
       "      <td>Drugs/Possession</td>\n",
       "      <td>RESPONSIBLE</td>\n",
       "      <td>5/9/2014</td>\n",
       "    </tr>\n",
       "    <tr>\n",
       "      <th>4</th>\n",
       "      <td>14-01-479819</td>\n",
       "      <td>12/31/2013</td>\n",
       "      <td>1/2/2014</td>\n",
       "      <td>SOM</td>\n",
       "      <td>89/4A</td>\n",
       "      <td>MARKED LANES VIOLATION * c89 §4A</td>\n",
       "      <td>Drugs/Possession</td>\n",
       "      <td>RESPONSIBLE</td>\n",
       "      <td>5/9/2014</td>\n",
       "    </tr>\n",
       "  </tbody>\n",
       "</table>\n",
       "</div>"
      ],
      "text/plain": [
       "    Case Number Offense Date Date of Filing Court Location Charge/Crime Code  \\\n",
       "0  14-01-479818   12/30/2013       1/2/2014            SOM           90/23/D   \n",
       "1  14-01-479818   12/30/2013       1/2/2014            SOM         94C/32C/C   \n",
       "2  14-01-479819   12/31/2013       1/2/2014            SOM          94C/34/C   \n",
       "3  14-01-479819   12/31/2013       1/2/2014            SOM           90/17/A   \n",
       "4  14-01-479819   12/31/2013       1/2/2014            SOM             89/4A   \n",
       "\n",
       "                        Charge/Crime Description  \\\n",
       "0          LICENSE SUSPENDED, OP MV WITH c90 §23   \n",
       "1  DRUG, POSSESS TO DISTRIB CLASS D c94C §32C(a)   \n",
       "2                 DRUG, POSSESS CLASS B c94C §34   \n",
       "3                             SPEEDING * c90 §17   \n",
       "4               MARKED LANES VIOLATION * c89 §4A   \n",
       "\n",
       "                           Charge/Crime Type   Disposition Description  \\\n",
       "0  Drugs/Distribution/Possession with Intent              GUILTY FILED   \n",
       "1  Drugs/Distribution/Possession with Intent            NOLLE PROSEQUI   \n",
       "2                           Drugs/Possession  DISMISSED W/O  PREJUDICE   \n",
       "3                           Drugs/Possession               RESPONSIBLE   \n",
       "4                           Drugs/Possession               RESPONSIBLE   \n",
       "\n",
       "  Disposition Date  \n",
       "0         6/2/2014  \n",
       "1         6/2/2014  \n",
       "2         5/9/2014  \n",
       "3         5/9/2014  \n",
       "4         5/9/2014  "
      ]
     },
     "execution_count": 2,
     "metadata": {},
     "output_type": "execute_result"
    }
   ],
   "source": [
    "#ms_raw = pd.read_excel('damion_database_2014-2019_6.30.xlsx') # too slow to do this way\n",
    "ms_raw = pd.read_csv('damion_database_2014-2019_6.30.csv') \n",
    "columns = ['Case Number', 'Offense Date', 'Date of Filing', 'Court Location', \n",
    "           'Charge/Crime Code', 'Charge/Crime Description', 'Charge/Crime Type',\n",
    "           'Disposition Description', 'Disposition Date']\n",
    "ms = ms_raw[columns].replace()\n",
    "ms.head()"
   ]
  },
  {
   "cell_type": "markdown",
   "metadata": {},
   "source": [
    "### Cleaning and variable prep"
   ]
  },
  {
   "cell_type": "code",
   "execution_count": 3,
   "metadata": {},
   "outputs": [],
   "source": [
    "ms.rename(columns={\"Charge/Crime Description\":\"Charge\"}, inplace=True)\n",
    "\n",
    "# Label CMR offenses (Code of Mass Regulations)\n",
    "ms['CMRoffense'] = False\n",
    "ms.loc[ms['Charge'].str.contains(\"CMR\"), 'CMRoffense'] = True\n",
    "\n",
    "#Extract Chapter, Section, and Paragrah (I think the third one would be paragraph? It isn't always populated)\n",
    "chsec = ms['Charge/Crime Code'].str.split(\"/\", n = 2, expand = True) \n",
    "ms['Chapter'] = chsec[0]\n",
    "ms['Section'] = chsec[1]\n",
    "ms['Paragraph'] = chsec[2]\n",
    "\n",
    "# Remove weird A character, and create a version with no spaces and no extra characters. This file has different spacing \n",
    "# than NW and Suffolk or Master Crime List descriptions.\n",
    "\n",
    "ms['Charge_noA'] = ms['Charge'].map(lambda x: x.replace('Â',\"\"))\n",
    "ms['Charge_alnum'] = ms['Charge_noA'].str.replace(r'\\W+', '', )\n",
    "ms['Charge_alnum2'] = ms['Charge_alnum'].str.replace(\"[^a-zA-Z0-9 -]\",\"\",)\n",
    "\n",
    "# Proxy for age -- using a juvenile court\n",
    "ms['JuvenileC'] =  False\n",
    "ms.loc[ms['Court Location'].str.contains(\"JU\"), 'JuvenileC'] = True"
   ]
  },
  {
   "cell_type": "markdown",
   "metadata": {},
   "source": [
    "### dates. Supposed to be 2014-2019"
   ]
  },
  {
   "cell_type": "code",
   "execution_count": 4,
   "metadata": {},
   "outputs": [
    {
     "data": {
      "text/plain": [
       "count    343072.000000\n",
       "mean          3.760619\n",
       "std           2.443959\n",
       "min           0.000000\n",
       "25%           2.000000\n",
       "50%           4.000000\n",
       "75%           5.000000\n",
       "max          69.000000\n",
       "Name: years_since_offense, dtype: float64"
      ]
     },
     "execution_count": 4,
     "metadata": {},
     "output_type": "execute_result"
    }
   ],
   "source": [
    "reference_date = datetime.date(2020, 9, 1) # using \"today.date() wouldn't be stable\"\n",
    "\n",
    "ms['Offense Date'] = pd.to_datetime(ms['Offense Date'], errors='coerce').dt.date\n",
    "import math\n",
    "ms['years_since_offense'] = (reference_date - ms['Offense Date'])/pd.Timedelta(1, 'D')/365\n",
    "\n",
    "ms['years_since_offense'] = ms['years_since_offense'].fillna(999).astype(int)\n",
    "ms['years_since_offense'].loc[ms['years_since_offense']<999].describe()"
   ]
  },
  {
   "cell_type": "code",
   "execution_count": 5,
   "metadata": {},
   "outputs": [
    {
     "name": "stdout",
     "output_type": "stream",
     "text": [
      "The earliest offense date is:     1951-06-30\n",
      "The max offense date is:          2019-12-30 \n",
      "\n",
      "Distribution of years since offense: \n",
      " count    343099.000000\n",
      "mean          3.838939\n",
      "std           9.160435\n",
      "min           0.000000\n",
      "25%           2.000000\n",
      "50%           4.000000\n",
      "75%           5.000000\n",
      "max         999.000000\n",
      "Name: years_since_offense, dtype: float64 \n",
      "\n",
      "There are 9965 cases with offense date prior to Jan 1, 2014 and 2963 cases before 2013\n",
      "Percent of cases before 2014: 6.48 \n",
      "Percent before 2013: 1.84\n"
     ]
    }
   ],
   "source": [
    "print(\"The earliest offense date is:    \", min(ms['Offense Date']))\n",
    "print(\"The max offense date is:         \", max(ms['Offense Date']), \"\\n\")\n",
    "\n",
    "print(\"Distribution of years since offense:\", \"\\n\", ms['years_since_offense'].describe(), \"\\n\")\n",
    "\n",
    "before_2013 = ms['Case Number'][ms['Offense Date']<datetime.date(2013,1,1)].nunique()\n",
    "before_2014 = ms['Case Number'][ms['Offense Date']<datetime.date(2014,1,1)].nunique()\n",
    "after_2014 = ms['Case Number'][ms['Offense Date']>=datetime.date(2014,1,1)].nunique()\n",
    "after_2013 = ms['Case Number'][ms['Offense Date']>=datetime.date(2013,1,1)].nunique()\n",
    "\n",
    "\n",
    "print(\"There are\", before_2014, \"cases with offense date prior to Jan 1, 2014\",\n",
    "     \"and\", before_2013, \"cases before 2013\")\n",
    "\n",
    "print(\"Percent of cases before 2014:\",round(before_2014*100/after_2014,2), \"\\n\"\n",
    "     \"Percent before 2013:\", round(before_2013*100/after_2013,2))"
   ]
  },
  {
   "cell_type": "code",
   "execution_count": 6,
   "metadata": {},
   "outputs": [],
   "source": [
    "#ms.to_csv('../../data/raw/ms.csv', index=False)\n",
    "\n",
    "# msc -- Charges with value counts\n",
    "\n",
    "msc = ms['Charge'].value_counts().rename_axis('Charge').reset_index(name='Nvalues')\n",
    "msc['Charge_noA'] = msc['Charge'].map(lambda x: x.replace('Â',\"\"))\n",
    "msc['Charge_alnum'] = msc['Charge_noA'].str.replace(r'\\W+', '', )"
   ]
  },
  {
   "cell_type": "markdown",
   "metadata": {},
   "source": [
    "### Datasets with expungement info\n",
    "These were created from the Suffolk and NW data, in for example [MA_Data-1_Raw.ipynb](https://github.com/codeforboston/clean-slate/blob/master/analyses/notebooks/MA_Data-1_Raw.ipynb). \n",
    "This follows a similar process as [MA_Data-2_MergeCharges_alt.ipynb](https://github.com/codeforboston/clean-slate/blob/master/analyses/notebooks/MA_Data-2_MergeCharges_alt.ipynb). \n",
    "\n",
    "Prosecution charges detailed is the result of matching the NW and Suffolk charges with each other, and then matching that with the [Master Crime List](https://drive.google.com/file/d/11iD3ilejUW28NE6DdUaUkkp3PoPauhCj/view?usp=sharing), then manually filling in missing expungeabiliyt information, and rationalizing duplicate rows. Duplicate rows occurred because within a chapter and section, some charges may be expungeable while others may not. \n"
   ]
  },
  {
   "cell_type": "code",
   "execution_count": 7,
   "metadata": {},
   "outputs": [
    {
     "name": "stdout",
     "output_type": "stream",
     "text": [
      "<class 'pandas.core.frame.DataFrame'>\n",
      "Int64Index: 1650 entries, 0 to 1649\n",
      "Data columns (total 12 columns):\n",
      " #   Column                  Non-Null Count  Dtype \n",
      "---  ------                  --------------  ----- \n",
      " 0   Charge                  1650 non-null   object\n",
      " 1   Chapter                 1555 non-null   object\n",
      " 2   Section                 1562 non-null   object\n",
      " 3   sex                     1650 non-null   int64 \n",
      " 4   murder                  1650 non-null   int64 \n",
      " 5   extra_criteria          41 non-null     object\n",
      " 6   Charge_noA              1650 non-null   object\n",
      " 7   Charge_alnum            1650 non-null   object\n",
      " 8   Reason not expungeable  437 non-null    object\n",
      " 9   Analysis notes          7 non-null      object\n",
      " 10  Expungeable             1650 non-null   object\n",
      " 11  CMRoffense              1650 non-null   bool  \n",
      "dtypes: bool(1), int64(2), object(9)\n",
      "memory usage: 156.3+ KB\n"
     ]
    }
   ],
   "source": [
    "#read in procesuction charges detailed file\n",
    "\n",
    "PCD = pd.read_csv('../../data/processed/prosecution_charges_detailed.csv', encoding='cp1252') \n",
    "PCD.rename(columns={\"Expungeable.\":\"Expungeable\"}, inplace=True)\n",
    "columns = ['Charge', 'Chapter', 'Section', 'Expungeable', 'sex', 'murder', 'extra_criteria']\n",
    "PCD = PCD[columns]\n",
    "PCD['Charge_noA'] = PCD['Charge'].map(lambda x: x.replace('Â',\"\"))\n",
    "\n",
    "PCD['Charge_alnum'] = PCD['Charge_noA'].str.replace(r'\\W+', '', )\n",
    "#PCD.info()\n",
    "\n",
    "#read in additional info that fills in blanks from PCD. This was manually done by cross-referncing with MCL\n",
    "# Then we confirmed  with Sana for things that weren't obvious. \n",
    "\n",
    "addtl_exp = pd.read_csv('../../data/raw/missing_expungeability_08-02.csv', encoding='cp1252') \n",
    "addtl_exp.rename(columns={\"Expungeable.\":\"Expungeable\"}, inplace=True)\n",
    "columns = ['Charge', 'Expungeable', \n",
    "           'Reason not expungeable', 'Analysis notes']\n",
    "addtl_exp = addtl_exp[columns]\n",
    "addtl_exp['Expungeable'].replace({'yes': 'Yes', 'no': 'No', 'na': 'NA--CMR'}, inplace=True)\n",
    "\n",
    "\n",
    "# merge these two expungement info datasets\n",
    "\n",
    "exp = PCD.merge(addtl_exp, on='Charge', how='left')\n",
    "\n",
    "def replace_values_merge(df, new, x, y):\n",
    "    df[new] = df[x]\n",
    "    df[new].fillna(df[y], inplace=True)\n",
    "    df.drop([x,y], axis=1, inplace=True)\n",
    "    #print(df[new].value_counts(dropna=False))\n",
    "    \n",
    "replace_values_merge(exp, \"Expungeable\", \"Expungeable_x\", \"Expungeable_y\")\n",
    "\n",
    "exp['CMRoffense'] = False\n",
    "exp.loc[exp['Charge'].str.contains(\"CMR\"), 'CMRoffense'] = True\n",
    "\n",
    "exp.loc[(exp['Expungeable'] == \"Yes\") & (exp['CMRoffense'] == True), ['Expungeable']] = \"NotApplicable\"\n",
    "\n",
    "exp.loc[(exp['Charge'] == \"BURGLARY, UNARMED & ASSAULT c266 Â§14\"),['Expungeable']] = \"No\" # not expungealbe\n",
    "exp.loc[(exp['Charge'] == \"ATTEMPT TO COMMIT CRIME c274 Â§6\"),['Expungeable']] = \"Attempt\" # need more info \n",
    "exp.loc[(exp['Charge'] == \"ATTEMPT TO COMMIT CRIME, HABITUAL c274 Â§6\"),['Expungeable']] = \"Attempt\" # need more info \n",
    "\n",
    "exp.info()"
   ]
  },
  {
   "cell_type": "code",
   "execution_count": 8,
   "metadata": {},
   "outputs": [
    {
     "name": "stdout",
     "output_type": "stream",
     "text": [
      "both          921\n",
      "left_only     336\n",
      "right_only      0\n",
      "Name: _merge, dtype: int64\n",
      "<class 'pandas.core.frame.DataFrame'>\n",
      "Int64Index: 1257 entries, 0 to 1256\n",
      "Data columns (total 13 columns):\n",
      " #   Column                  Non-Null Count  Dtype  \n",
      "---  ------                  --------------  -----  \n",
      " 0   Nvalues                 1257 non-null   int64  \n",
      " 1   Charge_alnum            1257 non-null   object \n",
      " 2   Chapter                 903 non-null    object \n",
      " 3   Section                 903 non-null    object \n",
      " 4   sex                     921 non-null    float64\n",
      " 5   murder                  921 non-null    float64\n",
      " 6   extra_criteria          27 non-null     object \n",
      " 7   Reason not expungeable  227 non-null    object \n",
      " 8   Analysis notes          2 non-null      object \n",
      " 9   Expungeable             921 non-null    object \n",
      " 10  CMRoffense              921 non-null    object \n",
      " 11  unmatched               1257 non-null   bool   \n",
      " 12  Charge                  1257 non-null   object \n",
      "dtypes: bool(1), float64(2), int64(1), object(9)\n",
      "memory usage: 128.9+ KB\n"
     ]
    }
   ],
   "source": [
    "# Merge data on expungement. Unique offenses. \n",
    "\n",
    "ms_merged = msc.merge(exp, on='Charge_alnum', how='left', indicator = True)\n",
    "print(ms_merged._merge.value_counts())\n",
    "\n",
    "ms_merged['unmatched'] = ms_merged['_merge']==\"left_only\"\n",
    "\n",
    "replace_values_merge(ms_merged, \"Charge\", \"Charge_x\", \"Charge_y\")\n",
    "\n",
    "ms_merged = ms_merged.drop(columns = ['Charge_noA_x', 'Charge_noA_y',\n",
    "                                      '_merge'])\n",
    "ms_merged.info()"
   ]
  },
  {
   "cell_type": "code",
   "execution_count": 9,
   "metadata": {},
   "outputs": [
    {
     "name": "stdout",
     "output_type": "stream",
     "text": [
      "<class 'pandas.core.frame.DataFrame'>\n",
      "Int64Index: 1257 entries, 0 to 1256\n",
      "Data columns (total 13 columns):\n",
      " #   Column                  Non-Null Count  Dtype  \n",
      "---  ------                  --------------  -----  \n",
      " 0   Nvalues                 1257 non-null   int64  \n",
      " 1   Charge_alnum            1257 non-null   object \n",
      " 2   Chapter                 903 non-null    object \n",
      " 3   Section                 903 non-null    object \n",
      " 4   sex                     921 non-null    float64\n",
      " 5   murder                  921 non-null    float64\n",
      " 6   extra_criteria          27 non-null     object \n",
      " 7   Reason not expungeable  227 non-null    object \n",
      " 8   Analysis notes          2 non-null      object \n",
      " 9   Expungeable             932 non-null    object \n",
      " 10  CMRoffense              1257 non-null   object \n",
      " 11  unmatched               1257 non-null   bool   \n",
      " 12  Charge                  1257 non-null   object \n",
      "dtypes: bool(1), float64(2), int64(1), object(9)\n",
      "memory usage: 128.9+ KB\n"
     ]
    }
   ],
   "source": [
    "#indicate CMRs\n",
    "ms_merged.loc[ms_merged['Charge'].str.contains(\"CMR\"), 'CMRoffense'] = 'yes'\n",
    "ms_merged.CMRoffense.fillna(\"no\", inplace=True)\n",
    "\n",
    "ms_merged.loc[ms_merged['CMRoffense'] == \"yes\", ['Expungeable']] = \"NA - CMR\"\n",
    "\n",
    "#drop unneeded columns and save list of charges without expungement info\n",
    "columns = ['Charge', 'Charge_alnum', 'Nvalues', 'Chapter', 'Section', \n",
    "           'Expungeable', 'CMRoffense', 'unmatched']\n",
    "\n",
    "ms_unmatched = ms_merged[columns].loc[ (ms_merged['unmatched']==True) & \n",
    "                                      ms_merged['Expungeable'].isnull()]\n",
    "\n",
    "#ms_unmatched.to_csv('../../data/raw/unmatched_middlesex_to_clean.csv', index=True)\n",
    "\n",
    "ms_merged.info()"
   ]
  },
  {
   "cell_type": "markdown",
   "metadata": {},
   "source": [
    "Data exported to csv, saved in the google drive, and farmed out to the team to compare against the Master Crime List to fill in missing expungement information. "
   ]
  },
  {
   "cell_type": "code",
   "execution_count": 10,
   "metadata": {},
   "outputs": [],
   "source": [
    "ms_new_data = pd.read_csv('../../data/raw/unmatched_middlesex_clean.csv')"
   ]
  },
  {
   "cell_type": "code",
   "execution_count": 11,
   "metadata": {},
   "outputs": [
    {
     "name": "stdout",
     "output_type": "stream",
     "text": [
      "left_only     932\n",
      "both          325\n",
      "right_only      0\n",
      "Name: _merge, dtype: int64\n"
     ]
    }
   ],
   "source": [
    "ms_new_data['Charge_alnum2'] = ms_new_data['Charge_alnum'].str.replace(\"[^a-zA-Z0-9 -]\",\"\",)\n",
    "ms_new_data = ms_new_data.drop(columns = ['Charge', \"Charge_alnum\", 'Nvalues', 'Group #', 'Name of updater', 'Index'])\n",
    "\n",
    "ms_merged['Charge_alnum2'] = ms_merged['Charge_alnum'].str.replace(\"[^a-zA-Z0-9 -]\",\"\",)\n",
    "\n",
    "ms_merged_full = ms_merged.merge(ms_new_data, on='Charge_alnum2', how='outer', indicator=True)\n",
    "\n",
    "print(ms_merged_full._merge.value_counts(dropna=False))\n",
    "ms_merged_full.drop(['_merge'], axis=1, inplace=True)\n"
   ]
  },
  {
   "cell_type": "code",
   "execution_count": 12,
   "metadata": {},
   "outputs": [],
   "source": [
    "replace_values_merge(ms_merged_full, \"Expungeable\", \"Expungeable_x\", \"Expungeable_y\")\n",
    "replace_values_merge(ms_merged_full, \"Reason not expungeable\", \"Reason not expungeable_x\", \"Reason not expungeable_y\")\n",
    "\n",
    "ms_merged_full = ms_merged_full.drop(columns = ['Charge', \"Charge_alnum\", 'Chapter', 'Section', 'Nvalues', 'CMRoffense'])"
   ]
  },
  {
   "cell_type": "code",
   "execution_count": 13,
   "metadata": {},
   "outputs": [
    {
     "name": "stdout",
     "output_type": "stream",
     "text": [
      "both          392605\n",
      "right_only         0\n",
      "left_only          0\n",
      "Name: _merge, dtype: int64\n"
     ]
    }
   ],
   "source": [
    "ms_merged_charges = ms.merge(ms_merged_full, on='Charge_alnum2', how='outer', indicator=True)\n",
    "print(ms_merged_charges['_merge'].value_counts())\n",
    "ms_merged_charges.drop(['_merge'], axis=1, inplace=True)\n"
   ]
  },
  {
   "cell_type": "code",
   "execution_count": 14,
   "metadata": {},
   "outputs": [],
   "source": [
    "columns = ['Case Number', 'Offense Date', 'Court Location', 'Charge', 'Charge/Crime Type',\n",
    "          'Disposition Description', 'CMRoffense', 'Chapter', 'Section', 'Paragraph', 'JuvenileC', \n",
    "          'years_since_offense', 'sex', 'murder', 'Expungeable']\n",
    "ms_merged_charges = ms_merged_charges[columns]"
   ]
  },
  {
   "cell_type": "code",
   "execution_count": 15,
   "metadata": {
    "scrolled": true
   },
   "outputs": [
    {
     "name": "stdout",
     "output_type": "stream",
     "text": [
      "<class 'pandas.core.frame.DataFrame'>\n",
      "Int64Index: 392605 entries, 0 to 392604\n",
      "Data columns (total 15 columns):\n",
      " #   Column                   Non-Null Count   Dtype  \n",
      "---  ------                   --------------   -----  \n",
      " 0   Case Number              392605 non-null  object \n",
      " 1   Offense Date             392578 non-null  object \n",
      " 2   Court Location           392605 non-null  object \n",
      " 3   Charge                   392605 non-null  object \n",
      " 4   Charge/Crime Type        392605 non-null  object \n",
      " 5   Disposition Description  392605 non-null  object \n",
      " 6   CMRoffense               392605 non-null  bool   \n",
      " 7   Chapter                  392605 non-null  object \n",
      " 8   Section                  389306 non-null  object \n",
      " 9   Paragraph                309266 non-null  object \n",
      " 10  JuvenileC                392605 non-null  bool   \n",
      " 11  years_since_offense      392605 non-null  int32  \n",
      " 12  sex                      360336 non-null  float64\n",
      " 13  murder                   360336 non-null  float64\n",
      " 14  Expungeable              392222 non-null  object \n",
      "dtypes: bool(2), float64(2), int32(1), object(10)\n",
      "memory usage: 41.2+ MB\n"
     ]
    }
   ],
   "source": [
    "ms_merged_charges.info()"
   ]
  },
  {
   "cell_type": "code",
   "execution_count": 16,
   "metadata": {},
   "outputs": [],
   "source": [
    "ms_merged_charges.to_csv('../../data/processed/merged_ms.csv', index=False)"
   ]
  }
 ],
 "metadata": {
  "kernelspec": {
   "display_name": "Python 3",
   "language": "python",
   "name": "python3"
  },
  "language_info": {
   "codemirror_mode": {
    "name": "ipython",
    "version": 3
   },
   "file_extension": ".py",
   "mimetype": "text/x-python",
   "name": "python",
   "nbconvert_exporter": "python",
   "pygments_lexer": "ipython3",
   "version": "3.8.3"
  }
 },
 "nbformat": 4,
 "nbformat_minor": 4
}
