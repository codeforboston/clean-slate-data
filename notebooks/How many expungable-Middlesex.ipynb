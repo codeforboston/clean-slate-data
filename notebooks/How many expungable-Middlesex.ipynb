{
 "cells": [
  {
   "cell_type": "markdown",
   "metadata": {},
   "source": [
    "# Clean Slate: Estimating offenses eligible for expungement under varying conditions\n",
    "> Prepared by [Laura Feeney](https://github.com/laurafeeney) for Code for Boston's [Clean Slate project](https://github.com/codeforboston/clean-slate).\n",
    "\n",
    "## Summary\n",
    "This notebook takes somewhat processed data from the Middlesex DA and attempts to answer how many individuals may be eligible for expungement under varying conditions.\n",
    "\n",
    "This dataset does not contain any information to identify specific individuals across multiple cases. We can see what charges are heard in Juvenile court, but we do not otherwise have an indicator of age. \n",
    "\n",
    "So, we can provide a count and % of incidents heard in Juvenile court that are expungeable. \n",
    "\n",
    "### Original Questions\n",
    "\n",
    "1. How many people (under age 21) are eligible for expungement today? This would be people with only **one charge** that is not part of the list of ineligible offenses (per section 100J). \n",
    "\n",
    "\n",
    "2. How many people (under age 21) would be eligible based on only having **one incident** (which could include multiple charges) that are not part of the list of ineligible offenses?\n",
    " - How many people (under age 21) would be eligible based on only having **one incident** if only sex-based offenses or murder were excluded from expungement?\n",
    " \n",
    "\n",
    "3. How many people (under age 21) would be eligible based on who has **not been found guilty** (given current offenses that are eligible for expungement)?\n",
    " - How many people (under age 21) would be eligible based on who has **not been found guilty** for all offenses except for murder or sex-based offenses?\n",
    "\n",
    "-----"
   ]
  },
  {
   "cell_type": "markdown",
   "metadata": {},
   "source": [
    "### Step 0\n",
    "Import data, programs, etc.\n",
    "\n",
    "-----"
   ]
  },
  {
   "cell_type": "code",
   "execution_count": 1,
   "metadata": {},
   "outputs": [],
   "source": [
    "import pandas as pd\n",
    "pd.set_option(\"display.max_rows\", 200)\n",
    "import numpy as np\n",
    "import regex as re\n",
    "import glob, os\n",
    "import datetime \n",
    "from datetime import date \n",
    "from collections import defaultdict, Counter"
   ]
  },
  {
   "cell_type": "code",
   "execution_count": 2,
   "metadata": {},
   "outputs": [],
   "source": [
    "# processed individual-level data from MS district with expungability.\n",
    "\n",
    "ms = pd.read_csv('../../data/processed/merged_ms.csv', encoding='utf8',\n",
    "                    dtype={'Analysis notes':str, 'extra_criteria':str, 'Expungeable': str}, low_memory=False) \n",
    "\n",
    "ms_original = ms"
   ]
  },
  {
   "cell_type": "code",
   "execution_count": 3,
   "metadata": {},
   "outputs": [
    {
     "name": "stdout",
     "output_type": "stream",
     "text": [
      "Middlesex Expungement Counts\n"
     ]
    },
    {
     "data": {
      "text/html": [
       "<style  type=\"text/css\" >\n",
       "</style><table id=\"T_3961568e_37e0_11eb_a49c_3c58c26e239a\" ><thead>    <tr>        <th class=\"blank level0\" ></th>        <th class=\"col_heading level0 col0\" >counts</th>        <th class=\"col_heading level0 col1\" >percent</th>    </tr></thead><tbody>\n",
       "                <tr>\n",
       "                        <th id=\"T_3961568e_37e0_11eb_a49c_3c58c26e239alevel0_row0\" class=\"row_heading level0 row0\" >Yes</th>\n",
       "                        <td id=\"T_3961568e_37e0_11eb_a49c_3c58c26e239arow0_col0\" class=\"data row0 col0\" >273,094</td>\n",
       "                        <td id=\"T_3961568e_37e0_11eb_a49c_3c58c26e239arow0_col1\" class=\"data row0 col1\" >69.6%</td>\n",
       "            </tr>\n",
       "            <tr>\n",
       "                        <th id=\"T_3961568e_37e0_11eb_a49c_3c58c26e239alevel0_row1\" class=\"row_heading level0 row1\" >No</th>\n",
       "                        <td id=\"T_3961568e_37e0_11eb_a49c_3c58c26e239arow1_col0\" class=\"data row1 col0\" >112,554</td>\n",
       "                        <td id=\"T_3961568e_37e0_11eb_a49c_3c58c26e239arow1_col1\" class=\"data row1 col1\" >28.7%</td>\n",
       "            </tr>\n",
       "            <tr>\n",
       "                        <th id=\"T_3961568e_37e0_11eb_a49c_3c58c26e239alevel0_row2\" class=\"row_heading level0 row2\" >NA - CMR</th>\n",
       "                        <td id=\"T_3961568e_37e0_11eb_a49c_3c58c26e239arow2_col0\" class=\"data row2 col0\" >5,047</td>\n",
       "                        <td id=\"T_3961568e_37e0_11eb_a49c_3c58c26e239arow2_col1\" class=\"data row2 col1\" >1.3%</td>\n",
       "            </tr>\n",
       "            <tr>\n",
       "                        <th id=\"T_3961568e_37e0_11eb_a49c_3c58c26e239alevel0_row3\" class=\"row_heading level0 row3\" >Attempt</th>\n",
       "                        <td id=\"T_3961568e_37e0_11eb_a49c_3c58c26e239arow3_col0\" class=\"data row3 col0\" >1,519</td>\n",
       "                        <td id=\"T_3961568e_37e0_11eb_a49c_3c58c26e239arow3_col1\" class=\"data row3 col1\" >0.4%</td>\n",
       "            </tr>\n",
       "            <tr>\n",
       "                        <th id=\"T_3961568e_37e0_11eb_a49c_3c58c26e239alevel0_row4\" class=\"row_heading level0 row4\" >nan</th>\n",
       "                        <td id=\"T_3961568e_37e0_11eb_a49c_3c58c26e239arow4_col0\" class=\"data row4 col0\" >391</td>\n",
       "                        <td id=\"T_3961568e_37e0_11eb_a49c_3c58c26e239arow4_col1\" class=\"data row4 col1\" >0.1%</td>\n",
       "            </tr>\n",
       "    </tbody></table>"
      ],
      "text/plain": [
       "<pandas.io.formats.style.Styler at 0x1c447157a30>"
      ]
     },
     "execution_count": 3,
     "metadata": {},
     "output_type": "execute_result"
    }
   ],
   "source": [
    "ms.loc[ms.Expungeable =='m', 'Expungeable'] = None \n",
    "print(\"Middlesex Expungement Counts\")\n",
    "a = ms['Expungeable'].value_counts(dropna=False).rename_axis('count').to_frame('counts')\n",
    "b = ms['Expungeable'].value_counts(dropna=False, normalize = True).rename_axis('percent').to_frame('percent')\n",
    "exp_stats = pd.concat([a, b], axis=1)\n",
    "exp_stats.style.format({ 'counts' : '{:,}', 'percent' : '{:,.1%}'})"
   ]
  },
  {
   "cell_type": "code",
   "execution_count": 4,
   "metadata": {},
   "outputs": [
    {
     "name": "stdout",
     "output_type": "stream",
     "text": [
      "<class 'pandas.core.frame.DataFrame'>\n",
      "RangeIndex: 392605 entries, 0 to 392604\n",
      "Data columns (total 16 columns):\n",
      " #   Column                   Non-Null Count   Dtype  \n",
      "---  ------                   --------------   -----  \n",
      " 0   Case Number              392605 non-null  object \n",
      " 1   Offense Date             392578 non-null  object \n",
      " 2   Court Location           392605 non-null  object \n",
      " 3   Charge                   392605 non-null  object \n",
      " 4   Charge/Crime Type        392605 non-null  object \n",
      " 5   Disposition Description  392605 non-null  object \n",
      " 6   CMRoffense               392605 non-null  bool   \n",
      " 7   Chapter                  392605 non-null  object \n",
      " 8   Section                  389306 non-null  object \n",
      " 9   Paragraph                309266 non-null  object \n",
      " 10  JuvenileC                392605 non-null  bool   \n",
      " 11  years_since_offense      392605 non-null  int64  \n",
      " 12  sex                      392605 non-null  int64  \n",
      " 13  murder                   360336 non-null  float64\n",
      " 14  Expungeable              392214 non-null  object \n",
      " 15  offenses_per_case        392605 non-null  int64  \n",
      "dtypes: bool(2), float64(1), int64(3), object(10)\n",
      "memory usage: 42.7+ MB\n"
     ]
    }
   ],
   "source": [
    "ms['offenses_per_case']=ms.groupby('Case Number')['Case Number'].transform('count')\n",
    "ms.info()"
   ]
  },
  {
   "cell_type": "code",
   "execution_count": 5,
   "metadata": {},
   "outputs": [
    {
     "data": {
      "text/html": [
       "<div>\n",
       "<style scoped>\n",
       "    .dataframe tbody tr th:only-of-type {\n",
       "        vertical-align: middle;\n",
       "    }\n",
       "\n",
       "    .dataframe tbody tr th {\n",
       "        vertical-align: top;\n",
       "    }\n",
       "\n",
       "    .dataframe thead th {\n",
       "        text-align: right;\n",
       "    }\n",
       "</style>\n",
       "<table border=\"1\" class=\"dataframe\">\n",
       "  <thead>\n",
       "    <tr style=\"text-align: right;\">\n",
       "      <th>juvenile</th>\n",
       "      <th>False</th>\n",
       "      <th>True</th>\n",
       "    </tr>\n",
       "    <tr>\n",
       "      <th>JuvenileC</th>\n",
       "      <th></th>\n",
       "      <th></th>\n",
       "    </tr>\n",
       "  </thead>\n",
       "  <tbody>\n",
       "    <tr>\n",
       "      <th>False</th>\n",
       "      <td>378306</td>\n",
       "      <td>0</td>\n",
       "    </tr>\n",
       "    <tr>\n",
       "      <th>True</th>\n",
       "      <td>0</td>\n",
       "      <td>14299</td>\n",
       "    </tr>\n",
       "  </tbody>\n",
       "</table>\n",
       "</div>"
      ],
      "text/plain": [
       "juvenile    False  True \n",
       "JuvenileC               \n",
       "False      378306      0\n",
       "True            0  14299"
      ]
     },
     "execution_count": 5,
     "metadata": {},
     "output_type": "execute_result"
    }
   ],
   "source": [
    "# Only indication of juvenile is if tried in juvenile court. Looks like no cases are heard in 2 courts (presumably would get \n",
    "# a different case number)\n",
    "ms['juvenile'] = ms.groupby('Case Number')['JuvenileC'].transform('max')\n",
    "pd.crosstab(ms['JuvenileC'], ms['juvenile'])"
   ]
  },
  {
   "cell_type": "markdown",
   "metadata": {},
   "source": [
    "## Step 0.5 - Prepare data\n",
    "\n",
    "- Drop CMR offenses\n",
    "- Prepare dates, date since offense\n",
    "- Generate indicators for incidents, and code incidents as expungeable, sex-related etc\n",
    "- Generate indicator for found guilty / not found guilty \n",
    "\n",
    "**CMR** : There are many offenses that are violations of the Code of Massachusetts Regulations (CMR) rather than a criminal offense. These include things like some driving or boating infractions (e.g., not having headlights on), or not having a hunting/fishing license. Per conversations with Sana, dropping all CMR offenses."
   ]
  },
  {
   "cell_type": "code",
   "execution_count": 6,
   "metadata": {},
   "outputs": [
    {
     "name": "stdout",
     "output_type": "stream",
     "text": [
      "93.9% percent of offenses are between Jan 1 2014 and Dec 31 2019\n",
      "The earliest offense date is 1951-06-30\n",
      "The max offense date is 2019-12-30 \n",
      "\n",
      "count    392578.000000\n",
      "mean          3.766933\n",
      "std           2.452424\n",
      "min           0.000000\n",
      "25%           2.000000\n",
      "50%           4.000000\n",
      "75%           5.000000\n",
      "max          69.000000\n",
      "Name: years_since_offense, dtype: float64\n"
     ]
    }
   ],
   "source": [
    "### dates ###\n",
    "# The file source said, \"The following is data from our Damion Case Management\n",
    "# System pertaining to prosecution statistics for the time period from \n",
    "# January 1, 2014, through January 1, 2020.\"\n",
    "\n",
    "reference_date = datetime.date(2020, 9, 1) # using \"today.date() wouldn't be stable\"\n",
    "\n",
    "ms['Offense Date'] = pd.to_datetime(ms['Offense Date']).dt.date\n",
    "ms = ms[~ms['Offense Date'].isnull()]\n",
    "\n",
    "offenses_2014_2019 = ms['Offense Date'].loc[\n",
    "    (ms['Offense Date'] >= datetime.date(2014, 1, 1)) & \n",
    "    (ms['Offense Date'] <= datetime.date(2019, 12, 31))].count()\n",
    "\n",
    "Percent_14_19 = \"{:.1%}\".format(offenses_2014_2019/ms['Offense Date'].count())\n",
    "             \n",
    "print(Percent_14_19, 'percent of offenses are between Jan 1 2014 and Dec 31 2019')\n",
    "\n",
    "print(\"The earliest offense date is\", min(ms['Offense Date']))\n",
    "print(\"The max offense date is\", max(ms['Offense Date']), \"\\n\")\n",
    "\n",
    "print(ms['years_since_offense'].describe())"
   ]
  },
  {
   "cell_type": "code",
   "execution_count": 7,
   "metadata": {
    "scrolled": true
   },
   "outputs": [
    {
     "name": "stdout",
     "output_type": "stream",
     "text": [
      "There are 392578 total offenses including CMR.\n",
      "After we drop CMR, there are 387531 total offenses.\n",
      "Middlesex Expungement Counts\n"
     ]
    },
    {
     "data": {
      "text/html": [
       "<style  type=\"text/css\" >\n",
       "</style><table id=\"T_39f4ec34_37e0_11eb_9694_3c58c26e239a\" ><thead>    <tr>        <th class=\"blank level0\" ></th>        <th class=\"col_heading level0 col0\" >counts</th>        <th class=\"col_heading level0 col1\" >percent</th>    </tr></thead><tbody>\n",
       "                <tr>\n",
       "                        <th id=\"T_39f4ec34_37e0_11eb_9694_3c58c26e239alevel0_row0\" class=\"row_heading level0 row0\" >Yes</th>\n",
       "                        <td id=\"T_39f4ec34_37e0_11eb_9694_3c58c26e239arow0_col0\" class=\"data row0 col0\" >273,067</td>\n",
       "                        <td id=\"T_39f4ec34_37e0_11eb_9694_3c58c26e239arow0_col1\" class=\"data row0 col1\" >70.5%</td>\n",
       "            </tr>\n",
       "            <tr>\n",
       "                        <th id=\"T_39f4ec34_37e0_11eb_9694_3c58c26e239alevel0_row1\" class=\"row_heading level0 row1\" >No</th>\n",
       "                        <td id=\"T_39f4ec34_37e0_11eb_9694_3c58c26e239arow1_col0\" class=\"data row1 col0\" >112,554</td>\n",
       "                        <td id=\"T_39f4ec34_37e0_11eb_9694_3c58c26e239arow1_col1\" class=\"data row1 col1\" >29.0%</td>\n",
       "            </tr>\n",
       "            <tr>\n",
       "                        <th id=\"T_39f4ec34_37e0_11eb_9694_3c58c26e239alevel0_row2\" class=\"row_heading level0 row2\" >Attempt</th>\n",
       "                        <td id=\"T_39f4ec34_37e0_11eb_9694_3c58c26e239arow2_col0\" class=\"data row2 col0\" >1,519</td>\n",
       "                        <td id=\"T_39f4ec34_37e0_11eb_9694_3c58c26e239arow2_col1\" class=\"data row2 col1\" >0.4%</td>\n",
       "            </tr>\n",
       "            <tr>\n",
       "                        <th id=\"T_39f4ec34_37e0_11eb_9694_3c58c26e239alevel0_row3\" class=\"row_heading level0 row3\" >nan</th>\n",
       "                        <td id=\"T_39f4ec34_37e0_11eb_9694_3c58c26e239arow3_col0\" class=\"data row3 col0\" >391</td>\n",
       "                        <td id=\"T_39f4ec34_37e0_11eb_9694_3c58c26e239arow3_col1\" class=\"data row3 col1\" >0.1%</td>\n",
       "            </tr>\n",
       "    </tbody></table>"
      ],
      "text/plain": [
       "<pandas.io.formats.style.Styler at 0x1c4491d2040>"
      ]
     },
     "execution_count": 7,
     "metadata": {},
     "output_type": "execute_result"
    }
   ],
   "source": [
    "# CMR offenses -- Drop all CMR offenses and Drop CMR-related columns\n",
    "\n",
    "print(f'There are {ms.shape[0]} total offenses including CMR.')\n",
    "\n",
    "ms = ms.loc[ms['CMRoffense'] == False]\n",
    "ms = ms.drop(columns = ['CMRoffense'])\n",
    "\n",
    "print(f'After we drop CMR, there are {ms.shape[0]} total offenses.')\n",
    "\n",
    "# Check that the 'expungeable' column no longer has CMRs \n",
    "\n",
    "print(\"Middlesex Expungement Counts\")\n",
    "a = ms['Expungeable'].value_counts(dropna=False).rename_axis('count').to_frame('counts')\n",
    "b = ms['Expungeable'].value_counts(dropna=False, normalize = True).rename_axis('percent').to_frame('percent')\n",
    "exp_stats = pd.concat([a, b], axis=1)\n",
    "exp_stats.style.format({ 'counts' : '{:,}', 'percent' : '{:,.1%}'})"
   ]
  },
  {
   "cell_type": "code",
   "execution_count": 8,
   "metadata": {},
   "outputs": [],
   "source": [
    "#Data prep.\n",
    "# We only have Case Number, and cases are all for an offense on the same date. \n",
    "\n",
    "# If an incident includes one offense that is not expungeable, we mark the entire incident as not expungeable.\n",
    "#Attempts *are not* considered expungeable in this one. \n",
    "ms['Exp'] = ms['Expungeable']==\"Yes\"\n",
    "ms['Inc_Expungeable_Attempts_Not'] = ms.groupby(['Case Number'])['Exp'].transform('min')\n",
    "\n",
    "# If an incident includes one offense that is not expungeable, we mark the entire incident as not expungeable.\n",
    "#Attempts *are* considered expungeable in this one. \n",
    "ms['ExpAtt'] = (ms['Expungeable']==\"Yes\") | (ms['Expungeable']==\"Attempt\")\n",
    "ms['Inc_Expungeable_Attempts_Are'] = ms.groupby(['Case Number'])['ExpAtt'].transform('min')\n",
    "\n",
    "# If an incident includes an offense that is a murder and/or sex crime, we code the whole incident as regarding\n",
    "# murder and/or sex.\n",
    "ms['sm'] = (ms['sex'] == 1) | (ms['murder'] ==1)\n",
    "ms['Incident_Murder_Sex'] = ms.groupby(['Case Number'])['sm'].transform('max')\n",
    "\n",
    "#unneeded calculation columns\n",
    "ms = ms.drop(columns=['Exp', 'ExpAtt', 'sm'])"
   ]
  },
  {
   "cell_type": "code",
   "execution_count": 9,
   "metadata": {},
   "outputs": [
    {
     "data": {
      "text/plain": [
       "['BOUND OVER/PROBABLE CAUSE FOUND',\n",
       " 'CONTINUED W/O FINDING',\n",
       " 'CONTINUED W/O FINDING LESSER OFFENSE',\n",
       " 'CWOF AFTER JURY TRIAL',\n",
       " 'DECLINED JURISDICTION',\n",
       " 'DELINQUENT BENCH TRIAL',\n",
       " 'DELINQUENT CHANGE OF PLEA',\n",
       " 'DELINQUENT CHANGE OF PLEA LESSER OFFENSE',\n",
       " 'DELINQUENT JURY TRIAL',\n",
       " 'DISMISSED BY COURT (POST-ARRAIGNMENT)',\n",
       " 'DISMISSED BY COURT (PRIOR TO ARRAIGNMENT)',\n",
       " 'DISMISSED BY FINES',\n",
       " 'DISMISSED ON COMMUNITY SERVICE',\n",
       " 'DISMISSED ON COURT COSTS',\n",
       " 'DISMISSED ON RESTITUTION',\n",
       " 'DISMISSED OUTRIGHT AT REQUEST OF CW (POST-ARR)',\n",
       " 'DISMISSED OUTRIGHT AT REQUEST OF CW (PRIOR TO ARR)',\n",
       " 'DISMISSED PRIOR TO ARRAIGNMENT',\n",
       " 'DISMISSED PURSUANT TO ACCORD AND SATISFACTION',\n",
       " 'DISMISSED W/O  PREJUDICE',\n",
       " 'DISMISSED W/O PREJUDICE LACK OF PROSECUTION',\n",
       " 'DISMISSED WITH PREJUDICE LACK OF PROSECUTION',\n",
       " 'DIVERSION PASS',\n",
       " 'FILED WITHOUT CHANGE OF PLEA',\n",
       " 'GENERAL CONTINUANCE',\n",
       " 'GENERAL CONTINUANCE LESSER OFFENSE',\n",
       " 'GUILTY BENCH TRIAL',\n",
       " 'GUILTY BENCH TRIAL LESSER INCLUDED',\n",
       " 'GUILTY CHANGE OF PLEA',\n",
       " 'GUILTY CHANGE OF PLEA LESSER OFFENSE',\n",
       " 'GUILTY FILED',\n",
       " 'GUILTY FINES',\n",
       " 'GUILTY JURY TRIAL',\n",
       " 'GUILTY JURY TRIAL LESSER INCLUDED',\n",
       " 'Guilty Jury Trial (and Bench) Lesser Included',\n",
       " 'HUNG JURY',\n",
       " 'MISTRIAL',\n",
       " 'MOTION TO DISMISS ALLOWED',\n",
       " 'MOTION TO SUPPRESS - ALLOWED',\n",
       " 'NO BILL',\n",
       " 'NO PROBABLE CAUSE',\n",
       " 'NOLLE PROSEQUI',\n",
       " 'NOT DELINQUENT - DIRECTED VERDICT/REQUIRED FINDING',\n",
       " 'NOT DELINQUENT BENCH TRIAL',\n",
       " 'NOT DELINQUENT JURY TRIAL',\n",
       " 'NOT DELINQUENT LACK OF CRIMINAL RESPONSIBILITY',\n",
       " 'NOT GUILTY - DIRECTED VERDICT/REQUIRED FINDING',\n",
       " 'NOT GUILTY BENCH TRIAL',\n",
       " 'NOT GUILTY INSANITY',\n",
       " 'NOT GUILTY JURY TRIAL',\n",
       " 'NOT GUILTY LACK OF CRIMINAL RESPONSIBILITY',\n",
       " 'NOT RESPONSIBLE',\n",
       " 'PRE-TRIAL PROBATION',\n",
       " 'PRE-TRIAL PROBATION LESSER OFFENSE',\n",
       " 'REMANDED CLERKS HEARING',\n",
       " 'RESPONSIBLE',\n",
       " 'SDP/NOT SEXUALLY DANGEROUS JURY TRIAL',\n",
       " 'SDP/PETITION WITHDRAWN',\n",
       " 'TRANSFERRED BARNSTABLE COUNTY',\n",
       " 'TRANSFERRED ESSEX COUNTY',\n",
       " 'TRANSFERRED NORFOLK COUNTY',\n",
       " 'TRANSFERRED SUFFOLK COUNTY',\n",
       " 'TRANSFERRED WORCESTER COUNTY']"
      ]
     },
     "execution_count": 9,
     "metadata": {},
     "output_type": "execute_result"
    }
   ],
   "source": [
    "sorted(ms['Disposition Description'].unique())"
   ]
  },
  {
   "cell_type": "code",
   "execution_count": 10,
   "metadata": {},
   "outputs": [],
   "source": [
    "guilty_dispos = ['DELINQUENT BENCH TRIAL', 'DELINQUENT CHANGE OF PLEA', \n",
    "                'DELINQUENT CHANGE OF PLEA LESSER OFFENSE', 'DELINQUENT JURY TRIAL',\n",
    "                'GUILTY BENCH TRIAL', 'GUILTY BENCH TRIAL LESSER INCLUDED',\n",
    "                'GUILTY CHANGE OF PLEA', 'GUILTY CHANGE OF PLEA LESSER OFFENSE', \n",
    "                'GUILTY FILED', 'GUILTY FINES', 'GUILTY JURY TRIAL', \n",
    "                'GUILTY JURY TRIAL LESSER INCLUDED', \n",
    "                'Guilty Jury Trial (and Bench) Lesser Included', 'RESPONSIBLE']\n",
    "\n",
    "ms['guilty'] = ms['Disposition Description'].isin(guilty_dispos)\n",
    "\n",
    "# there are no 'missing' values for guilty or dispo description, so no need to recode missing as 2 or -1 as in Suff & NW\n",
    "assert ms['guilty'].count() == len(ms) == ms['Disposition Description'].count()\n",
    "\n",
    "ms['Incident_Guilty'] = ms.groupby(['Case Number', 'Offense Date'])['guilty'].transform('max')"
   ]
  },
  {
   "cell_type": "markdown",
   "metadata": {},
   "source": [
    "## Step 1\n",
    "Summary stats"
   ]
  },
  {
   "cell_type": "code",
   "execution_count": 11,
   "metadata": {},
   "outputs": [
    {
     "name": "stdout",
     "output_type": "stream",
     "text": [
      "count    387531.000000\n",
      "mean          4.923764\n",
      "std           9.074454\n",
      "min           1.000000\n",
      "25%           2.000000\n",
      "50%           3.000000\n",
      "75%           5.000000\n",
      "max         176.000000\n",
      "Name: offenses_per_case, dtype: float64\n",
      "\n",
      " cutting off top 1%: \n",
      " count    383569.000000\n",
      "mean          4.182087\n",
      "std           4.531870\n",
      "min           1.000000\n",
      "25%           2.000000\n",
      "50%           3.000000\n",
      "75%           5.000000\n",
      "max          43.000000\n",
      "Name: offenses_per_case, dtype: float64\n"
     ]
    }
   ],
   "source": [
    "# distribution of # of charges\n",
    "print(ms['offenses_per_case'].describe())\n",
    "\n",
    "print('\\n cutting off top 1%: \\n', ms['offenses_per_case'].loc[ms['offenses_per_case']< ms['offenses_per_case'].quantile(.99)].describe())\n"
   ]
  },
  {
   "cell_type": "code",
   "execution_count": 12,
   "metadata": {},
   "outputs": [],
   "source": [
    "### No indicator for unique individuals. Only proxy is case number. This will mean any estimates are well over estimated.\n",
    "\n",
    "# offenses and incidents (cases)\n",
    "Nu_tot = ms['Charge'].count()\n",
    "Incidents_tot = ms['Case Number'].nunique()\n",
    "\n",
    "one_off = ms[ (ms['offenses_per_case']==1)]['Case Number'].nunique()"
   ]
  },
  {
   "cell_type": "code",
   "execution_count": 13,
   "metadata": {},
   "outputs": [],
   "source": [
    "# offenses related to sex or murder\n",
    "Nu_sex = ms[ms['sex'] == 1]['sex'].count()\n",
    "Nu_murder = ms[ms['murder'] == 1]['murder'].count()\n",
    "Nu_sex_murder = ms[ms['Incident_Murder_Sex']  == 1]['Incident_Murder_Sex'].count()\n",
    "Nu_sex_murder_inc = ms[ms['Incident_Murder_Sex']  == 1].groupby(['Case Number']).ngroups"
   ]
  },
  {
   "cell_type": "code",
   "execution_count": 14,
   "metadata": {},
   "outputs": [],
   "source": [
    "# Juvenile stats\n",
    "Number_Cases_Juvenile = ms[ms['juvenile']==True]['Case Number'].nunique()\n",
    "\n",
    "Number_Off_Juvenile = ms[ms['juvenile']==True]['Case Number'].count()\n",
    "\n",
    "Juvenile_one_off = ms[ (ms['offenses_per_case']==1) & \n",
    "                      (ms['juvenile']==True)]['Case Number'].nunique()\n",
    "\n"
   ]
  },
  {
   "cell_type": "code",
   "execution_count": 15,
   "metadata": {
    "scrolled": true
   },
   "outputs": [
    {
     "data": {
      "text/html": [
       "<style  type=\"text/css\" >\n",
       "</style><table id=\"T_3aa036c3_37e0_11eb_91e1_3c58c26e239a\" ><thead>    <tr>        <th class=\"blank level0\" ></th>        <th class=\"col_heading level0 col0\" >Number</th>        <th class=\"col_heading level0 col1\" >% total offenses</th>        <th class=\"col_heading level0 col2\" >% total incidents</th>    </tr>    <tr>        <th class=\"index_name level0\" >Question</th>        <th class=\"blank\" ></th>        <th class=\"blank\" ></th>        <th class=\"blank\" ></th>    </tr></thead><tbody>\n",
       "                <tr>\n",
       "                        <th id=\"T_3aa036c3_37e0_11eb_91e1_3c58c26e239alevel0_row0\" class=\"row_heading level0 row0\" >Total offenses</th>\n",
       "                        <td id=\"T_3aa036c3_37e0_11eb_91e1_3c58c26e239arow0_col0\" class=\"data row0 col0\" >387,531</td>\n",
       "                        <td id=\"T_3aa036c3_37e0_11eb_91e1_3c58c26e239arow0_col1\" class=\"data row0 col1\" ></td>\n",
       "                        <td id=\"T_3aa036c3_37e0_11eb_91e1_3c58c26e239arow0_col2\" class=\"data row0 col2\" ></td>\n",
       "            </tr>\n",
       "            <tr>\n",
       "                        <th id=\"T_3aa036c3_37e0_11eb_91e1_3c58c26e239alevel0_row1\" class=\"row_heading level0 row1\" >Total incidents (cases)</th>\n",
       "                        <td id=\"T_3aa036c3_37e0_11eb_91e1_3c58c26e239arow1_col0\" class=\"data row1 col0\" >163,711</td>\n",
       "                        <td id=\"T_3aa036c3_37e0_11eb_91e1_3c58c26e239arow1_col1\" class=\"data row1 col1\" ></td>\n",
       "                        <td id=\"T_3aa036c3_37e0_11eb_91e1_3c58c26e239arow1_col2\" class=\"data row1 col2\" ></td>\n",
       "            </tr>\n",
       "            <tr>\n",
       "                        <th id=\"T_3aa036c3_37e0_11eb_91e1_3c58c26e239alevel0_row2\" class=\"row_heading level0 row2\" >Incidents with a single offense</th>\n",
       "                        <td id=\"T_3aa036c3_37e0_11eb_91e1_3c58c26e239arow2_col0\" class=\"data row2 col0\" >64,399</td>\n",
       "                        <td id=\"T_3aa036c3_37e0_11eb_91e1_3c58c26e239arow2_col1\" class=\"data row2 col1\" >16.62%</td>\n",
       "                        <td id=\"T_3aa036c3_37e0_11eb_91e1_3c58c26e239arow2_col2\" class=\"data row2 col2\" >39.34%</td>\n",
       "            </tr>\n",
       "            <tr>\n",
       "                        <th id=\"T_3aa036c3_37e0_11eb_91e1_3c58c26e239alevel0_row3\" class=\"row_heading level0 row3\" >Juvenile stats</th>\n",
       "                        <td id=\"T_3aa036c3_37e0_11eb_91e1_3c58c26e239arow3_col0\" class=\"data row3 col0\" >0</td>\n",
       "                        <td id=\"T_3aa036c3_37e0_11eb_91e1_3c58c26e239arow3_col1\" class=\"data row3 col1\" ></td>\n",
       "                        <td id=\"T_3aa036c3_37e0_11eb_91e1_3c58c26e239arow3_col2\" class=\"data row3 col2\" ></td>\n",
       "            </tr>\n",
       "            <tr>\n",
       "                        <th id=\"T_3aa036c3_37e0_11eb_91e1_3c58c26e239alevel0_row4\" class=\"row_heading level0 row4\" >Total juvenile offenses</th>\n",
       "                        <td id=\"T_3aa036c3_37e0_11eb_91e1_3c58c26e239arow4_col0\" class=\"data row4 col0\" >14,280</td>\n",
       "                        <td id=\"T_3aa036c3_37e0_11eb_91e1_3c58c26e239arow4_col1\" class=\"data row4 col1\" >3.68%</td>\n",
       "                        <td id=\"T_3aa036c3_37e0_11eb_91e1_3c58c26e239arow4_col2\" class=\"data row4 col2\" ></td>\n",
       "            </tr>\n",
       "            <tr>\n",
       "                        <th id=\"T_3aa036c3_37e0_11eb_91e1_3c58c26e239alevel0_row5\" class=\"row_heading level0 row5\" >Total juvenile incidents</th>\n",
       "                        <td id=\"T_3aa036c3_37e0_11eb_91e1_3c58c26e239arow5_col0\" class=\"data row5 col0\" >5,816</td>\n",
       "                        <td id=\"T_3aa036c3_37e0_11eb_91e1_3c58c26e239arow5_col1\" class=\"data row5 col1\" ></td>\n",
       "                        <td id=\"T_3aa036c3_37e0_11eb_91e1_3c58c26e239arow5_col2\" class=\"data row5 col2\" >3.55%</td>\n",
       "            </tr>\n",
       "            <tr>\n",
       "                        <th id=\"T_3aa036c3_37e0_11eb_91e1_3c58c26e239alevel0_row6\" class=\"row_heading level0 row6\" >Juvenile incidents with a single offense</th>\n",
       "                        <td id=\"T_3aa036c3_37e0_11eb_91e1_3c58c26e239arow6_col0\" class=\"data row6 col0\" >2,696</td>\n",
       "                        <td id=\"T_3aa036c3_37e0_11eb_91e1_3c58c26e239arow6_col1\" class=\"data row6 col1\" >0.70%</td>\n",
       "                        <td id=\"T_3aa036c3_37e0_11eb_91e1_3c58c26e239arow6_col2\" class=\"data row6 col2\" >1.65%</td>\n",
       "            </tr>\n",
       "            <tr>\n",
       "                        <th id=\"T_3aa036c3_37e0_11eb_91e1_3c58c26e239alevel0_row7\" class=\"row_heading level0 row7\" >Sex and murder stats (all ages)</th>\n",
       "                        <td id=\"T_3aa036c3_37e0_11eb_91e1_3c58c26e239arow7_col0\" class=\"data row7 col0\" >0</td>\n",
       "                        <td id=\"T_3aa036c3_37e0_11eb_91e1_3c58c26e239arow7_col1\" class=\"data row7 col1\" ></td>\n",
       "                        <td id=\"T_3aa036c3_37e0_11eb_91e1_3c58c26e239arow7_col2\" class=\"data row7 col2\" ></td>\n",
       "            </tr>\n",
       "            <tr>\n",
       "                        <th id=\"T_3aa036c3_37e0_11eb_91e1_3c58c26e239alevel0_row8\" class=\"row_heading level0 row8\" >Sex offenses</th>\n",
       "                        <td id=\"T_3aa036c3_37e0_11eb_91e1_3c58c26e239arow8_col0\" class=\"data row8 col0\" >4,884</td>\n",
       "                        <td id=\"T_3aa036c3_37e0_11eb_91e1_3c58c26e239arow8_col1\" class=\"data row8 col1\" >1.26%</td>\n",
       "                        <td id=\"T_3aa036c3_37e0_11eb_91e1_3c58c26e239arow8_col2\" class=\"data row8 col2\" ></td>\n",
       "            </tr>\n",
       "            <tr>\n",
       "                        <th id=\"T_3aa036c3_37e0_11eb_91e1_3c58c26e239alevel0_row9\" class=\"row_heading level0 row9\" >Murder offenses</th>\n",
       "                        <td id=\"T_3aa036c3_37e0_11eb_91e1_3c58c26e239arow9_col0\" class=\"data row9 col0\" >947</td>\n",
       "                        <td id=\"T_3aa036c3_37e0_11eb_91e1_3c58c26e239arow9_col1\" class=\"data row9 col1\" >0.24%</td>\n",
       "                        <td id=\"T_3aa036c3_37e0_11eb_91e1_3c58c26e239arow9_col2\" class=\"data row9 col2\" ></td>\n",
       "            </tr>\n",
       "            <tr>\n",
       "                        <th id=\"T_3aa036c3_37e0_11eb_91e1_3c58c26e239alevel0_row10\" class=\"row_heading level0 row10\" >Incidents with sex or murder</th>\n",
       "                        <td id=\"T_3aa036c3_37e0_11eb_91e1_3c58c26e239arow10_col0\" class=\"data row10 col0\" >3,819</td>\n",
       "                        <td id=\"T_3aa036c3_37e0_11eb_91e1_3c58c26e239arow10_col1\" class=\"data row10 col1\" ></td>\n",
       "                        <td id=\"T_3aa036c3_37e0_11eb_91e1_3c58c26e239arow10_col2\" class=\"data row10 col2\" >2.33%</td>\n",
       "            </tr>\n",
       "    </tbody></table>"
      ],
      "text/plain": [
       "<pandas.io.formats.style.Styler at 0x1c44cca8970>"
      ]
     },
     "execution_count": 15,
     "metadata": {},
     "output_type": "execute_result"
    }
   ],
   "source": [
    "offenses = ['Total offenses', Nu_tot, '','']\n",
    "total = ['Total incidents (cases)', Incidents_tot, '','' ]\n",
    "\n",
    "oneoff = ['Incidents with a single offense', one_off, '{:,.2%}'.format(one_off/Nu_tot), '{:,.2%}'.format(one_off/Incidents_tot)]\n",
    "\n",
    "juv_header = ['Juvenile stats', 0, '', '']\n",
    "juvenile_off = ['Total juvenile offenses', Number_Off_Juvenile, '{:,.2%}'.format(Number_Off_Juvenile/Nu_tot), '']\n",
    "juvenile_inc = ['Total juvenile incidents', Number_Cases_Juvenile, '', '{:,.2%}'.format(Number_Cases_Juvenile/Incidents_tot)]\n",
    "juv_one = ['Juvenile incidents with a single offense', Juvenile_one_off, '{:,.2%}'.format(Juvenile_one_off/Nu_tot), '{:,.2%}'.format(Juvenile_one_off/Incidents_tot)]\n",
    "\n",
    "sm_header = ['Sex and murder stats (all ages)', 0, '', '']\n",
    "sex_offenses = ['Sex offenses', Nu_sex, '{:,.2%}'.format(Nu_sex / Nu_tot),'']\n",
    "murder = ['Murder offenses', Nu_murder, '{:,.2%}'.format(Nu_murder / Nu_tot),'']\n",
    "sex_murder = ['Incidents with sex or murder', Nu_sex_murder_inc, '', '{:,.2%}'.format(Nu_sex_murder_inc / Incidents_tot)]\n",
    "\n",
    "\n",
    "\n",
    "stats = [offenses, total, oneoff, juv_header, juvenile_off, juvenile_inc, juv_one, sm_header, sex_offenses, murder, sex_murder]\n",
    "statsdf = pd.DataFrame(stats, columns = ['Question', 'Number', '% total offenses', '% total incidents'])\n",
    "statsdf = statsdf.set_index('Question')\n",
    "\n",
    "statsdf.style.format({'Number' : '{:,}'})\n"
   ]
  },
  {
   "cell_type": "markdown",
   "metadata": {},
   "source": [
    "**Dispositions and Guilty**\n",
    "Referencing this sheet to determine which to code as not found guilty vs found guilty.\n",
    "https://docs.google.com/spreadsheets/d/1axzGGxgQFPwpTw7EbBlC519L43fOkqC5/edit#gid=487812267"
   ]
  },
  {
   "cell_type": "code",
   "execution_count": 16,
   "metadata": {},
   "outputs": [
    {
     "name": "stdout",
     "output_type": "stream",
     "text": [
      "Top 10 dispositions - all cases\n"
     ]
    },
    {
     "data": {
      "text/html": [
       "<style  type=\"text/css\" >\n",
       "</style><table id=\"T_3aa8d500_37e0_11eb_8235_3c58c26e239a\" ><thead>    <tr>        <th class=\"blank level0\" ></th>        <th class=\"col_heading level0 col0\" >counts</th>        <th class=\"col_heading level0 col1\" >percent</th>        <th class=\"col_heading level0 col2\" >cumulative percent</th>    </tr>    <tr>        <th class=\"index_name level0\" >Dispositions</th>        <th class=\"blank\" ></th>        <th class=\"blank\" ></th>        <th class=\"blank\" ></th>    </tr></thead><tbody>\n",
       "                <tr>\n",
       "                        <th id=\"T_3aa8d500_37e0_11eb_8235_3c58c26e239alevel0_row0\" class=\"row_heading level0 row0\" >DISMISSED W/O  PREJUDICE</th>\n",
       "                        <td id=\"T_3aa8d500_37e0_11eb_8235_3c58c26e239arow0_col0\" class=\"data row0 col0\" >102,609</td>\n",
       "                        <td id=\"T_3aa8d500_37e0_11eb_8235_3c58c26e239arow0_col1\" class=\"data row0 col1\" >26.5%</td>\n",
       "                        <td id=\"T_3aa8d500_37e0_11eb_8235_3c58c26e239arow0_col2\" class=\"data row0 col2\" >26.5%</td>\n",
       "            </tr>\n",
       "            <tr>\n",
       "                        <th id=\"T_3aa8d500_37e0_11eb_8235_3c58c26e239alevel0_row1\" class=\"row_heading level0 row1\" >GUILTY CHANGE OF PLEA</th>\n",
       "                        <td id=\"T_3aa8d500_37e0_11eb_8235_3c58c26e239arow1_col0\" class=\"data row1 col0\" >47,112</td>\n",
       "                        <td id=\"T_3aa8d500_37e0_11eb_8235_3c58c26e239arow1_col1\" class=\"data row1 col1\" >12.2%</td>\n",
       "                        <td id=\"T_3aa8d500_37e0_11eb_8235_3c58c26e239arow1_col2\" class=\"data row1 col2\" >38.6%</td>\n",
       "            </tr>\n",
       "            <tr>\n",
       "                        <th id=\"T_3aa8d500_37e0_11eb_8235_3c58c26e239alevel0_row2\" class=\"row_heading level0 row2\" >CONTINUED W/O FINDING</th>\n",
       "                        <td id=\"T_3aa8d500_37e0_11eb_8235_3c58c26e239arow2_col0\" class=\"data row2 col0\" >42,796</td>\n",
       "                        <td id=\"T_3aa8d500_37e0_11eb_8235_3c58c26e239arow2_col1\" class=\"data row2 col1\" >11.0%</td>\n",
       "                        <td id=\"T_3aa8d500_37e0_11eb_8235_3c58c26e239arow2_col2\" class=\"data row2 col2\" >49.7%</td>\n",
       "            </tr>\n",
       "            <tr>\n",
       "                        <th id=\"T_3aa8d500_37e0_11eb_8235_3c58c26e239alevel0_row3\" class=\"row_heading level0 row3\" >NOT RESPONSIBLE</th>\n",
       "                        <td id=\"T_3aa8d500_37e0_11eb_8235_3c58c26e239arow3_col0\" class=\"data row3 col0\" >37,150</td>\n",
       "                        <td id=\"T_3aa8d500_37e0_11eb_8235_3c58c26e239arow3_col1\" class=\"data row3 col1\" >9.6%</td>\n",
       "                        <td id=\"T_3aa8d500_37e0_11eb_8235_3c58c26e239arow3_col2\" class=\"data row3 col2\" >59.3%</td>\n",
       "            </tr>\n",
       "            <tr>\n",
       "                        <th id=\"T_3aa8d500_37e0_11eb_8235_3c58c26e239alevel0_row4\" class=\"row_heading level0 row4\" >DISMISSED BY FINES</th>\n",
       "                        <td id=\"T_3aa8d500_37e0_11eb_8235_3c58c26e239arow4_col0\" class=\"data row4 col0\" >31,844</td>\n",
       "                        <td id=\"T_3aa8d500_37e0_11eb_8235_3c58c26e239arow4_col1\" class=\"data row4 col1\" >8.2%</td>\n",
       "                        <td id=\"T_3aa8d500_37e0_11eb_8235_3c58c26e239arow4_col2\" class=\"data row4 col2\" >67.5%</td>\n",
       "            </tr>\n",
       "            <tr>\n",
       "                        <th id=\"T_3aa8d500_37e0_11eb_8235_3c58c26e239alevel0_row5\" class=\"row_heading level0 row5\" >RESPONSIBLE</th>\n",
       "                        <td id=\"T_3aa8d500_37e0_11eb_8235_3c58c26e239arow5_col0\" class=\"data row5 col0\" >23,818</td>\n",
       "                        <td id=\"T_3aa8d500_37e0_11eb_8235_3c58c26e239arow5_col1\" class=\"data row5 col1\" >6.1%</td>\n",
       "                        <td id=\"T_3aa8d500_37e0_11eb_8235_3c58c26e239arow5_col2\" class=\"data row5 col2\" >73.6%</td>\n",
       "            </tr>\n",
       "            <tr>\n",
       "                        <th id=\"T_3aa8d500_37e0_11eb_8235_3c58c26e239alevel0_row6\" class=\"row_heading level0 row6\" >NOLLE PROSEQUI</th>\n",
       "                        <td id=\"T_3aa8d500_37e0_11eb_8235_3c58c26e239arow6_col0\" class=\"data row6 col0\" >22,359</td>\n",
       "                        <td id=\"T_3aa8d500_37e0_11eb_8235_3c58c26e239arow6_col1\" class=\"data row6 col1\" >5.8%</td>\n",
       "                        <td id=\"T_3aa8d500_37e0_11eb_8235_3c58c26e239arow6_col2\" class=\"data row6 col2\" >79.4%</td>\n",
       "            </tr>\n",
       "            <tr>\n",
       "                        <th id=\"T_3aa8d500_37e0_11eb_8235_3c58c26e239alevel0_row7\" class=\"row_heading level0 row7\" >PRE-TRIAL PROBATION</th>\n",
       "                        <td id=\"T_3aa8d500_37e0_11eb_8235_3c58c26e239arow7_col0\" class=\"data row7 col0\" >20,293</td>\n",
       "                        <td id=\"T_3aa8d500_37e0_11eb_8235_3c58c26e239arow7_col1\" class=\"data row7 col1\" >5.2%</td>\n",
       "                        <td id=\"T_3aa8d500_37e0_11eb_8235_3c58c26e239arow7_col2\" class=\"data row7 col2\" >84.6%</td>\n",
       "            </tr>\n",
       "            <tr>\n",
       "                        <th id=\"T_3aa8d500_37e0_11eb_8235_3c58c26e239alevel0_row8\" class=\"row_heading level0 row8\" >DISMISSED W/O PREJUDICE LACK OF PROSECUTION</th>\n",
       "                        <td id=\"T_3aa8d500_37e0_11eb_8235_3c58c26e239arow8_col0\" class=\"data row8 col0\" >11,428</td>\n",
       "                        <td id=\"T_3aa8d500_37e0_11eb_8235_3c58c26e239arow8_col1\" class=\"data row8 col1\" >2.9%</td>\n",
       "                        <td id=\"T_3aa8d500_37e0_11eb_8235_3c58c26e239arow8_col2\" class=\"data row8 col2\" >87.6%</td>\n",
       "            </tr>\n",
       "            <tr>\n",
       "                        <th id=\"T_3aa8d500_37e0_11eb_8235_3c58c26e239alevel0_row9\" class=\"row_heading level0 row9\" >DISMISSED ON COURT COSTS</th>\n",
       "                        <td id=\"T_3aa8d500_37e0_11eb_8235_3c58c26e239arow9_col0\" class=\"data row9 col0\" >10,689</td>\n",
       "                        <td id=\"T_3aa8d500_37e0_11eb_8235_3c58c26e239arow9_col1\" class=\"data row9 col1\" >2.8%</td>\n",
       "                        <td id=\"T_3aa8d500_37e0_11eb_8235_3c58c26e239arow9_col2\" class=\"data row9 col2\" >90.3%</td>\n",
       "            </tr>\n",
       "    </tbody></table>"
      ],
      "text/plain": [
       "<pandas.io.formats.style.Styler at 0x1c44b069ca0>"
      ]
     },
     "execution_count": 16,
     "metadata": {},
     "output_type": "execute_result"
    }
   ],
   "source": [
    "print(\"Top 10 dispositions - all cases\")\n",
    "\n",
    "a = ms['Disposition Description'].value_counts().rename_axis('Dispositions').to_frame('counts')\n",
    "b = ms['Disposition Description'].value_counts(normalize=True).rename_axis('Dispositions').to_frame('percent')\n",
    "disp_stats = pd.concat([a, b], axis=1)\n",
    "\n",
    "disp_stats['cumulative percent'] = disp_stats.percent.cumsum()\n",
    "disp_stats[0:10].style.format({ 'counts' : '{:,}', 'percent' : '{:,.1%}', 'cumulative percent' : '{:,.1%}'})"
   ]
  },
  {
   "cell_type": "code",
   "execution_count": 17,
   "metadata": {},
   "outputs": [
    {
     "name": "stdout",
     "output_type": "stream",
     "text": [
      "top 10 dispositions for all cases in juvenile court\n"
     ]
    },
    {
     "data": {
      "text/html": [
       "<style  type=\"text/css\" >\n",
       "</style><table id=\"T_3aad9bc7_37e0_11eb_bbdc_3c58c26e239a\" ><thead>    <tr>        <th class=\"blank level0\" ></th>        <th class=\"col_heading level0 col0\" >counts</th>        <th class=\"col_heading level0 col1\" >percent</th>        <th class=\"col_heading level0 col2\" >cumulative percent</th>    </tr>    <tr>        <th class=\"index_name level0\" >Dispositions</th>        <th class=\"blank\" ></th>        <th class=\"blank\" ></th>        <th class=\"blank\" ></th>    </tr></thead><tbody>\n",
       "                <tr>\n",
       "                        <th id=\"T_3aad9bc7_37e0_11eb_bbdc_3c58c26e239alevel0_row0\" class=\"row_heading level0 row0\" >DISMISSED W/O  PREJUDICE</th>\n",
       "                        <td id=\"T_3aad9bc7_37e0_11eb_bbdc_3c58c26e239arow0_col0\" class=\"data row0 col0\" >4,287</td>\n",
       "                        <td id=\"T_3aad9bc7_37e0_11eb_bbdc_3c58c26e239arow0_col1\" class=\"data row0 col1\" >30.0%</td>\n",
       "                        <td id=\"T_3aad9bc7_37e0_11eb_bbdc_3c58c26e239arow0_col2\" class=\"data row0 col2\" >30.0%</td>\n",
       "            </tr>\n",
       "            <tr>\n",
       "                        <th id=\"T_3aad9bc7_37e0_11eb_bbdc_3c58c26e239alevel0_row1\" class=\"row_heading level0 row1\" >PRE-TRIAL PROBATION</th>\n",
       "                        <td id=\"T_3aad9bc7_37e0_11eb_bbdc_3c58c26e239arow1_col0\" class=\"data row1 col0\" >3,402</td>\n",
       "                        <td id=\"T_3aad9bc7_37e0_11eb_bbdc_3c58c26e239arow1_col1\" class=\"data row1 col1\" >23.8%</td>\n",
       "                        <td id=\"T_3aad9bc7_37e0_11eb_bbdc_3c58c26e239arow1_col2\" class=\"data row1 col2\" >53.8%</td>\n",
       "            </tr>\n",
       "            <tr>\n",
       "                        <th id=\"T_3aad9bc7_37e0_11eb_bbdc_3c58c26e239alevel0_row2\" class=\"row_heading level0 row2\" >CONTINUED W/O FINDING</th>\n",
       "                        <td id=\"T_3aad9bc7_37e0_11eb_bbdc_3c58c26e239arow2_col0\" class=\"data row2 col0\" >2,025</td>\n",
       "                        <td id=\"T_3aad9bc7_37e0_11eb_bbdc_3c58c26e239arow2_col1\" class=\"data row2 col1\" >14.2%</td>\n",
       "                        <td id=\"T_3aad9bc7_37e0_11eb_bbdc_3c58c26e239arow2_col2\" class=\"data row2 col2\" >68.0%</td>\n",
       "            </tr>\n",
       "            <tr>\n",
       "                        <th id=\"T_3aad9bc7_37e0_11eb_bbdc_3c58c26e239alevel0_row3\" class=\"row_heading level0 row3\" >DISMISSED PRIOR TO ARRAIGNMENT</th>\n",
       "                        <td id=\"T_3aad9bc7_37e0_11eb_bbdc_3c58c26e239arow3_col0\" class=\"data row3 col0\" >745</td>\n",
       "                        <td id=\"T_3aad9bc7_37e0_11eb_bbdc_3c58c26e239arow3_col1\" class=\"data row3 col1\" >5.2%</td>\n",
       "                        <td id=\"T_3aad9bc7_37e0_11eb_bbdc_3c58c26e239arow3_col2\" class=\"data row3 col2\" >73.2%</td>\n",
       "            </tr>\n",
       "            <tr>\n",
       "                        <th id=\"T_3aad9bc7_37e0_11eb_bbdc_3c58c26e239alevel0_row4\" class=\"row_heading level0 row4\" >DELINQUENT CHANGE OF PLEA</th>\n",
       "                        <td id=\"T_3aad9bc7_37e0_11eb_bbdc_3c58c26e239arow4_col0\" class=\"data row4 col0\" >694</td>\n",
       "                        <td id=\"T_3aad9bc7_37e0_11eb_bbdc_3c58c26e239arow4_col1\" class=\"data row4 col1\" >4.9%</td>\n",
       "                        <td id=\"T_3aad9bc7_37e0_11eb_bbdc_3c58c26e239arow4_col2\" class=\"data row4 col2\" >78.1%</td>\n",
       "            </tr>\n",
       "            <tr>\n",
       "                        <th id=\"T_3aad9bc7_37e0_11eb_bbdc_3c58c26e239alevel0_row5\" class=\"row_heading level0 row5\" >NOT RESPONSIBLE</th>\n",
       "                        <td id=\"T_3aad9bc7_37e0_11eb_bbdc_3c58c26e239arow5_col0\" class=\"data row5 col0\" >401</td>\n",
       "                        <td id=\"T_3aad9bc7_37e0_11eb_bbdc_3c58c26e239arow5_col1\" class=\"data row5 col1\" >2.8%</td>\n",
       "                        <td id=\"T_3aad9bc7_37e0_11eb_bbdc_3c58c26e239arow5_col2\" class=\"data row5 col2\" >80.9%</td>\n",
       "            </tr>\n",
       "            <tr>\n",
       "                        <th id=\"T_3aad9bc7_37e0_11eb_bbdc_3c58c26e239alevel0_row6\" class=\"row_heading level0 row6\" >NOLLE PROSEQUI</th>\n",
       "                        <td id=\"T_3aad9bc7_37e0_11eb_bbdc_3c58c26e239arow6_col0\" class=\"data row6 col0\" >342</td>\n",
       "                        <td id=\"T_3aad9bc7_37e0_11eb_bbdc_3c58c26e239arow6_col1\" class=\"data row6 col1\" >2.4%</td>\n",
       "                        <td id=\"T_3aad9bc7_37e0_11eb_bbdc_3c58c26e239arow6_col2\" class=\"data row6 col2\" >83.3%</td>\n",
       "            </tr>\n",
       "            <tr>\n",
       "                        <th id=\"T_3aad9bc7_37e0_11eb_bbdc_3c58c26e239alevel0_row7\" class=\"row_heading level0 row7\" >DISMISSED BY COURT (PRIOR TO ARRAIGNMENT)</th>\n",
       "                        <td id=\"T_3aad9bc7_37e0_11eb_bbdc_3c58c26e239arow7_col0\" class=\"data row7 col0\" >339</td>\n",
       "                        <td id=\"T_3aad9bc7_37e0_11eb_bbdc_3c58c26e239arow7_col1\" class=\"data row7 col1\" >2.4%</td>\n",
       "                        <td id=\"T_3aad9bc7_37e0_11eb_bbdc_3c58c26e239arow7_col2\" class=\"data row7 col2\" >85.7%</td>\n",
       "            </tr>\n",
       "            <tr>\n",
       "                        <th id=\"T_3aad9bc7_37e0_11eb_bbdc_3c58c26e239alevel0_row8\" class=\"row_heading level0 row8\" >DISMISSED W/O PREJUDICE LACK OF PROSECUTION</th>\n",
       "                        <td id=\"T_3aad9bc7_37e0_11eb_bbdc_3c58c26e239arow8_col0\" class=\"data row8 col0\" >310</td>\n",
       "                        <td id=\"T_3aad9bc7_37e0_11eb_bbdc_3c58c26e239arow8_col1\" class=\"data row8 col1\" >2.2%</td>\n",
       "                        <td id=\"T_3aad9bc7_37e0_11eb_bbdc_3c58c26e239arow8_col2\" class=\"data row8 col2\" >87.9%</td>\n",
       "            </tr>\n",
       "            <tr>\n",
       "                        <th id=\"T_3aad9bc7_37e0_11eb_bbdc_3c58c26e239alevel0_row9\" class=\"row_heading level0 row9\" >GUILTY CHANGE OF PLEA</th>\n",
       "                        <td id=\"T_3aad9bc7_37e0_11eb_bbdc_3c58c26e239arow9_col0\" class=\"data row9 col0\" >221</td>\n",
       "                        <td id=\"T_3aad9bc7_37e0_11eb_bbdc_3c58c26e239arow9_col1\" class=\"data row9 col1\" >1.5%</td>\n",
       "                        <td id=\"T_3aad9bc7_37e0_11eb_bbdc_3c58c26e239arow9_col2\" class=\"data row9 col2\" >89.4%</td>\n",
       "            </tr>\n",
       "    </tbody></table>"
      ],
      "text/plain": [
       "<pandas.io.formats.style.Styler at 0x1c44b0b1250>"
      ]
     },
     "execution_count": 17,
     "metadata": {},
     "output_type": "execute_result"
    }
   ],
   "source": [
    "a = ms['Disposition Description'].loc[ms['juvenile']==True].value_counts().rename_axis('Dispositions').to_frame('counts')\n",
    "b = ms['Disposition Description'].loc[ms['juvenile']==True].value_counts(normalize=True).rename_axis('Dispositions').to_frame('percent')\n",
    "disp_stats = pd.concat([a, b], axis=1)\n",
    "\n",
    "disp_stats['cumulative percent'] = disp_stats.percent.cumsum()\n",
    "print('top 10 dispositions for all cases in juvenile court')\n",
    "disp_stats[0:10].style.format({ 'counts' : '{:,}', 'percent' : '{:,.1%}', 'cumulative percent' : '{:,.1%}'})"
   ]
  },
  {
   "cell_type": "code",
   "execution_count": 18,
   "metadata": {},
   "outputs": [
    {
     "name": "stdout",
     "output_type": "stream",
     "text": [
      "Guilty dispositions\n"
     ]
    },
    {
     "data": {
      "text/html": [
       "<style  type=\"text/css\" >\n",
       "</style><table id=\"T_3ab15651_37e0_11eb_b02c_3c58c26e239a\" ><thead>    <tr>        <th class=\"blank\" ></th>        <th class=\"blank level0\" ></th>        <th class=\"col_heading level0 col0\" >Percent</th>    </tr>    <tr>        <th class=\"index_name level0\" ></th>        <th class=\"index_name level1\" >Found Guilty</th>        <th class=\"blank\" ></th>    </tr></thead><tbody>\n",
       "                <tr>\n",
       "                        <th id=\"T_3ab15651_37e0_11eb_b02c_3c58c26e239alevel0_row0\" class=\"row_heading level0 row0\" rowspan=2>Offenses</th>\n",
       "                        <th id=\"T_3ab15651_37e0_11eb_b02c_3c58c26e239alevel1_row0\" class=\"row_heading level1 row0\" >False</th>\n",
       "                        <td id=\"T_3ab15651_37e0_11eb_b02c_3c58c26e239arow0_col0\" class=\"data row0 col0\" >78.1%</td>\n",
       "            </tr>\n",
       "            <tr>\n",
       "                                <th id=\"T_3ab15651_37e0_11eb_b02c_3c58c26e239alevel1_row1\" class=\"row_heading level1 row1\" >True</th>\n",
       "                        <td id=\"T_3ab15651_37e0_11eb_b02c_3c58c26e239arow1_col0\" class=\"data row1 col0\" >21.9%</td>\n",
       "            </tr>\n",
       "            <tr>\n",
       "                        <th id=\"T_3ab15651_37e0_11eb_b02c_3c58c26e239alevel0_row2\" class=\"row_heading level0 row2\" rowspan=2>Incidents</th>\n",
       "                        <th id=\"T_3ab15651_37e0_11eb_b02c_3c58c26e239alevel1_row2\" class=\"row_heading level1 row2\" >False</th>\n",
       "                        <td id=\"T_3ab15651_37e0_11eb_b02c_3c58c26e239arow2_col0\" class=\"data row2 col0\" >67.9%</td>\n",
       "            </tr>\n",
       "            <tr>\n",
       "                                <th id=\"T_3ab15651_37e0_11eb_b02c_3c58c26e239alevel1_row3\" class=\"row_heading level1 row3\" >True</th>\n",
       "                        <td id=\"T_3ab15651_37e0_11eb_b02c_3c58c26e239arow3_col0\" class=\"data row3 col0\" >32.1%</td>\n",
       "            </tr>\n",
       "    </tbody></table>"
      ],
      "text/plain": [
       "<pandas.io.formats.style.Styler at 0x1c44b07f3a0>"
      ]
     },
     "execution_count": 18,
     "metadata": {},
     "output_type": "execute_result"
    }
   ],
   "source": [
    "print('Guilty dispositions')\n",
    "\n",
    "a = ms['guilty'].value_counts(normalize=True).rename_axis('Found Guilty').to_frame('Percent')\n",
    "b = ms['Incident_Guilty'].value_counts(normalize=True).rename_axis('Found Guilty').to_frame('Percent')\n",
    "guilty_stats = pd.concat([a, b], keys=['Offenses', 'Incidents'])\n",
    "guilty_stats.style.format({ 'Percent' : '{:,.1%}'})"
   ]
  },
  {
   "cell_type": "markdown",
   "metadata": {},
   "source": [
    "## Question 1\n",
    "\n",
    "Original: 1. How many people (under age 21) are eligible for expungement today? This would be people with only **one charge** that is not part of the list of ineligible offenses (per section 100J). \n",
    "\n",
    "What we can answer: \n",
    "- How many cases include only 1 offense, heard in a Juvenile court, and the charge is not part of the list of ineligible offenses from section 100J. \n",
    "----"
   ]
  },
  {
   "cell_type": "code",
   "execution_count": 19,
   "metadata": {},
   "outputs": [],
   "source": [
    "def date_range(x):\n",
    "    greater3 = x.loc[(x['years_since_offense'] > 3)]['Case Number'].nunique()\n",
    "    greater7 = x.loc[(x['years_since_offense'] > 7)]['Case Number'].nunique()\n",
    "\n",
    "    print(greater3, \"occured more than 3 years before\", reference_date)\n",
    "    print(greater7, \"occured more than 7 years before\", reference_date)\n",
    "    \n",
    "def eligible_juvs(y):\n",
    "    People_eligible = y['Case Number'].nunique()\n",
    "    pct_juv = '{:.2%}'.format(People_eligible/Number_Cases_Juvenile)\n",
    "    return People_eligible , pct_juv\n",
    "    \n",
    "def eligible_all_ages(y):\n",
    "    People_eligible = y['Case Number'].nunique()\n",
    "    pct_tot = '{:.2%}'.format(People_eligible/Incidents_tot)\n",
    "    return People_eligible, pct_tot"
   ]
  },
  {
   "cell_type": "code",
   "execution_count": 26,
   "metadata": {},
   "outputs": [
    {
     "name": "stdout",
     "output_type": "stream",
     "text": [
      "('q1', 'Incidents with a single offense: no offense ineligible', (1676, '28.82%'))\n"
     ]
    }
   ],
   "source": [
    "x = ms.loc[\n",
    "    (ms['offenses_per_case']==1) &\n",
    "    (ms['Expungeable'] != 'No') &\n",
    "    (ms['juvenile'] == True)\n",
    "]\n",
    "\n",
    "q1 = 'q1', 'Incidents with a single offense: no offense ineligible', eligible_juvs(x)\n",
    "print(q1)\n",
    "\n",
    "#all ages\n",
    "x = ms.loc[\n",
    "    (ms['offenses_per_case']==1) &\n",
    "    (ms['Expungeable'] != 'No') \n",
    "]\n",
    "q1 = q1, eligible_all_ages(x)\n",
    "      \n",
    "#date_range(x)\n",
    "\n",
    "#print(x['Disposition Description'].value_counts(dropna=False)[0:10])"
   ]
  },
  {
   "cell_type": "markdown",
   "metadata": {},
   "source": [
    "## Question 2\n",
    "Original: How many people (under age 21) would be eligible based on only having one incident (which could include multiple charges) that are not part of the list of ineligible offenses?\n",
    "\n",
    "\n",
    "*We cannot answer this -- we do not have a person-level identifier or any proxy for an identifier.*\n",
    "\n",
    "- How many incidents are heard in juvenile court where no offenses are on the list of ineligible offenses\n"
   ]
  },
  {
   "cell_type": "code",
   "execution_count": 27,
   "metadata": {},
   "outputs": [
    {
     "name": "stdout",
     "output_type": "stream",
     "text": [
      "('q2', 'Incidents: no offenses ineligible', (3210, '55.19%'))\n",
      "PRE-TRIAL PROBATION                            2185\n",
      "DISMISSED W/O  PREJUDICE                       2167\n",
      "CONTINUED W/O FINDING                          1166\n",
      "DISMISSED PRIOR TO ARRAIGNMENT                  460\n",
      "DELINQUENT CHANGE OF PLEA                       329\n",
      "NOT RESPONSIBLE                                 194\n",
      "DISMISSED BY COURT (PRIOR TO ARRAIGNMENT)       172\n",
      "DISMISSED BY FINES                              112\n",
      "GUILTY CHANGE OF PLEA                            99\n",
      "DISMISSED W/O PREJUDICE LACK OF PROSECUTION      94\n",
      "Name: Disposition Description, dtype: int64\n"
     ]
    }
   ],
   "source": [
    "x = ms.loc[\n",
    "    (ms['Inc_Expungeable_Attempts_Are'] == True) &\n",
    "    (ms['juvenile'] == True)\n",
    "]\n",
    "\n",
    "q2 = 'q2', 'Incidents: no offenses ineligible', eligible_juvs(x)\n",
    "print(q2)\n",
    "\n",
    "#date_range(x)\n",
    "print(x['Disposition Description'].value_counts(dropna=False)[0:10])\n",
    "\n",
    "#all ages\n",
    "x = ms.loc[\n",
    "    (ms['Inc_Expungeable_Attempts_Are'] == True) \n",
    "]\n",
    "q2 = q2, eligible_all_ages(x)"
   ]
  },
  {
   "cell_type": "markdown",
   "metadata": {},
   "source": [
    "## Verdict: Disposition / guilty\n",
    "Original Q3: How many people (under age 21) would be eligible based on who has not been found guilty (given current offenses that are eligible for expungement)?\n",
    "\n",
    "Guilty is defined above in section 0.5\n",
    "\n",
    "*Because we do not have an individual identifier, this is just a sub-set of the previous question. This will remove any incidents where at least 1 offense had a disposition indicating guilty (looks like its mostly taking form delinquent change of plea or guilty change of plea). If we had an indicator of individuals across offenses, this might increase the number of people eligible for expungement, because it would waive the single offense/incident criterion. In this case, it reduces the number of incidents eligible, because it restricts to only those not found guilty.*\n",
    "\n",
    "- How many incidents have no offenses ineligible and no offenses with a guilty verdict"
   ]
  },
  {
   "cell_type": "code",
   "execution_count": 28,
   "metadata": {},
   "outputs": [
    {
     "name": "stdout",
     "output_type": "stream",
     "text": [
      "('q3', 'Incidents: no offenses ineligible, no guilty dispositions', (2969, '51.05%'))\n"
     ]
    }
   ],
   "source": [
    "x = ms.loc[\n",
    "    (ms['Inc_Expungeable_Attempts_Are']) &\n",
    "    (ms['juvenile'] == True) &\n",
    "    (ms['Incident_Guilty'] != True)\n",
    "]\n",
    "\n",
    "q3 = 'q3', 'Incidents: no offenses ineligible, no guilty dispositions', eligible_juvs(x)\n",
    "print(q3)\n",
    "\n",
    "#date_range(x)\n",
    "\n",
    "x['Disposition Description'].value_counts(dropna=False)[0:10]\n",
    "\n",
    "#all ages\n",
    "x = ms.loc[\n",
    "    (ms['Inc_Expungeable_Attempts_Are']) &\n",
    "    (ms['Incident_Guilty'] != True)\n",
    "]\n",
    "q3 = q3, eligible_all_ages(x)"
   ]
  },
  {
   "cell_type": "markdown",
   "metadata": {},
   "source": [
    "## Sex or murder related\n",
    "Original: How many people (under age 21) would be eligible based on only having one incident if only sex-based offenses or murder were excluded from expungement?\n",
    "\n",
    "\n",
    "*We cannot answer this -- we do not have a person-level identifier or any proxy for an identifier.*\n",
    "\n",
    "- Incidents heard in juvenile court are eligible where no charges are related to sex or murder"
   ]
  },
  {
   "cell_type": "code",
   "execution_count": 29,
   "metadata": {},
   "outputs": [
    {
     "name": "stdout",
     "output_type": "stream",
     "text": [
      "('q4', 'Incidents: no offenses related to sex or murder', (5682, '97.70%'))\n",
      "3195 occured more than 3 years before 2020-09-01\n",
      "25 occured more than 7 years before 2020-09-01\n"
     ]
    }
   ],
   "source": [
    "x = ms.loc[\n",
    "    (ms['Incident_Murder_Sex'] == False) &\n",
    "    (ms['juvenile'] == True)\n",
    "]\n",
    "\n",
    "q4 = 'q4', 'Incidents: no offenses related to sex or murder', eligible_juvs(x)\n",
    "print(q4) \n",
    "\n",
    "date_range(x)\n",
    "\n",
    "x['Disposition Description'].value_counts(dropna=False)[0:10]\n",
    "\n",
    "#all ages\n",
    "x = ms.loc[\n",
    "    (ms['Incident_Murder_Sex'] == False) \n",
    "]\n",
    "q4 = q4, eligible_all_ages(x)"
   ]
  },
  {
   "cell_type": "markdown",
   "metadata": {},
   "source": [
    "### No Sex or Murder and not found Guilty\n",
    "Original: How many people (under age 21) would be eligible based on who has not been found guilty for all offenses except for murder or sex-based offenses?\n",
    "\n",
    "*Because we do not have an individual identifier, this is just a sub-set of Question 2b. This will remove any incidents where at least 1 offense had a disposition indicating guilty (looks like its mostly taking form delinquent change of plea or guilty change of plea). If we had an indicator of individuals across offenses, this might increase the number of people eligible for expungement, because it would waive the single offense/incident criterion. In this case, it reduces the number of incidents eligible, because it restricts to only those not found guilty.*\n",
    "\n",
    "- Incidents where no charges are related to sex or murder and no offenses have a guilty disposition"
   ]
  },
  {
   "cell_type": "code",
   "execution_count": 31,
   "metadata": {},
   "outputs": [
    {
     "name": "stdout",
     "output_type": "stream",
     "text": [
      "('q5', 'Incidents: no offenses related to sex or murder, no guilty dispositions', (5201, '89.43%'))\n"
     ]
    }
   ],
   "source": [
    "x = ms.loc[\n",
    "    (ms['Incident_Murder_Sex'] == False) &\n",
    "    (ms['juvenile'] == True) &\n",
    "    (ms['Incident_Guilty'] != True)\n",
    "]\n",
    "\n",
    "q5 = 'q5','Incidents: no offenses related to sex or murder, no guilty dispositions', eligible_juvs(x)\n",
    "print(q5)\n",
    "\n",
    "#date_range(x)\n",
    "\n",
    "x['Disposition Description'].value_counts(dropna=False)[0:10]\n",
    "\n",
    "# all ages\n",
    "x = ms.loc[\n",
    "    (ms['Incident_Murder_Sex'] == False) &\n",
    "    (ms['Incident_Guilty'] != True)\n",
    "]\n",
    "q5 = q5, eligible_all_ages(x)"
   ]
  },
  {
   "cell_type": "code",
   "execution_count": 34,
   "metadata": {},
   "outputs": [
    {
     "data": {
      "text/html": [
       "<style  type=\"text/css\" >\n",
       "</style><table id=\"T_c9c2b4df_37e0_11eb_9c0c_3c58c26e239a\" ><thead>    <tr>        <th class=\"blank level0\" ></th>        <th class=\"col_heading level0 col0\" >Question</th>        <th class=\"col_heading level0 col1\" ># Juv Incidents</th>        <th class=\"col_heading level0 col2\" >% Juv</th>        <th class=\"col_heading level0 col3\" ># All Age Incidents</th>        <th class=\"col_heading level0 col4\" >% All Ages</th>    </tr>    <tr>        <th class=\"index_name level0\" >q</th>        <th class=\"blank\" ></th>        <th class=\"blank\" ></th>        <th class=\"blank\" ></th>        <th class=\"blank\" ></th>        <th class=\"blank\" ></th>    </tr></thead><tbody>\n",
       "                <tr>\n",
       "                        <th id=\"T_c9c2b4df_37e0_11eb_9c0c_3c58c26e239alevel0_row0\" class=\"row_heading level0 row0\" >q1</th>\n",
       "                        <td id=\"T_c9c2b4df_37e0_11eb_9c0c_3c58c26e239arow0_col0\" class=\"data row0 col0\" >Incidents with a single offense: no offense ineligible</td>\n",
       "                        <td id=\"T_c9c2b4df_37e0_11eb_9c0c_3c58c26e239arow0_col1\" class=\"data row0 col1\" >1,676</td>\n",
       "                        <td id=\"T_c9c2b4df_37e0_11eb_9c0c_3c58c26e239arow0_col2\" class=\"data row0 col2\" >28.82%</td>\n",
       "                        <td id=\"T_c9c2b4df_37e0_11eb_9c0c_3c58c26e239arow0_col3\" class=\"data row0 col3\" >42,416</td>\n",
       "                        <td id=\"T_c9c2b4df_37e0_11eb_9c0c_3c58c26e239arow0_col4\" class=\"data row0 col4\" >25.91%</td>\n",
       "            </tr>\n",
       "            <tr>\n",
       "                        <th id=\"T_c9c2b4df_37e0_11eb_9c0c_3c58c26e239alevel0_row1\" class=\"row_heading level0 row1\" >q2</th>\n",
       "                        <td id=\"T_c9c2b4df_37e0_11eb_9c0c_3c58c26e239arow1_col0\" class=\"data row1 col0\" >Incidents: no offenses ineligible</td>\n",
       "                        <td id=\"T_c9c2b4df_37e0_11eb_9c0c_3c58c26e239arow1_col1\" class=\"data row1 col1\" >3,210</td>\n",
       "                        <td id=\"T_c9c2b4df_37e0_11eb_9c0c_3c58c26e239arow1_col2\" class=\"data row1 col2\" >55.19%</td>\n",
       "                        <td id=\"T_c9c2b4df_37e0_11eb_9c0c_3c58c26e239arow1_col3\" class=\"data row1 col3\" >101,433</td>\n",
       "                        <td id=\"T_c9c2b4df_37e0_11eb_9c0c_3c58c26e239arow1_col4\" class=\"data row1 col4\" >61.96%</td>\n",
       "            </tr>\n",
       "            <tr>\n",
       "                        <th id=\"T_c9c2b4df_37e0_11eb_9c0c_3c58c26e239alevel0_row2\" class=\"row_heading level0 row2\" >q3</th>\n",
       "                        <td id=\"T_c9c2b4df_37e0_11eb_9c0c_3c58c26e239arow2_col0\" class=\"data row2 col0\" >Incidents: no offenses ineligible, no guilty dispositions</td>\n",
       "                        <td id=\"T_c9c2b4df_37e0_11eb_9c0c_3c58c26e239arow2_col1\" class=\"data row2 col1\" >2,969</td>\n",
       "                        <td id=\"T_c9c2b4df_37e0_11eb_9c0c_3c58c26e239arow2_col2\" class=\"data row2 col2\" >51.05%</td>\n",
       "                        <td id=\"T_c9c2b4df_37e0_11eb_9c0c_3c58c26e239arow2_col3\" class=\"data row2 col3\" >74,088</td>\n",
       "                        <td id=\"T_c9c2b4df_37e0_11eb_9c0c_3c58c26e239arow2_col4\" class=\"data row2 col4\" >45.26%</td>\n",
       "            </tr>\n",
       "            <tr>\n",
       "                        <th id=\"T_c9c2b4df_37e0_11eb_9c0c_3c58c26e239alevel0_row3\" class=\"row_heading level0 row3\" >q4</th>\n",
       "                        <td id=\"T_c9c2b4df_37e0_11eb_9c0c_3c58c26e239arow3_col0\" class=\"data row3 col0\" >Incidents: no offenses related to sex or murder</td>\n",
       "                        <td id=\"T_c9c2b4df_37e0_11eb_9c0c_3c58c26e239arow3_col1\" class=\"data row3 col1\" >5,682</td>\n",
       "                        <td id=\"T_c9c2b4df_37e0_11eb_9c0c_3c58c26e239arow3_col2\" class=\"data row3 col2\" >97.70%</td>\n",
       "                        <td id=\"T_c9c2b4df_37e0_11eb_9c0c_3c58c26e239arow3_col3\" class=\"data row3 col3\" >159,892</td>\n",
       "                        <td id=\"T_c9c2b4df_37e0_11eb_9c0c_3c58c26e239arow3_col4\" class=\"data row3 col4\" >97.67%</td>\n",
       "            </tr>\n",
       "            <tr>\n",
       "                        <th id=\"T_c9c2b4df_37e0_11eb_9c0c_3c58c26e239alevel0_row4\" class=\"row_heading level0 row4\" >q5</th>\n",
       "                        <td id=\"T_c9c2b4df_37e0_11eb_9c0c_3c58c26e239arow4_col0\" class=\"data row4 col0\" >Incidents: no offenses related to sex or murder, no guilty dispositions</td>\n",
       "                        <td id=\"T_c9c2b4df_37e0_11eb_9c0c_3c58c26e239arow4_col1\" class=\"data row4 col1\" >5,201</td>\n",
       "                        <td id=\"T_c9c2b4df_37e0_11eb_9c0c_3c58c26e239arow4_col2\" class=\"data row4 col2\" >89.43%</td>\n",
       "                        <td id=\"T_c9c2b4df_37e0_11eb_9c0c_3c58c26e239arow4_col3\" class=\"data row4 col3\" >118,333</td>\n",
       "                        <td id=\"T_c9c2b4df_37e0_11eb_9c0c_3c58c26e239arow4_col4\" class=\"data row4 col4\" >72.28%</td>\n",
       "            </tr>\n",
       "    </tbody></table>"
      ],
      "text/plain": [
       "<pandas.io.formats.style.Styler at 0x1c44b07fac0>"
      ]
     },
     "execution_count": 34,
     "metadata": {},
     "output_type": "execute_result"
    }
   ],
   "source": [
    "a = [q1, q2, q3, q4, q5]\n",
    "\n",
    "\n",
    "ans = pd.DataFrame(a , columns = ['A', 'B'])\n",
    "ans[['q', 'Question', 'Juv']] = pd.DataFrame(ans['A'].tolist())  \n",
    "ans[['# Juv Incidents', '% Juv']] = pd.DataFrame(ans['Juv'].tolist()) \n",
    "ans[['# All Age Incidents', '% All Ages']] = pd.DataFrame(ans['B'].tolist())  \n",
    "ans = ans[['q', 'Question', '# Juv Incidents', '% Juv', '# All Age Incidents', '% All Ages']].set_index('q')\n",
    "ans.style.format({'# Juv Incidents':'{:,}', '# All Age Incidents':'{:,}'})"
   ]
  },
  {
   "cell_type": "code",
   "execution_count": null,
   "metadata": {},
   "outputs": [],
   "source": []
  }
 ],
 "metadata": {
  "kernelspec": {
   "display_name": "Python 3",
   "language": "python",
   "name": "python3"
  },
  "language_info": {
   "codemirror_mode": {
    "name": "ipython",
    "version": 3
   },
   "file_extension": ".py",
   "mimetype": "text/x-python",
   "name": "python",
   "nbconvert_exporter": "python",
   "pygments_lexer": "ipython3",
   "version": "3.8.3"
  }
 },
 "nbformat": 4,
 "nbformat_minor": 4
}
