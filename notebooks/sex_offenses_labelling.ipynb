{
 "cells": [
  {
   "cell_type": "markdown",
   "metadata": {
    "id": "Y5ijY7DSFKzs"
   },
   "source": [
    "# Clean Slate: Labelling Nonexpungeable Sex Offenses\n",
    "\n",
    "> Prepared by Joel Tennyson for Code for Boston's [Clean Slate Project](https://github.com/codeforboston/clean-slate)\n",
    "\n",
    "# Purpose\n",
    "Whether or not a charge relates to a non-expungeable sex offense is deeply relevant to parts of the data analysis we are performing to answer the questions posed by Citizens for Juvenile Justice. \n",
    "\n",
    "Previous efforts to label these sex offenses in our data have relied solely on keyword matching. This notebook explores the impact of a new labelling strategy that incorporates offense chapter and section data as well as keyword matching.\n",
    "\n",
    "**This notebook is used to apply the new sex offense labelling strategy to the merged_nw.csv, merged_suff.csv, and merged_ms.csv files.** Only values in the 'sex' column are updated; the files are otherwise unchanged.\n",
    "\n",
    "Mass general laws chapter 276 article 100J indicates chapter/section pairings that are likely (but not certain) to indicate nonexpungeable sex offenses in subsections 6, 7, 8, and 10. The associated chapter and section pairings are found in [this crosswalk document.](https://docs.google.com/spreadsheets/d/1eM7lXkUKruWl9cRg20vtXEfoD47CD2KGPPPMg_0AoH4/edit#gid=1023772964)\n",
    "\n",
    "\n",
    "---"
   ]
  },
  {
   "cell_type": "markdown",
   "metadata": {
    "id": "f7FrE475M1BA"
   },
   "source": [
    "# Import Libraries and Fetch Data\n",
    "\n",
    "Pandas dataframes are created from the Northwest, Suffolk, and Middlesex datasets. A listing of chapter/section pairings is created from the sex offense crosswalk document."
   ]
  },
  {
   "cell_type": "code",
   "execution_count": 1,
   "metadata": {
    "id": "aRcvXhinEhni"
   },
   "outputs": [],
   "source": [
    "import requests\n",
    "import pandas as pd\n",
    "import os"
   ]
  },
  {
   "cell_type": "code",
   "execution_count": 2,
   "metadata": {},
   "outputs": [
    {
     "name": "stderr",
     "output_type": "stream",
     "text": [
      "C:\\Users\\laura\\Anaconda3\\lib\\site-packages\\IPython\\core\\interactiveshell.py:3071: DtypeWarning: Columns (17) have mixed types.Specify dtype option on import or set low_memory=False.\n",
      "  has_raised = await self.run_ast_nodes(code_ast.body, cell_name,\n"
     ]
    },
    {
     "name": "stdout",
     "output_type": "stream",
     "text": [
      "Dataframes created for Northwest, Suffolk, and Middlesex\n"
     ]
    },
    {
     "name": "stderr",
     "output_type": "stream",
     "text": [
      "C:\\Users\\laura\\Anaconda3\\lib\\site-packages\\IPython\\core\\interactiveshell.py:3071: DtypeWarning: Columns (7) have mixed types.Specify dtype option on import or set low_memory=False.\n",
      "  has_raised = await self.run_ast_nodes(code_ast.body, cell_name,\n"
     ]
    }
   ],
   "source": [
    "# Create dataframes for Northwest, Suffolk, and Middlesex\n",
    "nw = pd.read_csv('../../data/processed/merged_nw.csv', encoding='cp1252')\n",
    "sf = pd.read_csv('../../data/processed/merged_suff.csv', encoding='cp1252')\n",
    "ms = pd.read_csv('../../data/processed/merged_ms.csv', encoding='cp1252')\n",
    "pd.set_option(\"display.max.columns\", None)\n",
    "print(\"Dataframes created for Northwest, Suffolk, and Middlesex\")"
   ]
  },
  {
   "cell_type": "code",
   "execution_count": 3,
   "metadata": {},
   "outputs": [
    {
     "name": "stdout",
     "output_type": "stream",
     "text": [
      "Sex Offenses Crosswalk List:\n",
      " [(265, '13B', 0), (265, '13B1/2', 0), (265, '13B3/4', 1), (265, '13F', 0), (265, '13H', 0), (265, '22', 0), (265, '22A', 0), (265, '22B', 0), (265, '22C', 1), (265, '23', 0), (265, '23A', 0), (265, '23B', 1), (265, '24', 0), (265, '24B', 0), (265, '26', 0), (265, '26C', 0), (265, '26D', 0), (265, '50', 0), (265, '52', 1), (272, '2', 0), (272, '3', 0), (272, '4A', 0), (272, '4B', 0), (272, '16', 0), (272, '17', 0), (272, '28', 0), (272, '29A', 0), (272, '29B', 0), (272, '29C', 0), (272, '30D', 0), (272, '35A', 0), (272, '53', 0), (272, '77C', 0), (277, '39', 0)]\n"
     ]
    }
   ],
   "source": [
    "# Create the list of chaper/section pairings related to nonexpungable sex offenses\n",
    "# Each nonexpungeable sex offense has three values: chapter, section, and boolean for 'only on repeat offense'\n",
    "download_url = 'https://docs.google.com/spreadsheets/d/1eM7lXkUKruWl9cRg20vtXEfoD47CD2KGPPPMg_0AoH4/gviz/tq?usp=sharing&tqx=out:csv&sheet={Crosswalk}'\n",
    "target_csv_path = 'so_crosswalk.csv'\n",
    "\n",
    "response = requests.get(download_url)\n",
    "response.raise_for_status()\n",
    "with open(target_csv_path, 'wb') as f:\n",
    "    f.write(response.content)\n",
    "# Create dataframe from the crosswalk, then a list containing that data\n",
    "so = pd.read_csv('so_crosswalk.csv')\n",
    "sex_offenses = list(so.to_records(index=False))\n",
    "print('Sex Offenses Crosswalk List:\\n', sex_offenses)\n",
    "\n",
    "# Delete the downloaded crosswalk file from the local directory\n",
    "os.remove('so_crosswalk.csv')"
   ]
  },
  {
   "cell_type": "markdown",
   "metadata": {
    "id": "z232SlPbNPZl"
   },
   "source": [
    "# Determine Offenses With Chapter/Section Pairings Matching the Sex Offense Crosswalk"
   ]
  },
  {
   "cell_type": "markdown",
   "metadata": {
    "id": "cOArv7C5ZB0r"
   },
   "source": [
    "The chapters and sections of the offenses identified as matching the sex offense crosswalk are listed for manual inspection."
   ]
  },
  {
   "cell_type": "code",
   "execution_count": 4,
   "metadata": {
    "colab": {
     "base_uri": "https://localhost:8080/",
     "height": 103
    },
    "id": "yBS6R38BJAQ0",
    "outputId": "a487d7b8-5e39-4ef2-ec27-1bd87512de5c"
   },
   "outputs": [
    {
     "data": {
      "text/plain": [
       "array(['RAPE OF CHILD WITH FORCE, SUBSQ.OFF. c265 Â§22A',\n",
       "       'RAPE OF CHILD, STATUTORY, AFTER CERTAIN OFFENSES c265 Â§23B'],\n",
       "      dtype=object)"
      ]
     },
     "execution_count": 4,
     "metadata": {},
     "output_type": "execute_result"
    }
   ],
   "source": [
    "# To help determine which keywords will cover all subsequent charges (i.e. 'subsequent', 'second', etc)\n",
    "# display list of unique charges associated with crosswalk entrys that are only sex offenses on a subsequent offense\n",
    "all_datasets = pd.concat([sf, nw, ms])\n",
    "only_subsequents = all_datasets.iloc[0:0]\n",
    "for listing in sex_offenses:\n",
    "  if listing[2] == 1:\n",
    "    x = all_datasets.loc[\n",
    "    (all_datasets['Chapter'].notna()) &\n",
    "    (all_datasets['Chapter'].str.contains(str(listing[0]), case=False)) &\n",
    "    (all_datasets['Section'].notna()) &\n",
    "    (all_datasets['Section'].str.contains(str(listing[1]), case=False))\n",
    "    ]\n",
    "    only_subsequents = pd.concat([only_subsequents, x]) \n",
    "\n",
    "only_subsequents['Charge'].unique()"
   ]
  },
  {
   "cell_type": "code",
   "execution_count": 5,
   "metadata": {},
   "outputs": [],
   "source": [
    "# This list is determined by manual inspection of the above, and should be revisited if the underlying data changes significantly\n",
    "subsequent_keywords = ['SUBSQ.OFF.', 'AFTER CERTAIN OFFENSES']"
   ]
  },
  {
   "cell_type": "code",
   "execution_count": 6,
   "metadata": {
    "id": "1kmpSTxxgBr3"
   },
   "outputs": [],
   "source": [
    "# This function takes in a dataframe and a crosswalk entry, and returns a slice of that dataframe containing charges that match the crosswalk entry\n",
    "def match_crosswalk(df, offense):\n",
    "  return df.loc[\n",
    "    (df['Chapter'].notna()) &\n",
    "    (df['Chapter'].str.contains(str(offense[0]), case=False)) &\n",
    "    (df['Section'].notna()) &\n",
    "    (df['Section'].str.contains(str(offense[1]), case=False)) &\n",
    "    (offense[2] == 0 | df['Charge'].str.contains('|'.join(subsequent_keywords), case=False))\n",
    "  ]"
   ]
  },
  {
   "cell_type": "code",
   "execution_count": 7,
   "metadata": {
    "id": "3hoTMlQr4kHQ"
   },
   "outputs": [],
   "source": [
    "# This function takes in a dataframe and a crosswalk entry, and changes the value of the 'sex' column to 1 wherever a charge matches the crosswalk entry\n",
    "# and that charge is a sex offense (based on the sex offense keyword list)\n",
    "def update_sex(df, offense):\n",
    "  df.loc[\n",
    "    (df['Chapter'].notna()) &\n",
    "    (df['Chapter'].str.contains(str(offense[0]), case=False)) &\n",
    "    (df['Section'].notna()) &\n",
    "    (df['Section'].str.contains(str(offense[1]), case=False)) &\n",
    "    (df['Charge'].str.contains('|'.join(so_keywords), case=False)) &\n",
    "    (offense[2] == 0 | df['Charge'].str.contains('|'.join(subsequent_keywords), case=False)),\n",
    "    'sex'\n",
    "  ] = 1"
   ]
  },
  {
   "cell_type": "code",
   "execution_count": 8,
   "metadata": {
    "colab": {
     "base_uri": "https://localhost:8080/"
    },
    "id": "indNRCFHo5LH",
    "outputId": "f733a869-2007-4264-ebeb-729f82064425"
   },
   "outputs": [
    {
     "data": {
      "text/plain": [
       "Chapter  Section\n",
       "265      13B          797\n",
       "         13F           54\n",
       "         13H          891\n",
       "         13H/C         11\n",
       "         22(a)        203\n",
       "         22(b)        398\n",
       "         22A          208\n",
       "         23           456\n",
       "         23A/A        308\n",
       "         24           114\n",
       "         24B           60\n",
       "         26           672\n",
       "         26A           28\n",
       "         26B            1\n",
       "         50           126\n",
       "272      12             5\n",
       "         16           626\n",
       "         17            16\n",
       "         2              5\n",
       "         24            16\n",
       "         28           176\n",
       "         29            41\n",
       "         29A(a)       128\n",
       "         29A(b)         8\n",
       "         29B(a)       158\n",
       "         29B(b)        34\n",
       "         29C          390\n",
       "         3              3\n",
       "         34             4\n",
       "         35             2\n",
       "         35A            4\n",
       "         38             1\n",
       "         42             6\n",
       "         42A            1\n",
       "         43            33\n",
       "         43A            7\n",
       "         4A             9\n",
       "         4B             3\n",
       "         53         17728\n",
       "         53A         1148\n",
       "         73             6\n",
       "dtype: int64"
      ]
     },
     "execution_count": 8,
     "metadata": {},
     "output_type": "execute_result"
    }
   ],
   "source": [
    "# Create so_sf, a dataframe containing all Suffolk charges that match the chapter/section pairs in the sex offenses list\n",
    "so_sf = sf.iloc[0:0]\n",
    "\n",
    "for listing in sex_offenses:\n",
    "  x = match_crosswalk(sf, listing)\n",
    "  so_sf = pd.concat([so_sf, x])\n",
    "\n",
    "so_sf.groupby(['Chapter', 'Section']).size()"
   ]
  },
  {
   "cell_type": "code",
   "execution_count": 9,
   "metadata": {
    "colab": {
     "base_uri": "https://localhost:8080/"
    },
    "id": "_Gh7Ov__uhIq",
    "outputId": "8637ea4e-6a12-4f26-d830-4e39edd04de5"
   },
   "outputs": [
    {
     "data": {
      "text/plain": [
       "Chapter  Section        \n",
       "265      13B                 258\n",
       "         13F                  17\n",
       "         13H                 168\n",
       "         22(a)                15\n",
       "         22(b)                77\n",
       "         22A                 112\n",
       "         22B                   8\n",
       "         23                   62\n",
       "         23A(a)              148\n",
       "         23A(b)               42\n",
       "         24                   10\n",
       "         24B                  12\n",
       "         26                   82\n",
       "         26A                   4\n",
       "         50(a)                19\n",
       "265,     22(b)                 1\n",
       "         23                    1\n",
       "         23A                   2\n",
       "272      16                   64\n",
       "         17                    5\n",
       "         24                   11\n",
       "         28                   82\n",
       "         29                   14\n",
       "         29A(a)               66\n",
       "         29A(b)                8\n",
       "         29B(a)               74\n",
       "         29B(b)               18\n",
       "         29C                 292\n",
       "         3                     2\n",
       "         35                    4\n",
       "         35A                 126\n",
       "         43                    1\n",
       "         53                 3828\n",
       "         53A                  30\n",
       "         73                    2\n",
       "         99(C)(3) or (4)       2\n",
       "dtype: int64"
      ]
     },
     "execution_count": 9,
     "metadata": {},
     "output_type": "execute_result"
    }
   ],
   "source": [
    "# Create so_nw, a dataframe containing all Northwest charges that match the chapter/section pairs in the sex offenses list\n",
    "so_nw = nw.iloc[0:0]\n",
    "\n",
    "for listing in sex_offenses:\n",
    "  x = match_crosswalk(nw, listing)\n",
    "  so_nw = pd.concat([so_nw, x])\n",
    "\n",
    "so_nw.groupby(['Chapter', 'Section']).size()"
   ]
  },
  {
   "cell_type": "code",
   "execution_count": 10,
   "metadata": {
    "colab": {
     "base_uri": "https://localhost:8080/"
    },
    "id": "JvV30P_QBNrG",
    "outputId": "12557bb8-6f12-46c5-8666-f8e1bbe5116d"
   },
   "outputs": [
    {
     "data": {
      "text/plain": [
       "Chapter  Section\n",
       "265      13B          421\n",
       "         13B12          4\n",
       "         13F           56\n",
       "         13H            8\n",
       "         22           370\n",
       "         22B           52\n",
       "         22C           15\n",
       "         23            77\n",
       "         23A           66\n",
       "         23B            5\n",
       "         24            92\n",
       "         24B           58\n",
       "         26           520\n",
       "         26A           26\n",
       "         26C           72\n",
       "         26D           10\n",
       "         50           108\n",
       "272      12            20\n",
       "         16           462\n",
       "         17             1\n",
       "         2              3\n",
       "         24             8\n",
       "         28           114\n",
       "         29            26\n",
       "         29A           58\n",
       "         29B           88\n",
       "         29C          416\n",
       "         3              6\n",
       "         34             3\n",
       "         35            23\n",
       "         42            24\n",
       "         42A            1\n",
       "         43            11\n",
       "         4A             1\n",
       "         4B             1\n",
       "         53         13312\n",
       "         53A          788\n",
       "         73             8\n",
       "dtype: int64"
      ]
     },
     "execution_count": 10,
     "metadata": {},
     "output_type": "execute_result"
    }
   ],
   "source": [
    "# Create so_ms, a dataframe containing all Northwest charges that match the chapter/section pairs in the sex offenses list\n",
    "so_ms = ms.iloc[0:0]\n",
    "\n",
    "for listing in sex_offenses:\n",
    "  x = match_crosswalk(ms, listing)\n",
    "  so_ms = pd.concat([so_ms, x])\n",
    "\n",
    "so_ms.groupby(['Chapter', 'Section']).size()"
   ]
  },
  {
   "cell_type": "markdown",
   "metadata": {
    "id": "uhMd5GOCLsx6"
   },
   "source": [
    "# Determine Sex Offense Related Keywords\n",
    "Some of the chapter/section pairings in the sex offense crosswalk can pertain to nonsexual offenses as well.\n",
    "\n",
    "A careful manual review of the list of unique incidents that match the chapter/section pairings from the sex offense crosswalk sheet is used to determine a list of keywords that cover all of the sex-related offenses, and none of the non-sex related offenses.\n",
    "\n",
    "Because this is a manual review, significant changes to the underlying data will require the keyword list to be revisited."
   ]
  },
  {
   "cell_type": "code",
   "execution_count": 11,
   "metadata": {
    "id": "tZ6FUfTEMJ1-"
   },
   "outputs": [],
   "source": [
    "so_keywords = ['INDECENT', 'RAPE', 'SEX', 'LEWDNESS', 'OBSCENE', 'PORNOGRAPHY', 'PROSTITUTION', 'LEWD', 'NUDE', 'NIGHTWALKER', 'STREETWALKER', 'SODOMY', 'INCEST', 'UNNATURAL', 'BESTIALITY']"
   ]
  },
  {
   "cell_type": "code",
   "execution_count": 12,
   "metadata": {
    "colab": {
     "base_uri": "https://localhost:8080/"
    },
    "id": "vzbcjzCprUlV",
    "outputId": "b182c294-1a8e-4dba-98e6-48a02480649c"
   },
   "outputs": [
    {
     "name": "stdout",
     "output_type": "stream",
     "text": [
      "ALL OFFENSES MATCHING THE SEX OFFENSE CROSSWALK (SUFFOLK, NORTHWEST, MIDDLESEX):\n",
      "\n"
     ]
    },
    {
     "data": {
      "text/plain": [
       "array(['INDECENT A&B ON CHILD UNDER 14 c265 Ã‚Â§13B',\n",
       "       'INDECENT A&B ON CHILD UNDER 14, SUBSQ. c265 Ã‚Â§13B',\n",
       "       'A&B ON RETARDED PERSON c265 Ã‚Â§13F',\n",
       "       'INDECENT A&B ON RETARDED PERSON c265 Ã‚Â§13F',\n",
       "       'INDECENT A&B ON PERSON 14 OR OVER c265 Ã‚Â§13H',\n",
       "       'INDECENT A&B ON DISABLED PERSON OVER 60 c265 Ã‚Â§13H/C',\n",
       "       'INDECENT A&B ON PERSON 14 OR OVER c. 265 s. 13H',\n",
       "       'RAPE OF CHILD WITH FORCE c265 Ã‚Â§22A',\n",
       "       'RAPE, AGGRAVATED c265 Ã‚Â§22(a)', 'RAPE c265 Ã‚Â§22(b)',\n",
       "       'RAPE, AGGRAVATED FIREARM-ARMED c265 Ã‚Â§22(a)',\n",
       "       'RAPE c. 265 s. 22(b)', 'RAPE, FIREARM-ARMED c265 Ã‚Â§22(b)',\n",
       "       'RAPE OF CHILD WITH FORCE c. 265 s. 22A',\n",
       "       'RAPE, AGGRAVATED c. 265 s. 22(a)',\n",
       "       'RAPE OF CHILD, STATUTORY c265 Ã‚Â§23',\n",
       "       'RAPE OF CHILD, AGGRAVATED, TEN YEAR AGE DIFF c265 Ã‚Â§23',\n",
       "       'RAPE OF CHILD, STATUTORY AGGRAVATED c265 Ã‚Â§23A/A',\n",
       "       'RAPE OF CHILD, STATUTORY c. 265 s. 23',\n",
       "       'ASSAULT TO RAPE c265 Ã‚Â§24',\n",
       "       'ASSAULT TO RAPE CHILD c265 Ã‚Â§24B',\n",
       "       'ASSAULT TO RAPE, FIREARM-ARMED c265 Ã‚Â§24',\n",
       "       'KIDNAPPING c265 Ã‚Â§26',\n",
       "       'KIDNAPPING MINOR BY RELATIVE c265 Ã‚Â§26A',\n",
       "       'KIDNAPPING, FIREARM-ARMED c265 Ã‚Â§26',\n",
       "       'KIDNAPPING WITH SERIOUS BODILY INJURY, ARMED c265 Ã‚Â§26',\n",
       "       'KIDNAPPING OF CHILD c265 Ã‚Â§26',\n",
       "       'KIDNAPPING & ENDANGER MINOR BY RELATIVE c265 Ã‚Â§26A',\n",
       "       'KIDNAPPING WITH SEXUAL ASSAULT, ARMED c265 Ã‚Â§26',\n",
       "       'KIDNAPPING PERSON IN CUSTODY c265 Ã‚Â§26A',\n",
       "       'KIDNAPPING WITH SEXUAL ASSAULT, ARMED c. 265 s. 26',\n",
       "       'KIDNAPPING FOR EXTORTION, FIREARM-ARMED c265 Ã‚Â§26',\n",
       "       'DRUG TO CONFINE c265 Ã‚Â§26B',\n",
       "       'TRAFFICKING PERSONS FOR SEXUAL SERVITUDE c. 265 s. 50',\n",
       "       'FUNERAL PROCESSION, DISTURB c272 Ã‚Â§42',\n",
       "       'OBSCENE MATTER, DISTRIBUTE c272 Ã‚Â§29',\n",
       "       'CHILD IN NUDE, LASCIVIOUS POSE/EXHIBIT c272 Ã‚Â§29A(a)',\n",
       "       'OBSCENE MATTER TO MINOR c272 Ã‚Â§28',\n",
       "       'CHILD IN NUDE, DISTRIB MATERIAL OF c272 Ã‚Â§29B(a)',\n",
       "       'CHILD PORNOGRAPHY, POSSESS c272 Ã‚Â§29C',\n",
       "       'CHILD IN SEXUAL ACT, POSE/EXHIBIT c272 Ã‚Â§29A(b)',\n",
       "       'PROSTITUTION, KEEP HOUSE OF c272 Ã‚Â§24',\n",
       "       'CHILD IN SEXUAL ACT, DISTRIB MATERIAL OF c272 Ã‚Â§29B(b)',\n",
       "       'PROSTITUTION/UNLAW SEX,ABDUCT PERSON FOR c. 272 s. 2',\n",
       "       'PROSTITUTION, PROCURE PERSON TO PRACTICE c272 Ã‚Â§12',\n",
       "       'CHILD PORNOGRAPHY, POSSESS, 3RD OFF. c272 Ã‚Â§29C',\n",
       "       'CHILD PORNOGRAPHY, POSSESS, 2ND OFF. c272 Ã‚Â§29C',\n",
       "       'PROSTITUTION/UNLAW SEX,ABDUCT PERSON FOR c272 Ã‚Â§2',\n",
       "       'PROSTITUTION, PROCURE PERSON TO PRACTICE c. 272 s. 12',\n",
       "       'FUNERAL SERVICE, DISTURB c272 Ã‚Â§42A',\n",
       "       'DISORDERLY CONDUCT c272 Ã‚Â§53',\n",
       "       'ACCOST/ANNOY PERSON OF OPPOSITE SEX c272 Ã‚Â§53',\n",
       "       'INDECENT EXPOSURE c272 Ã‚Â§53',\n",
       "       'DISTURBING THE PEACE c272 Ã‚Â§53',\n",
       "       'SEXUAL CONDUCT, PAY FOR c272 Ã‚Â§53A',\n",
       "       'SEXUAL CONDUCT FOR FEE c272 Ã‚Â§53A',\n",
       "       'NOISY & DISORDERLY HOUSE, KEEP c272 Ã‚Â§53',\n",
       "       'LEWD, WANTON & LASCIVIOUS CONDUCT c272 Ã‚Â§53',\n",
       "       'DISORDERLY CONDUCT ON PUB CONVEY,3RD OFF c272 Ã‚Â§43',\n",
       "       'NIGHTWALKER, COMMON c272 Ã‚Â§53',\n",
       "       'DISORDERLY CONDUCT ON PUBLIC CONVEYANCE c272 Ã‚Â§43',\n",
       "       'STREETWALKER, COMMON c272 Ã‚Â§53',\n",
       "       'NIGHTWALKER, COMMON, 3RD OFFENSE c272 Ã‚Â§53',\n",
       "       'SMOKING ON MBTA c272 Ã‚Â§43A',\n",
       "       'DISORDERLY CONDUCT, SUBSQ. OFF. c272 Ã‚Â§53',\n",
       "       'DISTURBING THE PEACE, SUBSQ. OFF. c272 Ã‚Â§53',\n",
       "       'UNNATURAL ACT WITH CHILD -16 c272 Ã‚Â§35A',\n",
       "       'SEXUAL CONDUCT, PAY FOR OR FOR FEE c. 272 s. 53A',\n",
       "       'SODOMY c272 Ã‚Â§34', 'GRAVESTONE, VANDALIZE c272 Ã‚Â§73',\n",
       "       'RELIGIOUS SERVICE, DISTURB c272 Ã‚Â§38',\n",
       "       'UNNATURAL ACT c272 Ã‚Â§35', 'BESTIALITY c272 Ã‚Â§34',\n",
       "       'GRAVE PLANTING, VANDALIZE c272 Ã‚Â§73',\n",
       "       'SEXUAL INTERCOURSE, DRUG FOR c272 Ã‚Â§3',\n",
       "       'DISORDERLY CONDUCT c. 272 s. 53', 'GRAVE, DISTURB c272 Ã‚Â§73',\n",
       "       'PROSTITUTION, INDUCE MINOR TO c272 Ã‚Â§4A',\n",
       "       'PROSTITUTION, DERIVE SUPPORT FROM CHILD c272 Ã‚Â§4B',\n",
       "       'LEWDNESS, OPEN AND GROSS c272 Ã‚Â§16',\n",
       "       'LEWDNESS, OPEN AND GROSS c. 272 s. 16', 'INCEST c272 Ã‚Â§17',\n",
       "       'INDECENT A&B ON A PERSON WITH AN INTELLECTUAL DISABILITY  c265 Ã‚Â§13F',\n",
       "       'A&B ON A PERSON WITH AN INTELLECTUAL DISABILITY c265 Ã‚Â§13F',\n",
       "       'INDECENT A&B DISABLED OR PERSON>60, c265s13H',\n",
       "       'Rape, c265,s22(b)',\n",
       "       'RAPE OF A CHILD WITH FORCE, AGGRAVATED c265 Ã‚Â§22B',\n",
       "       'AGGRAVATED RAPE &  ABUSE OF A CHILD, 5 YEAR AGE DIFFERENCE c265s23A(a)',\n",
       "       'RAPE AND ABUSE OF A CHILD c265 Ã‚Â§23',\n",
       "       'Aggravated Rape of Child, c265,s23A',\n",
       "       'Rape & Abuse Child, c265,s23',\n",
       "       'AGGRAVATED RAPE &  ABUSE OF A CHILD, 10 YEAR AGE DIFFERENCE c265s23A(b)',\n",
       "       'TRAFFICKING OF PERSON FOR SEXUAL SERVITUDE c265 Ã‚Â§50(a)',\n",
       "       'CHILD PORNOGRAPHY, POSSESS, 2ND OFF.  c272 Ã‚Â§29C',\n",
       "       'OBSCENE MATTER TO MINOR, 2ND OFF. c272 Ã‚Â§28',\n",
       "       'WIRETAP, DISCLOSE CONTENTS OF c272 Ã‚Â§99(C)(3) or (4)',\n",
       "       'LEWDNESS, OPEN AND GROSS, HABITUAL  c272 Ã‚Â§16',\n",
       "       'INDECENT A&B ON CHILD UNDER 14, SUBSQ. c265 Â§13B',\n",
       "       'INDECENT A&B ON CHILD UNDER 14 c265 Â§13B',\n",
       "       'INDECENT A&B ON CHILD UNDER 14, AGGRAVATED c265 Â§13BÂ½',\n",
       "       'INDECENT A&B ON PERSON WITH INTELLECTUAL DISABILITY c265 Â§13F',\n",
       "       'A&B ON PERSON WITH INTELLECTUAL DISABILITY c265 Â§13F',\n",
       "       'INDECENT A&B ON +60/DISABLED c265 Â§13H', 'RAPE c265 Â§22(b)',\n",
       "       'RAPE OF CHILD WITH FORCE, AGGRAVATED c265 Â§22B',\n",
       "       'RAPE, AGGRAVATED c265 Â§22(a)',\n",
       "       'RAPE OF CHILD WITH FORCE, AGGRAVATED, JOINT ENTERPRISE c265 Â§22B',\n",
       "       'RAPE OF CHILD WITH FORCE, SUBSQ.OFF. c265 Â§22A',\n",
       "       'RAPE OF CHILD, STATUTORY c265 Â§23',\n",
       "       'RAPE OF CHILD, AGGRAVATED, TEN YEAR AGE DIFFERENCE c265 Â§23A',\n",
       "       'RAPE OF CHILD, AGGRAVATED, FIVE YEAR AGE DIFFERENCE c265 Â§23A',\n",
       "       'RAPE OF CHILD, STATUTORY, AFTER CERTAIN OFFENSES c265 Â§23B',\n",
       "       'ASSAULT TO RAPE c265 Â§24', 'ASSAULT TO RAPE CHILD c265 Â§24B',\n",
       "       'KIDNAPPING c265 Â§26', 'KIDNAPPING FOR EXTORTION c265 Â§09',\n",
       "       'KIDNAPPING MINOR BY RELATIVE c265 Â§26A',\n",
       "       'KIDNAPPING & ENDANGER MINOR BY RELATIVE c265 Â§26A',\n",
       "       'ENTICEMENT OF CHILDREN', 'KIDNAPPING OF CHILD c265 Â§26',\n",
       "       'ELECTRONIC ENTICEMENT OF CHILD FOR COMMERCIAL SEXUAL ACTIVITY c265 Â§26D(c)',\n",
       "       'KIDNAPPING WITH SEXUAL ASSAULT, ARMED c265 Â§26',\n",
       "       'KIDNAPPING WITH SERIOUS BODILY INJURY, ARMED c265 Â§26',\n",
       "       'KIDNAPPING FOR EXTORTION, FIREARM-ARMED c265 Â§26',\n",
       "       'ELECTRONIC ENTICEMENT OF CHILD FOR HUMAN TRAFFICKING c265 Â§26D(c)',\n",
       "       'KIDNAPPING, FIREARM-ARMED c265 Â§26',\n",
       "       'KIDNAPPING & ENDANGER PERSON IN CUSTODY c265 Â§26A',\n",
       "       'TRAFFICKING OF PERSON FOR SEXUAL SERVITUDE c265 Â§50(a)',\n",
       "       'TRAFFICKING OF PERSON UNDER 18 FOR SEXUAL SERVITUDE c265 Â§50(b)',\n",
       "       'FUNERAL PROCESSION, DISTURB c272 Â§42',\n",
       "       'CHILD IN NUDE, LASCIVIOUS POSE/EXHIBIT c272 Â§29A(a)',\n",
       "       'CHILD PORNOGRAPHY, POSSESS c272 Â§29C',\n",
       "       'OBSCENE MATTER, DISTRIBUTE c272 Â§29',\n",
       "       'CHILD IN NUDE, DISTRIB MATERIAL OF c272 Â§29B(a)',\n",
       "       'CHILD IN SEXUAL ACT, DISTRIB MATERIAL OF c272 Â§29B(b)',\n",
       "       'OBSCENE MATTER TO MINOR c272 Â§28',\n",
       "       'CHILD IN SEXUAL ACT, POSE/EXHIBIT c272 Â§29A(b)',\n",
       "       'PROSTITUTION, KEEP HOUSE OF c272 Â§24',\n",
       "       'CHILD PORNOGRAPHY, POSSESS, 2ND OFF.  c272 Â§29C',\n",
       "       'FUNERAL SERVICE, DISTURB c272 Â§42A',\n",
       "       'PROSTITUTION/UNLAW SEX,ABDUCT PERSON FOR  c272 Â§2',\n",
       "       'CHILD PORNOGRAPHY, POSSESS, 3RD OFF.  c272 Â§29C',\n",
       "       'PROSTITUTION, PROCURE PERSON TO PRACTICE c272 Â§12',\n",
       "       'OBSCENE MATTER, DISTRIBUTE, 3RD OFF. c272 Â§29',\n",
       "       'DISORDERLY CONDUCT c272 Â§53', 'DISTURBING THE PEACE c272 Â§53',\n",
       "       'NIGHTWALKER, COMMON c272 Â§53',\n",
       "       'SEXUAL CONDUCT FOR FEE c272 Â§53A',\n",
       "       'LEWD, WANTON & LASCIVIOUS CONDUCT c272 Â§53',\n",
       "       'NOISY & DISORDERLY HOUSE, KEEP c272 Â§53',\n",
       "       'ACCOST/ANNOY PERSON OF OPPOSITE SEX c272 Â§53',\n",
       "       'INDECENT EXPOSURE c272 Â§53',\n",
       "       'DISORDERLY CONDUCT (SUBSEQUENT OFFENSE)',\n",
       "       'SEXUAL CONDUCT, PAY FOR c272 Â§53A',\n",
       "       'GRAVESTONE, VANDALIZE c272 Â§73', 'UNNATURAL ACT c272 Â§35',\n",
       "       'STREETWALKER, COMMON c272 Â§53',\n",
       "       'SEXUAL CONDUCT WITH CHILD UNDER 18, PAY FOR c272 Â§53A(c)',\n",
       "       'DISTURBING THE PEACE, SUBSQ. OFF. c272 Â§53',\n",
       "       'DISORDERLY CONDUCT ON PUBLIC CONVEYANCE c272 Â§43',\n",
       "       'DISORDERLY CONDUCT ON PUB CONVEY,3RD OFF c272 Â§43',\n",
       "       'SEXUAL INTERCOURSE, DRUG FOR c272 Â§3', 'BESTIALITY c272 Â§34',\n",
       "       'SODOMY c272 Â§34', 'PROSTITUTION, INDUCE MINOR TO c272 Â§4A',\n",
       "       'PROSTITUTION, DERIVE SUPPORT FROM CHILD c272 Â§4B',\n",
       "       'LEWDNESS, OPEN AND GROSS c272 Â§16', 'INCEST c272 Â§17'],\n",
       "      dtype=object)"
      ]
     },
     "execution_count": 12,
     "metadata": {},
     "output_type": "execute_result"
    }
   ],
   "source": [
    "# Display all unique charges from all three datasets that match the chapter/section pairs in the sex offenses list\n",
    "print('ALL OFFENSES MATCHING THE SEX OFFENSE CROSSWALK (SUFFOLK, NORTHWEST, MIDDLESEX):\\n')\n",
    "so_all = pd.concat([so_sf, so_nw, so_ms])\n",
    "so_all['Charge'].unique()"
   ]
  },
  {
   "cell_type": "code",
   "execution_count": 13,
   "metadata": {
    "colab": {
     "base_uri": "https://localhost:8080/"
    },
    "id": "-C-onAqnEhm1",
    "outputId": "2d641fec-11c4-42a9-f913-cbf7bd32bb6f"
   },
   "outputs": [
    {
     "name": "stdout",
     "output_type": "stream",
     "text": [
      "SEX OFFENSES MATCHING THE SEX OFFENSE CROSSWALK (SUFFOLK, NORTHWEST, MIDDLESEX):\n",
      "\n"
     ]
    },
    {
     "data": {
      "text/plain": [
       "array(['INDECENT A&B ON CHILD UNDER 14 c265 Ã‚Â§13B',\n",
       "       'INDECENT A&B ON CHILD UNDER 14, SUBSQ. c265 Ã‚Â§13B',\n",
       "       'INDECENT A&B ON RETARDED PERSON c265 Ã‚Â§13F',\n",
       "       'INDECENT A&B ON PERSON 14 OR OVER c265 Ã‚Â§13H',\n",
       "       'INDECENT A&B ON DISABLED PERSON OVER 60 c265 Ã‚Â§13H/C',\n",
       "       'INDECENT A&B ON PERSON 14 OR OVER c. 265 s. 13H',\n",
       "       'RAPE OF CHILD WITH FORCE c265 Ã‚Â§22A',\n",
       "       'RAPE, AGGRAVATED c265 Ã‚Â§22(a)', 'RAPE c265 Ã‚Â§22(b)',\n",
       "       'RAPE, AGGRAVATED FIREARM-ARMED c265 Ã‚Â§22(a)',\n",
       "       'RAPE c. 265 s. 22(b)', 'RAPE, FIREARM-ARMED c265 Ã‚Â§22(b)',\n",
       "       'RAPE OF CHILD WITH FORCE c. 265 s. 22A',\n",
       "       'RAPE, AGGRAVATED c. 265 s. 22(a)',\n",
       "       'RAPE OF CHILD, STATUTORY c265 Ã‚Â§23',\n",
       "       'RAPE OF CHILD, AGGRAVATED, TEN YEAR AGE DIFF c265 Ã‚Â§23',\n",
       "       'RAPE OF CHILD, STATUTORY AGGRAVATED c265 Ã‚Â§23A/A',\n",
       "       'RAPE OF CHILD, STATUTORY c. 265 s. 23',\n",
       "       'ASSAULT TO RAPE c265 Ã‚Â§24',\n",
       "       'ASSAULT TO RAPE CHILD c265 Ã‚Â§24B',\n",
       "       'ASSAULT TO RAPE, FIREARM-ARMED c265 Ã‚Â§24',\n",
       "       'KIDNAPPING WITH SEXUAL ASSAULT, ARMED c265 Ã‚Â§26',\n",
       "       'KIDNAPPING WITH SEXUAL ASSAULT, ARMED c. 265 s. 26',\n",
       "       'TRAFFICKING PERSONS FOR SEXUAL SERVITUDE c. 265 s. 50',\n",
       "       'OBSCENE MATTER, DISTRIBUTE c272 Ã‚Â§29',\n",
       "       'CHILD IN NUDE, LASCIVIOUS POSE/EXHIBIT c272 Ã‚Â§29A(a)',\n",
       "       'OBSCENE MATTER TO MINOR c272 Ã‚Â§28',\n",
       "       'CHILD IN NUDE, DISTRIB MATERIAL OF c272 Ã‚Â§29B(a)',\n",
       "       'CHILD PORNOGRAPHY, POSSESS c272 Ã‚Â§29C',\n",
       "       'CHILD IN SEXUAL ACT, POSE/EXHIBIT c272 Ã‚Â§29A(b)',\n",
       "       'PROSTITUTION, KEEP HOUSE OF c272 Ã‚Â§24',\n",
       "       'CHILD IN SEXUAL ACT, DISTRIB MATERIAL OF c272 Ã‚Â§29B(b)',\n",
       "       'PROSTITUTION/UNLAW SEX,ABDUCT PERSON FOR c. 272 s. 2',\n",
       "       'PROSTITUTION, PROCURE PERSON TO PRACTICE c272 Ã‚Â§12',\n",
       "       'CHILD PORNOGRAPHY, POSSESS, 3RD OFF. c272 Ã‚Â§29C',\n",
       "       'CHILD PORNOGRAPHY, POSSESS, 2ND OFF. c272 Ã‚Â§29C',\n",
       "       'PROSTITUTION/UNLAW SEX,ABDUCT PERSON FOR c272 Ã‚Â§2',\n",
       "       'PROSTITUTION, PROCURE PERSON TO PRACTICE c. 272 s. 12',\n",
       "       'ACCOST/ANNOY PERSON OF OPPOSITE SEX c272 Ã‚Â§53',\n",
       "       'INDECENT EXPOSURE c272 Ã‚Â§53',\n",
       "       'SEXUAL CONDUCT, PAY FOR c272 Ã‚Â§53A',\n",
       "       'SEXUAL CONDUCT FOR FEE c272 Ã‚Â§53A',\n",
       "       'LEWD, WANTON & LASCIVIOUS CONDUCT c272 Ã‚Â§53',\n",
       "       'NIGHTWALKER, COMMON c272 Ã‚Â§53',\n",
       "       'STREETWALKER, COMMON c272 Ã‚Â§53',\n",
       "       'NIGHTWALKER, COMMON, 3RD OFFENSE c272 Ã‚Â§53',\n",
       "       'UNNATURAL ACT WITH CHILD -16 c272 Ã‚Â§35A',\n",
       "       'SEXUAL CONDUCT, PAY FOR OR FOR FEE c. 272 s. 53A',\n",
       "       'SODOMY c272 Ã‚Â§34', 'UNNATURAL ACT c272 Ã‚Â§35',\n",
       "       'BESTIALITY c272 Ã‚Â§34',\n",
       "       'SEXUAL INTERCOURSE, DRUG FOR c272 Ã‚Â§3',\n",
       "       'PROSTITUTION, INDUCE MINOR TO c272 Ã‚Â§4A',\n",
       "       'PROSTITUTION, DERIVE SUPPORT FROM CHILD c272 Ã‚Â§4B',\n",
       "       'LEWDNESS, OPEN AND GROSS c272 Ã‚Â§16',\n",
       "       'LEWDNESS, OPEN AND GROSS c. 272 s. 16', 'INCEST c272 Ã‚Â§17',\n",
       "       'INDECENT A&B ON A PERSON WITH AN INTELLECTUAL DISABILITY  c265 Ã‚Â§13F',\n",
       "       'INDECENT A&B DISABLED OR PERSON>60, c265s13H',\n",
       "       'Rape, c265,s22(b)',\n",
       "       'RAPE OF A CHILD WITH FORCE, AGGRAVATED c265 Ã‚Â§22B',\n",
       "       'AGGRAVATED RAPE &  ABUSE OF A CHILD, 5 YEAR AGE DIFFERENCE c265s23A(a)',\n",
       "       'RAPE AND ABUSE OF A CHILD c265 Ã‚Â§23',\n",
       "       'Aggravated Rape of Child, c265,s23A',\n",
       "       'Rape & Abuse Child, c265,s23',\n",
       "       'AGGRAVATED RAPE &  ABUSE OF A CHILD, 10 YEAR AGE DIFFERENCE c265s23A(b)',\n",
       "       'TRAFFICKING OF PERSON FOR SEXUAL SERVITUDE c265 Ã‚Â§50(a)',\n",
       "       'CHILD PORNOGRAPHY, POSSESS, 2ND OFF.  c272 Ã‚Â§29C',\n",
       "       'OBSCENE MATTER TO MINOR, 2ND OFF. c272 Ã‚Â§28',\n",
       "       'LEWDNESS, OPEN AND GROSS, HABITUAL  c272 Ã‚Â§16',\n",
       "       'INDECENT A&B ON CHILD UNDER 14, SUBSQ. c265 Â§13B',\n",
       "       'INDECENT A&B ON CHILD UNDER 14 c265 Â§13B',\n",
       "       'INDECENT A&B ON CHILD UNDER 14, AGGRAVATED c265 Â§13BÂ½',\n",
       "       'INDECENT A&B ON PERSON WITH INTELLECTUAL DISABILITY c265 Â§13F',\n",
       "       'INDECENT A&B ON +60/DISABLED c265 Â§13H', 'RAPE c265 Â§22(b)',\n",
       "       'RAPE OF CHILD WITH FORCE, AGGRAVATED c265 Â§22B',\n",
       "       'RAPE, AGGRAVATED c265 Â§22(a)',\n",
       "       'RAPE OF CHILD WITH FORCE, AGGRAVATED, JOINT ENTERPRISE c265 Â§22B',\n",
       "       'RAPE OF CHILD WITH FORCE, SUBSQ.OFF. c265 Â§22A',\n",
       "       'RAPE OF CHILD, STATUTORY c265 Â§23',\n",
       "       'RAPE OF CHILD, AGGRAVATED, TEN YEAR AGE DIFFERENCE c265 Â§23A',\n",
       "       'RAPE OF CHILD, AGGRAVATED, FIVE YEAR AGE DIFFERENCE c265 Â§23A',\n",
       "       'RAPE OF CHILD, STATUTORY, AFTER CERTAIN OFFENSES c265 Â§23B',\n",
       "       'ASSAULT TO RAPE c265 Â§24', 'ASSAULT TO RAPE CHILD c265 Â§24B',\n",
       "       'ELECTRONIC ENTICEMENT OF CHILD FOR COMMERCIAL SEXUAL ACTIVITY c265 Â§26D(c)',\n",
       "       'KIDNAPPING WITH SEXUAL ASSAULT, ARMED c265 Â§26',\n",
       "       'TRAFFICKING OF PERSON FOR SEXUAL SERVITUDE c265 Â§50(a)',\n",
       "       'TRAFFICKING OF PERSON UNDER 18 FOR SEXUAL SERVITUDE c265 Â§50(b)',\n",
       "       'CHILD IN NUDE, LASCIVIOUS POSE/EXHIBIT c272 Â§29A(a)',\n",
       "       'CHILD PORNOGRAPHY, POSSESS c272 Â§29C',\n",
       "       'OBSCENE MATTER, DISTRIBUTE c272 Â§29',\n",
       "       'CHILD IN NUDE, DISTRIB MATERIAL OF c272 Â§29B(a)',\n",
       "       'CHILD IN SEXUAL ACT, DISTRIB MATERIAL OF c272 Â§29B(b)',\n",
       "       'OBSCENE MATTER TO MINOR c272 Â§28',\n",
       "       'CHILD IN SEXUAL ACT, POSE/EXHIBIT c272 Â§29A(b)',\n",
       "       'PROSTITUTION, KEEP HOUSE OF c272 Â§24',\n",
       "       'CHILD PORNOGRAPHY, POSSESS, 2ND OFF.  c272 Â§29C',\n",
       "       'PROSTITUTION/UNLAW SEX,ABDUCT PERSON FOR  c272 Â§2',\n",
       "       'CHILD PORNOGRAPHY, POSSESS, 3RD OFF.  c272 Â§29C',\n",
       "       'PROSTITUTION, PROCURE PERSON TO PRACTICE c272 Â§12',\n",
       "       'OBSCENE MATTER, DISTRIBUTE, 3RD OFF. c272 Â§29',\n",
       "       'NIGHTWALKER, COMMON c272 Â§53',\n",
       "       'SEXUAL CONDUCT FOR FEE c272 Â§53A',\n",
       "       'LEWD, WANTON & LASCIVIOUS CONDUCT c272 Â§53',\n",
       "       'ACCOST/ANNOY PERSON OF OPPOSITE SEX c272 Â§53',\n",
       "       'INDECENT EXPOSURE c272 Â§53',\n",
       "       'SEXUAL CONDUCT, PAY FOR c272 Â§53A', 'UNNATURAL ACT c272 Â§35',\n",
       "       'STREETWALKER, COMMON c272 Â§53',\n",
       "       'SEXUAL CONDUCT WITH CHILD UNDER 18, PAY FOR c272 Â§53A(c)',\n",
       "       'SEXUAL INTERCOURSE, DRUG FOR c272 Â§3', 'BESTIALITY c272 Â§34',\n",
       "       'SODOMY c272 Â§34', 'PROSTITUTION, INDUCE MINOR TO c272 Â§4A',\n",
       "       'PROSTITUTION, DERIVE SUPPORT FROM CHILD c272 Â§4B',\n",
       "       'LEWDNESS, OPEN AND GROSS c272 Â§16', 'INCEST c272 Â§17'],\n",
       "      dtype=object)"
      ]
     },
     "execution_count": 13,
     "metadata": {},
     "output_type": "execute_result"
    }
   ],
   "source": [
    "# Display the offenses that contain at least one of the chosen sex offense keywords (all of these should be sex offenses)\n",
    "print('SEX OFFENSES MATCHING THE SEX OFFENSE CROSSWALK (SUFFOLK, NORTHWEST, MIDDLESEX):\\n')\n",
    "so_all.loc[\n",
    "  (so_all['Charge'].str.contains('|'.join(so_keywords), case=False))\n",
    "]['Charge'].unique()"
   ]
  },
  {
   "cell_type": "code",
   "execution_count": 14,
   "metadata": {
    "colab": {
     "base_uri": "https://localhost:8080/"
    },
    "id": "wjRuexuzLGDC",
    "outputId": "bb01373f-416b-46b9-bdc7-feafc5fca1e3"
   },
   "outputs": [
    {
     "name": "stdout",
     "output_type": "stream",
     "text": [
      "NONSEXUAL OFFENSES MATCHING THE SEX OFFENSE CROSSWALK (SUFFOLK, NORTHWEST, MIDDLESEX):\n",
      "\n"
     ]
    },
    {
     "data": {
      "text/plain": [
       "array(['A&B ON RETARDED PERSON c265 Ã‚Â§13F', 'KIDNAPPING c265 Ã‚Â§26',\n",
       "       'KIDNAPPING MINOR BY RELATIVE c265 Ã‚Â§26A',\n",
       "       'KIDNAPPING, FIREARM-ARMED c265 Ã‚Â§26',\n",
       "       'KIDNAPPING WITH SERIOUS BODILY INJURY, ARMED c265 Ã‚Â§26',\n",
       "       'KIDNAPPING OF CHILD c265 Ã‚Â§26',\n",
       "       'KIDNAPPING & ENDANGER MINOR BY RELATIVE c265 Ã‚Â§26A',\n",
       "       'KIDNAPPING PERSON IN CUSTODY c265 Ã‚Â§26A',\n",
       "       'KIDNAPPING FOR EXTORTION, FIREARM-ARMED c265 Ã‚Â§26',\n",
       "       'DRUG TO CONFINE c265 Ã‚Â§26B',\n",
       "       'FUNERAL PROCESSION, DISTURB c272 Ã‚Â§42',\n",
       "       'FUNERAL SERVICE, DISTURB c272 Ã‚Â§42A',\n",
       "       'DISORDERLY CONDUCT c272 Ã‚Â§53',\n",
       "       'DISTURBING THE PEACE c272 Ã‚Â§53',\n",
       "       'NOISY & DISORDERLY HOUSE, KEEP c272 Ã‚Â§53',\n",
       "       'DISORDERLY CONDUCT ON PUB CONVEY,3RD OFF c272 Ã‚Â§43',\n",
       "       'DISORDERLY CONDUCT ON PUBLIC CONVEYANCE c272 Ã‚Â§43',\n",
       "       'SMOKING ON MBTA c272 Ã‚Â§43A',\n",
       "       'DISORDERLY CONDUCT, SUBSQ. OFF. c272 Ã‚Â§53',\n",
       "       'DISTURBING THE PEACE, SUBSQ. OFF. c272 Ã‚Â§53',\n",
       "       'GRAVESTONE, VANDALIZE c272 Ã‚Â§73',\n",
       "       'RELIGIOUS SERVICE, DISTURB c272 Ã‚Â§38',\n",
       "       'GRAVE PLANTING, VANDALIZE c272 Ã‚Â§73',\n",
       "       'DISORDERLY CONDUCT c. 272 s. 53', 'GRAVE, DISTURB c272 Ã‚Â§73',\n",
       "       'A&B ON A PERSON WITH AN INTELLECTUAL DISABILITY c265 Ã‚Â§13F',\n",
       "       'WIRETAP, DISCLOSE CONTENTS OF c272 Ã‚Â§99(C)(3) or (4)',\n",
       "       'A&B ON PERSON WITH INTELLECTUAL DISABILITY c265 Â§13F',\n",
       "       'KIDNAPPING c265 Â§26', 'KIDNAPPING FOR EXTORTION c265 Â§09',\n",
       "       'KIDNAPPING MINOR BY RELATIVE c265 Â§26A',\n",
       "       'KIDNAPPING & ENDANGER MINOR BY RELATIVE c265 Â§26A',\n",
       "       'ENTICEMENT OF CHILDREN', 'KIDNAPPING OF CHILD c265 Â§26',\n",
       "       'KIDNAPPING WITH SERIOUS BODILY INJURY, ARMED c265 Â§26',\n",
       "       'KIDNAPPING FOR EXTORTION, FIREARM-ARMED c265 Â§26',\n",
       "       'ELECTRONIC ENTICEMENT OF CHILD FOR HUMAN TRAFFICKING c265 Â§26D(c)',\n",
       "       'KIDNAPPING, FIREARM-ARMED c265 Â§26',\n",
       "       'KIDNAPPING & ENDANGER PERSON IN CUSTODY c265 Â§26A',\n",
       "       'FUNERAL PROCESSION, DISTURB c272 Â§42',\n",
       "       'FUNERAL SERVICE, DISTURB c272 Â§42A',\n",
       "       'DISORDERLY CONDUCT c272 Â§53', 'DISTURBING THE PEACE c272 Â§53',\n",
       "       'NOISY & DISORDERLY HOUSE, KEEP c272 Â§53',\n",
       "       'DISORDERLY CONDUCT (SUBSEQUENT OFFENSE)',\n",
       "       'GRAVESTONE, VANDALIZE c272 Â§73',\n",
       "       'DISTURBING THE PEACE, SUBSQ. OFF. c272 Â§53',\n",
       "       'DISORDERLY CONDUCT ON PUBLIC CONVEYANCE c272 Â§43',\n",
       "       'DISORDERLY CONDUCT ON PUB CONVEY,3RD OFF c272 Â§43'], dtype=object)"
      ]
     },
     "execution_count": 14,
     "metadata": {},
     "output_type": "execute_result"
    }
   ],
   "source": [
    "# Display the offenses that contain none of the chosen sex offense keywords (none of these should be sex offenses)\n",
    "print('NONSEXUAL OFFENSES MATCHING THE SEX OFFENSE CROSSWALK (SUFFOLK, NORTHWEST, MIDDLESEX):\\n')\n",
    "so_all.loc[\n",
    "  (~so_all['Charge'].str.contains('|'.join(so_keywords), case=False))\n",
    "]['Charge'].unique()"
   ]
  },
  {
   "cell_type": "markdown",
   "metadata": {
    "id": "cJOjjdtmYtLj"
   },
   "source": [
    "# Comparison of Previous Sex Offense Labeling Strategy with New Strategy\n",
    "\n",
    "The Suffolk, Northwest, and Middlesex datasets already contain a boolean column 'sex' to mark nonexpungeable sex offenses. This column was derived using keywords, but without factoring in chapter and section data."
   ]
  },
  {
   "cell_type": "code",
   "execution_count": 15,
   "metadata": {
    "id": "5c0eP97Qek4s"
   },
   "outputs": [],
   "source": [
    "# Create copies of the Suffolk, Northwest, and Middlesex datasets which will have updated 'sex' columns\n",
    "sf_new = sf.copy()\n",
    "nw_new = nw.copy()\n",
    "ms_new = ms.copy()\n",
    "sf_new.rename(columns={'sex': 'sex_old'}, inplace=True)\n",
    "nw_new.rename(columns={'sex': 'sex_old'}, inplace=True)\n",
    "ms_new.rename(columns={'sex': 'sex_old'}, inplace=True)\n",
    "sf_new.insert(loc=sf_new.columns.get_loc(\"sex_old\"), column='sex', value=0)\n",
    "nw_new.insert(loc=nw_new.columns.get_loc(\"sex_old\"), column='sex', value=0)\n",
    "ms_new.insert(loc=ms_new.columns.get_loc(\"sex_old\"), column='sex', value=0)"
   ]
  },
  {
   "cell_type": "code",
   "execution_count": 16,
   "metadata": {
    "id": "9FZQeAxafsKR"
   },
   "outputs": [],
   "source": [
    "# Use the sex offenses crosswalk and keyword list to mark nonexpungeable sex offenses\n",
    "for listing in sex_offenses:\n",
    "  update_sex(sf_new, listing)\n",
    "  update_sex(nw_new, listing)\n",
    "  update_sex(ms_new, listing)"
   ]
  },
  {
   "cell_type": "markdown",
   "metadata": {},
   "source": [
    "**Manually Address Invalid False Positives**\n",
    "\n",
    "Some nonexpungeable sex offenses have not been automatically matched with the sex offense crosswalk because of errorneous or omitted chapter and section data. Here, those offenses are manually labeled as nonexpungeable sex offenses. \n",
    "\n",
    "Additionally, though charges related to a sex offender failing to register or provide information do not have chapter/section pairs matching entries in the sex offenses crosswalk, it seems certain that all individuals with such a charge must also have at least one charge this is considered a nonexpungeable sex offense. The Clean Slate data team has determined that these sex offender registration charges should be considered as nonexpungeable sex offenses for all data analysis purposes."
   ]
  },
  {
   "cell_type": "code",
   "execution_count": 17,
   "metadata": {},
   "outputs": [],
   "source": [
    "invalid_false_positives = ['SEX OFFENDER', 'LEWDNESS, OPEN AND GROSS', 'RAPE', 'SEXUAL INTERCOURSE, INDUCE CHASTE MINOR', 'INDECENT A&B', 'PHOTOGRAPH SEXUAL OR INTIMATE PARTS OF CHILD']"
   ]
  },
  {
   "cell_type": "code",
   "execution_count": 18,
   "metadata": {},
   "outputs": [
    {
     "name": "stdout",
     "output_type": "stream",
     "text": [
      "Suffolk charges to be manually marked as nonexpungeable sex offenses:\n",
      " Charge\n",
      "SEX OFFENDER FAIL TO REGISTER c6 Ã‚Â§178H(a)-(c)                                1074\n",
      "SEX OFFENDER FAIL TO REGISTER, SUBSQ.OFF. c6 Ã‚Â§178H(a)                         282\n",
      "SEX OFFENDER FAIL TO REGISTER, LEVEL 2 or 3 c6 Ã‚Â§178H(a)(1)                    233\n",
      "SEX OFFENDER FAIL TO REGISTER, HOMELESS, 2ND OFF. c6 Ã‚Â§178H(c)                  50\n",
      "SEX OFFENDER FAIL TO REGISTER, HOMELESS, 3RD OFF. c6 Ã‚Â§178H(c)                  49\n",
      "LEWDNESS, OPEN AND GROSS, SUBSQ.OFF. c272 Ã‚Â§16                                  21\n",
      "SEX OFFENDER FAIL TO REGISTER, SUBSQ.OFF. LEVEL 2 OR 3 c6 Ã‚Â§178H(a)             20\n",
      "RAPE OF CHILD, STATUTORY, SUBSQ.OFF. c265 Ã‚Â§23                                  16\n",
      "RAPE, SUBSQ.OFF. c265 Ã‚Â§22(b)                                                   15\n",
      "RAPE, AGGRAVATED, SUBSQ.OFF. c265 Ã‚Â§22(a)                                        8\n",
      "INDECENT A&B ON PERSON 14 OR OVER AFTER CERTAIN OFFENSES c265 Ã‚Â§13H              5\n",
      "INDECENT A&B ON CHILD UNDER 14 AFTER CERTAIN OFFENSES c265 Ã‚Â§13B                 4\n",
      "SEX OFFENDER INFO, HOMELESS SHELTER FAIL PROVIDE c6 Ã‚Â§178F or Ã‚Â§178FÃ‚Â½       3\n",
      "FAILURE TO REGISTER OR VERIFY REGISRATION INFO BY SEX OFFENDER c. 6 s. 178H        2\n",
      "RAPE, AGGRAVATED FIREARM-ARMED, SUBSQ.OFF. c265 Ã‚Â§22(a)                          2\n",
      "RAPE OF CHILD WITH FORCE, SUBSQ.OFF. c265 Ã‚Â§22A                                  1\n",
      "SEX OFFENDER INFO, AGENCY FAIL PROVIDE c6 Ã‚Â§178K(3)                              1\n",
      "SEXUAL INTERCOURSE, INDUCE CHASTE MINOR c272 Ã‚Â§4                                 1\n",
      "dtype: int64\n",
      "\n",
      "Northwest charges to be manually marked as nonexpungeable sex offenses:\n",
      " Charge\n",
      "SEX OFFENDER FAIL TO REGISTER c6 Ã‚Â§178H(a)-(c)                                101\n",
      "STATUTORY RAPE OF CHILD                                                          40\n",
      "SEX OFFENDER FAIL TO REGISTER, SUBSQ.OFF. c6 Ã‚Â§178H(a)                         25\n",
      "SEX OFFENDER FAIL TO REGISTER c6 Ã‚Â§178H                                        10\n",
      "LEWDNESS, OPEN AND GROSS, SUBSQ.OFF.  c272 Ã‚Â§16                                 8\n",
      "SEX OFFENDER FAIL TO REGISTER C6/178H (a)(iv) HABITUAL OFFENDER                   5\n",
      "Fail to Register as Sex Offender, Level 2 or 3                                    5\n",
      "SEX OFFENDER FAIL TO REGISTER C6/178H (a)(iii) HABITUAL OFFENDER                  4\n",
      "SEX OFFENDER FAIL TO REGISTER, SUBSQ. OFF., LEVEL 2 OR 3                          3\n",
      "SEX OFFENDER FAIL TO REGISTER C6/178H (a)(i) HABITUAL OFFENDER                    3\n",
      "RAPE OF CHILD, STATUTORY, AGGRAVATED                                              2\n",
      "SEX OFFENDER REGISTRY INFO, MISUSE c6 Ã‚Â§178N                                    2\n",
      "INDECENT A&B ON PERSON 14 OR OVER AFTER CERTAIN OFFENSES  c265 Ã‚Â§13H            2\n",
      "SEX OFFENDER INFO, HOMELESS SHELTER FAIL PROVIDE c6 Ã‚Â§178F or Ã‚Â§178FÃ‚Â½      1\n",
      "SEXUAL INTERCOURSE, INDUCE CHASTE MINOR c272 Ã‚Â§4                                1\n",
      "INDECENT A&B ON CHILD UNDER 14 AFTER CERTAIN OFFENSES c265 Ã‚Â§13B1/2             1\n",
      "Failure to Register,Sex Offender,2nd or Sub,c6,s178H(a)(2)-SUBSEQUENT             1\n",
      "dtype: int64\n",
      "\n",
      "Middlesex charges to be manually marked as nonexpungeable sex offenses:\n",
      " Charge\n",
      "INDECENT A&B ON PERSON 14 OR OVER c265 Â§13H                                                  785\n",
      "RAPE OF CHILD WITH FORCE c265 Â§22A                                                           329\n",
      "RAPE OF CHILD, STATUTORY, AGGRAVATED c265 Â§23A                                               294\n",
      "SEX OFFENDER FAIL TO REGISTER c6 Â§178H(a)-(c)                                                209\n",
      "SEX OFFENDER FAIL TO REGISTER, SUBSQ.OFF. c6 Â§178H(a)                                         85\n",
      "SEX OFFENDER FAIL TO REGISTER, LEVEL 2 or 3 c6 Â§178H(c)                                       74\n",
      "LEWDNESS, OPEN AND GROSS, SUBSQ.OFF.  c272 Â§16                                                26\n",
      "SEX OFFENDER FAIL TO REGISTER, SUBSQ. OFF., LEVEL 2 OR 3  c6                                   13\n",
      "RAPE OF CHILD WITH FORCE, SUBSQ.OFF. c265 Â§22A                                                11\n",
      "INDECENT A&B ON PERSON 14 OR OVER SUBSQ OFFENSE OR AFTER OTHER CERTAIN OFFENSES c265 Â§13H      5\n",
      "RAPE OF CHILD, STATUTORY, SUBSQ.OFF. c265 Â§23                                                  4\n",
      "RAPE, AGGRAVATED, SUBSQ.OFF. c265 Â§22(a)                                                       3\n",
      "PHOTOGRAPH SEXUAL OR INTIMATE PARTS OF CHILD  c272                                              3\n",
      "RAPE, SUBSQ.OFF. c265 Â§22(b)                                                                   1\n",
      "ASSAULT TO RAPE, SUBSQ.OFF. c265 Â§24                                                           1\n",
      "dtype: int64\n"
     ]
    }
   ],
   "source": [
    "# Display charges that will be manually marked as nonexpungeable sex offenses\n",
    "x = sf_new.loc[\n",
    "  (sf_new['sex'] == 0) &\n",
    "  (sf_new['Charge'].str.contains('|'.join(invalid_false_positives), case=False))\n",
    "]\n",
    "print('Suffolk charges to be manually marked as nonexpungeable sex offenses:\\n', x.groupby(['Charge']).size().sort_values(ascending=False))\n",
    "\n",
    "x = nw_new.loc[\n",
    "  (nw_new['sex'] == 0) &\n",
    "  (nw_new['Charge'].str.contains('|'.join(invalid_false_positives), case=False))\n",
    "]\n",
    "print('\\nNorthwest charges to be manually marked as nonexpungeable sex offenses:\\n', x.groupby(['Charge']).size().sort_values(ascending=False))\n",
    "\n",
    "x = ms_new.loc[\n",
    "  (ms_new['sex'] == 0) &\n",
    "  (ms_new['Charge'].str.contains('|'.join(invalid_false_positives), case=False))\n",
    "]\n",
    "print('\\nMiddlesex charges to be manually marked as nonexpungeable sex offenses:\\n', x.groupby(['Charge']).size().sort_values(ascending=False))"
   ]
  },
  {
   "cell_type": "code",
   "execution_count": 19,
   "metadata": {},
   "outputs": [],
   "source": [
    "# Mark the above charges as nonexpungeable sex offenses\n",
    "sf_new.loc[\n",
    "  (sf_new['sex'] == 0) &\n",
    "  (sf_new['Charge'].str.contains('|'.join(invalid_false_positives), case=False)),\n",
    "  'sex'\n",
    "] = 1\n",
    "\n",
    "nw_new.loc[\n",
    "  (nw_new['sex'] == 0) &\n",
    "  (nw_new['Charge'].str.contains('|'.join(invalid_false_positives), case=False)),\n",
    "  'sex'\n",
    "] = 1\n",
    "\n",
    "ms_new.loc[\n",
    "  (ms_new['sex'] == 0) &\n",
    "  (ms_new['Charge'].str.contains('|'.join(invalid_false_positives), case=False)),\n",
    "  'sex'\n",
    "] = 1"
   ]
  },
  {
   "cell_type": "code",
   "execution_count": 20,
   "metadata": {
    "colab": {
     "base_uri": "https://localhost:8080/"
    },
    "id": "aJ58yj7S1oYf",
    "outputId": "2daaf83e-df66-4af7-efb9-dae84dad1f72"
   },
   "outputs": [
    {
     "name": "stdout",
     "output_type": "stream",
     "text": [
      "In Suffolk, the previous labelling strategy found 5771 sex offenses. The new strategy found 7652 sex offenses.\n",
      "Both labelling strategies agree on 5765 offenses marked as sex offenses, and 295612 offenses not marked as sex offenses.\n",
      "The new strategy determined that there are 1887 offenses not previously marked as sex offenses that should be (missed sex offenses).\n",
      "The new strategy determined that there are 6 offenses previously marked as sex offenses that should not be (false positives).\n",
      "\n",
      "Suffolk list of unique charges among the missed sex offenses:\n",
      "\n",
      "Charge\n",
      "INDECENT A&B ON PERSON 14 OR OVER c265 Ã‚Â§13H                           890\n",
      "INDECENT A&B ON CHILD UNDER 14 c265 Ã‚Â§13B                              784\n",
      "NIGHTWALKER, COMMON c272 Ã‚Â§53                                           75\n",
      "OBSCENE MATTER, DISTRIBUTE c272 Ã‚Â§29                                    41\n",
      "INDECENT A&B ON RETARDED PERSON c265 Ã‚Â§13F                              21\n",
      "PROSTITUTION, KEEP HOUSE OF c272 Ã‚Â§24                                   16\n",
      "INDECENT A&B ON CHILD UNDER 14, SUBSQ. c265 Ã‚Â§13B                       13\n",
      "INDECENT A&B ON DISABLED PERSON OVER 60 c265 Ã‚Â§13H/C                    11\n",
      "STREETWALKER, COMMON c272 Ã‚Â§53                                          10\n",
      "NIGHTWALKER, COMMON, 3RD OFFENSE c272 Ã‚Â§53                               5\n",
      "INDECENT A&B ON PERSON 14 OR OVER AFTER CERTAIN OFFENSES c265 Ã‚Â§13H      5\n",
      "INDECENT A&B ON CHILD UNDER 14 AFTER CERTAIN OFFENSES c265 Ã‚Â§13B         4\n",
      "PROSTITUTION, PROCURE PERSON TO PRACTICE c272 Ã‚Â§12                       4\n",
      "UNNATURAL ACT c272 Ã‚Â§35                                                  2\n",
      "SODOMY c272 Ã‚Â§34                                                         2\n",
      "BESTIALITY c272 Ã‚Â§34                                                     2\n",
      "INDECENT A&B ON PERSON 14 OR OVER c. 265 s. 13H                            1\n",
      "PROSTITUTION, PROCURE PERSON TO PRACTICE c. 272 s. 12                      1\n",
      "dtype: int64\n",
      "\n",
      "Suffolk list of unique charges among the false positives:\n",
      "\n",
      "Charge\n",
      "SEXUALLY DANGEROUS PERSON c123A                            3\n",
      "PRISON GUARD HAVE SEX RELATIONS W/PRISONER c268 Ã‚Â§21A    3\n",
      "dtype: int64\n"
     ]
    }
   ],
   "source": [
    "# Compare sex offense labelling strategies for Suffolk\n",
    "missing_sex_offenses = sf_new.loc[\n",
    "  (sf_new['sex'] == 1) &\n",
    "  (sf_new['sex_old'] == 0)\n",
    "]\n",
    "\n",
    "false_positives = sf_new.loc[\n",
    "  (sf_new['sex'] == 0) &\n",
    "  (sf_new['sex_old'] == 1)\n",
    "]\n",
    "\n",
    "strategy_matches_so = sf_new.loc[\n",
    "  (sf_new['sex'] == 1) &\n",
    "  (sf_new['sex_old'] == 1)\n",
    "]\n",
    "\n",
    "strategy_matches_not_so = sf_new.loc[\n",
    "  (sf_new['sex'] == 0) &\n",
    "  (sf_new['sex_old'] == 0)\n",
    "]\n",
    "\n",
    "previous_so_count = len(sf_new.loc[(sf_new['sex_old'] == 1)])\n",
    "new_so_count = len(sf_new.loc[(sf_new['sex'] == 1)])\n",
    "\n",
    "print('In Suffolk, the previous labelling strategy found', previous_so_count, 'sex offenses. The new strategy found', new_so_count, 'sex offenses.')\n",
    "print('Both labelling strategies agree on', len(strategy_matches_so), 'offenses marked as sex offenses, and', len(strategy_matches_not_so), 'offenses not marked as sex offenses.')\n",
    "print('The new strategy determined that there are', len(missing_sex_offenses), 'offenses not previously marked as sex offenses that should be (missed sex offenses).')\n",
    "print('The new strategy determined that there are', len(false_positives), 'offenses previously marked as sex offenses that should not be (false positives).')\n",
    "\n",
    "print('\\nSuffolk list of unique charges among the missed sex offenses:\\n')\n",
    "print(missing_sex_offenses.groupby(['Charge']).size().sort_values(ascending=False))\n",
    "\n",
    "print('\\nSuffolk list of unique charges among the false positives:\\n')\n",
    "#print(false_positives['Charge'].unique())\n",
    "print(false_positives.groupby(['Charge']).size().sort_values(ascending=False))"
   ]
  },
  {
   "cell_type": "code",
   "execution_count": 21,
   "metadata": {
    "colab": {
     "base_uri": "https://localhost:8080/"
    },
    "id": "VDlpCLkqDbYi",
    "outputId": "21f081b3-627f-46bd-fa55-861c170781e5"
   },
   "outputs": [
    {
     "name": "stdout",
     "output_type": "stream",
     "text": [
      "In Northwest, the previous labelling strategy found 1092 sex offenses. The new strategy found 1566 sex offenses.\n",
      "Both labelling strategies agree on 1089 offenses marked as sex offenses, and 74156 offenses not marked as sex offenses.\n",
      "The new strategy determined that there are 477 offenses not previously marked as sex offenses that should be (missed sex offenses).\n",
      "The new strategy determined that there are 3 offenses previously marked as sex offenses that should not be (false positives).\n",
      "\n",
      "Northwest list of unique charges among the missed sex offenses:\n",
      "\n",
      "Charge\n",
      "INDECENT A&B ON CHILD UNDER 14 c265 Ã‚Â§13B                               258\n",
      "INDECENT A&B ON PERSON 14 OR OVER c265 Ã‚Â§13H                            167\n",
      "OBSCENE MATTER, DISTRIBUTE c272 Ã‚Â§29                                     14\n",
      "INDECENT A&B ON A PERSON WITH AN INTELLECTUAL DISABILITY  c265 Ã‚Â§13F     12\n",
      "PROSTITUTION, KEEP HOUSE OF c272 Ã‚Â§24                                    11\n",
      "Fail to Register as Sex Offender, Level 2 or 3                              5\n",
      "UNNATURAL ACT c272 Ã‚Â§35                                                   4\n",
      "SEX OFFENDER REGISTRY INFO, MISUSE c6 Ã‚Â§178N                              2\n",
      "INDECENT A&B ON PERSON 14 OR OVER AFTER CERTAIN OFFENSES  c265 Ã‚Â§13H      2\n",
      "INDECENT A&B ON CHILD UNDER 14 AFTER CERTAIN OFFENSES c265 Ã‚Â§13B1/2       1\n",
      "INDECENT A&B DISABLED OR PERSON>60, c265s13H                                1\n",
      "dtype: int64\n",
      "\n",
      "Northwest list of unique charges among the false positives:\n",
      "\n",
      "Charge\n",
      "Sexually Dangerous Person, c123A    2\n",
      "Sexually Dangerous Person           1\n",
      "dtype: int64\n"
     ]
    }
   ],
   "source": [
    "# Compare sex offense labelling strategies for Northwest\n",
    "missing_sex_offenses = nw_new.loc[\n",
    "  (nw_new['sex'] == 1) &\n",
    "  (nw_new['sex_old'] == 0)\n",
    "]\n",
    "\n",
    "false_positives = nw_new.loc[\n",
    "  (nw_new['sex'] == 0) &\n",
    "  (nw_new['sex_old'] == 1)\n",
    "]\n",
    "\n",
    "strategy_matches_so = nw_new.loc[\n",
    "  (nw_new['sex'] == 1) &\n",
    "  (nw_new['sex_old'] == 1)\n",
    "]\n",
    "\n",
    "strategy_matches_not_so = nw_new.loc[\n",
    "  (nw_new['sex'] == 0) &\n",
    "  (nw_new['sex_old'] == 0)\n",
    "]\n",
    "\n",
    "previous_so_count = len(nw_new.loc[(nw_new['sex_old'] == 1)])\n",
    "new_so_count = len(nw_new.loc[(nw_new['sex'] == 1)])\n",
    "\n",
    "print('In Northwest, the previous labelling strategy found', previous_so_count, 'sex offenses. The new strategy found', new_so_count, 'sex offenses.')\n",
    "print('Both labelling strategies agree on', len(strategy_matches_so), 'offenses marked as sex offenses, and', len(strategy_matches_not_so), 'offenses not marked as sex offenses.')\n",
    "print('The new strategy determined that there are', len(missing_sex_offenses), 'offenses not previously marked as sex offenses that should be (missed sex offenses).')\n",
    "print('The new strategy determined that there are', len(false_positives), 'offenses previously marked as sex offenses that should not be (false positives).')\n",
    "\n",
    "print('\\nNorthwest list of unique charges among the missed sex offenses:\\n')\n",
    "print(missing_sex_offenses.groupby(['Charge']).size().sort_values(ascending=False))\n",
    "\n",
    "print('\\nNorthwest list of unique charges among the false positives:\\n')\n",
    "#print(false_positives['Charge'].unique())\n",
    "print(false_positives.groupby(['Charge']).size().sort_values(ascending=False))"
   ]
  },
  {
   "cell_type": "code",
   "execution_count": 22,
   "metadata": {
    "colab": {
     "base_uri": "https://localhost:8080/"
    },
    "id": "G577BSuLeTjY",
    "outputId": "e9eea5f9-2353-4572-d3f8-91be8efe59f7"
   },
   "outputs": [
    {
     "name": "stdout",
     "output_type": "stream",
     "text": [
      "In Middlesex, the previous labelling strategy found 3059 sex offenses. The new strategy found 4884 sex offenses.\n",
      "Both labelling strategies agree on 3059 offenses marked as sex offenses, and 355960 offenses not marked as sex offenses.\n",
      "The new strategy determined that there are 1317 offenses not previously marked as sex offenses that should be (missed sex offenses).\n",
      "The new strategy determined that there are 0 offenses previously marked as sex offenses that should not be (false positives).\n",
      "\n",
      "Middlesex list of unique charges among the missed sex offenses:\n",
      "\n",
      "Charge\n",
      "INDECENT A&B ON PERSON 14 OR OVER c265 Â§13H          785\n",
      "INDECENT A&B ON CHILD UNDER 14 c265 Â§13B             402\n",
      "NIGHTWALKER, COMMON c272 Â§53                          30\n",
      "OBSCENE MATTER, DISTRIBUTE c272 Â§29                   25\n",
      "UNNATURAL ACT c272 Â§35                                23\n",
      "PROSTITUTION, PROCURE PERSON TO PRACTICE c272 Â§12     20\n",
      "INDECENT A&B ON CHILD UNDER 14, SUBSQ. c265 Â§13B      19\n",
      "PROSTITUTION, KEEP HOUSE OF c272 Â§24                   8\n",
      "STREETWALKER, COMMON c272 Â§53                          2\n",
      "BESTIALITY c272 Â§34                                    2\n",
      "SODOMY c272 Â§34                                        1\n",
      "dtype: int64\n",
      "\n",
      "Middlesex list of unique charges among the false positives:\n",
      "\n",
      "Series([], dtype: int64)\n"
     ]
    }
   ],
   "source": [
    "# Compare sex offense labelling strategies for Middlesex\n",
    "missing_sex_offenses = ms_new.loc[\n",
    "  (ms_new['sex'] == 1) &\n",
    "  (ms_new['sex_old'] == 0)\n",
    "]\n",
    "\n",
    "false_positives = ms_new.loc[\n",
    "  (ms_new['sex'] == 0) &\n",
    "  (ms_new['sex_old'] == 1)\n",
    "]\n",
    "\n",
    "strategy_matches_so = ms_new.loc[\n",
    "  (ms_new['sex'] == 1) &\n",
    "  (ms_new['sex_old'] == 1)\n",
    "]\n",
    "\n",
    "strategy_matches_not_so = ms_new.loc[\n",
    "  (ms_new['sex'] == 0) &\n",
    "  (ms_new['sex_old'] == 0)\n",
    "]\n",
    "\n",
    "previous_so_count = len(ms_new.loc[(ms_new['sex_old'] == 1)])\n",
    "new_so_count = len(ms_new.loc[(ms_new['sex'] == 1)])\n",
    "\n",
    "print('In Middlesex, the previous labelling strategy found', previous_so_count, 'sex offenses. The new strategy found', new_so_count, 'sex offenses.')\n",
    "print('Both labelling strategies agree on', len(strategy_matches_so), 'offenses marked as sex offenses, and', len(strategy_matches_not_so), 'offenses not marked as sex offenses.')\n",
    "print('The new strategy determined that there are', len(missing_sex_offenses), 'offenses not previously marked as sex offenses that should be (missed sex offenses).')\n",
    "print('The new strategy determined that there are', len(false_positives), 'offenses previously marked as sex offenses that should not be (false positives).')\n",
    "\n",
    "print('\\nMiddlesex list of unique charges among the missed sex offenses:\\n')\n",
    "print(missing_sex_offenses.groupby(['Charge']).size().sort_values(ascending=False))\n",
    "\n",
    "print('\\nMiddlesex list of unique charges among the false positives:\\n')\n",
    "#print(false_positives['Charge'].unique())\n",
    "print(false_positives.groupby(['Charge']).size().sort_values(ascending=False))"
   ]
  },
  {
   "cell_type": "markdown",
   "metadata": {},
   "source": [
    "# Apply the New Labelling Strategy to the Data Spreadsheets\n",
    "\n",
    "The 'sex' column will be updated in these three files: **merged_suff.csv**, **merged_nw.csv**, and **merged_ms.csv**.\n",
    "\n",
    "No other columns will be altered."
   ]
  },
  {
   "cell_type": "code",
   "execution_count": 23,
   "metadata": {},
   "outputs": [],
   "source": [
    "# Drop the uneeded 'sex_old' column from the dataframes\n",
    "sf_output = sf_new.drop(['sex_old'], axis=1)\n",
    "nw_output = nw_new.drop(['sex_old'], axis=1)\n",
    "ms_output = ms_new.drop(['sex_old'], axis=1)\n",
    "\n",
    "# Save the updated dataframes as csv files, overwriting them in the processed data folder\n",
    "sf_file = sf_output.to_csv('../../data/processed/merged_suff.csv', index=False)\n",
    "nw_file = nw_output.to_csv('../../data/processed/merged_nw.csv', index=False)\n",
    "ms_file = ms_output.to_csv('../../data/processed/merged_ms.csv', index=False)"
   ]
  }
 ],
 "metadata": {
  "colab": {
   "collapsed_sections": [],
   "name": "sex_offenses.ipynb",
   "provenance": []
  },
  "kernelspec": {
   "display_name": "Python 3",
   "language": "python",
   "name": "python3"
  },
  "language_info": {
   "codemirror_mode": {
    "name": "ipython",
    "version": 3
   },
   "file_extension": ".py",
   "mimetype": "text/x-python",
   "name": "python",
   "nbconvert_exporter": "python",
   "pygments_lexer": "ipython3",
   "version": "3.8.3"
  }
 },
 "nbformat": 4,
 "nbformat_minor": 4
}
