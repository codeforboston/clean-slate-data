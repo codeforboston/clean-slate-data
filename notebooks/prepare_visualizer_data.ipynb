{
 "cells": [
  {
   "cell_type": "markdown",
   "metadata": {
    "id": "aRcvXhinEhni"
   },
   "source": [
    "# Data Preparation for the Visualizer"
   ]
  },
  {
   "cell_type": "markdown",
   "metadata": {},
   "source": [
    "The primary purpose of this notebook is to ensure that changes to the cleaned data files (ie. clean_northwestern.csv) do not automatically affect the visualizer. The copies of the data files used by the visualizer can only be altered by running this notebook.\n",
    "\n",
    "Additionally, some extra columns may be added that are helpful for the visualizer."
   ]
  },
  {
   "cell_type": "code",
   "execution_count": 13,
   "metadata": {},
   "outputs": [],
   "source": [
    "import requests\n",
    "import pandas as pd\n",
    "import os"
   ]
  },
  {
   "cell_type": "code",
   "execution_count": 14,
   "metadata": {},
   "outputs": [],
   "source": [
    "# Create dataframes for Northwest, Suffolk, and Middlesex\n",
    "nw = pd.read_csv('../../data/cleaned/clean_northwestern.csv')\n",
    "pd.set_option(\"display.max.columns\", None)"
   ]
  },
  {
   "cell_type": "code",
   "execution_count": 15,
   "metadata": {},
   "outputs": [],
   "source": [
    "# Add columns: Incident Sex, Incident Murder\n",
    "nw['Incident Sex'] = nw.groupby(['Person ID', 'Offense Date'])['sex'].transform('max')\n",
    "nw['Incident Murder'] = nw.groupby(['Person ID', 'Offense Date'])['murder'].transform('max')"
   ]
  },
  {
   "cell_type": "code",
   "execution_count": 16,
   "metadata": {},
   "outputs": [],
   "source": [
    "# Save the updated dataframes as csv files, overwriting them in the processed data folder\n",
    "nw_file = nw.to_csv('../../data/cleaned/visualizer_northwestern.csv', index=False)"
   ]
  },
  {
   "cell_type": "code",
   "execution_count": null,
   "metadata": {},
   "outputs": [],
   "source": []
  },
  {
   "cell_type": "code",
   "execution_count": null,
   "metadata": {},
   "outputs": [],
   "source": []
  }
 ],
 "metadata": {
  "colab": {
   "collapsed_sections": [],
   "name": "sex_offenses.ipynb",
   "provenance": []
  },
  "kernelspec": {
   "display_name": "Python 3",
   "language": "python",
   "name": "python3"
  },
  "language_info": {
   "codemirror_mode": {
    "name": "ipython",
    "version": 3
   },
   "file_extension": ".py",
   "mimetype": "text/x-python",
   "name": "python",
   "nbconvert_exporter": "python",
   "pygments_lexer": "ipython3",
   "version": "3.9.0"
  }
 },
 "nbformat": 4,
 "nbformat_minor": 4
}
