{
 "cells": [
  {
   "cell_type": "markdown",
   "metadata": {},
   "source": [
    "# Clean Slate: MA Data\n",
    "> Prepared by [Dawn Graham](https://github.com/dawngraham) for Code for Boston's [Clean Slate project](https://github.com/codeforboston/clean-slate).\n",
    "\n",
    "## Purpose\n",
    "Citizens for Juvenile Justice received MA prosecution data thanks to the ACLU.\n",
    "\n",
    "The purpose of this notebook is to anonymize the data and provide only fields required to answer the following questions (updated 6/28/20):\n",
    "\n",
    "1. How many people (under age 21) are eligible for expungement today? This would be people with only **one charge** that is not part of the list of ineligible offenses (per section 100J). \n",
    "\n",
    "\n",
    "2. How many people (under age 21) would be eligible based on only having **one incident** (which could include multiple charges) that are not part of the list of ineligible offenses?\n",
    " - How many people (under age 21) would be eligible based on only having **one incident** if only sex-based offenses or murder were excluded from expungement?\n",
    " \n",
    "\n",
    "3. How many people (under age 21) would be eligible based on who has **not been found guilty** (given current offenses that are eligible for expungement)?\n",
    " - How many people (under age 21) would be eligible based on who has **not been found guilty** for all offenses except for murder or sex-based offenses?\n",
    "\n",
    "\n",
    "Prior questions:\n",
    "- How many people (under age 21) are ineligible because they have a charge that is on the list of ineligible offenses (per section 100J)?\n",
    "- How many people (under age 21) have only one offense on their record?\n",
    "- How many people have only expungable offenses on their record but have more than 1 of them?\n",
    "\n",
    "The resulting datasets will be output as a separate .csv that can be save and shared in the Clean Slate GitHub repo.\n",
    "\n",
    "-----\n"
   ]
  },
  {
   "cell_type": "markdown",
   "metadata": {},
   "source": [
    "## Northwestern DA Prosecution Data\n",
    "### Import data"
   ]
  },
  {
   "cell_type": "code",
   "execution_count": 1,
   "metadata": {},
   "outputs": [],
   "source": [
    "import pandas as pd\n",
    "import numpy as np\n",
    "import regex as re\n",
    "import glob, os"
   ]
  },
  {
   "cell_type": "code",
   "execution_count": 2,
   "metadata": {
    "scrolled": true
   },
   "outputs": [
    {
     "name": "stderr",
     "output_type": "stream",
     "text": [
      "/anaconda3/lib/python3.6/site-packages/IPython/core/interactiveshell.py:3020: DtypeWarning: Columns (13) have mixed types. Specify dtype option on import or set low_memory=False.\n",
      "  interactivity=interactivity, compiler=compiler, result=result)\n"
     ]
    }
   ],
   "source": [
    "nw2014 = pd.read_csv('../data/Prosecution Northwestern DA 2014-2018 RAW DATA - 2014 to early 2018.csv')\n",
    "nw2018 = pd.read_csv('../data/Prosecution Northwestern DA 2014-2018 RAW DATA - to end of 2018.csv')\n",
    "\n",
    "# Combine the two datasets\n",
    "nw = pd.concat([nw2014, nw2018])"
   ]
  },
  {
   "cell_type": "markdown",
   "metadata": {},
   "source": [
    "### Quick look at data"
   ]
  },
  {
   "cell_type": "code",
   "execution_count": 3,
   "metadata": {},
   "outputs": [
    {
     "name": "stdout",
     "output_type": "stream",
     "text": [
      "<class 'pandas.core.frame.DataFrame'>\n",
      "Int64Index: 75725 entries, 0 to 10429\n",
      "Data columns (total 40 columns):\n",
      "Filed:                                    75725 non-null object\n",
      "Age at Case Filing                        75725 non-null int64\n",
      "Status:                                   75725 non-null object\n",
      "Court:                                    75725 non-null object\n",
      "Date of Birth:                            75595 non-null object\n",
      "Gender:                                   74003 non-null object\n",
      "Race:                                     68741 non-null object\n",
      "Ethnicity:                                21321 non-null object\n",
      "Count:                                    75725 non-null int64\n",
      "Charge:                                   75725 non-null object\n",
      "Disposition:                              72259 non-null object\n",
      "Dispo Date:                               71900 non-null object\n",
      "Offense Date:                             74944 non-null object\n",
      "Bail Requested                            60 non-null object\n",
      "Bail Set                                  979 non-null object\n",
      "Imposed Facility:                         6773 non-null object\n",
      "Sentence Type:                            6258 non-null object\n",
      "Sentence Date:                            5666 non-null object\n",
      "Term Min:                                 2534 non-null float64\n",
      "Term Min Unit:                            2534 non-null object\n",
      "Term Max:                                 3412 non-null float64\n",
      "Term Max Unit:                            3412 non-null object\n",
      "Suspended Term Min:                       456 non-null float64\n",
      "Suspended Term Min Unit:                  455 non-null object\n",
      "Suspended Term Max:                       1056 non-null float64\n",
      "Suspended Term Max Unit:                  1056 non-null object\n",
      "Actual Term Min:                          430 non-null float64\n",
      "Actual Term Min Unit:                     430 non-null object\n",
      "Actual Term Max:                          1518 non-null float64\n",
      "Actual Term Max Unit:                     1518 non-null object\n",
      "Prosecutor Recommended Facility:          1012 non-null object\n",
      "Prosecutor Recommended Sentence Type:\n",
      "    615 non-null object\n",
      "Prosecutor Recommended Term Min:          486 non-null float64\n",
      "Prosecutor Recommended Term Min Unit:     486 non-null object\n",
      "Prosecutor Recommended Term Max:          267 non-null float64\n",
      "Prosecutor Recommended Term Max Unit:     267 non-null object\n",
      "Fine:                                     4656 non-null object\n",
      "Probation:                                16972 non-null object\n",
      "Probation Term:                           16864 non-null float64\n",
      "Probation Term Unit\n",
      ":                     16866 non-null object\n",
      "dtypes: float64(9), int64(2), object(29)\n",
      "memory usage: 23.7+ MB\n"
     ]
    }
   ],
   "source": [
    "# Get names, # of non-null values, and the data types for each column\n",
    "nw.info()"
   ]
  },
  {
   "cell_type": "code",
   "execution_count": 4,
   "metadata": {},
   "outputs": [
    {
     "data": {
      "text/plain": [
       "Filed:                                         0\n",
       "Age at Case Filing                             0\n",
       "Status:                                        0\n",
       "Court:                                         0\n",
       "Date of Birth:                               130\n",
       "Gender:                                     1722\n",
       "Race:                                       6984\n",
       "Ethnicity:                                 54404\n",
       "Count:                                         0\n",
       "Charge:                                        0\n",
       "Disposition:                                3466\n",
       "Dispo Date:                                 3825\n",
       "Offense Date:                                781\n",
       "Bail Requested                             75665\n",
       "Bail Set                                   74746\n",
       "Imposed Facility:                          68952\n",
       "Sentence Type:                             69467\n",
       "Sentence Date:                             70059\n",
       "Term Min:                                  73191\n",
       "Term Min Unit:                             73191\n",
       "Term Max:                                  72313\n",
       "Term Max Unit:                             72313\n",
       "Suspended Term Min:                        75269\n",
       "Suspended Term Min Unit:                   75270\n",
       "Suspended Term Max:                        74669\n",
       "Suspended Term Max Unit:                   74669\n",
       "Actual Term Min:                           75295\n",
       "Actual Term Min Unit:                      75295\n",
       "Actual Term Max:                           74207\n",
       "Actual Term Max Unit:                      74207\n",
       "Prosecutor Recommended Facility:           74713\n",
       "Prosecutor Recommended Sentence Type:\\n    75110\n",
       "Prosecutor Recommended Term Min:           75239\n",
       "Prosecutor Recommended Term Min Unit:      75239\n",
       "Prosecutor Recommended Term Max:           75458\n",
       "Prosecutor Recommended Term Max Unit:      75458\n",
       "Fine:                                      71069\n",
       "Probation:                                 58753\n",
       "Probation Term:                            58861\n",
       "Probation Term Unit\\n:                     58859\n",
       "dtype: int64"
      ]
     },
     "execution_count": 4,
     "metadata": {},
     "output_type": "execute_result"
    }
   ],
   "source": [
    "# Get the # of null values in each column\n",
    "nw.isnull().sum()"
   ]
  },
  {
   "cell_type": "markdown",
   "metadata": {},
   "source": [
    "### Keep only desired columns\n",
    "Because many of the columns consist primarily of null values and also do not provide info relevant to our questions, they will not be useful for any analysis. We will only keep the columns with relevant info."
   ]
  },
  {
   "cell_type": "code",
   "execution_count": 5,
   "metadata": {},
   "outputs": [],
   "source": [
    "# Save dataframe with only columns we want to keep\n",
    "columns = ['Court:', 'Date of Birth:', 'Offense Date:', 'Filed:', 'Age at Case Filing', 'Status:',\n",
    "       'Gender:', 'Race:', 'Ethnicity:', 'Count:', 'Charge:', 'Disposition:',\n",
    "       'Dispo Date:', 'Sentence Type:', 'Sentence Date:']\n",
    "\n",
    "nw = nw[columns]\n",
    "\n",
    "# Remove \":\" from end of column names\n",
    "nw.columns = nw.columns.str.rstrip(':')"
   ]
  },
  {
   "cell_type": "code",
   "execution_count": 6,
   "metadata": {},
   "outputs": [],
   "source": [
    "# Convert dates to datetime values\n",
    "nw['Filed'] = pd.to_datetime(nw['Filed'], errors='coerce').dt.date\n",
    "nw['Date of Birth'] = pd.to_datetime(nw['Date of Birth'], errors='coerce').dt.date\n",
    "nw['Dispo Date'] = pd.to_datetime(nw['Dispo Date'], errors='coerce').dt.date\n",
    "nw['Offense Date'] = pd.to_datetime(nw['Offense Date'], errors='coerce').dt.date\n",
    "nw['Sentence Date'] = pd.to_datetime(nw['Sentence Date'], errors='coerce').dt.date"
   ]
  },
  {
   "cell_type": "markdown",
   "metadata": {},
   "source": [
    "### Get Age at Offense Date\n",
    "Because 'Date of Birth:' and 'Offense Date:' have some NULL records, this will not provide an age for all records."
   ]
  },
  {
   "cell_type": "code",
   "execution_count": 7,
   "metadata": {},
   "outputs": [],
   "source": [
    "# Subtract \"Date of Birth\" from \"Offense Date\" to get \"Age at Offense\"\n",
    "nw['Age at Offense'] = (nw['Offense Date'] - nw['Date of Birth'])/pd.Timedelta(1, 'Y')\n",
    "nw['Age at Offense'] = np.floor(nw['Age at Offense']).astype('Int64')"
   ]
  },
  {
   "cell_type": "markdown",
   "metadata": {},
   "source": [
    "#### Date Issues\n",
    "186 records have invalid values for Date of Birth, Offense Date, or both."
   ]
  },
  {
   "cell_type": "code",
   "execution_count": 8,
   "metadata": {},
   "outputs": [],
   "source": [
    "dateissues = nw.loc[nw['Age at Offense'] < 1,['Date of Birth', 'Offense Date', 'Age at Offense',\n",
    "                                              'Age at Case Filing', 'Filed']]"
   ]
  },
  {
   "cell_type": "code",
   "execution_count": 9,
   "metadata": {},
   "outputs": [
    {
     "data": {
      "text/html": [
       "<div>\n",
       "<style scoped>\n",
       "    .dataframe tbody tr th:only-of-type {\n",
       "        vertical-align: middle;\n",
       "    }\n",
       "\n",
       "    .dataframe tbody tr th {\n",
       "        vertical-align: top;\n",
       "    }\n",
       "\n",
       "    .dataframe thead th {\n",
       "        text-align: right;\n",
       "    }\n",
       "</style>\n",
       "<table border=\"1\" class=\"dataframe\">\n",
       "  <thead>\n",
       "    <tr style=\"text-align: right;\">\n",
       "      <th></th>\n",
       "      <th>Date of Birth</th>\n",
       "      <th>Offense Date</th>\n",
       "      <th>Age at Offense</th>\n",
       "      <th>Age at Case Filing</th>\n",
       "      <th>Filed</th>\n",
       "    </tr>\n",
       "  </thead>\n",
       "  <tbody>\n",
       "    <tr>\n",
       "      <th>61884</th>\n",
       "      <td>1992-03-08</td>\n",
       "      <td>1750-12-03</td>\n",
       "      <td>-242</td>\n",
       "      <td>26</td>\n",
       "      <td>2018-01-19</td>\n",
       "    </tr>\n",
       "    <tr>\n",
       "      <th>61883</th>\n",
       "      <td>1992-03-08</td>\n",
       "      <td>1750-12-03</td>\n",
       "      <td>-242</td>\n",
       "      <td>26</td>\n",
       "      <td>2018-01-19</td>\n",
       "    </tr>\n",
       "    <tr>\n",
       "      <th>845</th>\n",
       "      <td>1979-12-08</td>\n",
       "      <td>1882-11-30</td>\n",
       "      <td>-98</td>\n",
       "      <td>34</td>\n",
       "      <td>2014-01-23</td>\n",
       "    </tr>\n",
       "    <tr>\n",
       "      <th>846</th>\n",
       "      <td>1979-12-08</td>\n",
       "      <td>1882-11-30</td>\n",
       "      <td>-98</td>\n",
       "      <td>34</td>\n",
       "      <td>2014-01-23</td>\n",
       "    </tr>\n",
       "    <tr>\n",
       "      <th>847</th>\n",
       "      <td>1979-12-08</td>\n",
       "      <td>1882-11-30</td>\n",
       "      <td>-98</td>\n",
       "      <td>34</td>\n",
       "      <td>2014-01-23</td>\n",
       "    </tr>\n",
       "  </tbody>\n",
       "</table>\n",
       "</div>"
      ],
      "text/plain": [
       "      Date of Birth Offense Date  Age at Offense  Age at Case Filing  \\\n",
       "61884    1992-03-08   1750-12-03            -242                  26   \n",
       "61883    1992-03-08   1750-12-03            -242                  26   \n",
       "845      1979-12-08   1882-11-30             -98                  34   \n",
       "846      1979-12-08   1882-11-30             -98                  34   \n",
       "847      1979-12-08   1882-11-30             -98                  34   \n",
       "\n",
       "            Filed  \n",
       "61884  2018-01-19  \n",
       "61883  2018-01-19  \n",
       "845    2014-01-23  \n",
       "846    2014-01-23  \n",
       "847    2014-01-23  "
      ]
     },
     "execution_count": 9,
     "metadata": {},
     "output_type": "execute_result"
    }
   ],
   "source": [
    "dateissues.sort_values(by='Age at Offense').head()"
   ]
  },
  {
   "cell_type": "markdown",
   "metadata": {},
   "source": [
    "### Create unique ID\n",
    "We will create a unique \"Person ID\" for each distinct combination of Date of Birth, Gender, Race, and Ethnicity. While it is possible that one person could have different distinct values (for example, if a different value was marked for Race at different times for some reason) or that more than one person could have the same distinct values, this will give us a close approximation that will let us link multiple records belonging to one person."
   ]
  },
  {
   "cell_type": "code",
   "execution_count": 10,
   "metadata": {},
   "outputs": [],
   "source": [
    "# Create a unique ID for each distinct combination\n",
    "identifiers = ['Date of Birth', 'Gender', 'Race', 'Ethnicity']\n",
    "\n",
    "unique = nw[identifiers].drop_duplicates().reset_index(drop=True)\n",
    "unique['Person ID'] = unique.index\n",
    "\n",
    "# Add a prefix to help distinguish between datasets\n",
    "unique['Person ID'] = 'NW-' + unique['Person ID'].astype(str)\n",
    "\n",
    "# Add unique ID to dataset\n",
    "nw = nw.merge(unique, on=identifiers)"
   ]
  },
  {
   "cell_type": "code",
   "execution_count": 11,
   "metadata": {},
   "outputs": [],
   "source": [
    "# Save dataset without identifiers\n",
    "nw = nw[['Person ID', 'Court', 'Offense Date', 'Age at Offense', 'Filed', 'Status',\n",
    "         'Count', 'Charge', 'Disposition', 'Dispo Date']]"
   ]
  },
  {
   "cell_type": "markdown",
   "metadata": {},
   "source": [
    "### Preview"
   ]
  },
  {
   "cell_type": "code",
   "execution_count": 12,
   "metadata": {},
   "outputs": [
    {
     "data": {
      "text/html": [
       "<div>\n",
       "<style scoped>\n",
       "    .dataframe tbody tr th:only-of-type {\n",
       "        vertical-align: middle;\n",
       "    }\n",
       "\n",
       "    .dataframe tbody tr th {\n",
       "        vertical-align: top;\n",
       "    }\n",
       "\n",
       "    .dataframe thead th {\n",
       "        text-align: right;\n",
       "    }\n",
       "</style>\n",
       "<table border=\"1\" class=\"dataframe\">\n",
       "  <thead>\n",
       "    <tr style=\"text-align: right;\">\n",
       "      <th></th>\n",
       "      <th>Person ID</th>\n",
       "      <th>Court</th>\n",
       "      <th>Offense Date</th>\n",
       "      <th>Age at Offense</th>\n",
       "      <th>Filed</th>\n",
       "      <th>Status</th>\n",
       "      <th>Count</th>\n",
       "      <th>Charge</th>\n",
       "      <th>Disposition</th>\n",
       "      <th>Dispo Date</th>\n",
       "    </tr>\n",
       "  </thead>\n",
       "  <tbody>\n",
       "    <tr>\n",
       "      <th>0</th>\n",
       "      <td>NW-0</td>\n",
       "      <td>Franklin Superior Court</td>\n",
       "      <td>2011-09-13</td>\n",
       "      <td>21</td>\n",
       "      <td>2014-10-28</td>\n",
       "      <td>Closed</td>\n",
       "      <td>1</td>\n",
       "      <td>ASSAULT TO MURDER c265 §15</td>\n",
       "      <td>Not Guilty</td>\n",
       "      <td>2016-03-30</td>\n",
       "    </tr>\n",
       "    <tr>\n",
       "      <th>1</th>\n",
       "      <td>NW-0</td>\n",
       "      <td>Franklin Superior Court</td>\n",
       "      <td>2011-09-13</td>\n",
       "      <td>21</td>\n",
       "      <td>2014-10-28</td>\n",
       "      <td>Closed</td>\n",
       "      <td>2</td>\n",
       "      <td>ASSAULT TO MURDER c265 §15</td>\n",
       "      <td>Not Guilty</td>\n",
       "      <td>2016-03-30</td>\n",
       "    </tr>\n",
       "    <tr>\n",
       "      <th>2</th>\n",
       "      <td>NW-0</td>\n",
       "      <td>Franklin Superior Court</td>\n",
       "      <td>2011-09-13</td>\n",
       "      <td>21</td>\n",
       "      <td>2014-10-28</td>\n",
       "      <td>Closed</td>\n",
       "      <td>3</td>\n",
       "      <td>ASSAULT TO MURDER c265 §15</td>\n",
       "      <td>Not Guilty</td>\n",
       "      <td>2016-03-30</td>\n",
       "    </tr>\n",
       "    <tr>\n",
       "      <th>3</th>\n",
       "      <td>NW-0</td>\n",
       "      <td>Franklin Superior Court</td>\n",
       "      <td>2011-09-13</td>\n",
       "      <td>21</td>\n",
       "      <td>2014-10-28</td>\n",
       "      <td>Closed</td>\n",
       "      <td>4</td>\n",
       "      <td>ASSAULT TO MURDER c265 §15</td>\n",
       "      <td>Not Guilty</td>\n",
       "      <td>2016-03-30</td>\n",
       "    </tr>\n",
       "    <tr>\n",
       "      <th>4</th>\n",
       "      <td>NW-0</td>\n",
       "      <td>Franklin Superior Court</td>\n",
       "      <td>2011-09-13</td>\n",
       "      <td>21</td>\n",
       "      <td>2014-10-28</td>\n",
       "      <td>Closed</td>\n",
       "      <td>5</td>\n",
       "      <td>ARSON OF DWELLING HOUSE c266 §1</td>\n",
       "      <td>Not Guilty</td>\n",
       "      <td>2016-03-30</td>\n",
       "    </tr>\n",
       "  </tbody>\n",
       "</table>\n",
       "</div>"
      ],
      "text/plain": [
       "  Person ID                    Court Offense Date  Age at Offense       Filed  \\\n",
       "0      NW-0  Franklin Superior Court   2011-09-13              21  2014-10-28   \n",
       "1      NW-0  Franklin Superior Court   2011-09-13              21  2014-10-28   \n",
       "2      NW-0  Franklin Superior Court   2011-09-13              21  2014-10-28   \n",
       "3      NW-0  Franklin Superior Court   2011-09-13              21  2014-10-28   \n",
       "4      NW-0  Franklin Superior Court   2011-09-13              21  2014-10-28   \n",
       "\n",
       "   Status  Count                           Charge Disposition  Dispo Date  \n",
       "0  Closed      1       ASSAULT TO MURDER c265 §15  Not Guilty  2016-03-30  \n",
       "1  Closed      2       ASSAULT TO MURDER c265 §15  Not Guilty  2016-03-30  \n",
       "2  Closed      3       ASSAULT TO MURDER c265 §15  Not Guilty  2016-03-30  \n",
       "3  Closed      4       ASSAULT TO MURDER c265 §15  Not Guilty  2016-03-30  \n",
       "4  Closed      5  ARSON OF DWELLING HOUSE c266 §1  Not Guilty  2016-03-30  "
      ]
     },
     "execution_count": 12,
     "metadata": {},
     "output_type": "execute_result"
    }
   ],
   "source": [
    "nw.head()"
   ]
  },
  {
   "cell_type": "markdown",
   "metadata": {},
   "source": [
    "-------\n",
    "## Suffolk County Prosecution Data 2013 - 2018"
   ]
  },
  {
   "cell_type": "code",
   "execution_count": 13,
   "metadata": {},
   "outputs": [
    {
     "name": "stderr",
     "output_type": "stream",
     "text": [
      "/anaconda3/lib/python3.6/site-packages/IPython/core/interactiveshell.py:3267: DtypeWarning: Columns (12) have mixed types. Specify dtype option on import or set low_memory=False.\n",
      "  exec(code_obj, self.user_global_ns, self.user_ns)\n"
     ]
    }
   ],
   "source": [
    "# Concatenate all Suffolk County files\n",
    "suff = pd.concat(map(pd.read_csv, glob.glob(os.path.join('', '../data/Suffolk County Prosecution*.csv'))), sort=False)"
   ]
  },
  {
   "cell_type": "markdown",
   "metadata": {},
   "source": [
    "### Quick look at the data"
   ]
  },
  {
   "cell_type": "code",
   "execution_count": 14,
   "metadata": {},
   "outputs": [
    {
     "name": "stdout",
     "output_type": "stream",
     "text": [
      "<class 'pandas.core.frame.DataFrame'>\n",
      "Int64Index: 303270 entries, 0 to 53717\n",
      "Data columns (total 42 columns):\n",
      "Case #                            303270 non-null object\n",
      "Defendant #                       303270 non-null int64\n",
      "Count #                           303270 non-null int64\n",
      "Description Charge                303270 non-null object\n",
      "Type Crime                        303270 non-null object\n",
      "Code Ucc Ctgry                    262955 non-null object\n",
      "Date Crime                        301015 non-null object\n",
      "Date Filed                        303270 non-null object\n",
      "Date Dspstn                       251489 non-null object\n",
      "Description Dspstn                251710 non-null object\n",
      "Code Dspstn                       251710 non-null object\n",
      "Description Disposition Reason    181924 non-null object\n",
      "Type Chrg Orgn                    205 non-null object\n",
      "SC Docket                         0 non-null float64\n",
      "DC Docket                         0 non-null float64\n",
      "Race/Eth                          259048 non-null object\n",
      "Gender                            300219 non-null object\n",
      "Code Ofcr Agncy                   275614 non-null object\n",
      "Court                             303270 non-null object\n",
      "Judge                             230480 non-null object\n",
      "Nmbr Day Jail Rcmnd               303270 non-null float64\n",
      "Nmbr Day Jl Rcmnd Unt             285745 non-null object\n",
      "Nmbr Day Jl Rcmnd Min             303270 non-null float64\n",
      "Nmbr Day Jl Rcmnd Min Unt         285760 non-null object\n",
      "Nmbr Day Jl Impsd                 303270 non-null int64\n",
      "Nmbr Day Jl Impsd Unt             287476 non-null object\n",
      "Nmbr Day Jl Impsd Min             303270 non-null float64\n",
      "Nmbr Day Jl Spnd Rcmnd            303270 non-null float64\n",
      "Nmbr D Jl Spnd Rcmnd Min          303270 non-null float64\n",
      "Nmbr Day Jl Spnd Impsd            303270 non-null float64\n",
      "Nmbr Day Jl Spnd Impsd Min        303270 non-null float64\n",
      "Amnt Fn Rcmnd                     303270 non-null int64\n",
      "Amnt Fn Impsd                     303270 non-null int64\n",
      "Amnt Fn Rstn Rcmnd                303270 non-null float64\n",
      "Amnt Fn Rstn Impsd                303270 non-null int64\n",
      "Nmbr Rcmd Cmnty Srvc              303270 non-null int64\n",
      "Nmbr R Cmnty Srvc Unt             285711 non-null object\n",
      "Nmbr R Cmnty Srvc Min Unt         285714 non-null object\n",
      "Nmbr Impsd Cmnty Srvc             303270 non-null int64\n",
      "Nmbr Impsd Cmnty Srvc Min         303270 non-null float64\n",
      "Status                            303270 non-null object\n",
      "Description Reason                30760 non-null object\n",
      "dtypes: float64(11), int64(8), object(23)\n",
      "memory usage: 99.5+ MB\n"
     ]
    }
   ],
   "source": [
    "# Get names, # of non-null values, and the data types for each column\n",
    "suff.info()"
   ]
  },
  {
   "cell_type": "code",
   "execution_count": 15,
   "metadata": {},
   "outputs": [
    {
     "data": {
      "text/plain": [
       "Case #                                 0\n",
       "Defendant #                            0\n",
       "Count #                                0\n",
       "Description Charge                     0\n",
       "Type Crime                             0\n",
       "Code Ucc Ctgry                     40315\n",
       "Date Crime                          2255\n",
       "Date Filed                             0\n",
       "Date Dspstn                        51781\n",
       "Description Dspstn                 51560\n",
       "Code Dspstn                        51560\n",
       "Description Disposition Reason    121346\n",
       "Type Chrg Orgn                    303065\n",
       "SC Docket                         303270\n",
       "DC Docket                         303270\n",
       "Race/Eth                           44222\n",
       "Gender                              3051\n",
       "Code Ofcr Agncy                    27656\n",
       "Court                                  0\n",
       "Judge                              72790\n",
       "Nmbr Day Jail Rcmnd                    0\n",
       "Nmbr Day Jl Rcmnd Unt              17525\n",
       "Nmbr Day Jl Rcmnd Min                  0\n",
       "Nmbr Day Jl Rcmnd Min Unt          17510\n",
       "Nmbr Day Jl Impsd                      0\n",
       "Nmbr Day Jl Impsd Unt              15794\n",
       "Nmbr Day Jl Impsd Min                  0\n",
       "Nmbr Day Jl Spnd Rcmnd                 0\n",
       "Nmbr D Jl Spnd Rcmnd Min               0\n",
       "Nmbr Day Jl Spnd Impsd                 0\n",
       "Nmbr Day Jl Spnd Impsd Min             0\n",
       "Amnt Fn Rcmnd                          0\n",
       "Amnt Fn Impsd                          0\n",
       "Amnt Fn Rstn Rcmnd                     0\n",
       "Amnt Fn Rstn Impsd                     0\n",
       "Nmbr Rcmd Cmnty Srvc                   0\n",
       "Nmbr R Cmnty Srvc Unt              17559\n",
       "Nmbr R Cmnty Srvc Min Unt          17556\n",
       "Nmbr Impsd Cmnty Srvc                  0\n",
       "Nmbr Impsd Cmnty Srvc Min              0\n",
       "Status                                 0\n",
       "Description Reason                272510\n",
       "dtype: int64"
      ]
     },
     "execution_count": 15,
     "metadata": {},
     "output_type": "execute_result"
    }
   ],
   "source": [
    "# Get the # of null values in each column\n",
    "suff.isnull().sum()"
   ]
  },
  {
   "cell_type": "markdown",
   "metadata": {},
   "source": [
    "### Combine 'Description Disposition Reason' and 'Description Reason'\n",
    "These contain the same information - likely due to one file having a different field name."
   ]
  },
  {
   "cell_type": "code",
   "execution_count": 16,
   "metadata": {},
   "outputs": [
    {
     "data": {
      "text/plain": [
       "array(['Guilty - Lesser Offense', 'Not Guilty', nan, 'Guilty - Committed',\n",
       "       'Guilty - Probation', 'DWOP - no evidence', 'DWOP - no victim',\n",
       "       'Dismissed by Commonwealth', 'Dismissed to Subsequent Indictment',\n",
       "       'Guilty - Filed', 'Dismissed for Agreed Plea',\n",
       "       'Dismissed by Court', 'Guilty', 'DWOP - no witness',\n",
       "       'Guilty - Split Sentence', 'Dismissed for Community Service',\n",
       "       'CWF (ASF)', 'Dismissed WO Prejudice', 'Guilty - Fine',\n",
       "       'Dismissed WO Prosecution', 'Guilty - Suspended Sentence',\n",
       "       'defense motion for dismissal allowed',\n",
       "       'Dismissed Upon Payment of Court Costs',\n",
       "       'Dismissed Prior to Arraignment', 'Delinquent - Committed',\n",
       "       'Duplicate Charge', 'DWOP - no police', 'No Probable Cause',\n",
       "       'Directed Verdict Not Guilty', 'Dismissed Defendant Deceased',\n",
       "       'Pretrial Probation', 'Remanded To Clerks Hearing',\n",
       "       'motion to suppress evidence allowed',\n",
       "       'Responsible - Fine C277S70', 'Dismissed Transfer to BJC',\n",
       "       'Not Guilty - Insanity', 'Delinquent - Probation',\n",
       "       'Dismissed for Time Served in Custody', 'Lack of Jurisdiction',\n",
       "       'Delinquent - Fine', 'Delinquent', 'Remanded to District Court',\n",
       "       'Delinquent - Suspended', 'Delinquent - Filed'], dtype=object)"
      ]
     },
     "execution_count": 16,
     "metadata": {},
     "output_type": "execute_result"
    }
   ],
   "source": [
    "suff['Description Disposition Reason'].unique()"
   ]
  },
  {
   "cell_type": "code",
   "execution_count": 17,
   "metadata": {},
   "outputs": [
    {
     "data": {
      "text/plain": [
       "array([nan, 'Dismissed Prior to Arraignment', 'DWOP - no victim',\n",
       "       'Dismissed Upon Payment of Court Costs', 'CWF (ASF)',\n",
       "       'Dismissed for Agreed Plea', 'Dismissed WO Prosecution',\n",
       "       'Guilty - Probation', 'Dismissed by Commonwealth',\n",
       "       'Guilty - Filed', 'Dismissed by Court',\n",
       "       'Dismissed to Subsequent Indictment',\n",
       "       'defense motion for dismissal allowed',\n",
       "       'Dismissed for Community Service', 'Guilty - Committed',\n",
       "       'Dismissed WO Prejudice', 'Guilty - Suspended Sentence', 'Guilty',\n",
       "       'DWOP - no evidence', 'Not Guilty', 'DWOP - no witness',\n",
       "       'Guilty - Split Sentence', 'Guilty - Fine', 'DWOP - no police',\n",
       "       'Dismissed for Time Served in Custody', 'Guilty - Lesser Offense',\n",
       "       'No Probable Cause', 'Dismissed Defendant Deceased',\n",
       "       'Duplicate Charge', 'Delinquent - Committed', 'Pretrial Probation',\n",
       "       'motion to suppress evidence allowed',\n",
       "       'Directed Verdict Not Guilty', 'Lack of Jurisdiction',\n",
       "       'Delinquent - Probation', 'Responsible - Fine C277S70',\n",
       "       'Remanded To Clerks Hearing', 'Delinquent - Filed',\n",
       "       'Not Guilty - Insanity', 'Delinquent - Fine'], dtype=object)"
      ]
     },
     "execution_count": 17,
     "metadata": {},
     "output_type": "execute_result"
    }
   ],
   "source": [
    "suff['Description Reason'].unique()"
   ]
  },
  {
   "cell_type": "code",
   "execution_count": 18,
   "metadata": {},
   "outputs": [],
   "source": [
    "# Fill missing values in 'Description Disposition Reason' with values from 'Description Reason'\n",
    "suff['Description Disposition Reason'] = suff['Description Disposition Reason'].fillna(suff['Description Reason'])"
   ]
  },
  {
   "cell_type": "markdown",
   "metadata": {},
   "source": [
    "### Create Unique ID\n",
    "This dataset already has 'Defendant #', which is a unique ID for each person. To help protect privacy, we will generate a new one to use."
   ]
  },
  {
   "cell_type": "code",
   "execution_count": 19,
   "metadata": {},
   "outputs": [],
   "source": [
    "# Create a unique ID for each distinct combination\n",
    "identifiers = ['Defendant #']\n",
    "\n",
    "unique = suff[identifiers].drop_duplicates().reset_index(drop=True)\n",
    "unique['Person ID'] = unique.index\n",
    "\n",
    "# Add a prefix to help distinguish between datasets\n",
    "unique['Person ID'] = 'SF-' + unique['Person ID'].astype(str)\n",
    "\n",
    "# Add unique ID to dataset\n",
    "suff = suff.merge(unique, on=identifiers)"
   ]
  },
  {
   "cell_type": "markdown",
   "metadata": {},
   "source": [
    "### Keep only desired columns\n",
    "Because many of the columns consist primarily of null values and also do not provide info relevant to our questions, they will not be useful for any analysis. We will only keep the columns with relevant info."
   ]
  },
  {
   "cell_type": "code",
   "execution_count": 20,
   "metadata": {},
   "outputs": [],
   "source": [
    "# Save dataframe with only columns we want to keep\n",
    "columns = ['Person ID', 'Court', 'Date Crime', 'Date Filed', 'Status', 'Count #', 'Description Charge',\n",
    "           'Type Crime', 'Code Ucc Ctgry', 'Description Dspstn', 'Description Disposition Reason', 'Date Dspstn']\n",
    "\n",
    "suff = suff[columns]"
   ]
  },
  {
   "cell_type": "code",
   "execution_count": 21,
   "metadata": {},
   "outputs": [],
   "source": [
    "# Rename columns to match names used in nw dataset\n",
    "newnames={'Date Crime': 'Offense Date',\n",
    "          'Date Filed': 'Filed',\n",
    "          'Count #': 'Count',\n",
    "          'Description Charge': 'Charge',\n",
    "          'Description Dspstn': 'Disposition',\n",
    "          'Date Dspstn': 'Dispo Date'\n",
    "         }\n",
    "\n",
    "suff = suff.rename(columns=newnames)"
   ]
  },
  {
   "cell_type": "code",
   "execution_count": 22,
   "metadata": {},
   "outputs": [],
   "source": [
    "# Convert dates to datetime values\n",
    "suff['Offense Date'] = pd.to_datetime(suff['Offense Date'], errors='coerce').dt.date\n",
    "suff['Filed'] = pd.to_datetime(suff['Filed'], errors='coerce').dt.date\n",
    "suff['Dispo Date'] = pd.to_datetime(suff['Dispo Date'], errors='coerce').dt.date"
   ]
  },
  {
   "cell_type": "markdown",
   "metadata": {},
   "source": [
    "### Preview"
   ]
  },
  {
   "cell_type": "code",
   "execution_count": 23,
   "metadata": {},
   "outputs": [
    {
     "data": {
      "text/html": [
       "<div>\n",
       "<style scoped>\n",
       "    .dataframe tbody tr th:only-of-type {\n",
       "        vertical-align: middle;\n",
       "    }\n",
       "\n",
       "    .dataframe tbody tr th {\n",
       "        vertical-align: top;\n",
       "    }\n",
       "\n",
       "    .dataframe thead th {\n",
       "        text-align: right;\n",
       "    }\n",
       "</style>\n",
       "<table border=\"1\" class=\"dataframe\">\n",
       "  <thead>\n",
       "    <tr style=\"text-align: right;\">\n",
       "      <th></th>\n",
       "      <th>Person ID</th>\n",
       "      <th>Court</th>\n",
       "      <th>Offense Date</th>\n",
       "      <th>Filed</th>\n",
       "      <th>Status</th>\n",
       "      <th>Count</th>\n",
       "      <th>Charge</th>\n",
       "      <th>Type Crime</th>\n",
       "      <th>Code Ucc Ctgry</th>\n",
       "      <th>Disposition</th>\n",
       "      <th>Description Disposition Reason</th>\n",
       "      <th>Dispo Date</th>\n",
       "    </tr>\n",
       "  </thead>\n",
       "  <tbody>\n",
       "    <tr>\n",
       "      <th>0</th>\n",
       "      <td>SF-0</td>\n",
       "      <td>SUP</td>\n",
       "      <td>2015-11-04</td>\n",
       "      <td>2016-01-01</td>\n",
       "      <td>CL</td>\n",
       "      <td>1</td>\n",
       "      <td>DRUG, DISTRIBUTE CLASS A, SUBSQ.OFF. c94C §32(b)</td>\n",
       "      <td>DR</td>\n",
       "      <td>F</td>\n",
       "      <td>Plea</td>\n",
       "      <td>Guilty - Lesser Offense</td>\n",
       "      <td>2017-01-31</td>\n",
       "    </tr>\n",
       "    <tr>\n",
       "      <th>1</th>\n",
       "      <td>SF-0</td>\n",
       "      <td>SUP</td>\n",
       "      <td>2015-11-04</td>\n",
       "      <td>2016-01-01</td>\n",
       "      <td>CL</td>\n",
       "      <td>2</td>\n",
       "      <td>COCAINE, DISTRIBUTE, SUBSQ.OFF. c94C §32A(d)</td>\n",
       "      <td>DR</td>\n",
       "      <td>F</td>\n",
       "      <td>Plea</td>\n",
       "      <td>Guilty - Lesser Offense</td>\n",
       "      <td>2017-01-31</td>\n",
       "    </tr>\n",
       "    <tr>\n",
       "      <th>2</th>\n",
       "      <td>SF-0</td>\n",
       "      <td>SUP</td>\n",
       "      <td>2015-11-04</td>\n",
       "      <td>2016-01-01</td>\n",
       "      <td>CL</td>\n",
       "      <td>3</td>\n",
       "      <td>DRUG, POSSESS TO DISTRIB CLASS A, SUBSQ. c94C ...</td>\n",
       "      <td>DR</td>\n",
       "      <td>F</td>\n",
       "      <td>Plea</td>\n",
       "      <td>Guilty - Lesser Offense</td>\n",
       "      <td>2017-01-31</td>\n",
       "    </tr>\n",
       "    <tr>\n",
       "      <th>3</th>\n",
       "      <td>SF-0</td>\n",
       "      <td>SUP</td>\n",
       "      <td>2015-11-04</td>\n",
       "      <td>2016-01-01</td>\n",
       "      <td>CL</td>\n",
       "      <td>4</td>\n",
       "      <td>POSSESS TO DISTRIBUTE COCAINE, SUBSEQUENT. c94...</td>\n",
       "      <td>DR</td>\n",
       "      <td>F</td>\n",
       "      <td>Plea</td>\n",
       "      <td>Guilty - Lesser Offense</td>\n",
       "      <td>2017-01-31</td>\n",
       "    </tr>\n",
       "    <tr>\n",
       "      <th>4</th>\n",
       "      <td>SF-1</td>\n",
       "      <td>SUP</td>\n",
       "      <td>2014-10-23</td>\n",
       "      <td>2016-01-01</td>\n",
       "      <td>CL</td>\n",
       "      <td>1</td>\n",
       "      <td>A&amp;B ON +60/DISABLED c265 §13K/F</td>\n",
       "      <td>AS</td>\n",
       "      <td>NaN</td>\n",
       "      <td>Verdict - Jury Trial</td>\n",
       "      <td>Not Guilty</td>\n",
       "      <td>2016-08-02</td>\n",
       "    </tr>\n",
       "  </tbody>\n",
       "</table>\n",
       "</div>"
      ],
      "text/plain": [
       "  Person ID Court Offense Date       Filed Status  Count  \\\n",
       "0      SF-0   SUP   2015-11-04  2016-01-01     CL      1   \n",
       "1      SF-0   SUP   2015-11-04  2016-01-01     CL      2   \n",
       "2      SF-0   SUP   2015-11-04  2016-01-01     CL      3   \n",
       "3      SF-0   SUP   2015-11-04  2016-01-01     CL      4   \n",
       "4      SF-1   SUP   2014-10-23  2016-01-01     CL      1   \n",
       "\n",
       "                                              Charge Type Crime  \\\n",
       "0   DRUG, DISTRIBUTE CLASS A, SUBSQ.OFF. c94C §32(b)         DR   \n",
       "1       COCAINE, DISTRIBUTE, SUBSQ.OFF. c94C §32A(d)         DR   \n",
       "2  DRUG, POSSESS TO DISTRIB CLASS A, SUBSQ. c94C ...         DR   \n",
       "3  POSSESS TO DISTRIBUTE COCAINE, SUBSEQUENT. c94...         DR   \n",
       "4                    A&B ON +60/DISABLED c265 §13K/F         AS   \n",
       "\n",
       "  Code Ucc Ctgry           Disposition Description Disposition Reason  \\\n",
       "0              F                  Plea        Guilty - Lesser Offense   \n",
       "1              F                  Plea        Guilty - Lesser Offense   \n",
       "2              F                  Plea        Guilty - Lesser Offense   \n",
       "3              F                  Plea        Guilty - Lesser Offense   \n",
       "4            NaN  Verdict - Jury Trial                     Not Guilty   \n",
       "\n",
       "   Dispo Date  \n",
       "0  2017-01-31  \n",
       "1  2017-01-31  \n",
       "2  2017-01-31  \n",
       "3  2017-01-31  \n",
       "4  2016-08-02  "
      ]
     },
     "execution_count": 23,
     "metadata": {},
     "output_type": "execute_result"
    }
   ],
   "source": [
    "suff.head()"
   ]
  },
  {
   "cell_type": "markdown",
   "metadata": {},
   "source": [
    "-----\n",
    "## Export new data files\n",
    "These will be saved in the `clean-slate/data/raw/` folder."
   ]
  },
  {
   "cell_type": "code",
   "execution_count": 24,
   "metadata": {},
   "outputs": [],
   "source": [
    "nw.to_csv('../data/raw/nw.csv', index=False)\n",
    "suff.to_csv('../data/raw/suff.csv', index=False)"
   ]
  }
 ],
 "metadata": {
  "kernelspec": {
   "display_name": "Python 3",
   "language": "python",
   "name": "python3"
  },
  "language_info": {
   "codemirror_mode": {
    "name": "ipython",
    "version": 3
   },
   "file_extension": ".py",
   "mimetype": "text/x-python",
   "name": "python",
   "nbconvert_exporter": "python",
   "pygments_lexer": "ipython3",
   "version": "3.6.8"
  }
 },
 "nbformat": 4,
 "nbformat_minor": 2
}
